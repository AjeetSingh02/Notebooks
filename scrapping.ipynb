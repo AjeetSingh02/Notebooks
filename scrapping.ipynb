{
  "nbformat": 4,
  "nbformat_minor": 0,
  "metadata": {
    "colab": {
      "name": "scrapping.ipynb",
      "provenance": [],
      "collapsed_sections": [],
      "include_colab_link": true
    },
    "kernelspec": {
      "name": "python3",
      "display_name": "Python 3"
    }
  },
  "cells": [
    {
      "cell_type": "markdown",
      "metadata": {
        "id": "view-in-github",
        "colab_type": "text"
      },
      "source": [
        "<a href=\"https://colab.research.google.com/github/AjeetSingh02/Notebooks/blob/master/scrapping.ipynb\" target=\"_parent\"><img src=\"https://colab.research.google.com/assets/colab-badge.svg\" alt=\"Open In Colab\"/></a>"
      ]
    },
    {
      "cell_type": "code",
      "metadata": {
        "id": "hEgDyQPswjoE",
        "colab_type": "code",
        "outputId": "1615b1ef-fcc8-4c43-91a0-d4df35885613",
        "colab": {
          "base_uri": "https://localhost:8080/",
          "height": 204
        }
      },
      "source": [
        "!wget https://pandas-profiling.github.io/pandas-profiling/examples/census/census_report.html"
      ],
      "execution_count": 0,
      "outputs": [
        {
          "output_type": "stream",
          "text": [
            "--2019-09-26 13:25:27--  https://pandas-profiling.github.io/pandas-profiling/examples/census/census_report.html\n",
            "Resolving pandas-profiling.github.io (pandas-profiling.github.io)... 185.199.110.153, 185.199.109.153, 185.199.108.153, ...\n",
            "Connecting to pandas-profiling.github.io (pandas-profiling.github.io)|185.199.110.153|:443... connected.\n",
            "HTTP request sent, awaiting response... 200 OK\n",
            "Length: 2707380 (2.6M) [text/html]\n",
            "Saving to: ‘census_report.html’\n",
            "\n",
            "\rcensus_report.html    0%[                    ]       0  --.-KB/s               \rcensus_report.html  100%[===================>]   2.58M  --.-KB/s    in 0.1s    \n",
            "\n",
            "2019-09-26 13:25:27 (24.0 MB/s) - ‘census_report.html’ saved [2707380/2707380]\n",
            "\n"
          ],
          "name": "stdout"
        }
      ]
    },
    {
      "cell_type": "code",
      "metadata": {
        "id": "sTkaZmnvww1D",
        "colab_type": "code",
        "colab": {}
      },
      "source": [
        "from bs4 import BeautifulSoup"
      ],
      "execution_count": 0,
      "outputs": []
    },
    {
      "cell_type": "code",
      "metadata": {
        "id": "2AABm0Fxwybw",
        "colab_type": "code",
        "colab": {}
      },
      "source": [
        "path = '/mydata/app/aiwb_dev/users/Ajeet/Pandas_Profiling_Output.html'\n",
        "with open(path) as htm:\n",
        "    soup = BeautifulSoup(htm, \"html.parser\")\n",
        "    div_row = soup.select('div.row.variablerow')\n",
        "    kv_list = []\n",
        "    for div_count, div in enumerate(div_row):\n",
        "        col_md_6_namecol = div.select(\"div.col-md-6.namecol\")\n",
        "        col_md_12 = div.select(\"div.col-md-12\")\n",
        "        col_md_3_namecol = div.select(\"div.col-md-3.namecol\")\n",
        "        div_col_md_6 = div.select(\"div.col-md-6\")\n",
        "        if div_col_md_6:\n",
        "            div_row = div_col_md_6[0].select(\"div.row\")\n",
        "        \n",
        "        #for Overview tabular data\n",
        "        for div1 in col_md_6_namecol:\n",
        "            txt, v_type = div1.find(\"p\").text, \"no head\"\n",
        "            if txt:\n",
        "                v_type = txt\n",
        "            div_tbl_stats = div1.select('table.stats')[0].findAll('tr')\n",
        "            kv_dict = {}\n",
        "            for k, table_row in enumerate(div_tbl_stats):\n",
        "                tbl_header = table_row.find('th').text\n",
        "                tbl_row_data = table_row.find('td').text\n",
        "                kv_dict[tbl_header] = tbl_row_data\n",
        "            kv_list.append({v_type:kv_dict})\n",
        "            \n",
        "        #for Overview warnings\n",
        "        for div1 in col_md_12:\n",
        "            warning = div1.find(\"p\")\n",
        "            if warning:\n",
        "                warn_text = warning.text\n",
        "                if warn_text.lower() == \"warnings\":\n",
        "                    warning_list = div1.findAll(\"li\")\n",
        "                    temp_list = []\n",
        "                    for warn in warning_list:\n",
        "                        temp_list.append(warn.text)\n",
        "                    kv_list.append({warn_text:temp_list})\n",
        "                    \n",
        "        #variables\n",
        "        kv1_dict = {}\n",
        "        if col_md_3_namecol:\n",
        "            var_name, dtype = col_md_3_namecol[0].text.split()\n",
        "            kv1_dict[\"variable name\"] = var_name\n",
        "            kv1_dict[\"data type\"] = dtype\n",
        "#             print(f\"----------------------------------{var_name}\")\n",
        "                    \n",
        "        tables = div.findAll(\"table\", {\"class\": \"stats\"})\n",
        "        if div_count != 0:\n",
        "            temp_dict = {}\n",
        "            for i in range(len(tables)):\n",
        "                tr = tables[i].findAll('tr')\n",
        "                for t in tr:\n",
        "                    tbl_header = t.find('th').text\n",
        "                    tbl_row_data = t.find('td').text\n",
        "                    temp_dict[tbl_header] = tbl_row_data\n",
        "            kv1_dict[\"stats\"] = temp_dict\n",
        "            kv_list.append(kv1_dict)\n",
        "                        \n",
        "            \n",
        "kv_list"
      ],
      "execution_count": 0,
      "outputs": []
    },
    {
      "cell_type": "code",
      "metadata": {
        "id": "O5N4hLEAX0QH",
        "colab_type": "code",
        "colab": {}
      },
      "source": [
        "import numpy as np\n",
        "import pandas as pd\n",
        "import pandas_profiling\n",
        "\n",
        "df = pd.DataFrame(\n",
        "    np.random.rand(100, 5),\n",
        "    columns=['a', 'b', 'c', 'd', 'e']\n",
        ")"
      ],
      "execution_count": 0,
      "outputs": []
    },
    {
      "cell_type": "code",
      "metadata": {
        "id": "K3W08NgmX2uH",
        "colab_type": "code",
        "outputId": "fb7d34d6-0a6b-4242-9610-0f28b4c2ed33",
        "colab": {
          "base_uri": "https://localhost:8080/",
          "height": 282
        }
      },
      "source": [
        "df.profile_report(style={'full_width':True})"
      ],
      "execution_count": 0,
      "outputs": [
        {
          "output_type": "error",
          "ename": "AttributeError",
          "evalue": "ignored",
          "traceback": [
            "\u001b[0;31m---------------------------------------------------------------------------\u001b[0m",
            "\u001b[0;31mAttributeError\u001b[0m                            Traceback (most recent call last)",
            "\u001b[0;32m<ipython-input-2-d38b0259845d>\u001b[0m in \u001b[0;36m<module>\u001b[0;34m()\u001b[0m\n\u001b[0;32m----> 1\u001b[0;31m \u001b[0mdf\u001b[0m\u001b[0;34m.\u001b[0m\u001b[0mprofile_report\u001b[0m\u001b[0;34m(\u001b[0m\u001b[0mstyle\u001b[0m\u001b[0;34m=\u001b[0m\u001b[0;34m{\u001b[0m\u001b[0;34m'full_width'\u001b[0m\u001b[0;34m:\u001b[0m\u001b[0;32mTrue\u001b[0m\u001b[0;34m}\u001b[0m\u001b[0;34m)\u001b[0m\u001b[0;34m\u001b[0m\u001b[0;34m\u001b[0m\u001b[0m\n\u001b[0m",
            "\u001b[0;32m/usr/local/lib/python3.6/dist-packages/pandas/core/generic.py\u001b[0m in \u001b[0;36m__getattr__\u001b[0;34m(self, name)\u001b[0m\n\u001b[1;32m   5065\u001b[0m             \u001b[0;32mif\u001b[0m \u001b[0mself\u001b[0m\u001b[0;34m.\u001b[0m\u001b[0m_info_axis\u001b[0m\u001b[0;34m.\u001b[0m\u001b[0m_can_hold_identifiers_and_holds_name\u001b[0m\u001b[0;34m(\u001b[0m\u001b[0mname\u001b[0m\u001b[0;34m)\u001b[0m\u001b[0;34m:\u001b[0m\u001b[0;34m\u001b[0m\u001b[0;34m\u001b[0m\u001b[0m\n\u001b[1;32m   5066\u001b[0m                 \u001b[0;32mreturn\u001b[0m \u001b[0mself\u001b[0m\u001b[0;34m[\u001b[0m\u001b[0mname\u001b[0m\u001b[0;34m]\u001b[0m\u001b[0;34m\u001b[0m\u001b[0;34m\u001b[0m\u001b[0m\n\u001b[0;32m-> 5067\u001b[0;31m             \u001b[0;32mreturn\u001b[0m \u001b[0mobject\u001b[0m\u001b[0;34m.\u001b[0m\u001b[0m__getattribute__\u001b[0m\u001b[0;34m(\u001b[0m\u001b[0mself\u001b[0m\u001b[0;34m,\u001b[0m \u001b[0mname\u001b[0m\u001b[0;34m)\u001b[0m\u001b[0;34m\u001b[0m\u001b[0;34m\u001b[0m\u001b[0m\n\u001b[0m\u001b[1;32m   5068\u001b[0m \u001b[0;34m\u001b[0m\u001b[0m\n\u001b[1;32m   5069\u001b[0m     \u001b[0;32mdef\u001b[0m \u001b[0m__setattr__\u001b[0m\u001b[0;34m(\u001b[0m\u001b[0mself\u001b[0m\u001b[0;34m,\u001b[0m \u001b[0mname\u001b[0m\u001b[0;34m,\u001b[0m \u001b[0mvalue\u001b[0m\u001b[0;34m)\u001b[0m\u001b[0;34m:\u001b[0m\u001b[0;34m\u001b[0m\u001b[0;34m\u001b[0m\u001b[0m\n",
            "\u001b[0;31mAttributeError\u001b[0m: 'DataFrame' object has no attribute 'profile_report'"
          ]
        }
      ]
    }
  ]
}