{
  "nbformat": 4,
  "nbformat_minor": 0,
  "metadata": {
    "colab": {
      "name": "text_mining_whatsApp.ipynb",
      "provenance": [],
      "authorship_tag": "ABX9TyNUh1h5I1M9yEnmTLWqadxy",
      "include_colab_link": true
    },
    "kernelspec": {
      "name": "python3",
      "display_name": "Python 3"
    }
  },
  "cells": [
    {
      "cell_type": "markdown",
      "metadata": {
        "id": "view-in-github",
        "colab_type": "text"
      },
      "source": [
        "<a href=\"https://colab.research.google.com/github/AjeetSingh02/Notebooks/blob/master/text_mining_whatsApp.ipynb\" target=\"_parent\"><img src=\"https://colab.research.google.com/assets/colab-badge.svg\" alt=\"Open In Colab\"/></a>"
      ]
    },
    {
      "cell_type": "code",
      "metadata": {
        "id": "TNgxTyCkuvvw",
        "colab_type": "code",
        "colab": {}
      },
      "source": [
        "import re"
      ],
      "execution_count": 0,
      "outputs": []
    },
    {
      "cell_type": "code",
      "metadata": {
        "id": "K97ihcjyorBW",
        "colab_type": "code",
        "colab": {}
      },
      "source": [
        "file_path = '/content/input_file.txt'\n",
        "with open(file_path, \"r\") as f:\n",
        "    lines = f.readlines()"
      ],
      "execution_count": 0,
      "outputs": []
    },
    {
      "cell_type": "code",
      "metadata": {
        "id": "4Jm_OpCguNNA",
        "colab_type": "code",
        "colab": {}
      },
      "source": [
        "pattern = \"Indian Central Laboratory Project Number [0-9X]{1,}\"\n",
        "\n",
        "match_list = []\n",
        "\n",
        "for line in lines:\n",
        "    matches = re.findall(pattern, line)\n",
        "    for match in matches:\n",
        "        match_list.append(match)"
      ],
      "execution_count": 0,
      "outputs": []
    },
    {
      "cell_type": "code",
      "metadata": {
        "id": "mZ8_y2ZSrLHK",
        "colab_type": "code",
        "colab": {
          "base_uri": "https://localhost:8080/",
          "height": 187
        },
        "outputId": "21a41c02-74e2-4b4e-adbc-6f80c2e70080"
      },
      "source": [
        "match_list"
      ],
      "execution_count": 45,
      "outputs": [
        {
          "output_type": "execute_result",
          "data": {
            "text/plain": [
              "['Indian Central Laboratory Project Number 11019XX001',\n",
              " 'Indian Central Laboratory Project Number 11019XX001',\n",
              " 'Indian Central Laboratory Project Number 11019XX001',\n",
              " 'Indian Central Laboratory Project Number 11019XX001',\n",
              " 'Indian Central Laboratory Project Number 11019XX001',\n",
              " 'Indian Central Laboratory Project Number 11019XX001',\n",
              " 'Indian Central Laboratory Project Number 11019XX001',\n",
              " 'Indian Central Laboratory Project Number 11019XX001',\n",
              " 'Indian Central Laboratory Project Number 11019XX001',\n",
              " 'Indian Central Laboratory Project Number 11019XX001']"
            ]
          },
          "metadata": {
            "tags": []
          },
          "execution_count": 45
        }
      ]
    }
  ]
}