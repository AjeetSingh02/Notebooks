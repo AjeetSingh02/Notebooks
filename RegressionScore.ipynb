{
  "nbformat": 4,
  "nbformat_minor": 0,
  "metadata": {
    "colab": {
      "name": "RegressionScore.ipynb",
      "provenance": [],
      "include_colab_link": true
    },
    "kernelspec": {
      "name": "python3",
      "display_name": "Python 3"
    }
  },
  "cells": [
    {
      "cell_type": "markdown",
      "metadata": {
        "id": "view-in-github",
        "colab_type": "text"
      },
      "source": [
        "<a href=\"https://colab.research.google.com/github/AjeetSingh02/Notebooks/blob/master/RegressionScore.ipynb\" target=\"_parent\"><img src=\"https://colab.research.google.com/assets/colab-badge.svg\" alt=\"Open In Colab\"/></a>"
      ]
    },
    {
      "cell_type": "code",
      "metadata": {
        "id": "lLPBHmIJ1_KT",
        "colab_type": "code",
        "colab": {}
      },
      "source": [
        "from sklearn.metrics import explained_variance_score\n",
        "from sklearn.metrics import max_error\n",
        "from sklearn.metrics import mean_absolute_error\n",
        "from sklearn.metrics import mean_squared_error\n",
        "from sklearn.metrics import mean_squared_log_error\n",
        "from sklearn.metrics import median_absolute_error\n",
        "from sklearn.metrics import r2_score"
      ],
      "execution_count": 0,
      "outputs": []
    },
    {
      "cell_type": "code",
      "metadata": {
        "id": "-AO_jnDwzPy6",
        "colab_type": "code",
        "colab": {}
      },
      "source": [
        "class RegressionScore:\n",
        "  def __init__(self, ytrue, ypred, metric='explained_variance_score', sample_weight=None, multioutput='uniform_average'):\n",
        "    self.ytrue = ytrue\n",
        "    self.ypred = ypred\n",
        "    self.metric = metric\n",
        "    self.sample_weight = sample_weight\n",
        "    self.multioutput = multioutput\n",
        "\n",
        "  def explained_variance_score(self):\n",
        "    return explained_variance_score(self.ytrue, self.ypred, self.sample_weight, self.multioutput) \n",
        "\n",
        "  def max_error(self):\n",
        "    return max_error(self.ytrue, self.ypred)\n",
        "\n",
        "  def mean_absolute_error(self):\n",
        "    return mean_absolute_error(self.ytrue, self.ypred, self.sample_weight, self.multioutput)\n",
        "  \n",
        "  def mean_squared_error(self):\n",
        "    return mean_squared_error(self.ytrue, self.ypred, self.sample_weight, self.multioutput)\n",
        "\n",
        "  def mean_squared_log_error(self):\n",
        "    return mean_squared_log_error(self.ytrue, self.ypred, self.sample_weight, self.multioutput)\n",
        "  \n",
        "  def median_absolute_error(self):\n",
        "    return median_absolute_error(self.ytrue, self.ypred)\n",
        "\n",
        "  def r2_score(self):\n",
        "    return r2_score(self.ytrue, self.ypred, self.sample_weight, self.multioutput)\n",
        "\n",
        "  def evaluate_score(self):\n",
        "    if self.metric == \"explained_variance_score\":\n",
        "      return self.explained_variance_score()\n",
        "    \n",
        "    elif self.metric == \"max_error\":\n",
        "      return self.max_error()\n",
        "\n",
        "    elif self.metric == \"mean_absolute_error\":\n",
        "      return self.mean_absolute_error()\n",
        "    \n",
        "    elif self.metric == \"mean_squared_error\":\n",
        "      return self.mean_squared_error()\n",
        "\n",
        "    elif self.metric == \"mean_squared_log_error\":\n",
        "      return self.mean_squared_log_error()\n",
        "    \n",
        "    elif self.metric == \"median_absolute_error\":\n",
        "      return self.median_absolute_error()\n",
        "\n",
        "    elif self.metric == \"r2_score\":\n",
        "      return self.r2_score()\n"
      ],
      "execution_count": 0,
      "outputs": []
    },
    {
      "cell_type": "markdown",
      "metadata": {
        "id": "C5UCoWxA9rG8",
        "colab_type": "text"
      },
      "source": [
        "**Output Formats:**\n",
        "\n",
        "1.   Single output\n",
        "2.   Multiple output\n",
        "\n",
        "\n",
        "**Metric Options:**\n",
        "\n",
        "single output only\n",
        "\n",
        "1.   max_error\n",
        "2.   median_absolute_error\n",
        "\n",
        "single and multiple output\n",
        "\n",
        "3.   explained_variance_score\n",
        "4.   mean_absolute_error\n",
        "5.   mean_squared_error\n",
        "6.   mean_squared_log_error\n",
        "7.   r2_score"
      ]
    },
    {
      "cell_type": "code",
      "metadata": {
        "id": "aaxRaS9I2Cgi",
        "colab_type": "code",
        "colab": {
          "base_uri": "https://localhost:8080/",
          "height": 34
        },
        "outputId": "f93f37fe-3bc9-4f2c-ae81-93560e1190df"
      },
      "source": [
        "#single output\n",
        "ytrue = [3, -0.5, 2, 7]\n",
        "ypred = [2.5, 0.0, 2, 8]\n",
        "\n",
        "#multiple output\n",
        "# ytrue = [3, 5, 2.5, 7]\n",
        "# ypred = [2.5, 5, 4, 8]\n",
        "\n",
        "rs = RegressionScore(ytrue, ypred, metric='r2_score', multioutput='raw_values')\n",
        "\n",
        "rs.evaluate_score()\n",
        "\n",
        "\n"
      ],
      "execution_count": 49,
      "outputs": [
        {
          "output_type": "execute_result",
          "data": {
            "text/plain": [
              "array([0.94860814])"
            ]
          },
          "metadata": {
            "tags": []
          },
          "execution_count": 49
        }
      ]
    }
  ]
}