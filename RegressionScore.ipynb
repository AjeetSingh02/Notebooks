{
  "nbformat": 4,
  "nbformat_minor": 0,
  "metadata": {
    "colab": {
      "name": "RegressionScore.ipynb",
      "provenance": [],
      "collapsed_sections": [
        "ElPbtig_83zo",
        "xFSxV32q888q",
        "gzLT7v6k-LPw",
        "3J-hhSIk9CsA",
        "hTiwwG93HKcR",
        "pZX3be0G37cF"
      ],
      "toc_visible": true,
      "include_colab_link": true
    },
    "kernelspec": {
      "name": "python3",
      "display_name": "Python 3"
    }
  },
  "cells": [
    {
      "cell_type": "markdown",
      "metadata": {
        "id": "view-in-github",
        "colab_type": "text"
      },
      "source": [
        "<a href=\"https://colab.research.google.com/github/AjeetSingh02/Notebooks/blob/master/RegressionScore.ipynb\" target=\"_parent\"><img src=\"https://colab.research.google.com/assets/colab-badge.svg\" alt=\"Open In Colab\"/></a>"
      ]
    },
    {
      "cell_type": "markdown",
      "metadata": {
        "id": "ElPbtig_83zo",
        "colab_type": "text"
      },
      "source": [
        "# Modular functions"
      ]
    },
    {
      "cell_type": "code",
      "metadata": {
        "id": "K7FDqTvqAAQ7",
        "colab_type": "code",
        "colab": {}
      },
      "source": [
        "# import warnings\n",
        "# warnings.filterwarnings(\"ignore\")"
      ],
      "execution_count": null,
      "outputs": []
    },
    {
      "cell_type": "code",
      "metadata": {
        "id": "lLPBHmIJ1_KT",
        "colab_type": "code",
        "colab": {}
      },
      "source": [
        "# from sklearn.metrics import explained_variance_score\n",
        "# from sklearn.metrics import max_error\n",
        "# from sklearn.metrics import mean_absolute_error\n",
        "# from sklearn.metrics import mean_squared_error\n",
        "# from sklearn.metrics import mean_squared_log_error\n",
        "# from sklearn.metrics import median_absolute_error\n",
        "# from sklearn.metrics import r2_score"
      ],
      "execution_count": null,
      "outputs": []
    },
    {
      "cell_type": "code",
      "metadata": {
        "id": "-AO_jnDwzPy6",
        "colab_type": "code",
        "colab": {}
      },
      "source": [
        "# class RegressionScore:\n",
        "#   def __init__(self, ytrue, ypred, metric='explained_variance_score', sample_weight=None, multioutput='uniform_average'):\n",
        "#     self.ytrue = ytrue\n",
        "#     self.ypred = ypred\n",
        "#     self.metric = metric\n",
        "#     self.sample_weight = sample_weight\n",
        "#     self.multioutput = multioutput\n",
        "\n",
        "#   def explained_variance_score(self):\n",
        "#     return explained_variance_score(self.ytrue, self.ypred, self.sample_weight, self.multioutput) \n",
        "\n",
        "#   def max_error(self):\n",
        "#     return max_error(self.ytrue, self.ypred)\n",
        "\n",
        "#   def mean_absolute_error(self):\n",
        "#     return mean_absolute_error(self.ytrue, self.ypred, self.sample_weight, self.multioutput)\n",
        "  \n",
        "#   def mean_squared_error(self):\n",
        "#     return mean_squared_error(self.ytrue, self.ypred, self.sample_weight, self.multioutput)\n",
        "\n",
        "#   def mean_squared_log_error(self):\n",
        "#     return mean_squared_log_error(self.ytrue, self.ypred, self.sample_weight, self.multioutput)\n",
        "  \n",
        "#   def median_absolute_error(self):\n",
        "#     return median_absolute_error(self.ytrue, self.ypred)\n",
        "\n",
        "#   def r2_score(self):\n",
        "#     return r2_score(self.ytrue, self.ypred, self.sample_weight, self.multioutput)\n",
        "\n",
        "#   def evaluate_score(self):\n",
        "#     if self.metric == \"explained_variance_score\":\n",
        "#       return self.explained_variance_score()\n",
        "    \n",
        "#     elif self.metric == \"max_error\":\n",
        "#       return self.max_error()\n",
        "\n",
        "#     elif self.metric == \"mean_absolute_error\":\n",
        "#       return self.mean_absolute_error()\n",
        "    \n",
        "#     elif self.metric == \"mean_squared_error\":\n",
        "#       return self.mean_squared_error()\n",
        "\n",
        "#     elif self.metric == \"mean_squared_log_error\":\n",
        "#       return self.mean_squared_log_error()\n",
        "    \n",
        "#     elif self.metric == \"median_absolute_error\":\n",
        "#       return self.median_absolute_error()\n",
        "\n",
        "#     elif self.metric == \"r2_score\":\n",
        "#       return self.r2_score()\n"
      ],
      "execution_count": null,
      "outputs": []
    },
    {
      "cell_type": "markdown",
      "metadata": {
        "id": "C5UCoWxA9rG8",
        "colab_type": "text"
      },
      "source": [
        "**Output Formats:**\n",
        "\n",
        "1.   Single output\n",
        "2.   Multiple output\n",
        "\n",
        "\n",
        "**Metric Options:**\n",
        "\n",
        "single output only\n",
        "\n",
        "1.   max_error\n",
        "\n",
        "single and multiple output\n",
        "\n",
        "2.   median_absolute_error\n",
        "3.   explained_variance_score\n",
        "4.   mean_absolute_error\n",
        "5.   mean_squared_error\n",
        "6.   mean_squared_log_error\n",
        "7.   r2_score\n",
        "\n",
        "**Averaging method**\n",
        "1. **uniform_average**: uniformly weighted mean over outputs. If an ndarray of shape (n_outputs,) is passed, then its entries are interpreted as weights and an according weighted average is returned. \n",
        "2. **raw_values**: all unaltered individual scores or losses will be returned in an array of shape (n_outputs,)\n",
        "3. **variance_weighted (only for r2_score and explained_variance_score)** :  weighting of each individual score by the variance of the corresponding target variable. This setting quantifies the globally captured unscaled variance. If the target variables are of different scale, then this score puts more importance on well explaining the higher variance variables.\n"
      ]
    },
    {
      "cell_type": "code",
      "metadata": {
        "id": "PD4c14iIko0K",
        "colab_type": "code",
        "colab": {}
      },
      "source": [
        "# import numpy as np\n",
        "# import ast\n",
        "# import pandas as pd"
      ],
      "execution_count": null,
      "outputs": []
    },
    {
      "cell_type": "code",
      "metadata": {
        "id": "zVVj85wMazIv",
        "colab_type": "code",
        "colab": {}
      },
      "source": [
        "# y_trueSingle = [3, -0.5, 2, 7]\n",
        "# y_predSingle =  [2.5, 0.0, 2, 8]\n",
        "\n",
        "# y_trueMulti =  [[0.5, 1], [-1, 1], [7, -6]]\n",
        "# y_predMulti =  [[0, 2], [-1, 2], [8, -5]]\n",
        "\n",
        "# y_trueSingleLog =  [3, 5, 2.5, 7]\n",
        "# y_predSingleLog =  [2.5, 5, 4, 8]\n",
        "\n",
        "# y_trueMultiLog =  [[0.5, 1], [1, 2], [7, 6]]\n",
        "# y_predMultiLog =  [[0.5, 2], [1, 2.5], [8, 8]]\n",
        "\n",
        "\n",
        "# y_trueSingleDf = pd.DataFrame({\"y_trueSingle\": y_trueSingle})\n",
        "# y_predSingleDf = pd.DataFrame({\"y_predSingle\": y_predSingle})\n",
        "\n",
        "# y_trueMultiDf =  pd.DataFrame({\"y_trueMulti\": y_trueMulti})\n",
        "# y_predMultiDf =  pd.DataFrame({\"y_predMulti\": y_predMulti})\n",
        "\n",
        "# y_trueSingleLogDf =  pd.DataFrame({\"y_trueSingleLog\": y_trueSingleLog})\n",
        "# y_predSingleLogDf =  pd.DataFrame({\"y_predSingleLog\": y_predSingleLog})\n",
        "\n",
        "# y_trueMultiLogDf =  pd.DataFrame({\"y_trueMultiLog\": y_trueMultiLog})\n",
        "# y_predMultiLogDf =  pd.DataFrame({\"y_predMultiLog\": y_predMultiLog})\n",
        "\n",
        "\n",
        "# y_trueSingleDf.to_csv(\"y_trueSingleDf.csv\", index=False)\n",
        "# y_predSingleDf.to_csv(\"y_predSingleDf.csv\", index=False)\n",
        "\n",
        "# y_trueMultiDf.to_csv(\"y_trueMultiDf.csv\", index=False)\n",
        "# y_predMultiDf.to_csv(\"y_predMultiDf.csv\", index=False)\n",
        "\n",
        "# y_trueSingleLogDf.to_csv(\"y_trueSingleLogDf.csv\", index=False)\n",
        "# y_predSingleLogDf.to_csv(\"y_predSingleLogDf.csv\", index=False)\n",
        "\n",
        "# y_trueMultiLogDf.to_csv(\"y_trueMultiLogDf.csv\", index=False)\n",
        "# y_predMultiLogDf.to_csv(\"y_predMultiLogDf.csv\", index=False)"
      ],
      "execution_count": null,
      "outputs": []
    },
    {
      "cell_type": "code",
      "metadata": {
        "id": "REBm88dBkDIg",
        "colab_type": "code",
        "colab": {}
      },
      "source": [
        "# def generateMetrics(yTruePath, yPredPath, sample_weight=None, multioutput='uniform_average'):\n",
        "\n",
        "#     yTrueDf = pd.read_csv(yTruePath)\n",
        "#     yPredDf = pd.read_csv(yPredPath)\n",
        "\n",
        "#     arr0 = yTrueDf.iloc[:,0].to_numpy()\n",
        "#     arr1 = yPredDf.iloc[:,0].to_numpy()\n",
        "\n",
        "#     if arr0.dtype == \"object\":  \n",
        "\n",
        "#         yTrue = []\n",
        "#         yPred = []              \n",
        "\n",
        "#         for l in arr0:\n",
        "#             yTrue.append(ast.literal_eval(l))\n",
        "\n",
        "#         for l in arr1:\n",
        "#             yPred.append(ast.literal_eval(l))\n",
        "\n",
        "#         yTrue = np.array(yTrue)\n",
        "#         yPred = np.array(yPred)\n",
        "\n",
        "#     else:\n",
        "#         yTrue = arr0\n",
        "#         yPred = arr1\n",
        "\n",
        "#     if multioutput == \"variance_weighted\":\n",
        "#         multipleOutputMetrics = ['explained_variance_score', 'r2_score']\n",
        "#     else:\n",
        "#         multipleOutputMetrics = ['explained_variance_score', 'mean_absolute_error', \n",
        "#            'mean_squared_error', 'median_absolute_error', 'r2_score', 'mean_squared_log_error']\n",
        "\n",
        "#     errorMetrics = {}\n",
        "\n",
        "#     if yTrue.ndim == 1:\n",
        "#         print(\"Single Output\")\n",
        "#         metric = \"max_error\"\n",
        "#         rs = RegressionScore(yTrue, yPred, metric=metric)\n",
        "#         errorMetrics[metric] = np.round(rs.evaluate_score(), 2)\n",
        "\n",
        "#         for metric in multipleOutputMetrics:\n",
        "#             try:\n",
        "#                 rs = RegressionScore(yTrue, yPred, metric=metric, sample_weight=sample_weight, multioutput=multioutput)\n",
        "#                 errorMetrics[metric] = np.round(rs.evaluate_score(), 2)\n",
        "#             except Exception as e:\n",
        "#                 pass\n",
        "            \n",
        "#     elif yTrue.ndim > 1:\n",
        "#         print(\"Multiple Output\")\n",
        "#         for metric in multipleOutputMetrics:\n",
        "#             try:\n",
        "#                 rs = RegressionScore(yTrue, yPred, metric=metric, sample_weight=sample_weight, multioutput=multioutput)\n",
        "#                 errorMetrics[metric] = np.round(rs.evaluate_score(), 2)\n",
        "#             except Exception as e:\n",
        "#                 pass\n",
        "\n",
        "#     return errorMetrics"
      ],
      "execution_count": null,
      "outputs": []
    },
    {
      "cell_type": "code",
      "metadata": {
        "id": "lXuuvxyatBAF",
        "colab_type": "code",
        "colab": {}
      },
      "source": [
        "# for i in range(len(actualPath)):\n",
        "#     for j in range(len(multioutputs)):\n",
        "#         print(actualPath[i], multioutputs[j])\n",
        "#         print(generateMetrics(actualPath[i], predPath[i], multioutput=multioutputs[j]))\n",
        "#         print()"
      ],
      "execution_count": null,
      "outputs": []
    },
    {
      "cell_type": "code",
      "metadata": {
        "id": "7jsLi1VDmvyu",
        "colab_type": "code",
        "colab": {}
      },
      "source": [
        "# from regressionModel import generateMetrics\n",
        "# actualPath = [\"/content/y_trueSingleDf.csv\", '/content/y_trueMultiDf.csv', \n",
        "#               '/content/y_trueSingleLogDf.csv', '/content/y_trueMultiLogDf.csv', \"/content/multiOutsTrue.csv\", '/content/singleOutsTrue.csv']\n",
        "\n",
        "# predPath = [\"/content/y_predSingleDf.csv\", '/content/y_predMultiDf.csv', \n",
        "#             '/content/y_predSingleLogDf.csv', '/content/y_predMultiLogDf.csv', '/content/multiOutsPred.csv', '/content/singleOutsPred.csv']\n",
        "\n",
        "# multioutputs = ['variance_weighted', 'raw_values', 'uniform_average']\n",
        "\n",
        "\n",
        "# generateMetrics(\"/content/multiOutsTrue.csv\", '/content/multiOutsPred.csv', None, 'uniform_average')\n",
        "# generateMetrics(\"/content/singleOutsTrue.csv\", '/content/singleOutsPred.csv', None, 'uniform_average')"
      ],
      "execution_count": null,
      "outputs": []
    },
    {
      "cell_type": "markdown",
      "metadata": {
        "id": "xFSxV32q888q",
        "colab_type": "text"
      },
      "source": [
        "# Calling using 'main'"
      ]
    },
    {
      "cell_type": "code",
      "metadata": {
        "id": "lqsmZT_29bJB",
        "colab_type": "code",
        "colab": {}
      },
      "source": [
        "# multioutputs parameter options\n",
        "\n",
        "multiOutputs = ['variance_weighted', 'raw_values', 'uniform_average']"
      ],
      "execution_count": null,
      "outputs": []
    },
    {
      "cell_type": "markdown",
      "metadata": {
        "id": "9H29vXeZPcHo",
        "colab_type": "text"
      },
      "source": [
        "**Without Model**\n"
      ]
    },
    {
      "cell_type": "code",
      "metadata": {
        "id": "spMHQbKm9N8A",
        "colab_type": "code",
        "colab": {
          "base_uri": "https://localhost:8080/",
          "height": 72
        },
        "outputId": "b00615d8-58d2-4b46-b29d-9cfeda2b2fd3"
      },
      "source": [
        "! python regressionModel.py \"nonModel\" \"/content/singleOutsTrue.csv\" \"/content/singleOutsPred.csv\" \"None\" \"uniform_average\" \"out\""
      ],
      "execution_count": null,
      "outputs": [
        {
          "output_type": "stream",
          "text": [
            "/usr/local/lib/python3.6/dist-packages/statsmodels/tools/_testing.py:19: FutureWarning: pandas.util.testing is deprecated. Use the functions in the public API at pandas.testing instead.\n",
            "  import pandas.util.testing as tm\n",
            "{'max_error': 1, 'explained_variance_score': 1.0, 'mean_absolute_error': 1.0, 'mean_squared_error': 1.0, 'median_absolute_error': 1.0, 'r2_score': 1.0, 'mean_squared_log_error': 0.03}\n"
          ],
          "name": "stdout"
        }
      ]
    },
    {
      "cell_type": "code",
      "metadata": {
        "id": "Fnl9nFWjuk-m",
        "colab_type": "code",
        "colab": {
          "base_uri": "https://localhost:8080/",
          "height": 92
        },
        "outputId": "636a593f-c729-42e7-da6d-e6f83721552a"
      },
      "source": [
        "! python regressionModel.py \"nonModel\" \"/content/singleOutsTrueSmall.csv\" \"/content/singleOutsPredSmall.csv\" '[1,2,3,4,5,6]' \"uniform_average\" \"out\""
      ],
      "execution_count": null,
      "outputs": [
        {
          "output_type": "stream",
          "text": [
            "/usr/local/lib/python3.6/dist-packages/statsmodels/tools/_testing.py:19: FutureWarning: pandas.util.testing is deprecated. Use the functions in the public API at pandas.testing instead.\n",
            "  import pandas.util.testing as tm\n",
            "{'max_error': 6, 'explained_variance_score': -1.11, 'mean_absolute_error': 3.14, 'mean_squared_error': 14.57, 'median_absolute_error': 1.0, 'r2_score': -5.56, 'mean_squared_log_error': 0.75}\n"
          ],
          "name": "stdout"
        }
      ]
    },
    {
      "cell_type": "code",
      "metadata": {
        "id": "8YLUj0dkz4GL",
        "colab_type": "code",
        "colab": {
          "base_uri": "https://localhost:8080/",
          "height": 72
        },
        "outputId": "c0c43079-eaaf-462c-c9e8-a2be4eb7bf05"
      },
      "source": [
        "! python regressionModel.py \"nonModel\" \"/content/3multiOutsTruedim.csv\" \"/content/3multiOutsPreddim.csv\" \"None\" \"uniform_average\" \"out/\""
      ],
      "execution_count": null,
      "outputs": [
        {
          "output_type": "stream",
          "text": [
            "/usr/local/lib/python3.6/dist-packages/statsmodels/tools/_testing.py:19: FutureWarning: pandas.util.testing is deprecated. Use the functions in the public API at pandas.testing instead.\n",
            "  import pandas.util.testing as tm\n",
            "{'explained_variance_score': -0.2, 'mean_absolute_error': 10.16, 'mean_squared_error': 380.2, 'median_absolute_error': 2.0, 'r2_score': -0.2, 'mean_squared_log_error': 1.46}\n"
          ],
          "name": "stdout"
        }
      ]
    },
    {
      "cell_type": "code",
      "metadata": {
        "id": "JskwpZ2onNyD",
        "colab_type": "code",
        "colab": {
          "base_uri": "https://localhost:8080/",
          "height": 72
        },
        "outputId": "ada5178e-98d4-47e6-dd94-ceb46053d91c"
      },
      "source": [
        "! python regressionModel.py \"nonModel\" \"/content/4multiOutsTruedim.csv\" \"/content/4multiOutsPreddim.csv\" \"None\" \"uniform_average\" \"out/\""
      ],
      "execution_count": null,
      "outputs": [
        {
          "output_type": "stream",
          "text": [
            "/usr/local/lib/python3.6/dist-packages/statsmodels/tools/_testing.py:19: FutureWarning: pandas.util.testing is deprecated. Use the functions in the public API at pandas.testing instead.\n",
            "  import pandas.util.testing as tm\n",
            "{'explained_variance_score': -1.37, 'mean_absolute_error': 22.46, 'mean_squared_error': 818.65, 'median_absolute_error': 22.0, 'r2_score': -1.37, 'mean_squared_log_error': 2.62}\n"
          ],
          "name": "stdout"
        }
      ]
    },
    {
      "cell_type": "code",
      "metadata": {
        "id": "kaOwpHMhCOSX",
        "colab_type": "code",
        "colab": {
          "base_uri": "https://localhost:8080/",
          "height": 92
        },
        "outputId": "7e0fda1f-c2c9-49b6-d47a-52518196a28a"
      },
      "source": [
        "! python regressionModel.py \"nonModel\" \"/content/trueLabel.csv\" \"/content/predLabel.csv\" \"None\" \"uniform_average\" \"out/\""
      ],
      "execution_count": null,
      "outputs": [
        {
          "output_type": "stream",
          "text": [
            "/usr/local/lib/python3.6/dist-packages/statsmodels/tools/_testing.py:19: FutureWarning: pandas.util.testing is deprecated. Use the functions in the public API at pandas.testing instead.\n",
            "  import pandas.util.testing as tm\n",
            "{'max_error': 364230.91, 'explained_variance_score': 0.39, 'mean_absolute_error': 67697.31, 'mean_squared_error': 7803935754.62, 'median_absolute_error': 53562.95, 'r2_score': 0.39, 'mean_squared_log_error': 0.2}\n"
          ],
          "name": "stdout"
        }
      ]
    },
    {
      "cell_type": "markdown",
      "metadata": {
        "id": "egGJ0IuEPhWp",
        "colab_type": "text"
      },
      "source": [
        "**Model**"
      ]
    },
    {
      "cell_type": "markdown",
      "metadata": {
        "id": "kw_XeqJsljiq",
        "colab_type": "text"
      },
      "source": [
        "**Multi output case**\n",
        "\n",
        "    a. Data and label in same file\n",
        "        i. Two labels - rest are features\n",
        "        ii. Two labels - some of the other are features\n",
        "    b. Data and label in different file\n",
        "        i. In data file all are features\n",
        "        ii. In data file some are features"
      ]
    },
    {
      "cell_type": "code",
      "metadata": {
        "id": "UkojL5NlUlWo",
        "colab_type": "code",
        "colab": {}
      },
      "source": [
        "%%capture\n",
        "! pip install simplejson"
      ],
      "execution_count": null,
      "outputs": []
    },
    {
      "cell_type": "code",
      "metadata": {
        "id": "Ddd-9ymG5yUm",
        "colab_type": "code",
        "colab": {
          "base_uri": "https://localhost:8080/",
          "height": 54
        },
        "outputId": "f940d450-0739-4405-d4c9-d25a4bbf780e"
      },
      "source": [
        "# multioutput case - data and label in same file - two labels rest features\n",
        "! python regressionModel.py \"Yes\" \"['latitude', 'longitude']\" \"/content/californiaTest30Rows.csv\" \"None\" \"uniform_average\" \"out2/\" \"/content/lineaRegressionMultioutput.pkl\" \"None\""
      ],
      "execution_count": null,
      "outputs": [
        {
          "output_type": "stream",
          "text": [
            "/usr/local/lib/python3.6/dist-packages/statsmodels/tools/_testing.py:19: FutureWarning: pandas.util.testing is deprecated. Use the functions in the public API at pandas.testing instead.\n",
            "  import pandas.util.testing as tm\n"
          ],
          "name": "stdout"
        }
      ]
    },
    {
      "cell_type": "code",
      "metadata": {
        "id": "7gyKvJbFoDF7",
        "colab_type": "code",
        "colab": {
          "base_uri": "https://localhost:8080/",
          "height": 54
        },
        "outputId": "f24ba9df-5c04-4c94-d58e-a45596e4fa76"
      },
      "source": [
        "# multioutput case - data and label in same file - two labels rest features - Weights in CSV\n",
        "! python regressionModel.py \"Yes\" \"['latitude', 'longitude']\" \"/content/californiaTest30Rows.csv\" \"/content/weights30.csv\" \"uniform_average\" \"out4/\" \"/content/lineaRegressionMultioutput.pkl\" \"None\""
      ],
      "execution_count": null,
      "outputs": [
        {
          "output_type": "stream",
          "text": [
            "/usr/local/lib/python3.6/dist-packages/statsmodels/tools/_testing.py:19: FutureWarning: pandas.util.testing is deprecated. Use the functions in the public API at pandas.testing instead.\n",
            "  import pandas.util.testing as tm\n"
          ],
          "name": "stdout"
        }
      ]
    },
    {
      "cell_type": "code",
      "metadata": {
        "id": "B6ImHJqUWUEQ",
        "colab_type": "code",
        "colab": {
          "base_uri": "https://localhost:8080/",
          "height": 72
        },
        "outputId": "53c04f6b-72a9-4907-90e6-0ad814b6bde3"
      },
      "source": [
        "# multioutput case - data and label in same file - two labels rest features - Weights in CSV\n",
        "! python regressionModel.py \"Yes\" \"['latitude', 'longitude']\" \"/content/californiaTest30Rows.csv\" \"/content/weights30.csv\" \"[0.3, 0.7]\" \"out4/\" \"/content/lineaRegressionMultioutput.pkl\" \"None\""
      ],
      "execution_count": null,
      "outputs": [
        {
          "output_type": "stream",
          "text": [
            "/usr/local/lib/python3.6/dist-packages/statsmodels/tools/_testing.py:19: FutureWarning: pandas.util.testing is deprecated. Use the functions in the public API at pandas.testing instead.\n",
            "  import pandas.util.testing as tm\n",
            "{'explained_variance_score': 0.14, 'mean_absolute_error': 1.62, 'mean_squared_error': 3.19, 'median_absolute_error': 1.58, 'r2_score': 0.14}\n"
          ],
          "name": "stdout"
        }
      ]
    },
    {
      "cell_type": "code",
      "metadata": {
        "id": "DgzJgpJLrtxb",
        "colab_type": "code",
        "colab": {
          "base_uri": "https://localhost:8080/",
          "height": 72
        },
        "outputId": "40080e56-10d7-4d49-bf54-c05fdd853434"
      },
      "source": [
        "# multioutput case - data and label in same file - two labels, some of other columns are features\n",
        "! python regressionModel.py \"Yes\" \"['latitude', 'longitude']\" \"/content/californiaTest30RowsExtracols.csv\" \"None\" \"[1,2]\" \"out4/\" \"/content/lineaRegressionMultioutput.pkl\" \"['housing_median_age', 'total_rooms', 'total_bedrooms', 'population', 'households', 'median_income', 'median_house_value']\""
      ],
      "execution_count": null,
      "outputs": [
        {
          "output_type": "stream",
          "text": [
            "/usr/local/lib/python3.6/dist-packages/statsmodels/tools/_testing.py:19: FutureWarning: pandas.util.testing is deprecated. Use the functions in the public API at pandas.testing instead.\n",
            "  import pandas.util.testing as tm\n",
            "{'explained_variance_score': 0.15, 'mean_absolute_error': 1.56, 'mean_squared_error': 2.98, 'median_absolute_error': 1.58, 'r2_score': 0.14}\n"
          ],
          "name": "stdout"
        }
      ]
    },
    {
      "cell_type": "code",
      "metadata": {
        "id": "z_fB4J-nctqN",
        "colab_type": "code",
        "colab": {
          "base_uri": "https://localhost:8080/",
          "height": 90
        },
        "outputId": "5f63c7ac-e290-43aa-dc2f-f7989726c8a1"
      },
      "source": [
        "# multioutput case - data and label in same file - two labels, some of other columns are features - Weights in CSV\n",
        "! python regressionModel.py \"Yes\" \"['latitude', 'longitude']\" \"/content/californiaTest30RowsExtracols.csv\" \"/content/weights30Dim2.csv\" \"[1,2]\" \"out4/\" \"/content/lineaRegressionMultioutput.pkl\" \"['housing_median_age', 'total_rooms', 'total_bedrooms', 'population', 'households', 'median_income', 'median_house_value']\""
      ],
      "execution_count": null,
      "outputs": [
        {
          "output_type": "stream",
          "text": [
            "/usr/local/lib/python3.6/dist-packages/statsmodels/tools/_testing.py:19: FutureWarning: pandas.util.testing is deprecated. Use the functions in the public API at pandas.testing instead.\n",
            "  import pandas.util.testing as tm\n",
            "ypred number of columns not equal to length of multiout. setting to default.\n",
            "{'explained_variance_score': 0.13, 'mean_absolute_error': 1.55, 'mean_squared_error': 2.99, 'median_absolute_error': 1.58}\n"
          ],
          "name": "stdout"
        }
      ]
    },
    {
      "cell_type": "code",
      "metadata": {
        "id": "PKXmea4ssLkL",
        "colab_type": "code",
        "colab": {
          "base_uri": "https://localhost:8080/",
          "height": 72
        },
        "outputId": "c1b92d27-07e5-4ff5-e737-bf8a02436f42"
      },
      "source": [
        "# multioutput case - data and label in different files - all columns are features - Weights in CSV\n",
        "! python regressionModel.py \"No\" \"/content/californiaMultiOutYtrueSmall.csv\" \"/content/californiaMultiOutTestSmall.csv\" \"/content/weights30Dim2.csv\" \"uniform_average\" \"out4/\" \"/content/lineaRegressionMultioutput.pkl\" \"None\""
      ],
      "execution_count": null,
      "outputs": [
        {
          "output_type": "stream",
          "text": [
            "/usr/local/lib/python3.6/dist-packages/statsmodels/tools/_testing.py:19: FutureWarning: pandas.util.testing is deprecated. Use the functions in the public API at pandas.testing instead.\n",
            "  import pandas.util.testing as tm\n",
            "{'explained_variance_score': 0.13, 'mean_absolute_error': 1.55, 'mean_squared_error': 2.99, 'median_absolute_error': 1.58}\n"
          ],
          "name": "stdout"
        }
      ]
    },
    {
      "cell_type": "code",
      "metadata": {
        "id": "oxr5OSnfsF83",
        "colab_type": "code",
        "colab": {
          "base_uri": "https://localhost:8080/",
          "height": 72
        },
        "outputId": "5d90e88f-4525-4cac-8abd-82b7f61947fa"
      },
      "source": [
        "# multioutput case - data and label in different files - some columns are features\n",
        "! python regressionModel.py \"No\" \"/content/californiaMultiOutYtrueSmall.csv\" \"/content/californiaMultiOutTestSmallExtraCols.csv\" \"/content/weights30.csv\" \"uniform_average\" \"out4/\" \"/content/lineaRegressionMultioutput.pkl\" \"['housing_median_age', 'total_rooms', 'total_bedrooms', 'population', 'households', 'median_income', 'median_house_value']\""
      ],
      "execution_count": null,
      "outputs": [
        {
          "output_type": "stream",
          "text": [
            "/usr/local/lib/python3.6/dist-packages/statsmodels/tools/_testing.py:19: FutureWarning: pandas.util.testing is deprecated. Use the functions in the public API at pandas.testing instead.\n",
            "  import pandas.util.testing as tm\n",
            "{'explained_variance_score': 0.16, 'mean_absolute_error': 1.62, 'mean_squared_error': 3.22, 'median_absolute_error': 1.58, 'r2_score': 0.16}\n"
          ],
          "name": "stdout"
        }
      ]
    },
    {
      "cell_type": "markdown",
      "metadata": {
        "id": "n5JoCEXQtwA2",
        "colab_type": "text"
      },
      "source": [
        "**Single output case**\n",
        "\n",
        "\t\ta. Data and label in same file\n",
        "\t\t\ti. One label - rest features\n",
        "\t\t\tii. One label - some of the others are features\n",
        "\t\tb. Data and label in different file\n",
        "\t\t\ti. In data file all are features\n",
        "            ii. In data file some are features"
      ]
    },
    {
      "cell_type": "code",
      "metadata": {
        "id": "39rCduh7KU9O",
        "colab_type": "code",
        "colab": {
          "base_uri": "https://localhost:8080/",
          "height": 54
        },
        "outputId": "7975a5ba-2296-4328-c8b7-dcb4a3360a88"
      },
      "source": [
        "# single out case - data and label in same file - one label rest columns are features\n",
        "! python regressionModel.py \"Yes\" \"['median_house_value']\" \"/content/sample_data/california_housing_test.csv\" \"None\" \"uniform_average\" \"out3/\" \"/content/RFmodel.pkl\" \"None\""
      ],
      "execution_count": null,
      "outputs": [
        {
          "output_type": "stream",
          "text": [
            "/usr/local/lib/python3.6/dist-packages/statsmodels/tools/_testing.py:19: FutureWarning: pandas.util.testing is deprecated. Use the functions in the public API at pandas.testing instead.\n",
            "  import pandas.util.testing as tm\n"
          ],
          "name": "stdout"
        }
      ]
    },
    {
      "cell_type": "code",
      "metadata": {
        "id": "sqPUjA8IOUyh",
        "colab_type": "code",
        "colab": {
          "base_uri": "https://localhost:8080/",
          "height": 110
        },
        "outputId": "0a3ec848-e2a4-4970-8c00-f6759489ee1e"
      },
      "source": [
        "# single out case - data and label in same file - one label rest columns are features - weights in CSV\n",
        "! python regressionModel.py \"Yes\" \"['median_house_value']\" \"/content/sample_data/california_housing_test.csv\" \"/content/weights3000.csv\" \"uniform_average\" \"out4/\" \"/content/RFmodel.pkl\" \"None\""
      ],
      "execution_count": null,
      "outputs": [
        {
          "output_type": "stream",
          "text": [
            "/usr/local/lib/python3.6/dist-packages/statsmodels/tools/_testing.py:19: FutureWarning: pandas.util.testing is deprecated. Use the functions in the public API at pandas.testing instead.\n",
            "  import pandas.util.testing as tm\n",
            "Error during conversion of multiouts: malformed node or string: <_ast.Name object at 0x7fc84183df60>\n",
            "{'max_error': 360857.94, 'explained_variance_score': 0.4, 'mean_absolute_error': 67037.38, 'mean_squared_error': 7704758116.79, 'median_absolute_error': 53329.93, 'r2_score': 0.4, 'mean_squared_log_error': 0.2}\n"
          ],
          "name": "stdout"
        }
      ]
    },
    {
      "cell_type": "code",
      "metadata": {
        "id": "UHKGvjYhSJ1j",
        "colab_type": "code",
        "colab": {
          "base_uri": "https://localhost:8080/",
          "height": 92
        },
        "outputId": "af28527a-ee8c-49f3-f016-ee35e5b59a3e"
      },
      "source": [
        "# single out case - data and label in same file - one label some of other columns are features\n",
        "! python regressionModel.py \"Yes\" \"['median_house_value']\" \"/content/sample_data/california_housing_test.csv\" \"None\" \"uniform_average\" \"out4/\" \"/content/rfModelSmall.pkl\" \"['latitude', 'longitude']\""
      ],
      "execution_count": null,
      "outputs": [
        {
          "output_type": "stream",
          "text": [
            "/usr/local/lib/python3.6/dist-packages/statsmodels/tools/_testing.py:19: FutureWarning: pandas.util.testing is deprecated. Use the functions in the public API at pandas.testing instead.\n",
            "  import pandas.util.testing as tm\n",
            "{'max_error': 299379.46, 'explained_variance_score': 0.14, 'mean_absolute_error': 81442.46, 'mean_squared_error': 11006238689.33, 'median_absolute_error': 65322.92, 'r2_score': 0.14, 'mean_squared_log_error': 0.28}\n"
          ],
          "name": "stdout"
        }
      ]
    },
    {
      "cell_type": "code",
      "metadata": {
        "id": "m1CKQfNpCmlc",
        "colab_type": "code",
        "colab": {
          "base_uri": "https://localhost:8080/",
          "height": 92
        },
        "outputId": "60ba1895-774f-4245-ef7f-b194bd007692"
      },
      "source": [
        "# single out case - data and label in same file - one label some of other columns are features - weights in CSV\n",
        "! python regressionModel.py \"Yes\" \"['median_house_value']\" \"/content/sample_data/california_housing_test.csv\" \"/content/weights3000.csv\" \"uniform_average\" \"out4/\" \"/content/rfModelSmall.pkl\" \"['latitude', 'longitude']\""
      ],
      "execution_count": null,
      "outputs": [
        {
          "output_type": "stream",
          "text": [
            "/usr/local/lib/python3.6/dist-packages/statsmodels/tools/_testing.py:19: FutureWarning: pandas.util.testing is deprecated. Use the functions in the public API at pandas.testing instead.\n",
            "  import pandas.util.testing as tm\n",
            "{'max_error': 299379.46, 'explained_variance_score': 0.15, 'mean_absolute_error': 81050.45, 'mean_squared_error': 10908845516.68, 'median_absolute_error': 65322.92, 'r2_score': 0.15, 'mean_squared_log_error': 0.28}\n"
          ],
          "name": "stdout"
        }
      ]
    },
    {
      "cell_type": "code",
      "metadata": {
        "id": "2jklTswwJ5ax",
        "colab_type": "code",
        "colab": {
          "base_uri": "https://localhost:8080/",
          "height": 92
        },
        "outputId": "b40a172a-4304-47d3-a06f-d5e79215528b"
      },
      "source": [
        "# single out case - data and label in different file - all columns features\n",
        "! python regressionModel.py \"No\" \"/content/trueLabel.csv\" \"/content/californiaTest.csv\" \"None\" \"uniform_average\" \"out4/\" \"/content/RFmodel.pkl\" \"None\""
      ],
      "execution_count": null,
      "outputs": [
        {
          "output_type": "stream",
          "text": [
            "/usr/local/lib/python3.6/dist-packages/statsmodels/tools/_testing.py:19: FutureWarning: pandas.util.testing is deprecated. Use the functions in the public API at pandas.testing instead.\n",
            "  import pandas.util.testing as tm\n",
            "{'max_error': 360857.94, 'explained_variance_score': 0.41, 'mean_absolute_error': 66635.63, 'mean_squared_error': 7577021646.27, 'median_absolute_error': 53329.93, 'r2_score': 0.41, 'mean_squared_log_error': 0.2}\n"
          ],
          "name": "stdout"
        }
      ]
    },
    {
      "cell_type": "code",
      "metadata": {
        "id": "WdWeSyLIS_YH",
        "colab_type": "code",
        "colab": {
          "base_uri": "https://localhost:8080/",
          "height": 92
        },
        "outputId": "fbbabc98-9489-49e7-febb-e199a42db9a2"
      },
      "source": [
        "# single out case - data and label in different file - all columns features - weights in CSV\n",
        "! python regressionModel.py \"No\" \"/content/trueLabel.csv\" \"/content/californiaTest.csv\" \"/content/weights3000.csv\" \"uniform_average\" \"out4/\" \"/content/RFmodel.pkl\" \"None\""
      ],
      "execution_count": null,
      "outputs": [
        {
          "output_type": "stream",
          "text": [
            "/usr/local/lib/python3.6/dist-packages/statsmodels/tools/_testing.py:19: FutureWarning: pandas.util.testing is deprecated. Use the functions in the public API at pandas.testing instead.\n",
            "  import pandas.util.testing as tm\n",
            "{'max_error': 360857.94, 'explained_variance_score': 0.4, 'mean_absolute_error': 67037.38, 'mean_squared_error': 7704758116.79, 'median_absolute_error': 53329.93, 'r2_score': 0.4, 'mean_squared_log_error': 0.2}\n"
          ],
          "name": "stdout"
        }
      ]
    },
    {
      "cell_type": "code",
      "metadata": {
        "id": "k6qDD6tlj95Y",
        "colab_type": "code",
        "colab": {
          "base_uri": "https://localhost:8080/",
          "height": 92
        },
        "outputId": "215162cd-3004-4585-8346-ca0e29c9b979"
      },
      "source": [
        "# single out case - data and label in same file - some columns are featutes\n",
        "! python regressionModel.py \"No\" \"/content/trueLabel.csv\" \"/content/californiaTest.csv\" \"None\" \"uniform_average\" \"out4/\" \"/content/rfModelSmall.pkl\" \"['latitude', 'longitude']\""
      ],
      "execution_count": null,
      "outputs": [
        {
          "output_type": "stream",
          "text": [
            "/usr/local/lib/python3.6/dist-packages/statsmodels/tools/_testing.py:19: FutureWarning: pandas.util.testing is deprecated. Use the functions in the public API at pandas.testing instead.\n",
            "  import pandas.util.testing as tm\n",
            "{'max_error': 299379.46, 'explained_variance_score': 0.14, 'mean_absolute_error': 81442.46, 'mean_squared_error': 11006238689.33, 'median_absolute_error': 65322.92, 'r2_score': 0.14, 'mean_squared_log_error': 0.28}\n"
          ],
          "name": "stdout"
        }
      ]
    },
    {
      "cell_type": "code",
      "metadata": {
        "id": "0458Qqa9TAxq",
        "colab_type": "code",
        "colab": {
          "base_uri": "https://localhost:8080/",
          "height": 92
        },
        "outputId": "88d76fd6-8dd5-4156-afc3-7e96b40704d3"
      },
      "source": [
        "# single out case - data and label in same file - some columns are featutes - weights in CSV\n",
        "! python regressionModel.py \"No\" \"/content/trueLabel.csv\" \"/content/californiaTest.csv\" \"/content/weights3000.csv\" \"uniform_average\" \"out4/\" \"/content/rfModelSmall.pkl\" \"['latitude', 'longitude']\""
      ],
      "execution_count": null,
      "outputs": [
        {
          "output_type": "stream",
          "text": [
            "/usr/local/lib/python3.6/dist-packages/statsmodels/tools/_testing.py:19: FutureWarning: pandas.util.testing is deprecated. Use the functions in the public API at pandas.testing instead.\n",
            "  import pandas.util.testing as tm\n",
            "{'max_error': 299379.46, 'explained_variance_score': 0.15, 'mean_absolute_error': 81050.45, 'mean_squared_error': 10908845516.68, 'median_absolute_error': 65322.92, 'r2_score': 0.15, 'mean_squared_log_error': 0.28}\n"
          ],
          "name": "stdout"
        }
      ]
    },
    {
      "cell_type": "code",
      "metadata": {
        "id": "u0TzJjiHFQ6d",
        "colab_type": "code",
        "colab": {
          "base_uri": "https://localhost:8080/",
          "height": 35
        },
        "outputId": "b03098d6-7540-42d4-e091-863b08a01524"
      },
      "source": [
        "from sklearn.metrics import mean_squared_error\n",
        "y_true = [3, -0.5, 2, 7]\n",
        "y_pred = [2.5, 0.0, 2, 8]\n",
        "mean_squared_error(y_true, y_pred)\n",
        "\n",
        "y_true = [3, -0.5, 2, 7]\n",
        "y_pred = [2.5, 0.0, 2, 8]\n",
        "mean_squared_error(y_true, y_pred, squared=False)\n",
        "\n",
        "\n",
        "mean_squared_error(y_true, y_pred)\n",
        "\n",
        "mean_squared_error(y_true, y_pred, multioutput='raw_values')"
      ],
      "execution_count": null,
      "outputs": [
        {
          "output_type": "execute_result",
          "data": {
            "text/plain": [
              "array([0.41666667, 1.        ])"
            ]
          },
          "metadata": {
            "tags": []
          },
          "execution_count": 2
        }
      ]
    },
    {
      "cell_type": "code",
      "metadata": {
        "id": "ja8r970EG2LZ",
        "colab_type": "code",
        "colab": {
          "base_uri": "https://localhost:8080/",
          "height": 35
        },
        "outputId": "d0edc6cd-b775-44fa-96d8-2203a74438f0"
      },
      "source": [
        "y_true = [[0.5, 1],[-1, 1],[7, -6]]\n",
        "y_pred = [[0, 2],[-1, 2],[8, -5]]\n",
        "\n",
        "# weights = [[1, 2,4],[3, 1,2],[2, 3,3]]\n",
        "weights = [1,2,3]\n",
        "\n",
        "mean_squared_error(y_true, y_pred, sample_weight=weights, multioutput=[0.3, 0.7])"
      ],
      "execution_count": null,
      "outputs": [
        {
          "output_type": "execute_result",
          "data": {
            "text/plain": [
              "0.8624999999999999"
            ]
          },
          "metadata": {
            "tags": []
          },
          "execution_count": 31
        }
      ]
    },
    {
      "cell_type": "code",
      "metadata": {
        "id": "v1fmHOgHHKE4",
        "colab_type": "code",
        "colab": {}
      },
      "source": [
        "y_true = [[0.5, 1],[-1, 1],[7, -6]]\n",
        "y_pred = [[0, 2],[-1, 2],[8, -5]]\n",
        "\n",
        "mean_squared_error(y_true, y_pred)\n",
        "# 0.7083333333333334\n",
        "\n",
        "mean_squared_error(y_true, y_pred, multioutput=[0.3, 0.7])\n",
        "# 0.825\n",
        "\n",
        "weights = [[1, 2],[3, 1],[2, 3]]\n",
        "mean_squared_error(y_true, y_pred, sample_weight=weights, multioutput=[0.3, 0.7])\n",
        "# 0.8125\n",
        "\n",
        "weights = [1,2,3]\n",
        "mean_squared_error(y_true, y_pred, sample_weight=weights, multioutput=[0.3, 0.7])\n",
        "# 0.8624999999999999\n",
        "\n",
        "weights = [[1, 2, 4],[3, 1, 2],[2, 3, 3]]\n",
        "mean_squared_error(y_true, y_pred, sample_weight=weights, multioutput=[0.3, 0.7])\n",
        "# TypeError: 1D weights expected when shapes of a and weights differ.\n",
        "# 1D weights can be passed to yTrue of any dimension until the length is same"
      ],
      "execution_count": null,
      "outputs": []
    },
    {
      "cell_type": "code",
      "metadata": {
        "id": "c8ULFS4zMkSj",
        "colab_type": "code",
        "colab": {}
      },
      "source": [
        "import numpy as np\n",
        "import pandas as pd\n",
        "w = np.random.randint(1,10,3000)\n",
        "wDf = pd.DataFrame({\"weights\":  w.tolist()})\n",
        "wDf.to_csv(\"weights3000.csv\", index=False)\n",
        "\n",
        "w = np.random.randint(1,10,30)\n",
        "wDf = pd.DataFrame({\"weights\":  w.tolist()})\n",
        "wDf.to_csv(\"weights30.csv\", index=False)\n",
        "\n",
        "w = np.random.randint(1,10,[30,2])\n",
        "wDf = pd.DataFrame({\"weights\": w.tolist()})\n",
        "wDf.to_csv(\"weights30Dim2.csv\", index=False)\n",
        "\n",
        "w = np.random.randint(1,10,[30,3])\n",
        "wDf = pd.DataFrame({\"weights\": w.tolist()})\n",
        "wDf.to_csv(\"weights30Dim3.csv\", index=False)"
      ],
      "execution_count": null,
      "outputs": []
    },
    {
      "cell_type": "code",
      "metadata": {
        "id": "4m4FhfDDbje0",
        "colab_type": "code",
        "colab": {
          "base_uri": "https://localhost:8080/",
          "height": 35
        },
        "outputId": "75823f43-98a6-48d7-abbe-e3504a8ea60e"
      },
      "source": [
        "w = np.random.randint(1,10,30)\n",
        "w = w.reshape(30,1)\n",
        "w.ndim"
      ],
      "execution_count": null,
      "outputs": [
        {
          "output_type": "execute_result",
          "data": {
            "text/plain": [
              "2"
            ]
          },
          "metadata": {
            "tags": []
          },
          "execution_count": 119
        }
      ]
    },
    {
      "cell_type": "markdown",
      "metadata": {
        "id": "gzLT7v6k-LPw",
        "colab_type": "text"
      },
      "source": [
        "# RF Model train and save"
      ]
    },
    {
      "cell_type": "code",
      "metadata": {
        "id": "akWlUlnE-zR1",
        "colab_type": "code",
        "colab": {}
      },
      "source": [
        "import pandas as pd"
      ],
      "execution_count": null,
      "outputs": []
    },
    {
      "cell_type": "code",
      "metadata": {
        "id": "fsmbH4gi-08p",
        "colab_type": "code",
        "colab": {}
      },
      "source": [
        "usecols = [\"latitude\", \"longitude\", \"median_house_value\"]\n",
        "trainDf = pd.read_csv(\"/content/sample_data/california_housing_train.csv\", usecols=usecols)\n",
        "testDf = pd.read_csv(\"/content/sample_data/california_housing_test.csv\", usecols=usecols)"
      ],
      "execution_count": null,
      "outputs": []
    },
    {
      "cell_type": "code",
      "metadata": {
        "id": "ETJn7q5p_Xm5",
        "colab_type": "code",
        "colab": {}
      },
      "source": [
        "trainDf, y = trainDf.iloc[:,:-1], trainDf[\"median_house_value\"]\n",
        "testDf, trueLabel = testDf.iloc[:,:-1], testDf[\"median_house_value\"]\n",
        "testDf.to_csv(\"californiaTestSmall.csv\", index=False)"
      ],
      "execution_count": null,
      "outputs": []
    },
    {
      "cell_type": "code",
      "metadata": {
        "id": "kbnnhEDlBWmD",
        "colab_type": "code",
        "colab": {}
      },
      "source": [
        "trueLabelDf = pd.DataFrame({\"trueLabel\": trueLabel})\n",
        "trueLabelDf.to_csv(\"trueLabel.csv\", index=False)"
      ],
      "execution_count": null,
      "outputs": []
    },
    {
      "cell_type": "code",
      "metadata": {
        "id": "n-pQGeM0-2xJ",
        "colab_type": "code",
        "colab": {}
      },
      "source": [
        "from sklearn.ensemble import RandomForestRegressor"
      ],
      "execution_count": null,
      "outputs": []
    },
    {
      "cell_type": "code",
      "metadata": {
        "id": "e6uu76RAAgAJ",
        "colab_type": "code",
        "colab": {
          "base_uri": "https://localhost:8080/",
          "height": 35
        },
        "outputId": "98f168ec-f8e6-494e-ee09-b33f742fe992"
      },
      "source": [
        "rf = RandomForestRegressor(n_estimators=10, n_jobs=-1, max_leaf_nodes=3)\n",
        "rf.fit(trainDf, y)\n",
        "rf.score(trainDf, y)"
      ],
      "execution_count": null,
      "outputs": [
        {
          "output_type": "execute_result",
          "data": {
            "text/plain": [
              "0.1444195689156078"
            ]
          },
          "metadata": {
            "tags": []
          },
          "execution_count": 47
        }
      ]
    },
    {
      "cell_type": "code",
      "metadata": {
        "id": "tuGyuF_KDAvz",
        "colab_type": "code",
        "colab": {}
      },
      "source": [
        "import pickle"
      ],
      "execution_count": null,
      "outputs": []
    },
    {
      "cell_type": "code",
      "metadata": {
        "id": "fbt4g3_rC7VV",
        "colab_type": "code",
        "colab": {}
      },
      "source": [
        "# Saving\n",
        "file_name = \"rfModelSmall.pkl\"\n",
        "with open(file_name,'wb') as file:\n",
        "    pickle.dump(rf, file)"
      ],
      "execution_count": null,
      "outputs": []
    },
    {
      "cell_type": "code",
      "metadata": {
        "id": "QykkCStGDNP2",
        "colab_type": "code",
        "colab": {}
      },
      "source": [
        "# Loading\n",
        "file_name = \"/content/rfModelSmall.pkl\"\n",
        "with open(file_name,'rb') as file:\n",
        "    rf = pickle.load(file)"
      ],
      "execution_count": null,
      "outputs": []
    },
    {
      "cell_type": "code",
      "metadata": {
        "id": "DH9TwHUhBCKv",
        "colab_type": "code",
        "colab": {}
      },
      "source": [
        "predLabel = rf.predict(testDf)"
      ],
      "execution_count": null,
      "outputs": []
    },
    {
      "cell_type": "code",
      "metadata": {
        "id": "tI7rjOnjBJc5",
        "colab_type": "code",
        "colab": {}
      },
      "source": [
        "predLabelDf = pd.DataFrame({\"predLabel\": predLabel})\n",
        "predLabelDf.to_csv(\"predLabel.csv\", index=False)"
      ],
      "execution_count": null,
      "outputs": []
    },
    {
      "cell_type": "markdown",
      "metadata": {
        "id": "3J-hhSIk9CsA",
        "colab_type": "text"
      },
      "source": [
        "# XGboost model save and load"
      ]
    },
    {
      "cell_type": "code",
      "metadata": {
        "id": "Z5nK2ofT9C7r",
        "colab_type": "code",
        "colab": {}
      },
      "source": [
        "import pandas as pd"
      ],
      "execution_count": null,
      "outputs": []
    },
    {
      "cell_type": "code",
      "metadata": {
        "id": "JFoze6yZ9LJD",
        "colab_type": "code",
        "colab": {}
      },
      "source": [
        "trainDf = pd.read_csv(\"/content/sample_data/california_housing_train.csv\")\n",
        "testDf = pd.read_csv(\"/content/sample_data/california_housing_test.csv\")"
      ],
      "execution_count": null,
      "outputs": []
    },
    {
      "cell_type": "code",
      "metadata": {
        "id": "SKEIB-ez9NfR",
        "colab_type": "code",
        "colab": {}
      },
      "source": [
        "trainDf, y = trainDf.iloc[:,:-1], trainDf[\"median_house_value\"]\n",
        "testDf, trueLabel = testDf.iloc[:,:-1], testDf[\"median_house_value\"]"
      ],
      "execution_count": null,
      "outputs": []
    },
    {
      "cell_type": "code",
      "metadata": {
        "id": "SZw2x0YI-hGh",
        "colab_type": "code",
        "colab": {}
      },
      "source": [
        "# First XGBoost model for Pima Indians dataset\n",
        "from numpy import loadtxt\n",
        "import xgboost as xgb\n",
        "from sklearn.model_selection import train_test_split\n",
        "from sklearn.metrics import accuracy_score"
      ],
      "execution_count": null,
      "outputs": []
    },
    {
      "cell_type": "code",
      "metadata": {
        "id": "JvDsrTAN-UHM",
        "colab_type": "code",
        "colab": {
          "base_uri": "https://localhost:8080/",
          "height": 164
        },
        "outputId": "853bed2e-42a8-4fa1-87ee-0fb1d8a87684"
      },
      "source": [
        "# fit model to training data\n",
        "model = xgb.XGBRegressor()\n",
        "model.fit(trainDf, y)"
      ],
      "execution_count": null,
      "outputs": [
        {
          "output_type": "stream",
          "text": [
            "[06:26:55] WARNING: /workspace/src/objective/regression_obj.cu:152: reg:linear is now deprecated in favor of reg:squarederror.\n"
          ],
          "name": "stdout"
        },
        {
          "output_type": "execute_result",
          "data": {
            "text/plain": [
              "XGBRegressor(base_score=0.5, booster='gbtree', colsample_bylevel=1,\n",
              "             colsample_bynode=1, colsample_bytree=1, gamma=0,\n",
              "             importance_type='gain', learning_rate=0.1, max_delta_step=0,\n",
              "             max_depth=3, min_child_weight=1, missing=None, n_estimators=100,\n",
              "             n_jobs=1, nthread=None, objective='reg:linear', random_state=0,\n",
              "             reg_alpha=0, reg_lambda=1, scale_pos_weight=1, seed=None,\n",
              "             silent=None, subsample=1, verbosity=1)"
            ]
          },
          "metadata": {
            "tags": []
          },
          "execution_count": 8
        }
      ]
    },
    {
      "cell_type": "code",
      "metadata": {
        "id": "VAXqOMWX_H5M",
        "colab_type": "code",
        "colab": {}
      },
      "source": [
        "# make predictions for test data\n",
        "y_pred = model.predict(testDf)\n",
        "predictions = [round(value) for value in y_pred]"
      ],
      "execution_count": null,
      "outputs": []
    },
    {
      "cell_type": "code",
      "metadata": {
        "id": "TQmv-TCIFN_X",
        "colab_type": "code",
        "colab": {}
      },
      "source": [
        "# Saving\n",
        "file_name = \"XGmodel.pkl\"\n",
        "with open(file_name,'wb') as file:\n",
        "    pickle.dump(model, file)"
      ],
      "execution_count": null,
      "outputs": []
    },
    {
      "cell_type": "code",
      "metadata": {
        "id": "5-m44--IFsuW",
        "colab_type": "code",
        "colab": {
          "base_uri": "https://localhost:8080/",
          "height": 35
        },
        "outputId": "31ed6836-cdef-4b1f-9717-ee1207d98779"
      },
      "source": [
        "# Loading\n",
        "file_name = \"/content/XGmodel.pkl\"\n",
        "with open(file_name,'rb') as file:\n",
        "    xgModel = pickle.load(file)"
      ],
      "execution_count": null,
      "outputs": [
        {
          "output_type": "stream",
          "text": [
            "[06:32:24] WARNING: /workspace/src/objective/regression_obj.cu:152: reg:linear is now deprecated in favor of reg:squarederror.\n"
          ],
          "name": "stdout"
        }
      ]
    },
    {
      "cell_type": "code",
      "metadata": {
        "id": "ylPQN9BCF29W",
        "colab_type": "code",
        "colab": {}
      },
      "source": [
        "y_pred1 = xgModel.predict(testDf)"
      ],
      "execution_count": null,
      "outputs": []
    },
    {
      "cell_type": "code",
      "metadata": {
        "id": "hSrrqqvhGBs0",
        "colab_type": "code",
        "colab": {
          "base_uri": "https://localhost:8080/",
          "height": 72
        },
        "outputId": "10885882-b9aa-4816-c70d-fc27220fcc60"
      },
      "source": [
        "y_pred1[:10]"
      ],
      "execution_count": null,
      "outputs": [
        {
          "output_type": "execute_result",
          "data": {
            "text/plain": [
              "array([395949.44 , 196950.73 , 259746.02 , 351924.06 ,  87262.36 ,\n",
              "        57096.895,  74031.97 , 161311.95 , 207144.78 , 156257.3  ],\n",
              "      dtype=float32)"
            ]
          },
          "metadata": {
            "tags": []
          },
          "execution_count": 26
        }
      ]
    },
    {
      "cell_type": "markdown",
      "metadata": {
        "id": "aooN1RSXDAB7",
        "colab_type": "text"
      },
      "source": [
        "# Multiple outputs model"
      ]
    },
    {
      "cell_type": "code",
      "metadata": {
        "id": "2LCJ8HN7DCUZ",
        "colab_type": "code",
        "colab": {}
      },
      "source": [
        "import pandas as pd\n",
        "from sklearn.linear_model import LinearRegression"
      ],
      "execution_count": 1,
      "outputs": []
    },
    {
      "cell_type": "code",
      "metadata": {
        "id": "Rg553xTJDSfO",
        "colab_type": "code",
        "colab": {}
      },
      "source": [
        "df = pd.read_csv(\"/content/sample_data/california_housing_train.csv\")\n",
        "yTrain = df[[\"latitude\", \"longitude\"]]\n",
        "xTrain = df.drop(columns=[\"latitude\", \"longitude\"])\n",
        "\n",
        "testDf = pd.read_csv(\"/content/sample_data/california_housing_test.csv\")\n",
        "yTest = testDf[[\"latitude\", \"longitude\"]]\n",
        "xTest = testDf.drop(columns=[\"latitude\", \"longitude\"])"
      ],
      "execution_count": 3,
      "outputs": []
    },
    {
      "cell_type": "code",
      "metadata": {
        "id": "95uhatN4KJ-f",
        "colab_type": "code",
        "colab": {}
      },
      "source": [
        "xTest.to_csv(\"californiaMultiOutTest.csv\", index=False)\n",
        "xTest[:30].to_csv(\"californiaMultiOutTestSmall.csv\", index=False)\n",
        "\n",
        "# Both label and feature in same dataset\n",
        "testDf[:30].to_csv(\"californiaTest30Rows.csv\", index=False)"
      ],
      "execution_count": 4,
      "outputs": []
    },
    {
      "cell_type": "code",
      "metadata": {
        "id": "kxibG-i-Sk9E",
        "colab_type": "code",
        "colab": {}
      },
      "source": [
        "pd.DataFrame({\"yTrue\":yTest.values.tolist()}).to_csv(\"/content/californiaMultiOutYtrue.csv\", index=False)\n",
        "pd.DataFrame({\"yTrue\":yTest[:30].values.tolist()}).to_csv(\"/content/californiaMultiOutYtrueSmall.csv\", index=False)"
      ],
      "execution_count": 5,
      "outputs": []
    },
    {
      "cell_type": "code",
      "metadata": {
        "id": "-VRqn_L8Ss1v",
        "colab_type": "code",
        "colab": {
          "base_uri": "https://localhost:8080/",
          "height": 424
        },
        "outputId": "a6d60c2e-46e8-4683-b4da-50fa03e34753"
      },
      "source": [
        "yTrain"
      ],
      "execution_count": 6,
      "outputs": [
        {
          "output_type": "execute_result",
          "data": {
            "text/html": [
              "<div>\n",
              "<style scoped>\n",
              "    .dataframe tbody tr th:only-of-type {\n",
              "        vertical-align: middle;\n",
              "    }\n",
              "\n",
              "    .dataframe tbody tr th {\n",
              "        vertical-align: top;\n",
              "    }\n",
              "\n",
              "    .dataframe thead th {\n",
              "        text-align: right;\n",
              "    }\n",
              "</style>\n",
              "<table border=\"1\" class=\"dataframe\">\n",
              "  <thead>\n",
              "    <tr style=\"text-align: right;\">\n",
              "      <th></th>\n",
              "      <th>latitude</th>\n",
              "      <th>longitude</th>\n",
              "    </tr>\n",
              "  </thead>\n",
              "  <tbody>\n",
              "    <tr>\n",
              "      <th>0</th>\n",
              "      <td>34.19</td>\n",
              "      <td>-114.31</td>\n",
              "    </tr>\n",
              "    <tr>\n",
              "      <th>1</th>\n",
              "      <td>34.40</td>\n",
              "      <td>-114.47</td>\n",
              "    </tr>\n",
              "    <tr>\n",
              "      <th>2</th>\n",
              "      <td>33.69</td>\n",
              "      <td>-114.56</td>\n",
              "    </tr>\n",
              "    <tr>\n",
              "      <th>3</th>\n",
              "      <td>33.64</td>\n",
              "      <td>-114.57</td>\n",
              "    </tr>\n",
              "    <tr>\n",
              "      <th>4</th>\n",
              "      <td>33.57</td>\n",
              "      <td>-114.57</td>\n",
              "    </tr>\n",
              "    <tr>\n",
              "      <th>...</th>\n",
              "      <td>...</td>\n",
              "      <td>...</td>\n",
              "    </tr>\n",
              "    <tr>\n",
              "      <th>16995</th>\n",
              "      <td>40.58</td>\n",
              "      <td>-124.26</td>\n",
              "    </tr>\n",
              "    <tr>\n",
              "      <th>16996</th>\n",
              "      <td>40.69</td>\n",
              "      <td>-124.27</td>\n",
              "    </tr>\n",
              "    <tr>\n",
              "      <th>16997</th>\n",
              "      <td>41.84</td>\n",
              "      <td>-124.30</td>\n",
              "    </tr>\n",
              "    <tr>\n",
              "      <th>16998</th>\n",
              "      <td>41.80</td>\n",
              "      <td>-124.30</td>\n",
              "    </tr>\n",
              "    <tr>\n",
              "      <th>16999</th>\n",
              "      <td>40.54</td>\n",
              "      <td>-124.35</td>\n",
              "    </tr>\n",
              "  </tbody>\n",
              "</table>\n",
              "<p>17000 rows × 2 columns</p>\n",
              "</div>"
            ],
            "text/plain": [
              "       latitude  longitude\n",
              "0         34.19    -114.31\n",
              "1         34.40    -114.47\n",
              "2         33.69    -114.56\n",
              "3         33.64    -114.57\n",
              "4         33.57    -114.57\n",
              "...         ...        ...\n",
              "16995     40.58    -124.26\n",
              "16996     40.69    -124.27\n",
              "16997     41.84    -124.30\n",
              "16998     41.80    -124.30\n",
              "16999     40.54    -124.35\n",
              "\n",
              "[17000 rows x 2 columns]"
            ]
          },
          "metadata": {
            "tags": []
          },
          "execution_count": 6
        }
      ]
    },
    {
      "cell_type": "code",
      "metadata": {
        "id": "3UxxnUQOEgp1",
        "colab_type": "code",
        "colab": {
          "base_uri": "https://localhost:8080/",
          "height": 35
        },
        "outputId": "51acc80f-7005-4dbc-9637-42c3a62aea78"
      },
      "source": [
        "lr = LinearRegression()\n",
        "lr.fit(xTrain, yTrain)"
      ],
      "execution_count": 7,
      "outputs": [
        {
          "output_type": "execute_result",
          "data": {
            "text/plain": [
              "LinearRegression(copy_X=True, fit_intercept=True, n_jobs=None, normalize=False)"
            ]
          },
          "metadata": {
            "tags": []
          },
          "execution_count": 7
        }
      ]
    },
    {
      "cell_type": "code",
      "metadata": {
        "id": "mbKUZ-QxJv2u",
        "colab_type": "code",
        "colab": {}
      },
      "source": [
        "import pickle\n",
        "with open(\"lineaRegressionMultioutput.pkl\", \"wb\") as file:\n",
        "    pickle.dump(lr, file)"
      ],
      "execution_count": null,
      "outputs": []
    },
    {
      "cell_type": "code",
      "metadata": {
        "id": "VftAlOfMEhOH",
        "colab_type": "code",
        "colab": {
          "base_uri": "https://localhost:8080/",
          "height": 146
        },
        "outputId": "1629c951-ef64-442e-ed6a-0c4230819383"
      },
      "source": [
        "lr.predict(xTest)"
      ],
      "execution_count": 8,
      "outputs": [
        {
          "output_type": "execute_result",
          "data": {
            "text/plain": [
              "array([[  35.41496797, -119.6721932 ],\n",
              "       [  35.90735654, -119.82154291],\n",
              "       [  35.78055216, -119.77261024],\n",
              "       ...,\n",
              "       [  36.14340394, -119.39793537],\n",
              "       [  36.08218334, -119.88959535],\n",
              "       [  34.71595584, -119.76658066]])"
            ]
          },
          "metadata": {
            "tags": []
          },
          "execution_count": 8
        }
      ]
    },
    {
      "cell_type": "code",
      "metadata": {
        "id": "09jKdWCoEhox",
        "colab_type": "code",
        "colab": {}
      },
      "source": [
        ""
      ],
      "execution_count": null,
      "outputs": []
    },
    {
      "cell_type": "markdown",
      "metadata": {
        "id": "hTiwwG93HKcR",
        "colab_type": "text"
      },
      "source": [
        "# Model load part plus whole code modular\n"
      ]
    },
    {
      "cell_type": "code",
      "metadata": {
        "id": "G7sJ9B9dCT0e",
        "colab_type": "code",
        "colab": {}
      },
      "source": [
        "import ast\n",
        "import sys\n",
        "import pickle\n",
        "import numpy as np\n",
        "import pandas as pd\n",
        "\n",
        "import seaborn as sns\n",
        "import matplotlib.pyplot as plt\n",
        "plt.rcParams[\"figure.figsize\"] = (12,8)\n",
        "\n",
        "from sklearn.metrics import explained_variance_score\n",
        "from sklearn.metrics import max_error\n",
        "from sklearn.metrics import mean_absolute_error\n",
        "from sklearn.metrics import mean_squared_error\n",
        "from sklearn.metrics import mean_squared_log_error\n",
        "from sklearn.metrics import median_absolute_error\n",
        "from sklearn.metrics import r2_score\n",
        "\n",
        "\n",
        "class RegressionScore:\n",
        "  def __init__(self, ytrue, ypred, metric='explained_variance_score', sample_weight=None, multioutput='uniform_average'):\n",
        "    self.ytrue = ytrue\n",
        "    self.ypred = ypred\n",
        "    self.metric = metric\n",
        "    self.sample_weight = sample_weight\n",
        "    self.multioutput = multioutput\n",
        "\n",
        "  def explained_variance_score(self):\n",
        "    return explained_variance_score(self.ytrue, self.ypred, self.sample_weight, self.multioutput) \n",
        "\n",
        "  def max_error(self):\n",
        "    return max_error(self.ytrue, self.ypred)\n",
        "\n",
        "  def mean_absolute_error(self):\n",
        "    return mean_absolute_error(self.ytrue, self.ypred, self.sample_weight, self.multioutput)\n",
        "  \n",
        "  def mean_squared_error(self):\n",
        "    return mean_squared_error(self.ytrue, self.ypred, self.sample_weight, self.multioutput)\n",
        "\n",
        "  def mean_squared_log_error(self):\n",
        "    return mean_squared_log_error(self.ytrue, self.ypred, self.sample_weight, self.multioutput)\n",
        "  \n",
        "  def median_absolute_error(self):\n",
        "    return median_absolute_error(self.ytrue, self.ypred)\n",
        "\n",
        "  def r2_score(self):\n",
        "    return r2_score(self.ytrue, self.ypred, self.sample_weight, self.multioutput)\n",
        "\n",
        "  def evaluate_score(self):\n",
        "    if self.metric == \"explained_variance_score\":\n",
        "      return self.explained_variance_score()\n",
        "    \n",
        "    elif self.metric == \"max_error\":\n",
        "      return self.max_error()\n",
        "\n",
        "    elif self.metric == \"mean_absolute_error\":\n",
        "      return self.mean_absolute_error()\n",
        "    \n",
        "    elif self.metric == \"mean_squared_error\":\n",
        "      return self.mean_squared_error()\n",
        "\n",
        "    elif self.metric == \"mean_squared_log_error\":\n",
        "      return self.mean_squared_log_error()\n",
        "    \n",
        "    elif self.metric == \"median_absolute_error\":\n",
        "      return self.median_absolute_error()\n",
        "\n",
        "    elif self.metric == \"r2_score\":\n",
        "      return self.r2_score()\n",
        "\n",
        "\n",
        "# This function will return yTrue and yPred after reading the files\n",
        "# and generating predictions using pickled model\n",
        "def loadModel(pklFilePath, dataPath, trueLabel, columnNames, flag):\n",
        "    \n",
        "    with open(pklFilePath,'rb') as file:\n",
        "        model = pickle.load(file)\n",
        "\n",
        "    if columnNames == \"None\":\n",
        "        testDf = pd.read_csv(dataPath)\n",
        "    else:\n",
        "        testDf = pd.read_csv(dataPath, usecols=columnNames)\n",
        "\n",
        "    if flag == \"Yes\": # trueLabel == \"Name of a columns in dataPath\"\n",
        "        yTrueSeries = testDf[trueLabel]\n",
        "        testDf.drop(columns=trueLabel, inplace=True)\n",
        "        arr0 = yTrueSeries.values\n",
        "    \n",
        "    else: # trueLabel == \"path of ytrue.csv\"\n",
        "        yTrueDf = pd.read_csv(trueLabel)\n",
        "        arr0 = yTrueDf.iloc[:,0].to_numpy()\n",
        "    \n",
        "    if arr0.dtype == \"object\":  \n",
        "        yTrue = []             \n",
        "        for l in arr0:\n",
        "            yTrue.append(ast.literal_eval(l))\n",
        "        yTrue = np.array(yTrue)\n",
        "    else:\n",
        "        yTrue = arr0\n",
        "\n",
        "    yPred = model.predict(testDf)\n",
        "\n",
        "    # when yTrue.shape == (N, 1) and yPred.shape == (N, )\n",
        "    if yTrue.shape != yPred.shape:\n",
        "        yTrue = yTrue.reshape(yTrue.shape[0], )\n",
        "\n",
        "    return yPred, yTrue\n",
        "\n",
        "\n",
        "def plot(pred, dimension, outputFolder, residuals, plotName=\"residualPlot\", xlabel=\"Predictions\"):\n",
        "    plt.figure()\n",
        "    if dimension == 0:\n",
        "        plt.scatter(pred, residuals)\n",
        "    else:\n",
        "        plt.scatter(pred[:,dimension], residuals[:,dimension])\n",
        "    plt.ylabel(\"Residuals\")\n",
        "    plt.xlabel(xlabel)\n",
        "    plt.title(\"Prediction Residual plot\")\n",
        "    plt.savefig(f\"{outputFolder}{plotName}.png\")\n",
        "    plt.close() \n",
        "\n",
        "\n",
        "# This function will loop through the available possile metrics\n",
        "# and generate those mteric scores for yTrue and yPred\n",
        "def generateMetrics(yTrue, yPred, sample_weight, multioutput):\n",
        "\n",
        "    if multioutput == \"variance_weighted\":\n",
        "        multipleOutputMetrics = ['explained_variance_score', 'r2_score']\n",
        "    else:\n",
        "        multipleOutputMetrics = ['explained_variance_score', 'mean_absolute_error', \n",
        "           'mean_squared_error', 'median_absolute_error', 'r2_score', 'mean_squared_log_error']\n",
        "\n",
        "    errorMetrics = {}\n",
        "\n",
        "    if yTrue.ndim == 1:\n",
        "        metric = \"max_error\"\n",
        "        rs = RegressionScore(yTrue, yPred, metric=metric)\n",
        "        errorMetrics[metric] = np.round(rs.evaluate_score(), 2)\n",
        "\n",
        "        for metric in multipleOutputMetrics:\n",
        "            try:\n",
        "                rs = RegressionScore(yTrue, yPred, metric=metric, sample_weight=sample_weight, multioutput=multioutput)\n",
        "                errorMetrics[metric] = np.round(rs.evaluate_score(), 2)\n",
        "            except Exception as e:\n",
        "                print(e)\n",
        "                pass\n",
        "            \n",
        "    elif yTrue.ndim > 1:\n",
        "        for metric in multipleOutputMetrics:\n",
        "            try:\n",
        "                rs = RegressionScore(yTrue, yPred, metric=metric, sample_weight=sample_weight, multioutput=multioutput)\n",
        "                errorMetrics[metric] = np.round(rs.evaluate_score(), 2)\n",
        "            except Exception as e:\n",
        "                pass\n",
        "\n",
        "    return errorMetrics\n",
        "\n",
        "\n",
        "if __name__ == \"__main__\":\n",
        "\n",
        "    flag = sys.argv[1]  # \"Yes\" or \"No\"\n",
        "    trueLabel = sys.argv[2]  # trueLabel == \"Name of a columns in dataPath\" if flag==\"Yes\" else \"path of ytrue.csv\"\n",
        "    dataPath = sys.argv[3]\n",
        "    sample_weight = sys.argv[4]\n",
        "    multioutput = sys.argv[5]\n",
        "    outputFolder = sys.argv[6]\n",
        "    pklFilePath = sys.argv[7]\n",
        "    columnNames = sys.argv[8]\n",
        "\n",
        "    if not outputFolder.endswith(\"/\"):\n",
        "        outputFolder += \"/\"\n",
        "\n",
        "    try:\n",
        "        if sample_weight == \"None\":\n",
        "            sample_weight = None\n",
        "        elif type(sample_weight) == str:\n",
        "            sample_weight = ast.literal_eval(sample_weight)\n",
        "    except Exception as e:\n",
        "        print(f\"Following error occured in sample_weight conversion: {e}. Setting it to None (default)\")\n",
        "        sample_weight = None\n",
        "\n",
        "    if flag == \"Yes\":\n",
        "        trueLabel = ast.literal_eval(trueLabel)\n",
        "\n",
        "    if columnNames != \"None\" and type(columnNames) == str:\n",
        "        columnNames = ast.literal_eval(columnNames)\n",
        "        columnNames.extend(trueLabel)if flag == \"Yes\" else \"do nothing\"\n",
        "        \n",
        "    yPred, yTrue = loadModel(pklFilePath, dataPath, trueLabel, columnNames, flag)\n",
        "\n",
        "    res = generateMetrics(yTrue, yPred, sample_weight, multioutput)\n",
        "    print(res)\n",
        "\n",
        "    # Plotting\n",
        "    residuals = yTrue - yPred\n",
        "\n",
        "    try:\n",
        "        residualsDim = len(residuals[0])\n",
        "    except Exception as e:\n",
        "        residualsDim = 1\n",
        "\n",
        "    if residualsDim == 1:\n",
        "        plot(yPred, 0, outputFolder, residuals)\n",
        "\n",
        "    elif residualsDim in (2,3):\n",
        "        for i in range(residualsDim):\n",
        "            plotName = f\"residualPlot_dimesion{i}\"\n",
        "            xlabel = f\"Predictions_dimesion{i}\"\n",
        "            plot(yPred, i, outputFolder, residuals, plotName=plotName, xlabel=xlabel)"
      ],
      "execution_count": null,
      "outputs": []
    },
    {
      "cell_type": "code",
      "metadata": {
        "id": "BRht4nelHGb0",
        "colab_type": "code",
        "colab": {}
      },
      "source": [
        "# def main(flag, trueLabel, dataPath, sample_weight, multioutput, outputFolder, pklFilePath, columnNames):\n",
        "# main(\"No\", \"/content/californiaMultiOutYtrue.csv\", \"/content/californiaMultiOutTest.csv\", \"None\", \"uniform_average\", \"out1/\", \"/content/lineaRegressionMultioutput.pkl\", \"None\")"
      ],
      "execution_count": null,
      "outputs": []
    },
    {
      "cell_type": "markdown",
      "metadata": {
        "id": "pZX3be0G37cF",
        "colab_type": "text"
      },
      "source": [
        "# Individuals"
      ]
    },
    {
      "cell_type": "code",
      "metadata": {
        "id": "xEl-IioPRZz0",
        "colab_type": "code",
        "colab": {
          "base_uri": "https://localhost:8080/",
          "height": 109
        },
        "outputId": "a7bc95e4-6dd3-484c-d135-9cbedb074231"
      },
      "source": [
        "''' Explained variance score'''\n",
        "'''explained_variance_score(y_true, y_pred, *, sample_weight=None, multioutput='uniform_average')'''\n",
        "\n",
        "# If the multioutput==variance_weighted then variance will be considered as weight\n",
        "\n",
        "rs = RegressionScore(y_trueSingle, y_predSingle, metric='explained_variance_score')\n",
        "print(rs.evaluate_score())\n",
        "\n",
        "rs = RegressionScore(y_trueMulti, y_predMulti, metric='explained_variance_score')\n",
        "print(rs.evaluate_score())\n",
        "\n",
        "rs = RegressionScore(y_trueMulti, y_predMulti, metric='explained_variance_score',  multioutput='raw_values')\n",
        "print(rs.evaluate_score())\n",
        "\n",
        "rs = RegressionScore(y_trueMulti, y_predMulti, metric='explained_variance_score',  multioutput=[0.3, 0.7])\n",
        "print(rs.evaluate_score())\n",
        "\n",
        "rs = RegressionScore(y_trueMulti, y_predMulti, metric='explained_variance_score',  multioutput=\"variance_weighted\")\n",
        "print(rs.evaluate_score())"
      ],
      "execution_count": null,
      "outputs": [
        {
          "output_type": "stream",
          "text": [
            "0.9571734475374732\n",
            "0.9838709677419355\n",
            "[0.96774194 1.        ]\n",
            "0.9903225806451612\n",
            "0.9830508474576269\n"
          ],
          "name": "stdout"
        }
      ]
    },
    {
      "cell_type": "code",
      "metadata": {
        "id": "tlm0xLYKae_5",
        "colab_type": "code",
        "colab": {
          "base_uri": "https://localhost:8080/",
          "height": 35
        },
        "outputId": "72f11ab3-6f0b-4096-ed42-f82a16e03591"
      },
      "source": [
        "'''Max error'''\n",
        "'''max_error(y_true, y_pred)'''\n",
        "\n",
        "# The max_error function computes the maximum residual error , a metric that captures the worst case error between the \n",
        "# predicted value and the true value. In a perfectly fitted single output regression model, max_error would be 0 on the \n",
        "# training set and though this would be highly unlikely in the real world, this metric shows the extent of error that the model had when it was fitted.\n",
        "\n",
        "rs = RegressionScore(y_trueSingle, y_predSingle, metric='max_error')\n",
        "print(rs.evaluate_score())"
      ],
      "execution_count": null,
      "outputs": [
        {
          "output_type": "stream",
          "text": [
            "1.0\n"
          ],
          "name": "stdout"
        }
      ]
    },
    {
      "cell_type": "code",
      "metadata": {
        "id": "pWzbQJKYdMJ-",
        "colab_type": "code",
        "colab": {
          "base_uri": "https://localhost:8080/",
          "height": 90
        },
        "outputId": "21a28b28-e2ef-44fa-c77e-c2fc0be2f04e"
      },
      "source": [
        "'''Mean Absolute Error'''\n",
        "'''mean_absolute_error(y_true, y_pred, *, sample_weight=None, multioutput='uniform_average')'''\n",
        "\n",
        "# The mean_absolute_error function computes mean absolute error, a risk metric corresponding to \n",
        "# the expected value of the absolute error loss or -norm loss.\n",
        "\n",
        "rs = RegressionScore(y_trueSingle, y_predSingle, metric='mean_absolute_error')\n",
        "print(rs.evaluate_score())\n",
        "\n",
        "rs = RegressionScore(y_trueMulti, y_predMulti, metric='mean_absolute_error')\n",
        "print(rs.evaluate_score())\n",
        "\n",
        "rs = RegressionScore(y_trueMulti, y_predMulti, metric='mean_absolute_error',  multioutput='raw_values')\n",
        "print(rs.evaluate_score())\n",
        "\n",
        "rs = RegressionScore(y_trueMulti, y_predMulti, metric='mean_absolute_error',  multioutput=[0.3, 0.7])\n",
        "print(rs.evaluate_score())"
      ],
      "execution_count": null,
      "outputs": [
        {
          "output_type": "stream",
          "text": [
            "0.5\n",
            "0.75\n",
            "[0.5 1. ]\n",
            "0.85\n"
          ],
          "name": "stdout"
        }
      ]
    },
    {
      "cell_type": "code",
      "metadata": {
        "id": "vwWfyiqteE0E",
        "colab_type": "code",
        "colab": {
          "base_uri": "https://localhost:8080/",
          "height": 90
        },
        "outputId": "3a24fd4e-bc65-4726-e21a-1f869f4c6fd4"
      },
      "source": [
        "'''Mean squared error'''\n",
        "'''mean_squared_error(y_true, y_pred, *, sample_weight=None, multioutput='uniform_average', squared=True)'''\n",
        "\n",
        "# The mean_squared_error function computes mean square error, a risk metric \n",
        "# corresponding to the expected value of the squared (quadratic) error or loss.\n",
        "\n",
        "rs = RegressionScore(y_trueSingle, y_predSingle, metric='mean_squared_error')\n",
        "print(rs.evaluate_score())\n",
        "\n",
        "rs = RegressionScore(y_trueMulti, y_predMulti, metric='mean_squared_error')\n",
        "print(rs.evaluate_score())\n",
        "\n",
        "rs = RegressionScore(y_trueMulti, y_predMulti, metric='mean_squared_error',  multioutput='raw_values')\n",
        "print(rs.evaluate_score())\n",
        "\n",
        "rs = RegressionScore(y_trueMulti, y_predMulti, metric='mean_squared_error',  multioutput=[0.3, 0.7])\n",
        "print(rs.evaluate_score())"
      ],
      "execution_count": null,
      "outputs": [
        {
          "output_type": "stream",
          "text": [
            "0.375\n",
            "0.7083333333333334\n",
            "[0.41666667 1.        ]\n",
            "0.825\n"
          ],
          "name": "stdout"
        }
      ]
    },
    {
      "cell_type": "code",
      "metadata": {
        "id": "fb0gjSPqevOZ",
        "colab_type": "code",
        "colab": {
          "base_uri": "https://localhost:8080/",
          "height": 90
        },
        "outputId": "73b5f6c0-12f5-4cac-99e3-6dde65497771"
      },
      "source": [
        "'''Mean squared logarithmic error'''\n",
        "'''mean_squared_log_error(y_true, y_pred, *, sample_weight=None, multioutput='uniform_average')'''\n",
        "\n",
        "# The mean_squared_log_error function computes a risk metric corresponding to the expected value of the squared logarithmic (quadratic) error or loss.\n",
        "# Only for positive outputs\n",
        "\n",
        "rs = RegressionScore(y_trueSingleLog, y_predSingleLog, metric='mean_squared_log_error')\n",
        "print(rs.evaluate_score())\n",
        "\n",
        "rs = RegressionScore(y_trueMultiLog, y_predMultiLog, metric='mean_squared_log_error')\n",
        "print(rs.evaluate_score())\n",
        "\n",
        "rs = RegressionScore(y_trueMultiLog, y_predMultiLog, metric='mean_squared_log_error',  multioutput='raw_values')\n",
        "print(rs.evaluate_score())\n",
        "\n",
        "rs = RegressionScore(y_trueMultiLog, y_predMultiLog, metric='mean_squared_log_error',  multioutput=[0.3, 0.7])\n",
        "print(rs.evaluate_score())"
      ],
      "execution_count": null,
      "outputs": [
        {
          "output_type": "stream",
          "text": [
            "0.03973012298459379\n",
            "0.044199361889160516\n",
            "[0.00462428 0.08377444]\n",
            "0.06002939417970032\n"
          ],
          "name": "stdout"
        }
      ]
    },
    {
      "cell_type": "code",
      "metadata": {
        "id": "vgC-iKiafbcn",
        "colab_type": "code",
        "colab": {
          "base_uri": "https://localhost:8080/",
          "height": 90
        },
        "outputId": "90820968-d42f-453f-cc27-ed44739e7d56"
      },
      "source": [
        "'''Median absolute error'''\n",
        "'''median_absolute_error(y_true, y_pred, *, multioutput='uniform_average')'''\n",
        "\n",
        "# The median_absolute_error is particularly interesting because it is robust to outliers. \n",
        "# The loss is calculated by taking the median of all absolute differences between the target and the prediction.\n",
        "# Median absolute error output is non-negative floating point. The best value is 0.0\n",
        "\n",
        "\n",
        "rs = RegressionScore(y_trueSingle, y_predSingle, metric='median_absolute_error')\n",
        "print(rs.evaluate_score())\n",
        "\n",
        "rs = RegressionScore(y_trueMulti, y_predMulti, metric='median_absolute_error')\n",
        "print(rs.evaluate_score())\n",
        "\n",
        "rs = RegressionScore(y_trueMulti, y_predMulti, metric='median_absolute_error',  multioutput='raw_values')\n",
        "print(rs.evaluate_score())\n",
        "\n",
        "rs = RegressionScore(y_trueMulti, y_predMulti, metric='median_absolute_error',  multioutput=[0.3, 0.7])\n",
        "print(rs.evaluate_score())"
      ],
      "execution_count": null,
      "outputs": [
        {
          "output_type": "stream",
          "text": [
            "0.5\n",
            "0.75\n",
            "0.75\n",
            "0.75\n"
          ],
          "name": "stdout"
        }
      ]
    },
    {
      "cell_type": "code",
      "metadata": {
        "id": "tVWt4k__gB-v",
        "colab_type": "code",
        "colab": {
          "base_uri": "https://localhost:8080/",
          "height": 109
        },
        "outputId": "e6827a0a-c17d-4df3-df93-3569310d872c"
      },
      "source": [
        "'''R² score, the coefficient of determination'''\n",
        "'''r2_score(y_true, y_pred, *, sample_weight=None, multioutput='uniform_average')'''\n",
        "\n",
        "# The r2_score function computes the coefficient of determination, usually denoted as R².\n",
        "# It represents the proportion of variance (of y) that has been explained by the independent \n",
        "# variables in the model. It provides an indication of goodness of fit and therefore a measure \n",
        "# of how well unseen samples are likely to be predicted by the model, through the proportion of explained variance.\n",
        "\n",
        "# As such variance is dataset dependent, R² may not be meaningfully comparable across different datasets. \n",
        "# Best possible score is 1.0 and it can be negative (because the model can be arbitrarily worse). \n",
        "# A constant model that always predicts the expected value of y, disregarding the input features, would get a R² score of 0.0.\n",
        "\n",
        "rs = RegressionScore(y_trueSingle, y_predSingle, metric='r2_score')\n",
        "print(rs.evaluate_score())\n",
        "\n",
        "rs = RegressionScore(y_trueMulti, y_predMulti, metric='r2_score')\n",
        "print(rs.evaluate_score())\n",
        "\n",
        "rs = RegressionScore(y_trueMulti, y_predMulti, metric='r2_score',  multioutput='raw_values')\n",
        "print(rs.evaluate_score())\n",
        "\n",
        "rs = RegressionScore(y_trueMulti, y_predMulti, metric='r2_score',  multioutput=[0.3, 0.7])\n",
        "print(rs.evaluate_score())\n",
        "\n",
        "rs = RegressionScore(y_trueMulti, y_predMulti, metric='r2_score',  multioutput=\"variance_weighted\")\n",
        "print(rs.evaluate_score())"
      ],
      "execution_count": null,
      "outputs": [
        {
          "output_type": "stream",
          "text": [
            "0.9486081370449679\n",
            "0.9368005266622779\n",
            "[0.96543779 0.90816327]\n",
            "0.9253456221198156\n",
            "0.9382566585956417\n"
          ],
          "name": "stdout"
        }
      ]
    }
  ]
}