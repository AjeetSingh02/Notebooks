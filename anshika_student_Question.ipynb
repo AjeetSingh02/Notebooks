{
  "nbformat": 4,
  "nbformat_minor": 0,
  "metadata": {
    "colab": {
      "name": "Atul_student_Question_v1.ipynb",
      "provenance": [],
      "collapsed_sections": [],
      "authorship_tag": "ABX9TyPPjNNqOWpWV1DceC4NkS7k",
      "include_colab_link": true
    },
    "kernelspec": {
      "name": "python3",
      "display_name": "Python 3"
    }
  },
  "cells": [
    {
      "cell_type": "markdown",
      "metadata": {
        "id": "view-in-github",
        "colab_type": "text"
      },
      "source": [
        "<a href=\"https://colab.research.google.com/github/AjeetSingh02/Notebooks/blob/master/anshika_student_Question.ipynb\" target=\"_parent\"><img src=\"https://colab.research.google.com/assets/colab-badge.svg\" alt=\"Open In Colab\"/></a>"
      ]
    },
    {
      "cell_type": "code",
      "metadata": {
        "id": "cCOP_kS3sK-x",
        "colab_type": "code",
        "colab": {}
      },
      "source": [
        "import re\n",
        "import numpy as np\n",
        "import pandas as pd\n",
        "\n",
        "def process(student_file_path, template_path, output_folder_path):\n",
        "\n",
        "    if not output_folder_path.endswith(\"/\"):\n",
        "        output_folder_path += \"/\"\n",
        "\n",
        "    with open(student_file_path, \"r\") as f:\n",
        "        lines = f.readlines()\n",
        "\n",
        "    with open(template_path, \"r\") as f:\n",
        "        template = f.readline()\n",
        "\n",
        "    temp = []\n",
        "    for line in lines:\n",
        "        sp = line.split(\",\")\n",
        "        temp.append(sp)\n",
        "\n",
        "    df = pd.DataFrame(temp, columns=[\"ID\", \"Name\", \"Subject\", \"Marks\"])\n",
        "\n",
        "    for stu_id in df.ID.unique():\n",
        "        indx = np.where(df.ID == stu_id)\n",
        "        stu_list, total_marks = [], 0\n",
        "        stu_name = df.Name[indx[0][0]].strip()\n",
        "\n",
        "        for i in indx[0]:\n",
        "            marks = df.Marks[i].strip()\n",
        "            stu_dict = {\"rollno\": stu_id, \"StudName\": stu_name, \"subject\": df.Subject[i], \"marks\": marks}\n",
        "            flag = 0\n",
        "\n",
        "            for key in stu_dict:\n",
        "                if flag == 0:\n",
        "                    stu_string = re.sub(f\"<{key}>\", stu_dict[f\"{key}\"], template, count=1, flags=re.IGNORECASE)\n",
        "                    flag = 1\n",
        "                else:\n",
        "                    stu_string = re.sub(f\"<{key}>\", stu_dict[f\"{key}\"], stu_string, count=1, flags=re.IGNORECASE)\n",
        "                    \n",
        "            stu_list.append(stu_string)\n",
        "            total_marks += int(marks)\n",
        "\n",
        "        with open(f\"{output_folder_path}{stu_name}.{stu_id}.txt\", \"w\") as fw:\n",
        "            for stu_dict in stu_list:\n",
        "                fw.write(str(stu_dict))\n",
        "                fw.write(\"\\n\")\n",
        "            fw.write(f\"Total: {total_marks}\")"
      ],
      "execution_count": 0,
      "outputs": []
    },
    {
      "cell_type": "code",
      "metadata": {
        "id": "QHWvD2u9tJGQ",
        "colab_type": "code",
        "colab": {}
      },
      "source": [
        "student_file_path = \"student.txt\"\n",
        "template_path = \"template2.txt\"\n",
        "output_folder_path = \"out/\"\n",
        "\n",
        "process(student_file_path, template_path, output_folder_path)"
      ],
      "execution_count": 0,
      "outputs": []
    }
  ]
}