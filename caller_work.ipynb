{
 "cells": [
  {
   "cell_type": "code",
   "execution_count": 2,
   "metadata": {},
   "outputs": [],
   "source": [
    "import pandas as pd\n",
    "from sys import argv\n",
    "\n",
    "from plots_v import plots\n",
    "from auto_eda_v import save_json\n",
    "\n",
    "if __name__ == '__main__':\n",
    "    input_file, output_folder, yaml_file  = argv[1:4]\n",
    "    outlier_limit = None\n",
    "    unique_class_limit = 35\n",
    "\n",
    "    if len(argv) > 4:\n",
    "        try:\n",
    "            outlier_limit = float(argv[4])\n",
    "        except ValueError:\n",
    "            print(\"Note: Wrong value for outlier limit. Set to default: None\")\n",
    "        \n",
    "        try:\n",
    "            unique_class_limit = float(argv[5])\n",
    "        except IndexError:\n",
    "            pass\n",
    "        except ValueError:\n",
    "            print(\"Note: Wrong value for unique_class_limit. Set to default: 35\")\n",
    "        \n",
    "    if not output_folder.endswith(\"/\"):\n",
    "        output_folder += \"/\"\n",
    "\n",
    "    df = pd.read_csv(input_file)\n",
    "    \n",
    "    for col in df.columns:\n",
    "        if df[col].dtype == 'object':\n",
    "            try:\n",
    "                df[col] = pd.to_datetime(df[col])\n",
    "            except ValueError:\n",
    "                pass\n",
    "\n",
    "    \n",
    "    file_name = input_file[input_file.rindex(\"/\")+1:input_file.rindex(\".\")]\n",
    "\n",
    "    option = \"1\"\n",
    "    if option == \"1\":\n",
    "        save_json(df, output_folder, yaml_file, file_name)\t\n",
    "        plots(df, output_folder, outlier_limit, unique_class_limit)"
   ]
  },
  {
   "cell_type": "code",
   "execution_count": 4,
   "metadata": {},
   "outputs": [],
   "source": [
    "import yaml\n",
    "import simplejson\n",
    "import numpy as np\n",
    "import pandas as pd\n",
    "import pandas_profiling\n",
    "\n",
    "import seaborn as sns\n",
    "import matplotlib.pyplot as plt\n",
    "plt.switch_backend('agg')\n",
    "\n",
    "def caller(input_file, output_folder, yaml_file, whis=None, unique_class_limit=35):\n",
    "    if not output_folder.endswith(\"/\"):\n",
    "        output_folder += \"/\"\n",
    "        \n",
    "    df = pd.read_csv(input_file)\n",
    "    \n",
    "    file_name = input_file[input_file.rindex(\"/\")+1:input_file.rindex(\".\")]\n",
    "    \n",
    "    #Extracting information from DataFrame using pandas-profiling\n",
    "    save_json(df, output_folder, yaml_file, file_name)\n",
    "    \n",
    "    #making boxplots of all non-categorical and non-binary columns of DataFrame\n",
    "    plots(df, output_folder, whis, unique_class_limit)"
   ]
  }
 ],
 "metadata": {
  "kernelspec": {
   "display_name": "Python 3",
   "language": "python",
   "name": "python3"
  },
  "language_info": {
   "codemirror_mode": {
    "name": "ipython",
    "version": 3
   },
   "file_extension": ".py",
   "mimetype": "text/x-python",
   "name": "python",
   "nbconvert_exporter": "python",
   "pygments_lexer": "ipython3",
   "version": "3.7.1"
  }
 },
 "nbformat": 4,
 "nbformat_minor": 2
}
