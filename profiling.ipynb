{
  "nbformat": 4,
  "nbformat_minor": 0,
  "metadata": {
    "colab": {
      "name": "profiling.ipynb",
      "provenance": [],
      "collapsed_sections": [],
      "include_colab_link": true
    },
    "kernelspec": {
      "name": "python3",
      "display_name": "Python 3"
    },
    "accelerator": "TPU"
  },
  "cells": [
    {
      "cell_type": "markdown",
      "metadata": {
        "id": "view-in-github",
        "colab_type": "text"
      },
      "source": [
        "<a href=\"https://colab.research.google.com/github/AjeetSingh02/Notebooks/blob/master/profiling.ipynb\" target=\"_parent\"><img src=\"https://colab.research.google.com/assets/colab-badge.svg\" alt=\"Open In Colab\"/></a>"
      ]
    },
    {
      "cell_type": "code",
      "metadata": {
        "id": "et8o5_QZ90fd",
        "colab_type": "code",
        "colab": {}
      },
      "source": [
        "pip install 'pandas_profiling==2.3.0'"
      ],
      "execution_count": 0,
      "outputs": []
    },
    {
      "cell_type": "markdown",
      "metadata": {
        "id": "ARsKe8pRRCTh",
        "colab_type": "text"
      },
      "source": [
        "https://stackoverflow.com/questions/1773805/how-can-i-parse-a-yaml-file-in-python\n",
        "\n",
        "https://stackoverflow.com/questions/12470665/how-can-i-write-data-in-yaml-format-in-a-file\n"
      ]
    },
    {
      "cell_type": "code",
      "metadata": {
        "id": "Up2Y5tBFxu00",
        "colab_type": "code",
        "colab": {}
      },
      "source": [
        "#Variable.S_TYPE_CORR\n",
        "#it means that this variable is highly correlated with some variable\n",
        "\n",
        "#the name of the variable is given by \"correlation_var\"\n",
        "#and the correlation is given by \"correlation\""
      ],
      "execution_count": 0,
      "outputs": []
    },
    {
      "cell_type": "code",
      "metadata": {
        "id": "NHkzZej25ssV",
        "colab_type": "code",
        "colab": {}
      },
      "source": [
        "import pandas_profiling\n",
        "import pandas as pd\n",
        "import numpy as np\n",
        "import json\n",
        "import yaml\n",
        "\n",
        "#function to convert np.int64 into integer\n",
        "def convert(o):\n",
        "    if isinstance(o, np.int64): \n",
        "      return int(o) \n",
        "    elif isinstance(o, np.bool_):\n",
        "      if o == True:\n",
        "        return True\n",
        "      return False\n",
        "\n",
        "def save_json(csv_file, output_file_path, yaml_file):\n",
        "  df = pd.read_csv(csv_file)\n",
        "  profile = pandas_profiling.ProfileReport(df)\n",
        "\n",
        "  parent_dict = profile.get_description()\n",
        "\n",
        "  data = {}\n",
        "  data[\"General Information\"] = parent_dict[\"table\"]\n",
        "  variables = parent_dict[\"variables\"]\n",
        "\n",
        "  with open(yaml_file, 'r') as stream:\n",
        "    try:\n",
        "        possible_keys = yaml.safe_load(stream)\n",
        "    except yaml.YAMLError as exc:\n",
        "        return f\"following error occured while loading yaml file: {exc}\"\n",
        "\n",
        "  data[\"variables\"] = {}\n",
        "  data[\"variables\"][\"header\"] = possible_keys\n",
        "\n",
        "\n",
        "  data[\"freq\"] = {}\n",
        "  data[\"freq\"][\"value_counts_with_nan\"] = {}\n",
        "  data[\"freq\"][\"value_counts_without_nan\"] = {}\n",
        "\n",
        "  #For info of each variable\n",
        "  for variable, dict_ in variables.items():\n",
        "    temp_list = []\n",
        "    for key in possible_keys:\n",
        "      if key in dict_:\n",
        "        if key == \"type\":\n",
        "          temp_list.append(dict_[key].value)\n",
        "        else:  \n",
        "          temp_list.append(dict_[key])\n",
        "      else:\n",
        "        temp_list.append(\"None\")\n",
        "    data[\"variables\"][variable] = temp_list\n",
        "\n",
        "\n",
        "  #for frequency\n",
        "  with_nan = dict_[\"value_counts_with_nan\"]  \n",
        "  without_nan = dict_[\"value_counts_without_nan\"]\n",
        "\n",
        "  data[\"freq\"][\"value_counts_with_nan\"][variable] = [list(with_nan.index), list(with_nan.values)]\n",
        "  data[\"freq\"][\"value_counts_without_nan\"][variable] = [list(without_nan.index), list(without_nan.values)]\n",
        "\n",
        "\n",
        "  correlations = parent_dict[\"correlations\"]\n",
        "\n",
        "  data[\"correlations\"] = {}\n",
        "\n",
        "  for corr, df_ in correlations.items():\n",
        "    data[\"correlations\"][corr] = [list(df.index), [list(val) for val in df_.values]]\n",
        "\n",
        "\n",
        "  #Saving at output_path\n",
        "  with open(f\"{output_file_path}output.json\", \"w\") as write_file:\n",
        "      json.dump(data, write_file, default=convert)  "
      ],
      "execution_count": 0,
      "outputs": []
    },
    {
      "cell_type": "code",
      "metadata": {
        "id": "MVJyx07i7wp5",
        "colab_type": "code",
        "colab": {}
      },
      "source": [
        "csv_file = \"/content/train.csv\"\n",
        "output_file_path = \"\"\n",
        "yaml_file = \"data.yml\"\n",
        "save_json(csv_file, output_file_path, yaml_file)"
      ],
      "execution_count": 0,
      "outputs": []
    },
    {
      "cell_type": "code",
      "metadata": {
        "id": "i9wc1WaOOpet",
        "colab_type": "code",
        "colab": {}
      },
      "source": [
        "possible_keys = ['distinct_count_with_nan', 'distinct_count_without_nan', 'type', 'count', 'distinct_count', 'p_missing', 'n_missing', 'p_infinite', 'n_infinite', \n",
        "            'is_unique', 'mode', 'p_unique', 'memorysize', 'top', 'freq', 'max_length', 'mean_length', 'min_length', 'composition', 'date_warning', 'varname', \n",
        "            'varid', 'row_classes', 'mean', 'std', 'variance', 'min', 'max', 'kurtosis', 'skewness', 'sum', 'mad', 'n_zeros', 'range', \n",
        "            '5%', '25%', '50%', '75%', '95%', 'iqr', 'cv', 'p_zeros', 'correlation_var', 'correlation']\n",
        "\n",
        "with open('data.yml', 'w') as outfile:\n",
        "    yaml.dump(possible_keys, outfile, default_flow_style=False)"
      ],
      "execution_count": 0,
      "outputs": []
    }
  ]
}