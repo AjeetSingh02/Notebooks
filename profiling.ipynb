{
  "nbformat": 4,
  "nbformat_minor": 0,
  "metadata": {
    "colab": {
      "name": "profiling.ipynb",
      "provenance": [],
      "collapsed_sections": [],
      "include_colab_link": true
    },
    "kernelspec": {
      "name": "python3",
      "display_name": "Python 3"
    },
    "accelerator": "TPU"
  },
  "cells": [
    {
      "cell_type": "markdown",
      "metadata": {
        "id": "view-in-github",
        "colab_type": "text"
      },
      "source": [
        "<a href=\"https://colab.research.google.com/github/AjeetSingh02/Notebooks/blob/master/profiling.ipynb\" target=\"_parent\"><img src=\"https://colab.research.google.com/assets/colab-badge.svg\" alt=\"Open In Colab\"/></a>"
      ]
    },
    {
      "cell_type": "code",
      "metadata": {
        "id": "et8o5_QZ90fd",
        "colab_type": "code",
        "colab": {}
      },
      "source": [
        "%%capture\n",
        "!pip install pandas_profiling==2.3.0"
      ],
      "execution_count": 0,
      "outputs": []
    },
    {
      "cell_type": "code",
      "metadata": {
        "id": "rB9B-uYB97hu",
        "colab_type": "code",
        "outputId": "b9001329-a999-490e-ae56-056302dd3e2b",
        "colab": {
          "base_uri": "https://localhost:8080/",
          "height": 102
        }
      },
      "source": [
        "import pandas as pd\n",
        "import time\n",
        "import pandas_profiling\n",
        "\n",
        "df = pd.read_csv(\"/content/sample_data/california_housing_train.csv\")\n",
        "\n",
        "start = time.time()\n",
        "\n",
        "profile = pandas_profiling.ProfileReport(df)\n",
        "parent_dict = profile.get_description()\n",
        "\n",
        "end = time.time()\n",
        "print(end - start)\n",
        "\n",
        "print(parent_dict.keys())\n",
        "print(len(parent_dict[\"table\"].keys()))\n",
        "print(parent_dict[\"correlations\"].keys())\n",
        "print(len(parent_dict[\"variables\"][\"households\"]))"
      ],
      "execution_count": 0,
      "outputs": [
        {
          "output_type": "stream",
          "text": [
            "31.455469608306885\n",
            "dict_keys(['table', 'variables', 'correlations', 'missing', 'messages'])\n",
            "22\n",
            "dict_keys(['pearson', 'spearman', 'kendall', 'phi_k'])\n",
            "47\n"
          ],
          "name": "stdout"
        }
      ]
    },
    {
      "cell_type": "code",
      "metadata": {
        "id": "8GR6VoSt-nEl",
        "colab_type": "code",
        "outputId": "01a8260d-e295-4c38-edfe-8822c66f19cf",
        "colab": {
          "base_uri": "https://localhost:8080/",
          "height": 54
        }
      },
      "source": [
        "parent_dict['variables'][\"households\"].keys()"
      ],
      "execution_count": 0,
      "outputs": [
        {
          "output_type": "execute_result",
          "data": {
            "text/plain": [
              "dict_keys(['value_counts_with_nan', 'value_counts_without_nan', 'distinct_count_with_nan', 'distinct_count_without_nan', 'type', 'count', 'distinct_count', 'p_missing', 'n_missing', 'p_infinite', 'n_infinite', 'is_unique', 'mode', 'p_unique', 'memorysize', 'mean', 'std', 'variance', 'min', 'max', 'kurtosis', 'skewness', 'sum', 'mad', 'n_zeros', 'histogramdata', 'range', '5%', '25%', '50%', '75%', '95%', 'iqr', 'cv', 'p_zeros', 'histogram_bins', 'histogram_bins_bayesian_blocks', 'varname', 'varid', 'row_classes', 'histogram', 'mini_histogram', 'histogram_bayesian_blocks', 'freqtable', 'firstn_expanded', 'lastn_expanded', 'sections'])"
            ]
          },
          "metadata": {
            "tags": []
          },
          "execution_count": 10
        }
      ]
    },
    {
      "cell_type": "code",
      "metadata": {
        "id": "WlHWTEUggJdV",
        "colab_type": "code",
        "outputId": "6c9d9706-5254-4026-d428-345e8e0ca91a",
        "colab": {
          "base_uri": "https://localhost:8080/",
          "height": 207
        }
      },
      "source": [
        "!pip install simplejson"
      ],
      "execution_count": 0,
      "outputs": [
        {
          "output_type": "stream",
          "text": [
            "Collecting simplejson\n",
            "\u001b[?25l  Downloading https://files.pythonhosted.org/packages/e3/24/c35fb1c1c315fc0fffe61ea00d3f88e85469004713dab488dee4f35b0aff/simplejson-3.16.0.tar.gz (81kB)\n",
            "\r\u001b[K     |████                            | 10kB 17.1MB/s eta 0:00:01\r\u001b[K     |████████                        | 20kB 2.2MB/s eta 0:00:01\r\u001b[K     |████████████                    | 30kB 3.1MB/s eta 0:00:01\r\u001b[K     |████████████████▏               | 40kB 2.1MB/s eta 0:00:01\r\u001b[K     |████████████████████▏           | 51kB 2.6MB/s eta 0:00:01\r\u001b[K     |████████████████████████▏       | 61kB 3.1MB/s eta 0:00:01\r\u001b[K     |████████████████████████████▎   | 71kB 3.5MB/s eta 0:00:01\r\u001b[K     |████████████████████████████████| 81kB 2.9MB/s \n",
            "\u001b[?25hBuilding wheels for collected packages: simplejson\n",
            "  Building wheel for simplejson (setup.py) ... \u001b[?25l\u001b[?25hdone\n",
            "  Created wheel for simplejson: filename=simplejson-3.16.0-cp36-cp36m-linux_x86_64.whl size=114021 sha256=13caf7847ac53a63af1f7bb2828ba333a06cb16f23aa1d58ba21d33e4dfd6c45\n",
            "  Stored in directory: /root/.cache/pip/wheels/5d/1a/1e/0350bb3df3e74215cd91325344cc86c2c691f5306eb4d22c77\n",
            "Successfully built simplejson\n",
            "Installing collected packages: simplejson\n",
            "Successfully installed simplejson-3.16.0\n"
          ],
          "name": "stdout"
        }
      ]
    },
    {
      "cell_type": "code",
      "metadata": {
        "id": "Jy5XqehijeH3",
        "colab_type": "code",
        "colab": {}
      },
      "source": [
        "# !pip show pandas_profiling"
      ],
      "execution_count": 0,
      "outputs": []
    },
    {
      "cell_type": "markdown",
      "metadata": {
        "id": "ARsKe8pRRCTh",
        "colab_type": "text"
      },
      "source": [
        "https://stackoverflow.com/questions/1773805/how-can-i-parse-a-yaml-file-in-python\n",
        "\n",
        "https://stackoverflow.com/questions/12470665/how-can-i-write-data-in-yaml-format-in-a-file\n"
      ]
    },
    {
      "cell_type": "code",
      "metadata": {
        "id": "5bZd_qu9gBgK",
        "colab_type": "code",
        "outputId": "08bc15c2-8bbf-472a-d6e4-6d9ed9f8fbfa",
        "colab": {
          "base_uri": "https://localhost:8080/",
          "height": 187
        }
      },
      "source": [
        "!pip show pandas_profiling"
      ],
      "execution_count": 0,
      "outputs": [
        {
          "output_type": "stream",
          "text": [
            "Name: pandas-profiling\n",
            "Version: 2.3.0\n",
            "Summary: Generate profile report for pandas DataFrame\n",
            "Home-page: https://github.com/pandas-profiling/pandas-profiling\n",
            "Author: Jos Polfliet, Simon Brugman\n",
            "Author-email: pandasprofiling@gmail.com\n",
            "License: MIT\n",
            "Location: /usr/local/lib/python3.6/dist-packages\n",
            "Requires: astropy, jinja2, phik, pandas, htmlmin, missingno, confuse, matplotlib\n",
            "Required-by: \n"
          ],
          "name": "stdout"
        }
      ]
    },
    {
      "cell_type": "code",
      "metadata": {
        "id": "Up2Y5tBFxu00",
        "colab_type": "code",
        "colab": {}
      },
      "source": [
        "#Variable.S_TYPE_CORR\n",
        "#it means that this variable is highly correlated with some variable\n",
        "\n",
        "#the name of the variable is given by \"correlation_var\"\n",
        "#and the correlation is given by \"correlation\""
      ],
      "execution_count": 0,
      "outputs": []
    },
    {
      "cell_type": "code",
      "metadata": {
        "id": "NHkzZej25ssV",
        "colab_type": "code",
        "colab": {}
      },
      "source": [
        "import pandas_profiling\n",
        "import pandas as pd\n",
        "import numpy as np\n",
        "import simplejson\n",
        "import yaml\n",
        "\n",
        "#function to convert np.int64 into integer\n",
        "def convert(o):\n",
        "    if isinstance(o, np.int64): \n",
        "        return int(o) \n",
        "    elif isinstance(o, np.bool_):\n",
        "        if o == True:\n",
        "            return True\n",
        "        return False\n",
        "\n",
        "def save_json(csv_file, output_file_path, yaml_file):\n",
        "\n",
        "    df = pd.read_csv(csv_file)\n",
        "    profile = pandas_profiling.ProfileReport(df)\n",
        "\n",
        "    parent_dict = profile.get_description()\n",
        "\n",
        "    data = {}\n",
        "    data[\"overview\"] = parent_dict[\"table\"]\n",
        "    variables = parent_dict[\"variables\"]\n",
        "\n",
        "    with open(yaml_file, 'r') as stream:\n",
        "        try:\n",
        "            possible_keys = yaml.safe_load(stream)\n",
        "        except yaml.YAMLError as exc:\n",
        "            return f\"following error occured while loading yaml file: {exc}\"\n",
        "\n",
        "    data[\"variables general info\"] = {}\n",
        "    data[\"variables general info\"][\"header\"] = possible_keys\n",
        "\n",
        "\n",
        "    data[\"variables frequency info\"] = {}\n",
        "    data[\"variables frequency info\"][\"value_counts_with_nan\"] = {}\n",
        "    data[\"variables frequency info\"][\"value_counts_without_nan\"] = {}\n",
        "\n",
        "    #For info of each variable\n",
        "    for variable, dict_ in variables.items():\n",
        "        temp_list = []\n",
        "        for key in possible_keys:\n",
        "            if key in dict_:\n",
        "                if key == \"type\":\n",
        "                    temp_list.append(dict_[key].value)\n",
        "                else:  \n",
        "                    temp_list.append(dict_[key])\n",
        "            else:\n",
        "                temp_list.append(\"None\")\n",
        "        data[\"variables general info\"][variable] = temp_list\n",
        "\n",
        "        #for frequency\n",
        "        with_nan = dict_[\"value_counts_with_nan\"]  \n",
        "        without_nan = dict_[\"value_counts_without_nan\"]\n",
        "\n",
        "        data[\"variables frequency info\"][\"value_counts_with_nan\"][variable] = [list(with_nan.index), list(with_nan.values)]\n",
        "        data[\"variables frequency info\"][\"value_counts_without_nan\"][variable] = [list(without_nan.index), list(without_nan.values)]\n",
        "\n",
        "    try:\n",
        "        correlations = parent_dict[\"correlations\"]\n",
        "\n",
        "        data[\"correlations\"] = {}\n",
        "\n",
        "        for corr, df_ in correlations.items():\n",
        "            df_.fillna(\"NAN\", inplace=True)\n",
        "            data[\"correlations\"][corr] = [list(df_.index), [list(val) for val in df_.values]]\n",
        "            \n",
        "    except:\n",
        "        print(\"No correlation generated\")\n",
        "\n",
        "    #Saving at output_path\n",
        "    with open(f\"{output_file_path}output.json\", \"w\") as write_file:\n",
        "        simplejson.dump(data, write_file, default=convert, ignore_nan=True)  \n",
        "    \n",
        "    return data"
      ],
      "execution_count": 0,
      "outputs": []
    },
    {
      "cell_type": "code",
      "metadata": {
        "id": "MVJyx07i7wp5",
        "colab_type": "code",
        "colab": {}
      },
      "source": [
        "csv_file = \"/content/saa.csv\"\n",
        "output_file_path = \"\"\n",
        "yaml_file = \"/content/possible_keys.yml\"\n",
        "data = save_json(csv_file, output_file_path, yaml_file)"
      ],
      "execution_count": 0,
      "outputs": []
    },
    {
      "cell_type": "code",
      "metadata": {
        "id": "pUQBoOaUE6DK",
        "colab_type": "code",
        "outputId": "a70bce12-6287-4dc2-dd1a-d2a18690ff7d",
        "colab": {
          "base_uri": "https://localhost:8080/",
          "height": 1000
        }
      },
      "source": [
        "data"
      ],
      "execution_count": 0,
      "outputs": [
        {
          "output_type": "execute_result",
          "data": {
            "text/plain": [
              "{'correlations': {'cramers': [['col4', 'col5'], [[1.0, 'NAN'], ['NAN', 1.0]]],\n",
              "  'kendall': [['col1', 'col2', 'col3', 'col4'],\n",
              "   [[1.0, 0.11870742829929376, 0.262431940540739, 'NAN'],\n",
              "    [0.11870742829929376, 1.0, -0.17568209223157663, 'NAN'],\n",
              "    [0.262431940540739, -0.17568209223157663, 1.0, 'NAN'],\n",
              "    ['NAN', 'NAN', 'NAN', 1.0]]],\n",
              "  'pearson': [['col1', 'col2', 'col3', 'col4'],\n",
              "   [[1.0, 0.20802806985681668, 0.240004285829085, 'NAN'],\n",
              "    [0.20802806985681668, 1.0, -0.3270052645568849, 'NAN'],\n",
              "    [0.240004285829085, -0.3270052645568849, 1.0, 'NAN'],\n",
              "    ['NAN', 'NAN', 'NAN', 'NAN']]],\n",
              "  'phi_k': [['col1', 'col2', 'col3', 'col5'],\n",
              "   [[1.0, 0.7061917956172633, 0.0, 1.0],\n",
              "    [0.7061917956172633, 1.0, 0.7953682920810697, 1.0],\n",
              "    [0.0, 0.7953682920810697, 1.0, 1.0],\n",
              "    [1.0, 1.0, 1.0, 1.0]]],\n",
              "  'recoded': [['col4', 'col5'], [[1.0, 0.0], [0.0, 1.0]]],\n",
              "  'spearman': [['col1', 'col2', 'col3', 'col4'],\n",
              "   [[1.0, 0.0905895853426587, 0.3060730460762072, 'NAN'],\n",
              "    [0.0905895853426587, 1.0, -0.4210918353994446, 'NAN'],\n",
              "    [0.3060730460762072, -0.4210918353994446, 1.0, 'NAN'],\n",
              "    ['NAN', 'NAN', 'NAN', 'NAN']]]},\n",
              " 'overview': {'BOOL': 0,\n",
              "  'CAT': 2,\n",
              "  'CONST': 0,\n",
              "  'CORR': 0,\n",
              "  'DATE': 0,\n",
              "  'NUM': 3,\n",
              "  'PATH': 0,\n",
              "  'RECODED': 0,\n",
              "  'REJECTED': 0,\n",
              "  'UNIQUE': 0,\n",
              "  'UNSUPPORTED': 0,\n",
              "  'URL': 0,\n",
              "  'memsize': 1280,\n",
              "  'n': 30,\n",
              "  'n_cells_missing': 42,\n",
              "  'n_duplicates': 0,\n",
              "  'n_vars_all_missing': 0,\n",
              "  'n_vars_with_missing': 4,\n",
              "  'nvar': 5,\n",
              "  'p_cells_missing': 0.28,\n",
              "  'p_duplicates': 0.0,\n",
              "  'recordsize': 42.666666666666664},\n",
              " 'variables frequency info': {'value_counts_with_nan': {'col1': [[nan,\n",
              "     0.4,\n",
              "     0.43,\n",
              "     0.37,\n",
              "     0.86,\n",
              "     0.11,\n",
              "     0.09,\n",
              "     0.36,\n",
              "     0.22,\n",
              "     0.24,\n",
              "     0.14,\n",
              "     0.9,\n",
              "     0.44,\n",
              "     0.71,\n",
              "     0.84,\n",
              "     0.23],\n",
              "    [11, 3, 2, 2, 1, 1, 1, 1, 1, 1, 1, 1, 1, 1, 1, 1]],\n",
              "   'col2': [[11.22,\n",
              "     23.22,\n",
              "     2.22,\n",
              "     13.22,\n",
              "     27.22,\n",
              "     12.22,\n",
              "     22.22,\n",
              "     1.22,\n",
              "     5.22,\n",
              "     25.22,\n",
              "     14.22,\n",
              "     21.22,\n",
              "     0.22,\n",
              "     20.22,\n",
              "     15.22,\n",
              "     28.22,\n",
              "     7.22,\n",
              "     18.22,\n",
              "     8.22,\n",
              "     26.22,\n",
              "     16.22,\n",
              "     6.22,\n",
              "     17.22,\n",
              "     9.22,\n",
              "     29.22,\n",
              "     19.22,\n",
              "     10.22,\n",
              "     3.22,\n",
              "     24.22,\n",
              "     4.22],\n",
              "    [1,\n",
              "     1,\n",
              "     1,\n",
              "     1,\n",
              "     1,\n",
              "     1,\n",
              "     1,\n",
              "     1,\n",
              "     1,\n",
              "     1,\n",
              "     1,\n",
              "     1,\n",
              "     1,\n",
              "     1,\n",
              "     1,\n",
              "     1,\n",
              "     1,\n",
              "     1,\n",
              "     1,\n",
              "     1,\n",
              "     1,\n",
              "     1,\n",
              "     1,\n",
              "     1,\n",
              "     1,\n",
              "     1,\n",
              "     1,\n",
              "     1,\n",
              "     1,\n",
              "     1]],\n",
              "   'col3': [[3.0,\n",
              "     2.0,\n",
              "     nan,\n",
              "     16.0,\n",
              "     15.0,\n",
              "     14.0,\n",
              "     13.0,\n",
              "     12.0,\n",
              "     11.0,\n",
              "     10.0,\n",
              "     9.0,\n",
              "     8.0,\n",
              "     7.0,\n",
              "     6.0,\n",
              "     5.0,\n",
              "     4.0],\n",
              "    [6, 6, 5, 1, 1, 1, 1, 1, 1, 1, 1, 1, 1, 1, 1, 1]],\n",
              "   'col4': [[140.0, nan], [22, 8]],\n",
              "   'col5': [[nan,\n",
              "     'hello',\n",
              "     'lello',\n",
              "     'bello',\n",
              "     'mollo',\n",
              "     'tello',\n",
              "     'nolo',\n",
              "     'lollo',\n",
              "     'bollo',\n",
              "     'kollo',\n",
              "     'ollo',\n",
              "     'hollo',\n",
              "     'nello'],\n",
              "    [18, 1, 1, 1, 1, 1, 1, 1, 1, 1, 1, 1, 1]]},\n",
              "  'value_counts_without_nan': {'col1': [[0.4,\n",
              "     0.43,\n",
              "     0.37,\n",
              "     0.86,\n",
              "     0.11,\n",
              "     0.09,\n",
              "     0.36,\n",
              "     0.22,\n",
              "     0.24,\n",
              "     0.14,\n",
              "     0.9,\n",
              "     0.44,\n",
              "     0.71,\n",
              "     0.84,\n",
              "     0.23],\n",
              "    [3, 2, 2, 1, 1, 1, 1, 1, 1, 1, 1, 1, 1, 1, 1]],\n",
              "   'col2': [[11.22,\n",
              "     23.22,\n",
              "     2.22,\n",
              "     13.22,\n",
              "     27.22,\n",
              "     12.22,\n",
              "     22.22,\n",
              "     1.22,\n",
              "     5.22,\n",
              "     25.22,\n",
              "     14.22,\n",
              "     21.22,\n",
              "     0.22,\n",
              "     20.22,\n",
              "     15.22,\n",
              "     28.22,\n",
              "     7.22,\n",
              "     18.22,\n",
              "     8.22,\n",
              "     26.22,\n",
              "     16.22,\n",
              "     6.22,\n",
              "     17.22,\n",
              "     9.22,\n",
              "     29.22,\n",
              "     19.22,\n",
              "     10.22,\n",
              "     3.22,\n",
              "     24.22,\n",
              "     4.22],\n",
              "    [1,\n",
              "     1,\n",
              "     1,\n",
              "     1,\n",
              "     1,\n",
              "     1,\n",
              "     1,\n",
              "     1,\n",
              "     1,\n",
              "     1,\n",
              "     1,\n",
              "     1,\n",
              "     1,\n",
              "     1,\n",
              "     1,\n",
              "     1,\n",
              "     1,\n",
              "     1,\n",
              "     1,\n",
              "     1,\n",
              "     1,\n",
              "     1,\n",
              "     1,\n",
              "     1,\n",
              "     1,\n",
              "     1,\n",
              "     1,\n",
              "     1,\n",
              "     1,\n",
              "     1]],\n",
              "   'col3': [[3.0,\n",
              "     2.0,\n",
              "     16.0,\n",
              "     15.0,\n",
              "     14.0,\n",
              "     13.0,\n",
              "     12.0,\n",
              "     11.0,\n",
              "     10.0,\n",
              "     9.0,\n",
              "     8.0,\n",
              "     7.0,\n",
              "     6.0,\n",
              "     5.0,\n",
              "     4.0],\n",
              "    [6, 6, 1, 1, 1, 1, 1, 1, 1, 1, 1, 1, 1, 1, 1]],\n",
              "   'col4': [[140.0], [22]],\n",
              "   'col5': [['hello',\n",
              "     'lello',\n",
              "     'bello',\n",
              "     'mollo',\n",
              "     'tello',\n",
              "     'nolo',\n",
              "     'lollo',\n",
              "     'bollo',\n",
              "     'kollo',\n",
              "     'ollo',\n",
              "     'hollo',\n",
              "     'nello'],\n",
              "    [1, 1, 1, 1, 1, 1, 1, 1, 1, 1, 1, 1]]}},\n",
              " 'variables general info': {'col1': [16,\n",
              "   15,\n",
              "   'NUM',\n",
              "   19,\n",
              "   16,\n",
              "   0.3666666666666667,\n",
              "   11,\n",
              "   0.0,\n",
              "   0,\n",
              "   False,\n",
              "   0.4,\n",
              "   0.5333333333333333,\n",
              "   320,\n",
              "   'None',\n",
              "   'None',\n",
              "   'None',\n",
              "   'None',\n",
              "   'None',\n",
              "   'None',\n",
              "   'None',\n",
              "   'col1',\n",
              "   9179439388408559118,\n",
              "   {'missing': 'alert'},\n",
              "   0.4178947368421053,\n",
              "   0.24570937999027365,\n",
              "   0.06037309941520468,\n",
              "   0.09,\n",
              "   0.9,\n",
              "   -0.13317721657805137,\n",
              "   0.8047642148367543,\n",
              "   7.940000000000001,\n",
              "   0.17734072022160668,\n",
              "   0,\n",
              "   0.81,\n",
              "   0.108,\n",
              "   0.235,\n",
              "   0.4,\n",
              "   0.435,\n",
              "   0.8639999999999999,\n",
              "   0.2,\n",
              "   0.5879695490951132,\n",
              "   0.0,\n",
              "   'None',\n",
              "   'None'],\n",
              "  'col2': [30,\n",
              "   30,\n",
              "   'NUM',\n",
              "   30,\n",
              "   30,\n",
              "   0.0,\n",
              "   0,\n",
              "   0.0,\n",
              "   0,\n",
              "   True,\n",
              "   0.22,\n",
              "   1.0,\n",
              "   320,\n",
              "   'None',\n",
              "   'None',\n",
              "   'None',\n",
              "   'None',\n",
              "   'None',\n",
              "   'None',\n",
              "   'None',\n",
              "   'col2',\n",
              "   -4472974883280273449,\n",
              "   {},\n",
              "   14.720000000000004,\n",
              "   8.803408430829505,\n",
              "   77.50000000000001,\n",
              "   0.22,\n",
              "   29.22,\n",
              "   -1.200000000000001,\n",
              "   -1.6499001126719346e-15,\n",
              "   441.60000000000014,\n",
              "   7.5,\n",
              "   0,\n",
              "   29.0,\n",
              "   1.6700000000000004,\n",
              "   7.470000000000001,\n",
              "   14.72,\n",
              "   21.97,\n",
              "   27.769999999999996,\n",
              "   14.499999999999998,\n",
              "   0.5980576379639607,\n",
              "   0.0,\n",
              "   'None',\n",
              "   'None'],\n",
              "  'col3': [16,\n",
              "   15,\n",
              "   'NUM',\n",
              "   25,\n",
              "   16,\n",
              "   0.16666666666666663,\n",
              "   5,\n",
              "   0.0,\n",
              "   0,\n",
              "   False,\n",
              "   2.0,\n",
              "   0.5333333333333333,\n",
              "   320,\n",
              "   'None',\n",
              "   'None',\n",
              "   'None',\n",
              "   'None',\n",
              "   'None',\n",
              "   'None',\n",
              "   'None',\n",
              "   'col3',\n",
              "   -7060573227644052988,\n",
              "   {'missing': 'alert'},\n",
              "   6.4,\n",
              "   4.725815626252608,\n",
              "   22.333333333333332,\n",
              "   2.0,\n",
              "   16.0,\n",
              "   -0.846370618736886,\n",
              "   0.7832151310422085,\n",
              "   160.0,\n",
              "   4.080000000000002,\n",
              "   0,\n",
              "   14.0,\n",
              "   2.0,\n",
              "   3.0,\n",
              "   4.0,\n",
              "   10.0,\n",
              "   14.799999999999997,\n",
              "   7.0,\n",
              "   0.73840869160197,\n",
              "   0.0,\n",
              "   'None',\n",
              "   'None'],\n",
              "  'col4': [2,\n",
              "   1,\n",
              "   'CAT',\n",
              "   22,\n",
              "   2,\n",
              "   0.2666666666666667,\n",
              "   8,\n",
              "   0.0,\n",
              "   0,\n",
              "   False,\n",
              "   140.0,\n",
              "   0.06666666666666667,\n",
              "   320,\n",
              "   140.0,\n",
              "   22,\n",
              "   5,\n",
              "   4.466666666666667,\n",
              "   3,\n",
              "   {'chars': True, 'digits': True, 'non-words': True, 'spaces': False},\n",
              "   False,\n",
              "   'col4',\n",
              "   3235347216734565902,\n",
              "   {'missing': 'alert'},\n",
              "   'None',\n",
              "   'None',\n",
              "   'None',\n",
              "   'None',\n",
              "   'None',\n",
              "   'None',\n",
              "   'None',\n",
              "   'None',\n",
              "   'None',\n",
              "   'None',\n",
              "   'None',\n",
              "   'None',\n",
              "   'None',\n",
              "   'None',\n",
              "   'None',\n",
              "   'None',\n",
              "   'None',\n",
              "   'None',\n",
              "   'None',\n",
              "   'None',\n",
              "   'None'],\n",
              "  'col5': [13,\n",
              "   12,\n",
              "   'CAT',\n",
              "   12,\n",
              "   13,\n",
              "   0.6,\n",
              "   18,\n",
              "   0.0,\n",
              "   0,\n",
              "   False,\n",
              "   'hello',\n",
              "   0.43333333333333335,\n",
              "   320,\n",
              "   'hello',\n",
              "   1,\n",
              "   5,\n",
              "   3.7333333333333334,\n",
              "   3,\n",
              "   {'chars': True, 'digits': False, 'non-words': False, 'spaces': False},\n",
              "   False,\n",
              "   'col5',\n",
              "   8382124063748328569,\n",
              "   {'missing': 'alert'},\n",
              "   'None',\n",
              "   'None',\n",
              "   'None',\n",
              "   'None',\n",
              "   'None',\n",
              "   'None',\n",
              "   'None',\n",
              "   'None',\n",
              "   'None',\n",
              "   'None',\n",
              "   'None',\n",
              "   'None',\n",
              "   'None',\n",
              "   'None',\n",
              "   'None',\n",
              "   'None',\n",
              "   'None',\n",
              "   'None',\n",
              "   'None',\n",
              "   'None',\n",
              "   'None'],\n",
              "  'header': ['distinct_count_with_nan',\n",
              "   'distinct_count_without_nan',\n",
              "   'type',\n",
              "   'count',\n",
              "   'distinct_count',\n",
              "   'p_missing',\n",
              "   'n_missing',\n",
              "   'p_infinite',\n",
              "   'n_infinite',\n",
              "   'is_unique',\n",
              "   'mode',\n",
              "   'p_unique',\n",
              "   'memorysize',\n",
              "   'top',\n",
              "   'freq',\n",
              "   'max_length',\n",
              "   'mean_length',\n",
              "   'min_length',\n",
              "   'composition',\n",
              "   'date_warning',\n",
              "   'varname',\n",
              "   'varid',\n",
              "   'row_classes',\n",
              "   'mean',\n",
              "   'std',\n",
              "   'variance',\n",
              "   'min',\n",
              "   'max',\n",
              "   'kurtosis',\n",
              "   'skewness',\n",
              "   'sum',\n",
              "   'mad',\n",
              "   'n_zeros',\n",
              "   'range',\n",
              "   '5%',\n",
              "   '25%',\n",
              "   '50%',\n",
              "   '75%',\n",
              "   '95%',\n",
              "   'iqr',\n",
              "   'cv',\n",
              "   'p_zeros',\n",
              "   'correlation_var',\n",
              "   'correlation']}}"
            ]
          },
          "metadata": {
            "tags": []
          },
          "execution_count": 52
        }
      ]
    },
    {
      "cell_type": "code",
      "metadata": {
        "id": "2lXvJCTeEYtq",
        "colab_type": "code",
        "colab": {}
      },
      "source": [
        ""
      ],
      "execution_count": 0,
      "outputs": []
    },
    {
      "cell_type": "code",
      "metadata": {
        "id": "MMlmMtxREY7A",
        "colab_type": "code",
        "colab": {}
      },
      "source": [
        ""
      ],
      "execution_count": 0,
      "outputs": []
    },
    {
      "cell_type": "code",
      "metadata": {
        "id": "q8TuFl1HEY_Y",
        "colab_type": "code",
        "colab": {}
      },
      "source": [
        ""
      ],
      "execution_count": 0,
      "outputs": []
    },
    {
      "cell_type": "code",
      "metadata": {
        "id": "__ZAUH62EY4o",
        "colab_type": "code",
        "colab": {}
      },
      "source": [
        ""
      ],
      "execution_count": 0,
      "outputs": []
    },
    {
      "cell_type": "code",
      "metadata": {
        "id": "sxMirBVVEYzn",
        "colab_type": "code",
        "colab": {}
      },
      "source": [
        ""
      ],
      "execution_count": 0,
      "outputs": []
    },
    {
      "cell_type": "code",
      "metadata": {
        "id": "i9wc1WaOOpet",
        "colab_type": "code",
        "colab": {}
      },
      "source": [
        "possible_keys = ['distinct_count_with_nan', 'distinct_count_without_nan', 'type', 'count', 'distinct_count', 'p_missing', 'n_missing', 'p_infinite', 'n_infinite', \n",
        "            'is_unique', 'mode', 'p_unique', 'memorysize', 'top', 'freq', 'max_length', 'mean_length', 'min_length', 'composition', 'date_warning', 'varname', \n",
        "            'varid', 'row_classes', 'mean', 'std', 'variance', 'min', 'max', 'kurtosis', 'skewness', 'sum', 'mad', 'n_zeros', 'range', \n",
        "            '5%', '25%', '50%', '75%', '95%', 'iqr', 'cv', 'p_zeros', 'correlation_var', 'correlation']\n",
        "\n",
        "with open('possible_keys.yml', 'w') as outfile:\n",
        "    yaml.dump(possible_keys, outfile, default_flow_style=False)"
      ],
      "execution_count": 0,
      "outputs": []
    },
    {
      "cell_type": "code",
      "metadata": {
        "id": "clcX0CF7Lg80",
        "colab_type": "code",
        "colab": {}
      },
      "source": [
        "import pandas as pd\n",
        "import pandas_profiling"
      ],
      "execution_count": 0,
      "outputs": []
    },
    {
      "cell_type": "code",
      "metadata": {
        "id": "_pqM1QXbNQLR",
        "colab_type": "code",
        "outputId": "7e37656e-87b2-46ad-984e-960cef64db91",
        "colab": {
          "base_uri": "https://localhost:8080/",
          "height": 71
        }
      },
      "source": [
        "d = pd.read_csv(\"/content/test.csv\")"
      ],
      "execution_count": 0,
      "outputs": [
        {
          "output_type": "stream",
          "text": [
            "/usr/local/lib/python3.6/dist-packages/IPython/core/interactiveshell.py:2718: DtypeWarning: Columns (1) have mixed types. Specify dtype option on import or set low_memory=False.\n",
            "  interactivity=interactivity, compiler=compiler, result=result)\n"
          ],
          "name": "stderr"
        }
      ]
    },
    {
      "cell_type": "code",
      "metadata": {
        "id": "HqrmRnLDLhDN",
        "colab_type": "code",
        "outputId": "ab83380b-09d3-45dc-c931-d1292b6fd73a",
        "colab": {
          "base_uri": "https://localhost:8080/",
          "height": 34
        }
      },
      "source": [
        "import time\n",
        "\n",
        "start = time.time()\n",
        "\n",
        "profile = pandas_profiling.ProfileReport(d)\n",
        "\n",
        "parent_dict = profile.get_description()\n",
        "\n",
        "end = time.time()\n",
        "print(end - start)"
      ],
      "execution_count": 0,
      "outputs": [
        {
          "output_type": "stream",
          "text": [
            "380.8393883705139\n"
          ],
          "name": "stdout"
        }
      ]
    },
    {
      "cell_type": "code",
      "metadata": {
        "id": "GRxYNWG_P6yG",
        "colab_type": "code",
        "colab": {}
      },
      "source": [
        "df = pd.read_csv(\"/content/sample_data/california_housing_test.csv\")"
      ],
      "execution_count": 0,
      "outputs": []
    },
    {
      "cell_type": "code",
      "metadata": {
        "id": "EtbsJ5CFP0py",
        "colab_type": "code",
        "colab": {}
      },
      "source": [
        "profile = pandas_profiling.ProfileReport(df)\n",
        "\n",
        "parent_dict = profile.get_description()"
      ],
      "execution_count": 0,
      "outputs": []
    },
    {
      "cell_type": "code",
      "metadata": {
        "id": "P3RSUrEHQu-f",
        "colab_type": "code",
        "colab": {}
      },
      "source": [
        "[list(without_nan.index), list(without_nan.values)]"
      ],
      "execution_count": 0,
      "outputs": []
    },
    {
      "cell_type": "code",
      "metadata": {
        "id": "ZWef-LXISHSn",
        "colab_type": "code",
        "outputId": "1f11b956-812a-4eee-ee17-c2469eaafb8c",
        "colab": {
          "base_uri": "https://localhost:8080/",
          "height": 71
        }
      },
      "source": [
        "print(index)\n",
        "print(values)"
      ],
      "execution_count": 0,
      "outputs": [
        {
          "output_type": "stream",
          "text": [
            "[375.0, 273.0, 614.0, 340.0, 363.0, 429.0, 456.0, 335.0, 239.0, 287.0, 464.0, 301.0, 341.0, 275.0, 366.0, 389.0, 347.0, 279.0, 249.0, 229.0, 499.0, 290.0, 260.0, 228.0, 433.0, 334.0, 267.0, 406.0, 297.0, 278.0, 443.0, 581.0, 352.0, 507.0, 484.0, 577.0, 470.0, 417.0, 284.0, 270.0, 243.0, 497.0, 199.0, 274.0, 331.0, 314.0, 430.0, 221.0, 298.0, 795.0, 219.0, 246.0, 460.0, 396.0, 576.0, 292.0, 446.0, 327.0, 524.0, 504.0, 374.0, 503.0, 338.0, 306.0, 435.0, 593.0, 398.0, 355.0, 266.0, 364.0, 481.0, 242.0, 530.0, 467.0, 342.0, 261.0, 551.0, 447.0, 365.0, 227.0, 362.0, 311.0, 174.0, 288.0, 294.0, 356.0, 391.0, 357.0, 244.0, 367.0, 211.0, 231.0, 236.0, 285.0, 190.0, 472.0, 324.0, 532.0, 557.0, 606.0, 282.0, 394.0, 271.0, 412.0, 277.0, 276.0, 516.0, 251.0, 360.0, 329.0, 450.0, 351.0, 247.0, 215.0, 319.0, 418.0, 369.0, 397.0, 265.0, 318.0, 235.0, 286.0, 563.0, 631.0, 545.0, 377.0, 419.0, 485.0, 269.0, 431.0, 214.0, 252.0, 408.0, 425.0, 445.0, 376.0, 500.0, 136.0, 264.0, 434.0, 226.0, 257.0, 262.0, 316.0, 568.0, 482.0, 773.0, 296.0, 521.0, 9.0, 220.0, 452.0, 173.0, 393.0, 390.0, 354.0, 332.0, 509.0, 414.0, 440.0, 621.0, 184.0, 230.0, 258.0, 350.0, 181.0, 387.0, 468.0, 647.0, 546.0, 505.0, 411.0, 315.0, 492.0, 424.0, 596.0, 176.0, 409.0, 127.0, 317.0, 373.0, 381.0, 552.0, 573.0, 263.0, 386.0, 268.0, 300.0, 253.0, 320.0, 302.0, 217.0, 204.0, 281.0, 303.0, 339.0, 256.0, 511.0, 50.0, 469.0, 402.0, 308.0, 21.0, 459.0, 180.0, 548.0, 291.0, 544.0, 328.0, 550.0, 455.0, 169.0, 528.0, 368.0, 471.0, 293.0, 407.0, 326.0, 919.0, 183.0, 721.0, 841.0, 540.0, 543.0, 761.0, 502.0, 382.0, 194.0, 112.0, 322.0, 233.0, 622.0, 415.0, 218.0, 448.0, 299.0, 474.0, 225.0, 401.0, 280.0, 216.0, 404.0, 441.0, 579.0, 479.0, 679.0, 687.0, 480.0, 323.0, 159.0, 403.0, 309.0, 195.0, 185.0, 197.0, 555.0, 149.0, 371.0, 191.0, 380.0, 234.0, 305.0, 189.0, 422.0, 491.0, 487.0, 94.0, 784.0, 344.0, 437.0, 442.0, 453.0, 477.0, 361.0, 535.0, 372.0, 200.0, 283.0, 321.0, 255.0, 109.0, 850.0, 241.0, 613.0, 436.0, 488.0, 449.0, 160.0, 343.0, 519.0, 333.0, 658.0, 501.0, 295.0, 379.0, 238.0, 475.0, 208.0, 222.0, 171.0, 559.0, 187.0, 625.0, 542.0, 248.0, 395.0, 336.0, 250.0, 254.0, 608.0, 510.0, 901.0, 587.0, 641.0, 201.0, 774.0, 562.0, 514.0, 359.0, 600.0, 638.0, 812.0, 979.0, 597.0, 177.0, 420.0, 518.0, 153.0, 665.0, 178.0, 783.0, 553.0, 486.0, 697.0, 172.0, 561.0, 400.0, 80.0, 642.0, 358.0, 476.0, 439.0, 121.0, 709.0, 888.0, 399.0, 560.0, 272.0, 392.0, 125.0, 744.0, 132.0, 224.0, 522.0, 330.0, 462.0, 165.0, 337.0, 619.0, 154.0, 444.0, 770.0, 598.0, 168.0, 626.0, 383.0, 198.0, 661.0, 188.0, 150.0, 495.0, 731.0, 586.0, 126.0, 623.0, 525.0, 312.0, 789.0, 723.0, 385.0, 161.0, 454.0, 775.0, 489.0, 830.0, 259.0, 14.0, 526.0, 157.0, 427.0, 506.0, 463.0, 498.0, 175.0, 205.0, 139.0, 137.0, 531.0, 346.0, 681.0, 529.0, 565.0, 666.0, 523.0, 834.0, 671.0, 630.0, 566.0, 618.0, 953.0, 659.0, 232.0, 313.0, 653.0, 571.0, 629.0, 423.0, 706.0, 737.0, 410.0, 432.0, 741.0, 660.0, 466.0, 170.0, 575.0, 384.0, 603.0, 378.0, 416.0, 158.0, 578.0, 634.0, 817.0, 601.0, 123.0, 654.0, 1007.0, 119.0, 209.0, 1131.0, 704.0, 457.0, 237.0, 129.0, 307.0, 570.0, 539.0, 945.0, 478.0, 17.0, 648.0, 763.0, 193.0, 213.0, 922.0, 639.0, 726.0, 668.0, 310.0, 1300.0, 210.0, 348.0, 910.0, 700.0, 747.0, 722.0, 428.0, 728.0, 742.0, 702.0, 186.0, 349.0, 133.0, 756.0, 534.0, 835.0, 1374.0, 957.0, 1057.0, 975.0, 583.0, 1250.0, 954.0, 779.0, 695.0, 673.0, 657.0, 589.0, 325.0, 978.0, 753.0, 541.0, 956.0, 740.0, 936.0, 892.0, 797.0, 705.0, 751.0, 788.0, 1397.0, 182.0, 636.0, 584.0, 141.0, 712.0, 1189.0, 732.0, 780.0, 932.0, 490.0, 684.0, 458.0, 1210.0, 769.0, 909.0, 7.0, 836.0, 1178.0, 582.0, 730.0, 3.0, 1162.0, 567.0, 847.0, 793.0, 602.0, 15.0, 558.0, 729.0, 29.0, 515.0, 985.0, 644.0, 517.0, 192.0, 147.0, 493.0, 715.0, 202.0, 30.0, 643.0, 151.0, 580.0, 588.0, 135.0, 746.0, 1229.0, 724.0, 62.0, 759.0, 84.0, 813.0, 8.0, 108.0, 120.0, 508.0, 599.0, 107.0, 166.0, 81.0, 680.0, 617.0, 71.0, 736.0, 142.0, 69.0, 134.0, 564.0, 90.0, 512.0, 58.0, 591.0, 40.0, 68.0, 461.0, 768.0, 405.0, 22.0, 760.0, 56.0, 106.0, 703.0, 152.0, 520.0, 615.0, 669.0, 612.0, 592.0, 696.0, 114.0, 148.0, 47.0, 45.0, 682.0, 787.0, 595.0, 896.0, 655.0, 794.0, 370.0, 73.0, 640.0, 733.0, 118.0, 388.0, 1107.0, 353.0, 162.0, 828.0, 41.0, 808.0, 110.0, 1045.0, 1113.0, 87.0, 212.0, 206.0, 838.0, 912.0, 533.0, 675.0, 683.0, 451.0, 800.0, 871.0, 513.0, 611.0, 569.0, 782.0, 421.0, 223.0, 1265.0, 874.0, 711.0, 725.0, 203.0, 1021.0, 881.0, 100.0, 345.0, 304.0, 865.0, 289.0, 2009.0, 663.0, 138.0, 717.0, 527.0, 678.0, 1450.0, 2230.0, 26.0, 496.0, 1025.0, 54.0, 88.0, 1220.0, 998.0, 1006.0, 76.0, 51.0, 413.0, 1212.0, 914.0, 25.0, 1472.0, 116.0, 144.0, 1159.0, 27.0, 1273.0, 879.0, 72.0, 2.0, 1166.0, 554.0, 858.0, 876.0, 821.0, 627.0, 758.0, 1001.0, 537.0, 930.0, 1004.0, 1499.0, 685.0, 4930.0, 604.0, 3293.0, 815.0, 890.0, 950.0, 849.0, 1066.0, 1593.0, 2019.0, 1781.0, 1394.0, 827.0, 873.0, 766.0, 1511.0, 692.0, 1327.0, 1245.0, 1268.0, 994.0, 1298.0, 893.0, 777.0, 1217.0, 1139.0, 1985.0, 864.0, 1527.0, 24.0, 10.0, 832.0, 48.0, 31.0, 34.0, 96.0, 1761.0, 1226.0, 23.0, 13.0, 104.0, 16.0, 2157.0, 32.0, 2043.0, 1118.0, 494.0, 92.0, 12.0, 1811.0, 78.0, 649.0, 960.0, 743.0, 1216.0, 707.0, 61.0, 607.0, 1735.0, 790.0, 1390.0, 802.0, 1313.0, 1703.0, 1029.0, 1844.0, 754.0, 1068.0, 814.0, 2335.0, 935.0, 806.0, 538.0, 1634.0, 1286.0, 662.0, 4855.0, 1387.0, 857.0, 973.0, 955.0, 609.0, 885.0, 905.0, 1079.0, 1451.0, 105.0, 628.0, 1092.0, 1644.0, 1496.0, 130.0, 616.0, 2651.0, 1505.0, 689.0, 710.0, 937.0, 1046.0, 997.0, 765.0, 1399.0, 1405.0, 1060.0, 1235.0, 686.0, 2392.0, 958.0, 1486.0, 993.0, 1939.0, 1199.0, 1429.0, 1091.0, 1061.0, 1038.0, 1304.0, 1010.0, 646.0, 145.0, 438.0, 1377.0, 764.0, 1073.0, 1187.0, 987.0, 947.0, 1146.0, 716.0, 1064.0, 904.0, 843.0, 941.0, 1015.0, 1780.0, 2127.0, 1123.0, 1482.0, 693.0, 984.0, 207.0, 884.0, 179.0, 426.0, 1096.0, 245.0, 1316.0, 651.0, 1058.0, 926.0, 650.0, 966.0, 986.0, 1196.0, 4176.0, 870.0, 1972.0, 1239.0, 1395.0, 859.0, 977.0, 1546.0, 887.0, 1028.0, 620.0, 155.0, 694.0, 1680.0, 95.0, 93.0, 1520.0, 745.0, 1222.0, 1322.0, 801.0, 1051.0, 2221.0, 1503.0, 1009.0, 866.0, 894.0, 778.0, 1106.0, 1116.0, 1076.0, 1165.0, 1919.0, 1247.0, 807.0, 633.0, 1694.0, 691.0, 961.0, 1087.0, 1299.0, 1231.0, 982.0, 1035.0, 963.0, 549.0, 1055.0, 1158.0, 3252.0, 991.0, 969.0, 2964.0, 1135.0, 698.0, 1005.0, 1036.0, 962.0, 590.0, 574.0, 465.0, 842.0, 1439.0, 1267.0, 1539.0, 940.0, 823.0, 594.0, 942.0, 908.0, 798.0, 572.0, 1140.0, 483.0, 556.0, 1012.0, 163.0, 143.0, 852.0, 1138.0, 1415.0, 855.0, 772.0, 1875.0, 113.0, 91.0, 146.0, 1112.0, 676.0, 719.0, 2357.0, 536.0, 1258.0, 1227.0, 1997.0, 1047.0, 1458.0, 652.0, 103.0, 664.0, 1840.0, 65.0, 632.0, 1000.0, 1019.0, 839.0, 915.0, 831.0, 1494.0, 701.0, 3197.0, 3958.0, 1049.0, 1119.0, 1041.0, 796.0, 1257.0, 131.0, 82.0, 49.0, 89.0, 2040.0, 67.0, 66.0, 1056.0, 739.0, 762.0, 86.0, 98.0, 1020.0, 1888.0, 980.0, 115.0, 720.0, 164.0, 792.0, 39.0, 840.0, 102.0, 74.0, 1184.0, 688.0, 196.0, 156.0, 624.0, 944.0, 1789.0, 959.0, 1174.0, 57.0, 826.0, 70.0, 1444.0, 1470.0, 1906.0, 1078.0, 1198.0, 785.0, 1283.0, 1031.0, 1421.0, 1566.0, 883.0, 585.0, 1014.0, 738.0, 714.0, 1500.0, 952.0, 749.0, 1333.0, 1335.0, 1043.0, 1027.0, 735.0, 1318.0, 1722.0, 1767.0, 1115.0, 122.0, 1672.0, 951.0, 55.0, 11.0]\n",
            "[12, 12, 12, 11, 11, 11, 11, 11, 11, 11, 10, 10, 10, 10, 10, 10, 10, 9, 9, 9, 9, 9, 9, 9, 9, 9, 9, 9, 8, 8, 8, 8, 8, 8, 8, 8, 8, 8, 8, 8, 8, 8, 8, 8, 8, 8, 7, 7, 7, 7, 7, 7, 7, 7, 7, 7, 7, 7, 7, 7, 7, 7, 7, 7, 7, 7, 7, 7, 7, 7, 7, 7, 7, 7, 7, 7, 7, 7, 7, 7, 7, 7, 7, 7, 7, 7, 7, 7, 7, 7, 7, 7, 7, 6, 6, 6, 6, 6, 6, 6, 6, 6, 6, 6, 6, 6, 6, 6, 6, 6, 6, 6, 6, 6, 6, 6, 6, 6, 6, 6, 6, 6, 6, 6, 6, 6, 6, 6, 6, 6, 6, 6, 6, 6, 6, 6, 6, 6, 6, 6, 6, 6, 6, 6, 6, 6, 5, 5, 5, 5, 5, 5, 5, 5, 5, 5, 5, 5, 5, 5, 5, 5, 5, 5, 5, 5, 5, 5, 5, 5, 5, 5, 5, 5, 5, 5, 5, 5, 5, 5, 5, 5, 5, 5, 5, 5, 5, 5, 5, 5, 5, 5, 5, 5, 5, 5, 5, 5, 5, 5, 5, 5, 5, 5, 5, 5, 5, 5, 5, 5, 5, 5, 5, 5, 5, 5, 4, 4, 4, 4, 4, 4, 4, 4, 4, 4, 4, 4, 4, 4, 4, 4, 4, 4, 4, 4, 4, 4, 4, 4, 4, 4, 4, 4, 4, 4, 4, 4, 4, 4, 4, 4, 4, 4, 4, 4, 4, 4, 4, 4, 4, 4, 4, 4, 4, 4, 4, 4, 4, 4, 4, 4, 4, 4, 4, 4, 4, 4, 4, 4, 4, 4, 4, 4, 4, 4, 4, 4, 4, 4, 4, 4, 4, 4, 4, 4, 4, 4, 4, 4, 4, 4, 4, 4, 4, 4, 4, 4, 4, 4, 3, 3, 3, 3, 3, 3, 3, 3, 3, 3, 3, 3, 3, 3, 3, 3, 3, 3, 3, 3, 3, 3, 3, 3, 3, 3, 3, 3, 3, 3, 3, 3, 3, 3, 3, 3, 3, 3, 3, 3, 3, 3, 3, 3, 3, 3, 3, 3, 3, 3, 3, 3, 3, 3, 3, 3, 3, 3, 3, 3, 3, 3, 3, 3, 3, 3, 3, 3, 3, 3, 3, 3, 3, 3, 3, 3, 3, 3, 3, 3, 3, 3, 3, 3, 3, 3, 3, 3, 3, 3, 3, 3, 3, 3, 3, 3, 3, 3, 3, 3, 3, 3, 3, 3, 3, 3, 3, 3, 3, 3, 3, 3, 3, 3, 3, 3, 3, 3, 3, 3, 3, 3, 3, 3, 3, 3, 3, 3, 3, 3, 3, 3, 3, 3, 3, 3, 3, 3, 3, 3, 3, 3, 3, 3, 3, 2, 2, 2, 2, 2, 2, 2, 2, 2, 2, 2, 2, 2, 2, 2, 2, 2, 2, 2, 2, 2, 2, 2, 2, 2, 2, 2, 2, 2, 2, 2, 2, 2, 2, 2, 2, 2, 2, 2, 2, 2, 2, 2, 2, 2, 2, 2, 2, 2, 2, 2, 2, 2, 2, 2, 2, 2, 2, 2, 2, 2, 2, 2, 2, 2, 2, 2, 2, 2, 2, 2, 2, 2, 2, 2, 2, 2, 2, 2, 2, 2, 2, 2, 2, 2, 2, 2, 2, 2, 2, 2, 2, 2, 2, 2, 2, 2, 2, 2, 2, 2, 2, 2, 2, 2, 2, 2, 2, 2, 2, 2, 2, 2, 2, 2, 2, 2, 2, 2, 2, 2, 2, 2, 2, 2, 2, 2, 2, 2, 2, 2, 2, 2, 2, 2, 2, 2, 2, 2, 2, 2, 2, 2, 2, 2, 2, 2, 2, 2, 2, 2, 2, 2, 2, 2, 2, 2, 2, 2, 2, 2, 2, 2, 2, 2, 2, 2, 2, 2, 2, 2, 2, 2, 2, 2, 2, 2, 2, 2, 2, 2, 2, 2, 2, 2, 2, 2, 2, 2, 2, 2, 2, 2, 2, 2, 1, 1, 1, 1, 1, 1, 1, 1, 1, 1, 1, 1, 1, 1, 1, 1, 1, 1, 1, 1, 1, 1, 1, 1, 1, 1, 1, 1, 1, 1, 1, 1, 1, 1, 1, 1, 1, 1, 1, 1, 1, 1, 1, 1, 1, 1, 1, 1, 1, 1, 1, 1, 1, 1, 1, 1, 1, 1, 1, 1, 1, 1, 1, 1, 1, 1, 1, 1, 1, 1, 1, 1, 1, 1, 1, 1, 1, 1, 1, 1, 1, 1, 1, 1, 1, 1, 1, 1, 1, 1, 1, 1, 1, 1, 1, 1, 1, 1, 1, 1, 1, 1, 1, 1, 1, 1, 1, 1, 1, 1, 1, 1, 1, 1, 1, 1, 1, 1, 1, 1, 1, 1, 1, 1, 1, 1, 1, 1, 1, 1, 1, 1, 1, 1, 1, 1, 1, 1, 1, 1, 1, 1, 1, 1, 1, 1, 1, 1, 1, 1, 1, 1, 1, 1, 1, 1, 1, 1, 1, 1, 1, 1, 1, 1, 1, 1, 1, 1, 1, 1, 1, 1, 1, 1, 1, 1, 1, 1, 1, 1, 1, 1, 1, 1, 1, 1, 1, 1, 1, 1, 1, 1, 1, 1, 1, 1, 1, 1, 1, 1, 1, 1, 1, 1, 1, 1, 1, 1, 1, 1, 1, 1, 1, 1, 1, 1, 1, 1, 1, 1, 1, 1, 1, 1, 1, 1, 1, 1, 1, 1, 1, 1, 1, 1, 1, 1, 1, 1, 1, 1, 1, 1, 1, 1, 1, 1, 1, 1, 1, 1, 1, 1, 1, 1, 1, 1, 1, 1, 1, 1, 1, 1, 1, 1, 1, 1, 1, 1, 1, 1, 1, 1, 1, 1, 1, 1, 1, 1, 1, 1, 1, 1, 1, 1, 1, 1, 1, 1, 1, 1, 1, 1, 1, 1, 1, 1, 1, 1, 1, 1, 1, 1, 1, 1, 1, 1, 1, 1, 1, 1, 1, 1, 1, 1, 1, 1, 1, 1, 1, 1, 1, 1, 1, 1, 1, 1, 1, 1, 1, 1, 1, 1, 1, 1, 1, 1, 1, 1, 1, 1, 1, 1, 1, 1, 1, 1, 1, 1, 1, 1, 1, 1, 1, 1, 1, 1, 1, 1, 1, 1, 1, 1, 1, 1, 1, 1, 1, 1, 1, 1, 1, 1, 1, 1, 1, 1]\n"
          ],
          "name": "stdout"
        }
      ]
    },
    {
      "cell_type": "code",
      "metadata": {
        "id": "IkW5ZKczLg3j",
        "colab_type": "code",
        "outputId": "a40a1db2-b157-4017-8166-50e85c411823",
        "colab": {
          "base_uri": "https://localhost:8080/",
          "height": 34
        }
      },
      "source": [
        "index"
      ],
      "execution_count": 0,
      "outputs": [
        {
          "output_type": "execute_result",
          "data": {
            "text/plain": [
              "[375.0, 273.0, 614.0, 340.0, 363.0, 122.0, 1672.0, 951.0, 55.0, 11.0]"
            ]
          },
          "metadata": {
            "tags": []
          },
          "execution_count": 37
        }
      ]
    },
    {
      "cell_type": "code",
      "metadata": {
        "id": "glCxw13FSEo9",
        "colab_type": "code",
        "outputId": "a5d4a3e5-c03a-4089-e6a6-098545aa10e9",
        "colab": {
          "base_uri": "https://localhost:8080/",
          "height": 34
        }
      },
      "source": [
        "values"
      ],
      "execution_count": 0,
      "outputs": [
        {
          "output_type": "execute_result",
          "data": {
            "text/plain": [
              "[12, 12, 12, 11, 11, 1, 1, 1, 1, 1]"
            ]
          },
          "metadata": {
            "tags": []
          },
          "execution_count": 38
        }
      ]
    }
  ]
}