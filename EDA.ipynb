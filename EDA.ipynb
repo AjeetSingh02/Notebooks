{
  "nbformat": 4,
  "nbformat_minor": 0,
  "metadata": {
    "colab": {
      "name": "EDA.ipynb",
      "provenance": [],
      "collapsed_sections": [],
      "machine_shape": "hm",
      "include_colab_link": true
    },
    "kernelspec": {
      "name": "python3",
      "display_name": "Python 3"
    }
  },
  "cells": [
    {
      "cell_type": "markdown",
      "metadata": {
        "id": "view-in-github",
        "colab_type": "text"
      },
      "source": [
        "<a href=\"https://colab.research.google.com/github/AjeetSingh02/Notebooks/blob/master/EDA.ipynb\" target=\"_parent\"><img src=\"https://colab.research.google.com/assets/colab-badge.svg\" alt=\"Open In Colab\"/></a>"
      ]
    },
    {
      "cell_type": "code",
      "metadata": {
        "id": "91WY3U6HAKuw",
        "colab_type": "code",
        "colab": {}
      },
      "source": [
        "%%capture\n",
        "!pip install confuse"
      ],
      "execution_count": 0,
      "outputs": []
    },
    {
      "cell_type": "code",
      "metadata": {
        "id": "w9ALRz6SKuoJ",
        "colab_type": "code",
        "colab": {}
      },
      "source": [
        "from describe import describe"
      ],
      "execution_count": 0,
      "outputs": []
    },
    {
      "cell_type": "code",
      "metadata": {
        "id": "azSDIf0hM-JT",
        "colab_type": "code",
        "colab": {}
      },
      "source": [
        "import pandas as pd\n",
        "import numpy as np\n",
        "\n",
        "df = pd.read_csv(\"/content/train.csv\")\n",
        "for col in df.columns:\n",
        "    if df[col].dtype == 'object':\n",
        "        try:\n",
        "            df[col] = pd.to_datetime(df[col])\n",
        "        except ValueError:\n",
        "            pass"
      ],
      "execution_count": 0,
      "outputs": []
    },
    {
      "cell_type": "code",
      "metadata": {
        "id": "6S19vBD3OgYR",
        "colab_type": "code",
        "outputId": "47c58099-3a2a-4798-c3e8-c56b8f66d349",
        "colab": {
          "base_uri": "https://localhost:8080/",
          "height": 34
        }
      },
      "source": [
        "df.shape"
      ],
      "execution_count": 0,
      "outputs": [
        {
          "output_type": "execute_result",
          "data": {
            "text/plain": [
              "(2935849, 6)"
            ]
          },
          "metadata": {
            "tags": []
          },
          "execution_count": 31
        }
      ]
    },
    {
      "cell_type": "code",
      "metadata": {
        "id": "MA9nHGZjNh2Q",
        "colab_type": "code",
        "colab": {}
      },
      "source": [
        "import time"
      ],
      "execution_count": 0,
      "outputs": []
    },
    {
      "cell_type": "code",
      "metadata": {
        "id": "NXoY0jm8KuWe",
        "colab_type": "code",
        "outputId": "361b8f88-f621-4921-a505-a5ff0e20050e",
        "colab": {
          "base_uri": "https://localhost:8080/",
          "height": 34
        }
      },
      "source": [
        "#pandas profiling\n",
        "\n",
        "start_time = time.time()\n",
        "profile = pandas_profiling.ProfileReport(df)\n",
        "parent_dict = profile.get_description()\n",
        "end_time = time.time()\n",
        "print(\"--- %s pandas profiling seconds ---\" % (end_time - start_time))"
      ],
      "execution_count": 0,
      "outputs": [
        {
          "output_type": "stream",
          "text": [
            "--- 71.49362516403198 pandas profiling seconds ---\n"
          ],
          "name": "stdout"
        }
      ]
    },
    {
      "cell_type": "code",
      "metadata": {
        "id": "atx_kjzIljor",
        "colab_type": "code",
        "colab": {}
      },
      "source": [
        "df = pd.read_csv(\"/content/sample_data/mnist_train_small.csv\")"
      ],
      "execution_count": 0,
      "outputs": []
    },
    {
      "cell_type": "code",
      "metadata": {
        "id": "eYZ1mQqyloUC",
        "colab_type": "code",
        "outputId": "ea09492a-41dd-4f37-a1cf-16d39cd2a052",
        "colab": {
          "base_uri": "https://localhost:8080/",
          "height": 34
        }
      },
      "source": [
        "df.shape"
      ],
      "execution_count": 0,
      "outputs": [
        {
          "output_type": "execute_result",
          "data": {
            "text/plain": [
              "(19999, 785)"
            ]
          },
          "metadata": {
            "tags": []
          },
          "execution_count": 39
        }
      ]
    },
    {
      "cell_type": "code",
      "metadata": {
        "id": "9n9h4IZFNQa0",
        "colab_type": "code",
        "outputId": "7b881d7c-ad2b-43e3-e557-7266f2c72ace",
        "colab": {
          "base_uri": "https://localhost:8080/",
          "height": 34
        }
      },
      "source": [
        "#without modin\n",
        "\n",
        "start_time = time.time()\n",
        "parent_dict = describe(df)\n",
        "end_time = time.time()\n",
        "\n",
        "print(\"--- %s without modin seconds ---\" % (end_time - start_time))"
      ],
      "execution_count": 0,
      "outputs": [
        {
          "output_type": "stream",
          "text": [
            "--- 48.31317591667175 without modin seconds ---\n"
          ],
          "name": "stdout"
        }
      ]
    },
    {
      "cell_type": "code",
      "metadata": {
        "id": "kRjfVcFj_uaE",
        "colab_type": "code",
        "colab": {}
      },
      "source": [
        "%%capture\n",
        "!pip install pandas_profiling==2.1.0"
      ],
      "execution_count": 0,
      "outputs": []
    },
    {
      "cell_type": "code",
      "metadata": {
        "id": "TLkwDGm_B-Qx",
        "colab_type": "code",
        "colab": {}
      },
      "source": [
        "%%capture\n",
        "!pip install simplejson==3.16.0"
      ],
      "execution_count": 0,
      "outputs": []
    },
    {
      "cell_type": "code",
      "metadata": {
        "id": "JYtzPyrczquA",
        "colab_type": "code",
        "colab": {}
      },
      "source": [
        "import pandas_profiling"
      ],
      "execution_count": 0,
      "outputs": []
    },
    {
      "cell_type": "code",
      "metadata": {
        "id": "1yJlY7NDxZaA",
        "colab_type": "code",
        "colab": {}
      },
      "source": [
        ""
      ],
      "execution_count": 0,
      "outputs": []
    },
    {
      "cell_type": "code",
      "metadata": {
        "id": "aAnTFzyAxYLf",
        "colab_type": "code",
        "colab": {}
      },
      "source": [
        ""
      ],
      "execution_count": 0,
      "outputs": []
    },
    {
      "cell_type": "code",
      "metadata": {
        "id": "AOxjSriKNsrG",
        "colab_type": "code",
        "colab": {}
      },
      "source": [
        "# !pip show pandas_profiling"
      ],
      "execution_count": 0,
      "outputs": []
    },
    {
      "cell_type": "code",
      "metadata": {
        "id": "dS1_O2UOGQaW",
        "colab_type": "code",
        "colab": {}
      },
      "source": [
        "!python caller_v16.py '/content/sample_data/california_housing_test.csv' '/content/out1' '/content/possible_keys1.yml'"
      ],
      "execution_count": 0,
      "outputs": []
    },
    {
      "cell_type": "code",
      "metadata": {
        "id": "PgEr7pkgH3DU",
        "colab_type": "code",
        "colab": {}
      },
      "source": [
        "import seaborn as sns\n",
        "import matplotlib.pyplot as plt\n",
        "plt.switch_backend('agg')\n",
        "\n",
        "\n",
        "#for numerical columns\n",
        "def plotbox(series, output_folder, count, whis):\n",
        "    fig1, ax1 = plt.subplots(figsize=(14,7))\n",
        "    ax1.grid(b=None)\n",
        "    plt.grid(b=None)\n",
        "\n",
        "    ax1.set(xlabel=series.name)\n",
        "    \n",
        "    ret_dict = ax1.boxplot(series, vert=False, widths=0.8, patch_artist=True, sym =\"b\", whis=whis)\n",
        "\n",
        "    median = ret_dict[\"medians\"][0]._x[0]\n",
        "    q1 = ret_dict[\"boxes\"][0]._path._vertices[0][0]\n",
        "    q3 = ret_dict[\"boxes\"][0]._path._vertices[2][0]\n",
        "    whisker_cap1 = ret_dict[\"caps\"][0]._x[0]\n",
        "    whisker_cap2 = ret_dict[\"caps\"][1]._x[0]\n",
        "\n",
        "    loc_q1 = ret_dict[\"boxes\"][0]._path._vertices[1][1]\n",
        "    loc_q2 = ret_dict[\"boxes\"][0]._path._vertices[0][1]\n",
        "    loc_whisk1 = ret_dict[\"caps\"][0]._y[1]\n",
        "    loc_whisk2 = ret_dict[\"caps\"][1]._y[0]\n",
        "\n",
        "    clr = 'red'\n",
        "    fsize = 12\n",
        "    ax1.text(median, 1.03, f\"median = {median:,.2f}\", fontsize=fsize, color=clr)\n",
        "    ax1.text(q1, loc_q1+0.02, f\"1st Quarter = {q1:,.2f}\",  fontsize=fsize, color=clr)\n",
        "    ax1.text(q3, loc_q2-0.02, f\"3rd Quarter = {q3:,.2f}\",  fontsize=fsize, color=clr)\n",
        "    ax1.text(whisker_cap1, loc_whisk1+0.02, f\"leftmost inlier = {whisker_cap1:,.2f}\",  fontsize=fsize, color=clr)\n",
        "    ax1.text(whisker_cap2, loc_whisk2-0.02, f\"rightmost inlier = {whisker_cap2:,.2f}\",  fontsize=fsize, color=clr)\n",
        "\n",
        "    try:\n",
        "        plot_name = series.name\n",
        "    except:\n",
        "        count += 1\n",
        "        plot_name = f\"boxplot_{count}\"\n",
        "\n",
        "\n",
        "    #calculation for no. and percent of outliers\n",
        "    low_outlier = np.where(series < whisker_cap1)[0]\n",
        "    high_outlier = np.where(series > whisker_cap2)[0]\n",
        "    num_outliers = low_outlier.size + high_outlier.size\n",
        "    perc_outliers = num_outliers / len(series)\n",
        "\n",
        "\n",
        "    ax1.set_title(f\"Number of outliers: {num_outliers}          Percent of Outliers: {round(perc_outliers,2)}\")\n",
        "\n",
        "    fig1.savefig(f\"{output_folder}{plot_name}.png\")\n",
        "    plt.close()\n",
        "    \n",
        "    return count\n",
        "\n",
        "\n",
        "#For \"string\" type variables\n",
        "def plotCountCat(series, output_folder, count, unique_class_limit):\n",
        "  try:\n",
        "    class_count = len(series.value_counts())\n",
        "  except AttributeError as e:\n",
        "    print(f\"Series object not passed. Following exception encountered: {str(e)}\")\n",
        "    return count\n",
        "  \n",
        "  if class_count <= unique_class_limit:\n",
        "    x = class_count+4 if class_count < 11 else 15 \n",
        "    \n",
        "    fig, ax = plt.subplots(figsize=(x, 6))\n",
        "    plt.xticks(rotation=90)\n",
        "    \n",
        "    ax1 = sns.countplot(x=series, palette=\"Set3\")\n",
        "\n",
        "    \n",
        "    try:\n",
        "      plot_name = series.name\n",
        "    except:\n",
        "      count += 1\n",
        "      plot_name = f\"catplot_{count}\"\n",
        "\n",
        "    ax1.set(xlabel=plot_name, ylabel='Number of occurances')\n",
        "\n",
        "    fig.savefig(f\"{output_folder}{plot_name}.png\", bbox_inches = \"tight\")\n",
        "\n",
        "    plt.close()\n",
        "\n",
        "  return count\n",
        "\n",
        "\n",
        "def plots(df, output_folder, whis, unique_class_limit):\n",
        "    count = 0\n",
        "    for i in range(len(df.columns)):\n",
        "        series = df.iloc[:,i]\n",
        "        dropped_na = series.dropna()\n",
        "\n",
        "        if not dropped_na.empty:\n",
        "            if series.dtype == \"O\":\n",
        "                count = plotCountCat(dropped_na, output_folder, count, unique_class_limit)\n",
        "            \n",
        "            elif dropped_na.dtype == \"datetime64[ns]\":\n",
        "                fst = dropped_na.iloc[0]\n",
        "                lst = dropped_na.iloc[0]\n",
        "                mid = dropped_na.iloc[dropped_na.size//2]\n",
        "\n",
        "                lis_ = [fst.hour, fst.minute, fst.second, lst.hour, lst.minute, lst.second, mid.hour, mid.minute, mid.second]\n",
        "\n",
        "                #checking if datetime64 has empty time. if yes remove it\n",
        "                if all([ele == 0 for ele in lis_]):\n",
        "                    count = plotCountCat(dropped_na.dt.date, output_folder, count, unique_class_limit)\n",
        "                else:\n",
        "                    count = plotCountCat(dropped_na, output_folder, count, unique_class_limit)\n",
        "                \n",
        "            else:\n",
        "                if sorted(list(dropped_na.unique())) != [0,1]:\n",
        "                    count = plotbox(dropped_na, output_folder, count, whis)"
      ],
      "execution_count": 0,
      "outputs": []
    },
    {
      "cell_type": "code",
      "metadata": {
        "id": "Q5fT9bWbVSnd",
        "colab_type": "code",
        "colab": {}
      },
      "source": [
        "import yaml\n",
        "import simplejson\n",
        "import numpy as np\n",
        "import pandas as pd\n",
        "import pandas_profiling\n",
        "\n",
        "import matplotlib.pyplot as plt\n",
        "plt.switch_backend('agg')\n",
        "\n",
        "\n",
        "#function to act as converter when default json converter fails\n",
        "def convert(o):\n",
        "    if isinstance(o, np.int64): \n",
        "        return int(o) \n",
        "    elif isinstance(o, np.bool_):\n",
        "        if o == True:\n",
        "            return True\n",
        "        return False\n",
        "    elif isinstance(o, pd.Timestamp):\n",
        "        if o.hour == 0 and o.minute == 0 and o.second == 0:\n",
        "            return o.strftime(\"%d-%m-%Y\")\n",
        "        else:\n",
        "            return str(o)\n",
        "\n",
        "def save_json(df, output_folder, yaml_file, file_name):\n",
        "\n",
        "    #saving original names and underscored names\n",
        "    original_cols= list(df.columns)\n",
        "    replacer = lambda t: t.replace(\" \",\"_\")\n",
        "    vfunc = np.vectorize(replacer)\n",
        "    replaced_cols = list(vfunc(original_cols))\n",
        "    reference_cols = {k:v for k,v in zip(replaced_cols, original_cols)}\n",
        "\n",
        "\n",
        "    profile = pandas_profiling.ProfileReport(df)\n",
        "    parent_dict = profile.get_description()\n",
        "\n",
        "    data = {}\n",
        "    data[\"overview\"] = parent_dict[\"table\"]\n",
        "    variables = parent_dict[\"variables\"]\n",
        "\n",
        "    with open(yaml_file, 'r') as stream:\n",
        "        try:\n",
        "            possible_keys = yaml.safe_load(stream)\n",
        "        except yaml.YAMLError as exc:\n",
        "            return f\"following error occured while loading yaml file: {exc}\"\n",
        "\n",
        "    data[\"variables general info\"] = {}\n",
        "    data[\"variables general info\"][\"header\"] = possible_keys\n",
        "\n",
        "    data[\"variables frequency info\"] = {}\n",
        "    data[\"variables frequency info\"][\"value_counts_without_nan\"] = {}\n",
        "\n",
        "    #For info of each variable\n",
        "    for variable, dict_ in variables.items():\n",
        "        temp_list = []\n",
        "        for key in possible_keys:\n",
        "            if key in dict_:\n",
        "                #for dealing with enum\n",
        "                if key == \"type\":\n",
        "                    temp_list.append(dict_[key].value)\n",
        "                else:  \n",
        "                    temp_list.append(dict_[key])\n",
        "            else:\n",
        "                temp_list.append(\"\")\n",
        "        \n",
        "        #getting original variable name\n",
        "        try:\n",
        "            variable = reference_cols[variable]\n",
        "        except KeyError:\n",
        "            pass\n",
        "\n",
        "        data[\"variables general info\"][variable] = temp_list\n",
        "\n",
        "        #for frequency\n",
        "        without_nan = dict_[\"value_counts_without_nan\"]\n",
        "\n",
        "        index, values = list(without_nan.index), list(without_nan.values)\n",
        "\n",
        "        if len(index) > 10:\n",
        "            index = index[:5] + index[-5:]\n",
        "            values = values[:5] + values[-5:]\n",
        "        \n",
        "        data[\"variables frequency info\"][\"value_counts_without_nan\"][variable] = [index, values]\n",
        "\n",
        "\n",
        "    try:\n",
        "        correlations = parent_dict[\"correlations\"]\n",
        "\n",
        "        # data[\"correlations\"] = {}\n",
        "        correlations_dict = {}\n",
        "\n",
        "        for corr, df_ in correlations.items():\n",
        "            df_ = df_.round(2)\n",
        "            df_.fillna(\"\", inplace=True)\n",
        "\n",
        "            #getting original variable names\n",
        "            pp_cols = df_.columns\n",
        "            orig_cols= []\n",
        "            for col in pp_cols:\n",
        "                try:\n",
        "                    orig_cols.append(reference_cols[col])\n",
        "                except KeyError:\n",
        "                    orig_cols.append(col)\n",
        "\n",
        "            correlations_dict[corr] = [orig_cols, [list(val) for val in df_.values]]\n",
        "\n",
        "        with open(f\"{output_folder}{file_name}_corr_.json\", \"w\") as write_file:\n",
        "            simplejson.dump(correlations_dict, write_file, default=convert, ignore_nan=True, separators=(',', ':')) \n",
        "    except:\n",
        "        print(\"No correlation generated\")\n",
        "        \n",
        "    with open(f\"{output_folder}{file_name}.json\", \"w\") as write_file:\n",
        "        simplejson.dump(data, write_file, default=convert, ignore_nan=True, separators=(',', ':')) \t"
      ],
      "execution_count": 0,
      "outputs": []
    },
    {
      "cell_type": "code",
      "metadata": {
        "id": "E2_KMzVNME2B",
        "colab_type": "code",
        "colab": {}
      },
      "source": [
        "import pandas as pd\n",
        "import pandas_profiling\n",
        "\n",
        "df = pd.read_csv(\"/content/saa.csv\")\n",
        "output_folder = \"/content/out/\"\n",
        "whis = None\n",
        "unique_class_limit = 35\n",
        "yaml_file = \"/content/possible_keys1.yml\"\n",
        "file_name = \"nothing\"\n",
        "\n",
        "for col in df.columns:\n",
        "    if df[col].dtype == 'object':\n",
        "        try:\n",
        "            df[col] = pd.to_datetime(df[col])\n",
        "        except ValueError:\n",
        "            pass\n",
        "\n",
        "# plots(df, output_folder, whis, unique_class_limit)\n",
        "data = save_json(df, output_folder, yaml_file, file_name)"
      ],
      "execution_count": 0,
      "outputs": []
    },
    {
      "cell_type": "code",
      "metadata": {
        "id": "DiN5HVs9MFV_",
        "colab_type": "code",
        "colab": {}
      },
      "source": [
        ""
      ],
      "execution_count": 0,
      "outputs": []
    },
    {
      "cell_type": "code",
      "metadata": {
        "id": "MvNJyXQ5fTrL",
        "colab_type": "code",
        "colab": {}
      },
      "source": [
        ""
      ],
      "execution_count": 0,
      "outputs": []
    },
    {
      "cell_type": "code",
      "metadata": {
        "id": "Q1zzpY6LfTwf",
        "colab_type": "code",
        "colab": {}
      },
      "source": [
        ""
      ],
      "execution_count": 0,
      "outputs": []
    },
    {
      "cell_type": "code",
      "metadata": {
        "id": "piz5qVqwfToY",
        "colab_type": "code",
        "colab": {}
      },
      "source": [
        ""
      ],
      "execution_count": 0,
      "outputs": []
    },
    {
      "cell_type": "code",
      "metadata": {
        "id": "4hnMGmmeMFUB",
        "colab_type": "code",
        "colab": {}
      },
      "source": [
        ""
      ],
      "execution_count": 0,
      "outputs": []
    },
    {
      "cell_type": "code",
      "metadata": {
        "id": "wZULgVvzMFBM",
        "colab_type": "code",
        "colab": {}
      },
      "source": [
        ""
      ],
      "execution_count": 0,
      "outputs": []
    },
    {
      "cell_type": "code",
      "metadata": {
        "id": "Y3k5JCc4ME_c",
        "colab_type": "code",
        "colab": {}
      },
      "source": [
        ""
      ],
      "execution_count": 0,
      "outputs": []
    },
    {
      "cell_type": "code",
      "metadata": {
        "id": "cRXF9Yv8ME9f",
        "colab_type": "code",
        "colab": {}
      },
      "source": [
        ""
      ],
      "execution_count": 0,
      "outputs": []
    },
    {
      "cell_type": "code",
      "metadata": {
        "id": "NHulJx82ME66",
        "colab_type": "code",
        "colab": {}
      },
      "source": [
        ""
      ],
      "execution_count": 0,
      "outputs": []
    },
    {
      "cell_type": "code",
      "metadata": {
        "id": "cLefwHSKMEwy",
        "colab_type": "code",
        "colab": {}
      },
      "source": [
        ""
      ],
      "execution_count": 0,
      "outputs": []
    },
    {
      "cell_type": "code",
      "metadata": {
        "id": "XdkjQfePK3TM",
        "colab_type": "code",
        "colab": {}
      },
      "source": [
        ""
      ],
      "execution_count": 0,
      "outputs": []
    },
    {
      "cell_type": "code",
      "metadata": {
        "id": "04K_xZCCG1D3",
        "colab_type": "code",
        "colab": {}
      },
      "source": [
        ""
      ],
      "execution_count": 0,
      "outputs": []
    },
    {
      "cell_type": "code",
      "metadata": {
        "id": "6ES-a83DJoIR",
        "colab_type": "code",
        "colab": {}
      },
      "source": [
        "# import yaml\n",
        "# import simplejson\n",
        "# import numpy as np\n",
        "# import pandas as pd\n",
        "# import pandas_profiling\n",
        "\n",
        "# import seaborn as sns\n",
        "# import matplotlib.pyplot as plt\n",
        "# plt.switch_backend('agg')\n",
        "\n",
        "# def caller(input_file, output_folder, yaml_file, whis=None, unique_class_limit=35):\n",
        "#   if not output_folder.endswith(\"/\"):\n",
        "#     output_folder += \"/\"\n",
        "\n",
        "#   df = pd.read_csv(input_file)\n",
        "\n",
        "#   file_name = input_file[input_file.rindex(\"/\")+1:input_file.rindex(\".\")]\n",
        "\n",
        "#   #Extracting information from DataFrame using pandas-profiling\n",
        "#   save_json(df, output_folder, yaml_file, file_name)\n",
        "\n",
        "#   #making boxplots of all non-categorical and non-binary columns of DataFrame\n",
        "#   plots(df, output_folder, whis, unique_class_limit)\n"
      ],
      "execution_count": 0,
      "outputs": []
    },
    {
      "cell_type": "code",
      "metadata": {
        "id": "3fg1vgOokPdD",
        "colab_type": "code",
        "colab": {}
      },
      "source": [
        "'''Support for ISO-8859-1 added'''\n",
        "\n",
        "\n",
        "import pandas as pd\n",
        "from sys import argv\n",
        "\n",
        "from plots_v15 import plots\n",
        "from auto_eda_v29 import save_json\n",
        "\n",
        "if __name__ == '__main__':\n",
        "    input_file, output_folder, yaml_file  = argv[1:4]\n",
        "    outlier_limit = None\n",
        "    unique_class_limit = 35\n",
        "\n",
        "    if len(argv) > 4:\n",
        "        try:\n",
        "            outlier_limit = float(argv[4])\n",
        "        except ValueError:\n",
        "            print(\"Note: Wrong value for outlier limit. Set to default: None\")\n",
        "        \n",
        "        try:\n",
        "            unique_class_limit = float(argv[5])\n",
        "        except IndexError:\n",
        "            pass\n",
        "        except ValueError:\n",
        "            print(\"Note: Wrong value for unique_class_limit. Set to default: 35\")\n",
        "        \n",
        "    if not output_folder.endswith(\"/\"):\n",
        "        output_folder += \"/\"\n",
        "    \n",
        "    try:\n",
        "        df = pd.read_csv(input_file)\n",
        "    except UnicodeDecodeError:\n",
        "        df = pd.read_csv(input_file, encoding=\"ISO-8859-1\")\n",
        "        \n",
        "    \n",
        "    for col in df.columns:\n",
        "        if df[col].dtype == 'object':\n",
        "            try:\n",
        "                df[col] = pd.to_datetime(df[col])\n",
        "            except ValueError:\n",
        "                pass\n",
        "\n",
        "    \n",
        "    file_name = input_file[input_file.rindex(\"/\")+1:input_file.rindex(\".\")]\n",
        "\n",
        "    option = \"1\"\n",
        "    if option == \"1\":\n",
        "        #to plot boxplots for numerical/continuous variables. and bar plot categorical\n",
        "        plots(df, output_folder, outlier_limit, unique_class_limit)\n",
        "\n",
        "        #use pandas profiling extract details and save in json\n",
        "        save_json(df, output_folder, yaml_file, file_name)\t\n",
        "        "
      ],
      "execution_count": 0,
      "outputs": []
    },
    {
      "cell_type": "code",
      "metadata": {
        "id": "9oEizoeCMN4w",
        "colab_type": "code",
        "colab": {}
      },
      "source": [
        "input_file = \"/content/train.csv\"\n",
        "output_folder = \"/content/out6\"\n",
        "yaml_file = '/content/possible_keys.yml'\n",
        "\n",
        "caller(input_file, output_folder, yaml_file)"
      ],
      "execution_count": 0,
      "outputs": []
    },
    {
      "cell_type": "code",
      "metadata": {
        "id": "zm0K4kYnCVTV",
        "colab_type": "code",
        "colab": {}
      },
      "source": [
        "df = pd.read_csv(\"/content/saa.csv\")"
      ],
      "execution_count": 0,
      "outputs": []
    },
    {
      "cell_type": "code",
      "metadata": {
        "id": "45t50Bp0Etoz",
        "colab_type": "code",
        "colab": {}
      },
      "source": [
        "for col in df.columns:\n",
        "    if df[col].dtype == 'object':\n",
        "        try:\n",
        "            df[col] = pd.to_datetime(df[col])\n",
        "        except ValueError:\n",
        "            pass"
      ],
      "execution_count": 0,
      "outputs": []
    },
    {
      "cell_type": "code",
      "metadata": {
        "id": "1NvMZXZaCaqJ",
        "colab_type": "code",
        "outputId": "c0bb6c21-6aaf-44d5-9f69-a5d5e3ef3b6d",
        "colab": {
          "base_uri": "https://localhost:8080/",
          "height": 221
        }
      },
      "source": [
        "for col in df.columns:\n",
        "    print(df[col].name)\n",
        "    print(df[col].dtype == \"datetime64[ns]\")\n",
        "    print()"
      ],
      "execution_count": 0,
      "outputs": [
        {
          "output_type": "stream",
          "text": [
            "date\n",
            "False\n",
            "\n",
            "timestamp\n",
            "True\n",
            "\n",
            "total\n",
            "False\n",
            "\n",
            "tt\n",
            "True\n",
            "\n"
          ],
          "name": "stdout"
        }
      ]
    },
    {
      "cell_type": "code",
      "metadata": {
        "id": "ezyn80_aEtm9",
        "colab_type": "code",
        "colab": {}
      },
      "source": [
        ""
      ],
      "execution_count": 0,
      "outputs": []
    },
    {
      "cell_type": "code",
      "metadata": {
        "id": "FZFcNGjEEtjk",
        "colab_type": "code",
        "colab": {}
      },
      "source": [
        ""
      ],
      "execution_count": 0,
      "outputs": []
    },
    {
      "cell_type": "code",
      "metadata": {
        "id": "CGlAc36UEtgZ",
        "colab_type": "code",
        "colab": {}
      },
      "source": [
        ""
      ],
      "execution_count": 0,
      "outputs": []
    }
  ]
}