{
  "nbformat": 4,
  "nbformat_minor": 0,
  "metadata": {
    "colab": {
      "name": "plots.ipynb",
      "provenance": [],
      "collapsed_sections": [],
      "include_colab_link": true
    },
    "kernelspec": {
      "name": "python3",
      "display_name": "Python 3"
    },
    "accelerator": "GPU"
  },
  "cells": [
    {
      "cell_type": "markdown",
      "metadata": {
        "id": "view-in-github",
        "colab_type": "text"
      },
      "source": [
        "<a href=\"https://colab.research.google.com/github/AjeetSingh02/Notebooks/blob/master/plots.ipynb\" target=\"_parent\"><img src=\"https://colab.research.google.com/assets/colab-badge.svg\" alt=\"Open In Colab\"/></a>"
      ]
    },
    {
      "cell_type": "code",
      "metadata": {
        "id": "lLYdCEyD6Xtq",
        "colab_type": "code",
        "colab": {}
      },
      "source": [
        "%%capture\n",
        "!pip install pandas_profiling==2.0.3"
      ],
      "execution_count": 0,
      "outputs": []
    },
    {
      "cell_type": "code",
      "metadata": {
        "id": "agJD22Rl65F-",
        "colab_type": "code",
        "outputId": "24cb99a4-0c1a-4e92-fa38-9a60040be149",
        "colab": {
          "base_uri": "https://localhost:8080/",
          "height": 102
        }
      },
      "source": [
        "import pandas as pd\n",
        "import time\n",
        "import pandas_profiling\n",
        "\n",
        "df = pd.read_csv(\"/content/sample_data/california_housing_train.csv\")\n",
        "\n",
        "start = time.time()\n",
        "\n",
        "profile = pandas_profiling.ProfileReport(df)\n",
        "parent_dict = profile.get_description()\n",
        "\n",
        "end = time.time()\n",
        "print(end - start)\n",
        "\n",
        "print(parent_dict.keys())\n",
        "print(len(parent_dict[\"table\"].keys()))\n",
        "print(parent_dict[\"correlations\"].keys())\n",
        "print(len(parent_dict[\"variables\"][\"households\"]))"
      ],
      "execution_count": 0,
      "outputs": [
        {
          "output_type": "stream",
          "text": [
            "20.233630657196045\n",
            "dict_keys(['table', 'variables', 'correlations', 'missing', 'messages'])\n",
            "21\n",
            "dict_keys(['pearson', 'spearman', 'kendall', 'phi_k'])\n",
            "43\n"
          ],
          "name": "stdout"
        }
      ]
    },
    {
      "cell_type": "code",
      "metadata": {
        "id": "pI_4CsT_6XgP",
        "colab_type": "code",
        "colab": {}
      },
      "source": [
        "%%capture\n",
        "!pip install simplejson"
      ],
      "execution_count": 0,
      "outputs": []
    },
    {
      "cell_type": "code",
      "metadata": {
        "id": "waEYgcU86XA4",
        "colab_type": "code",
        "colab": {}
      },
      "source": [
        ""
      ],
      "execution_count": 0,
      "outputs": []
    },
    {
      "cell_type": "code",
      "metadata": {
        "id": "okc9O5zqMZQy",
        "colab_type": "code",
        "colab": {}
      },
      "source": [
        "import pandas as pd\n",
        "import seaborn as sns\n",
        "import matplotlib.pyplot as plt"
      ],
      "execution_count": 0,
      "outputs": []
    },
    {
      "cell_type": "code",
      "metadata": {
        "id": "zVzt-MrqNLSh",
        "colab_type": "code",
        "colab": {}
      },
      "source": [
        "#Count Plot\n",
        "def plotCountCat(series, unique_class_limit, output_folder, count):\n",
        "  try:\n",
        "    class_count = len(series.value_counts())\n",
        "  except AttributeError as e:\n",
        "    print(f\"Series object not passed. Following exception encountered: {str(e)}\")\n",
        "    return count\n",
        "  \n",
        "  if class_count <= unique_class_limit:\n",
        "    x = class_count+4 if class_count < 11 else 15 \n",
        "    \n",
        "    fig, ax = plt.subplots(figsize=(x, 6))\n",
        "    plt.xticks(rotation=90)\n",
        "    \n",
        "    ax1 = sns.countplot(x=series, palette=\"Set3\")\n",
        "\n",
        "    ax1.set(ylabel='Number of occurances')\n",
        "    \n",
        "    try:\n",
        "      plot_name = series.name\n",
        "    except:\n",
        "      count += 1\n",
        "      plot_name = f\"catplot_{count}\"\n",
        "\n",
        "    fig.savefig(f\"{output_folder}{plot_name}.png\", bbox_inches = \"tight\")\n",
        "\n",
        "    plt.close(fig=None)\n",
        "\n",
        "  return count"
      ],
      "execution_count": 0,
      "outputs": []
    },
    {
      "cell_type": "code",
      "metadata": {
        "id": "1a17aDSeqF0D",
        "colab_type": "code",
        "colab": {}
      },
      "source": [
        "#cat Plot\n",
        "def plotcat(series, output_folder, count, unique_class_limit):\n",
        "  try:\n",
        "    class_count = len(series.unique())\n",
        "  except AttributeError as e:\n",
        "    print(f\"Series object not passed. Following exception encountered: {str(e)}\")\n",
        "    return count\n",
        "  \n",
        "  if class_count <= unique_class_limit:\n",
        "\n",
        "    data = pd.DataFrame({series.name: series.values, \"occurances\":series.index})\n",
        "\n",
        "    x = class_count + 6 if class_count < 9 else 15 \n",
        "    \n",
        "    fig, ax = plt.subplots(figsize=(x, 6))\n",
        "    plt.xticks(rotation=90)\n",
        "    \n",
        "    sns.catplot(x=series.name, y= \"occurances\", data=data, ax=ax)\n",
        "    \n",
        "    ax.set(xlabel=series.name, ylabel='occurances')\n",
        "\n",
        "    try:\n",
        "      plot_name = series.name\n",
        "    except:\n",
        "      count += 1\n",
        "      plot_name = f\"catplot_{count}\"\n",
        "\n",
        "    fig.savefig(f\"{output_folder}{plot_name}.png\", bbox_inches = \"tight\")\n",
        "\n",
        "    plt.close()\n",
        "\n",
        "  return count"
      ],
      "execution_count": 0,
      "outputs": []
    },
    {
      "cell_type": "code",
      "metadata": {
        "id": "DhUlpeqqUkTc",
        "colab_type": "code",
        "outputId": "766f5f69-d9db-432c-bc7b-3bfea37d6af2",
        "colab": {
          "base_uri": "https://localhost:8080/",
          "height": 510
        }
      },
      "source": [
        "plotcat(df[\"City\"], \"/content/out/\", 0, 35)"
      ],
      "execution_count": 0,
      "outputs": [
        {
          "output_type": "execute_result",
          "data": {
            "text/plain": [
              "0"
            ]
          },
          "metadata": {
            "tags": []
          },
          "execution_count": 207
        },
        {
          "output_type": "display_data",
          "data": {
            "image/png": "[encoded data removed]",
            "text/plain": [
              "<Figure size 1080x432 with 1 Axes>"
            ]
          },
          "metadata": {
            "tags": []
          }
        }
      ]
    },
    {
      "cell_type": "code",
      "metadata": {
        "id": "t7AKHoYwMWt5",
        "colab_type": "code",
        "outputId": "6aa86f93-eb6c-4d61-ecbd-7a86cabaff4e",
        "colab": {
          "base_uri": "https://localhost:8080/",
          "height": 134
        }
      },
      "source": [
        "df.head(1)"
      ],
      "execution_count": 0,
      "outputs": [
        {
          "output_type": "execute_result",
          "data": {
            "text/html": [
              "<div>\n",
              "<style scoped>\n",
              "    .dataframe tbody tr th:only-of-type {\n",
              "        vertical-align: middle;\n",
              "    }\n",
              "\n",
              "    .dataframe tbody tr th {\n",
              "        vertical-align: top;\n",
              "    }\n",
              "\n",
              "    .dataframe thead th {\n",
              "        text-align: right;\n",
              "    }\n",
              "</style>\n",
              "<table border=\"1\" class=\"dataframe\">\n",
              "  <thead>\n",
              "    <tr style=\"text-align: right;\">\n",
              "      <th></th>\n",
              "      <th>Id</th>\n",
              "      <th>Open Date</th>\n",
              "      <th>City</th>\n",
              "      <th>City Group</th>\n",
              "      <th>Type</th>\n",
              "      <th>P1</th>\n",
              "      <th>P2</th>\n",
              "      <th>P3</th>\n",
              "      <th>P4</th>\n",
              "      <th>P5</th>\n",
              "      <th>P6</th>\n",
              "      <th>P7</th>\n",
              "      <th>P8</th>\n",
              "      <th>P9</th>\n",
              "      <th>P10</th>\n",
              "      <th>P11</th>\n",
              "      <th>P12</th>\n",
              "      <th>P13</th>\n",
              "      <th>P14</th>\n",
              "      <th>P15</th>\n",
              "      <th>P16</th>\n",
              "      <th>P17</th>\n",
              "      <th>P18</th>\n",
              "      <th>P19</th>\n",
              "      <th>P20</th>\n",
              "      <th>P21</th>\n",
              "      <th>P22</th>\n",
              "      <th>P23</th>\n",
              "      <th>P24</th>\n",
              "      <th>P25</th>\n",
              "      <th>P26</th>\n",
              "      <th>P27</th>\n",
              "      <th>P28</th>\n",
              "      <th>P29</th>\n",
              "      <th>P30</th>\n",
              "      <th>P31</th>\n",
              "      <th>P32</th>\n",
              "      <th>P33</th>\n",
              "      <th>P34</th>\n",
              "      <th>P35</th>\n",
              "      <th>P36</th>\n",
              "      <th>P37</th>\n",
              "      <th>revenue</th>\n",
              "    </tr>\n",
              "  </thead>\n",
              "  <tbody>\n",
              "    <tr>\n",
              "      <th>0</th>\n",
              "      <td>0</td>\n",
              "      <td>07/17/1999</td>\n",
              "      <td>İstanbul</td>\n",
              "      <td>Big Cities</td>\n",
              "      <td>IL</td>\n",
              "      <td>4</td>\n",
              "      <td>5.0</td>\n",
              "      <td>4.0</td>\n",
              "      <td>4.0</td>\n",
              "      <td>2</td>\n",
              "      <td>2</td>\n",
              "      <td>5</td>\n",
              "      <td>4</td>\n",
              "      <td>5</td>\n",
              "      <td>5</td>\n",
              "      <td>3</td>\n",
              "      <td>5</td>\n",
              "      <td>5.0</td>\n",
              "      <td>1</td>\n",
              "      <td>2</td>\n",
              "      <td>2</td>\n",
              "      <td>2</td>\n",
              "      <td>4</td>\n",
              "      <td>5</td>\n",
              "      <td>4</td>\n",
              "      <td>1</td>\n",
              "      <td>3</td>\n",
              "      <td>3</td>\n",
              "      <td>1</td>\n",
              "      <td>1</td>\n",
              "      <td>1.0</td>\n",
              "      <td>4.0</td>\n",
              "      <td>2.0</td>\n",
              "      <td>3.0</td>\n",
              "      <td>5</td>\n",
              "      <td>3</td>\n",
              "      <td>4</td>\n",
              "      <td>5</td>\n",
              "      <td>5</td>\n",
              "      <td>4</td>\n",
              "      <td>3</td>\n",
              "      <td>4</td>\n",
              "      <td>5653753.0</td>\n",
              "    </tr>\n",
              "  </tbody>\n",
              "</table>\n",
              "</div>"
            ],
            "text/plain": [
              "   Id   Open Date      City  City Group Type  ...  P34  P35  P36  P37    revenue\n",
              "0   0  07/17/1999  İstanbul  Big Cities   IL  ...    5    4    3    4  5653753.0\n",
              "\n",
              "[1 rows x 43 columns]"
            ]
          },
          "metadata": {
            "tags": []
          },
          "execution_count": 12
        }
      ]
    },
    {
      "cell_type": "code",
      "metadata": {
        "id": "ehMTRnMRLJKT",
        "colab_type": "code",
        "outputId": "86580471-01db-429e-97f1-99d263edc9e7",
        "colab": {
          "base_uri": "https://localhost:8080/",
          "height": 437
        }
      },
      "source": [
        "ax = sns.boxenplot(x=df[\"revenue\"])"
      ],
      "execution_count": 0,
      "outputs": [
        {
          "output_type": "stream",
          "text": [
            "'c' argument looks like a single numeric RGB or RGBA sequence, which should be avoided as value-mapping will have precedence in case its length matches with 'x' & 'y'.  Please use a 2-D array with a single row if you really want to specify the same RGB or RGBA value for all points.\n"
          ],
          "name": "stderr"
        },
        {
          "output_type": "display_data",
          "data": {
            "image/png": "[encoded data removed]",
            "text/plain": [
              "<Figure size 1080x432 with 1 Axes>"
            ]
          },
          "metadata": {
            "tags": []
          }
        }
      ]
    },
    {
      "cell_type": "code",
      "metadata": {
        "id": "493Pn-F1q_tY",
        "colab_type": "code",
        "colab": {}
      },
      "source": [
        "'''This script will make univariate plots for all numerical and \"string\" type non-binary \n",
        "columns in a Pandas DataFrame and save them in .png format'''\n",
        "\n",
        "'''only columns with no NaNs will be plotted'''\n",
        "\n",
        "import pandas as pd\n",
        "import seaborn as sns\n",
        "import matplotlib.pyplot as plt\n",
        "plt.switch_backend('agg')\n",
        "\n",
        "#for numerical columns\n",
        "def plotbox(series, output_folder, count, whis):\n",
        "  fig1, ax1 = plt.subplots(figsize=(14,7))\n",
        "  ax1.grid(b=None)\n",
        "  plt.grid(b=None)\n",
        "  \n",
        "  ax1.set_title(series.name)\n",
        "  \n",
        "  ret_dict = ax1.boxplot(series, vert=False, widths=0.8, patch_artist=True, sym =\"b\", whis=whis)\n",
        "  \n",
        "  median = ret_dict[\"medians\"][0]._x[0]\n",
        "  q1 = ret_dict[\"boxes\"][0]._path._vertices[0][0]\n",
        "  q3 = ret_dict[\"boxes\"][0]._path._vertices[2][0]\n",
        "  whisker_cap1 = ret_dict[\"caps\"][0]._x[0]\n",
        "  whisker_cap2 = ret_dict[\"caps\"][1]._x[0]\n",
        "  \n",
        "  loc_q1 = ret_dict[\"boxes\"][0]._path._vertices[1][1]\n",
        "  loc_q2 = ret_dict[\"boxes\"][0]._path._vertices[0][1]\n",
        "  loc_whisk1 = ret_dict[\"caps\"][0]._y[1]\n",
        "  loc_whisk2 = ret_dict[\"caps\"][1]._y[0]\n",
        "  \n",
        "  clr = 'lightcoral'\n",
        "  fsize = 12\n",
        "  ax1.text(median, 1.03, f\"median = {median:,.2f}\", fontsize=fsize, color=clr)\n",
        "  ax1.text(q1, loc_q1+0.02, f\"1st Quarter = {q1:,.2f}\",  fontsize=fsize, color=clr)\n",
        "  ax1.text(q3, loc_q2-0.02, f\"3rd Quarter = {q3:,.2f}\",  fontsize=fsize, color=clr)\n",
        "  ax1.text(whisker_cap1, loc_whisk1+0.02, f\"leftmost inlier = {whisker_cap1:,.2f}\",  fontsize=fsize, color=clr)\n",
        "  ax1.text(whisker_cap2, loc_whisk2-0.02, f\"rightmost inlier = {whisker_cap2:,.2f}\",  fontsize=fsize, color=clr)\n",
        "  \n",
        "  try:\n",
        "    plot_name = series.name\n",
        "  except:\n",
        "    count += 1\n",
        "    plot_name = f\"boxplot_{count}\"\n",
        "    \n",
        "  fig1.savefig(f\"{output_folder}{plot_name}.png\")\n",
        "  plt.close()\n",
        "  \n",
        "  return count\n",
        "\t\n",
        "#For \"string\" type variables\n",
        "def plotCountCat(series, output_folder, count, unique_class_limit):\n",
        "  try:\n",
        "    class_count = len(series.value_counts())\n",
        "  except AttributeError as e:\n",
        "    print(f\"Series object not passed. Following exception encountered: {str(e)}\")\n",
        "    return count\n",
        "    \n",
        "  if class_count <= unique_class_limit:\n",
        "    x = class_count+4 if class_count < 11 else 15 \n",
        "    \n",
        "    fig, ax = plt.subplots(figsize=(x, 6))\n",
        "    plt.xticks(rotation=90)\n",
        "    \n",
        "    ax1 = sns.countplot(x=series, palette=\"Set3\")\n",
        "    \n",
        "    try:\n",
        "      plot_name = series.name\n",
        "      \n",
        "    except:\n",
        "      count += 1\n",
        "      plot_name = f\"catplot_{count}\"\n",
        "      \n",
        "    ax1.set(xlabel=plot_name, ylabel='Number of occurances')\n",
        "        \n",
        "    fig.savefig(f\"{output_folder}{plot_name}.png\", bbox_inches = \"tight\")\n",
        "        \n",
        "    plt.close()\n",
        "        \n",
        "    return count\n",
        "\t\t\n",
        "\t\t\n",
        "def plots(df, output_folder, whis, unique_class_limit):\n",
        "  count = 0\n",
        "  for i in range(len(df.columns)):\n",
        "    series = df.iloc[:,i]\n",
        "    \n",
        "    if sorted(list(series.unique())) != [0,1] and not series.isna().any():\n",
        "      if series.dtype == \"O\":\n",
        "        count = plotCountCat(series, output_folder, count, unique_class_limit)\n",
        "      else:\n",
        "        count = plotbox(series, output_folder, count, whis)"
      ],
      "execution_count": 0,
      "outputs": []
    },
    {
      "cell_type": "code",
      "metadata": {
        "id": "MewMQoSh4mw9",
        "colab_type": "code",
        "colab": {}
      },
      "source": [
        ""
      ],
      "execution_count": 0,
      "outputs": []
    },
    {
      "cell_type": "code",
      "metadata": {
        "id": "axFaY9W44m2u",
        "colab_type": "code",
        "colab": {}
      },
      "source": [
        "df = pd.read_csv(\"/content/sample_data/california_housing_test.csv\")"
      ],
      "execution_count": 0,
      "outputs": []
    },
    {
      "cell_type": "code",
      "metadata": {
        "id": "dTZZ8n8Y4_CC",
        "colab_type": "code",
        "outputId": "c92f41ee-9b14-46ad-eed6-48062c0c8a5c",
        "colab": {
          "base_uri": "https://localhost:8080/",
          "height": 100
        }
      },
      "source": [
        "df.head(1)"
      ],
      "execution_count": 0,
      "outputs": [
        {
          "output_type": "execute_result",
          "data": {
            "text/html": [
              "<div>\n",
              "<style scoped>\n",
              "    .dataframe tbody tr th:only-of-type {\n",
              "        vertical-align: middle;\n",
              "    }\n",
              "\n",
              "    .dataframe tbody tr th {\n",
              "        vertical-align: top;\n",
              "    }\n",
              "\n",
              "    .dataframe thead th {\n",
              "        text-align: right;\n",
              "    }\n",
              "</style>\n",
              "<table border=\"1\" class=\"dataframe\">\n",
              "  <thead>\n",
              "    <tr style=\"text-align: right;\">\n",
              "      <th></th>\n",
              "      <th>longitude</th>\n",
              "      <th>latitude</th>\n",
              "      <th>housing_median_age</th>\n",
              "      <th>total_rooms</th>\n",
              "      <th>total_bedrooms</th>\n",
              "      <th>population</th>\n",
              "      <th>households</th>\n",
              "      <th>median_income</th>\n",
              "      <th>median_house_value</th>\n",
              "    </tr>\n",
              "  </thead>\n",
              "  <tbody>\n",
              "    <tr>\n",
              "      <th>0</th>\n",
              "      <td>-122.05</td>\n",
              "      <td>37.37</td>\n",
              "      <td>27.0</td>\n",
              "      <td>3885.0</td>\n",
              "      <td>661.0</td>\n",
              "      <td>1537.0</td>\n",
              "      <td>606.0</td>\n",
              "      <td>6.6085</td>\n",
              "      <td>344700.0</td>\n",
              "    </tr>\n",
              "  </tbody>\n",
              "</table>\n",
              "</div>"
            ],
            "text/plain": [
              "   longitude  latitude  ...  median_income  median_house_value\n",
              "0    -122.05     37.37  ...         6.6085            344700.0\n",
              "\n",
              "[1 rows x 9 columns]"
            ]
          },
          "metadata": {
            "tags": []
          },
          "execution_count": 3
        }
      ]
    },
    {
      "cell_type": "code",
      "metadata": {
        "id": "4sTnok2o4qF9",
        "colab_type": "code",
        "colab": {}
      },
      "source": [
        "ax = sns.boxenplot(x=df[\"revenue\"])"
      ],
      "execution_count": 0,
      "outputs": []
    },
    {
      "cell_type": "code",
      "metadata": {
        "id": "zN0BP2P049cG",
        "colab_type": "code",
        "colab": {}
      },
      "source": [
        "series = df.total_bedrooms"
      ],
      "execution_count": 0,
      "outputs": []
    },
    {
      "cell_type": "code",
      "metadata": {
        "id": "aFpmYfeg4m6w",
        "colab_type": "code",
        "outputId": "06edb3ae-1f13-40ee-cdf0-e790576dbb2d",
        "colab": {
          "base_uri": "https://localhost:8080/",
          "height": 444
        }
      },
      "source": [
        "fig1, ax1 = plt.subplots(figsize=(14,7))\n",
        "ax1.grid(b=None)\n",
        "plt.grid(b=None)\n",
        "\n",
        "ax1.set_title(series.name)\n",
        "\n",
        "ret_dict = ax1.boxplot(series, vert=False, widths=0.8, patch_artist=True, sym =\"b\")"
      ],
      "execution_count": 0,
      "outputs": [
        {
          "output_type": "display_data",
          "data": {
            "image/png": "[encoded data removed]",
            "text/plain": [
              "<Figure size 1008x504 with 1 Axes>"
            ]
          },
          "metadata": {
            "tags": []
          }
        }
      ]
    },
    {
      "cell_type": "code",
      "metadata": {
        "id": "9nne4WAV5WMF",
        "colab_type": "code",
        "outputId": "e5d53ef9-6018-4b36-cb8b-8b8fe4757368",
        "colab": {
          "base_uri": "https://localhost:8080/",
          "height": 496
        }
      },
      "source": [
        "# sns.catplot(x=series.name, y= \"occurances\", data=data, ax=ax)\n",
        "\n",
        "\n",
        "fig1, ax1 = plt.subplots(figsize=(14,7))\n",
        "ax1.grid(b=None)\n",
        "plt.grid(b=None)\n",
        "\n",
        "ax1.set_title(series.name)\n",
        "\n",
        "# ret_dict = ax1.boxplot(series, vert=False, widths=0.8, patch_artist=True, sym =\"b\")\n",
        "\n",
        "ax = sns.boxenplot(x=series, ax=ax1)"
      ],
      "execution_count": 0,
      "outputs": [
        {
          "output_type": "stream",
          "text": [
            "'c' argument looks like a single numeric RGB or RGBA sequence, which should be avoided as value-mapping will have precedence in case its length matches with 'x' & 'y'.  Please use a 2-D array with a single row if you really want to specify the same RGB or RGBA value for all points.\n"
          ],
          "name": "stderr"
        },
        {
          "output_type": "display_data",
          "data": {
            "image/png": "[encoded data removed]",
            "text/plain": [
              "<Figure size 1008x504 with 1 Axes>"
            ]
          },
          "metadata": {
            "tags": []
          }
        }
      ]
    },
    {
      "cell_type": "code",
      "metadata": {
        "id": "PbZ_zesV4m0i",
        "colab_type": "code",
        "outputId": "6feeebf2-1f06-4902-c4a5-2e131676bec8",
        "colab": {
          "base_uri": "https://localhost:8080/",
          "height": 1000
        }
      },
      "source": [
        "ax.__dict__"
      ],
      "execution_count": 0,
      "outputs": [
        {
          "output_type": "execute_result",
          "data": {
            "text/plain": [
              "{'_adjustable': 'box',\n",
              " '_agg_filter': None,\n",
              " '_alpha': None,\n",
              " '_anchor': 'C',\n",
              " '_animated': False,\n",
              " '_aspect': 'auto',\n",
              " '_autoscaleXon': True,\n",
              " '_autoscaleYon': True,\n",
              " '_autotitlepos': True,\n",
              " '_axes': <matplotlib.axes._subplots.AxesSubplot at 0x7f01614e89e8>,\n",
              " '_axes_locator': None,\n",
              " '_axisbelow': 'line',\n",
              " '_clipon': True,\n",
              " '_clippath': None,\n",
              " '_connected': {},\n",
              " '_contains': None,\n",
              " '_current_image': None,\n",
              " '_facecolor': 'white',\n",
              " '_frameon': True,\n",
              " '_get_lines': <matplotlib.axes._base._process_plot_var_args at 0x7f016148e978>,\n",
              " '_get_patches_for_fill': <matplotlib.axes._base._process_plot_var_args at 0x7f016149df60>,\n",
              " '_gid': None,\n",
              " '_gridOn': False,\n",
              " '_in_layout': True,\n",
              " '_label': '',\n",
              " '_layoutbox': None,\n",
              " '_left_title': Text(0.0, 1, ''),\n",
              " '_mouseover': False,\n",
              " '_mouseover_set': <matplotlib.cbook._OrderedSet at 0x7f016149d470>,\n",
              " '_navigate': True,\n",
              " '_navigate_mode': None,\n",
              " '_oid': 0,\n",
              " '_originalPosition': Bbox([[0.125, 0.125], [0.9, 0.88]]),\n",
              " '_path_effects': [],\n",
              " '_picker': None,\n",
              " '_position': Bbox([[0.125, 0.125], [0.9, 0.88]]),\n",
              " '_poslayoutbox': None,\n",
              " '_propobservers': {},\n",
              " '_rasterization_zorder': None,\n",
              " '_rasterized': None,\n",
              " '_remove_method': <bound method Figure._remove_ax of <Figure size 1008x504 with 1 Axes>>,\n",
              " '_right_title': Text(1.0, 1, ''),\n",
              " '_sharex': None,\n",
              " '_sharey': None,\n",
              " '_sketch': None,\n",
              " '_snap': None,\n",
              " '_stale': True,\n",
              " '_sticky_edges': _XYPair(x=[], y=[]),\n",
              " '_subplotspec': <matplotlib.gridspec.SubplotSpec at 0x7f01614e8320>,\n",
              " '_tight': None,\n",
              " '_transform': None,\n",
              " '_transformSet': False,\n",
              " '_url': None,\n",
              " '_use_sticky_edges': True,\n",
              " '_visible': True,\n",
              " '_xaxis_transform': <matplotlib.transforms.BlendedGenericTransform at 0x7f016147ee80>,\n",
              " '_xcid': 0,\n",
              " '_xmargin': 0.05,\n",
              " '_yaxis_transform': <matplotlib.transforms.BlendedGenericTransform at 0x7f016147e550>,\n",
              " '_ycid': 0,\n",
              " '_ymargin': 0.05,\n",
              " 'artists': [],\n",
              " 'axison': True,\n",
              " 'bbox': <matplotlib.transforms.TransformedBbox at 0x7f01614e8278>,\n",
              " 'callbacks': <matplotlib.cbook.CallbackRegistry at 0x7f0161494da0>,\n",
              " 'child_axes': [],\n",
              " 'clipbox': None,\n",
              " 'colNum': 0,\n",
              " 'collections': [<matplotlib.collections.PathCollection at 0x7f015ec4b2e8>,\n",
              "  <matplotlib.collections.PatchCollection at 0x7f015ec4b6a0>],\n",
              " 'containers': [],\n",
              " 'dataLim': Bbox([[1.8433611844625375, -0.4], [5419.156638815537, 0.40000000000000013]]),\n",
              " 'eventson': False,\n",
              " 'figbox': Bbox([[0.125, 0.125], [0.9, 0.88]]),\n",
              " 'figure': <Figure size 1008x504 with 1 Axes>,\n",
              " 'fmt_xdata': None,\n",
              " 'fmt_ydata': None,\n",
              " 'ignore_existing_data_limits': False,\n",
              " 'images': [],\n",
              " 'legend_': None,\n",
              " 'lines': [<matplotlib.lines.Line2D at 0x7f015ec40710>],\n",
              " 'numCols': 1,\n",
              " 'numRows': 1,\n",
              " 'patch': <matplotlib.patches.Rectangle at 0x7f01614ae048>,\n",
              " 'patches': [],\n",
              " 'rowNum': 0,\n",
              " 'spines': OrderedDict([('left', <matplotlib.spines.Spine at 0x7f016147e6a0>),\n",
              "              ('right', <matplotlib.spines.Spine at 0x7f0161494f60>),\n",
              "              ('bottom', <matplotlib.spines.Spine at 0x7f0161494b70>),\n",
              "              ('top', <matplotlib.spines.Spine at 0x7f0161494f28>)]),\n",
              " 'stale_callback': <function matplotlib.figure._stale_figure_callback>,\n",
              " 'tables': [],\n",
              " 'texts': [],\n",
              " 'title': Text(0.5, 1, 'total_bedrooms'),\n",
              " 'titleOffsetTrans': <matplotlib.transforms.ScaledTranslation at 0x7f0161529240>,\n",
              " 'transAxes': <matplotlib.transforms.BboxTransformTo at 0x7f01614e8eb8>,\n",
              " 'transData': <matplotlib.transforms.CompositeGenericTransform at 0x7f0161bc3c88>,\n",
              " 'transLimits': <matplotlib.transforms.BboxTransformFrom at 0x7f01614e8fd0>,\n",
              " 'transScale': <matplotlib.transforms.TransformWrapper at 0x7f0161b34358>,\n",
              " 'viewLim': Bbox([[-269.02230269709116, 0.5], [5690.022302697091, -0.5]]),\n",
              " 'xaxis': <matplotlib.axis.XAxis at 0x7f016147ed68>,\n",
              " 'yaxis': <matplotlib.axis.YAxis at 0x7f0161494ac8>}"
            ]
          },
          "metadata": {
            "tags": []
          },
          "execution_count": 13
        }
      ]
    },
    {
      "cell_type": "code",
      "metadata": {
        "id": "O3kPXHCY4muW",
        "colab_type": "code",
        "colab": {}
      },
      "source": [
        ""
      ],
      "execution_count": 0,
      "outputs": []
    }
  ]
}