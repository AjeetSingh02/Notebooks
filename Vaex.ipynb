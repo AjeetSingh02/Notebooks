{
  "nbformat": 4,
  "nbformat_minor": 0,
  "metadata": {
    "colab": {
      "name": "Vaex.ipynb",
      "provenance": [],
      "authorship_tag": "ABX9TyNzrlwlEPfsrhNzViOmFn2w",
      "include_colab_link": true
    },
    "kernelspec": {
      "name": "python3",
      "display_name": "Python 3"
    }
  },
  "cells": [
    {
      "cell_type": "markdown",
      "metadata": {
        "id": "view-in-github",
        "colab_type": "text"
      },
      "source": [
        "<a href=\"https://colab.research.google.com/github/AjeetSingh02/Notebooks/blob/master/Vaex.ipynb\" target=\"_parent\"><img src=\"https://colab.research.google.com/assets/colab-badge.svg\" alt=\"Open In Colab\"/></a>"
      ]
    },
    {
      "cell_type": "code",
      "metadata": {
        "id": "qc1J7fIj9E-2",
        "colab_type": "code",
        "colab": {}
      },
      "source": [
        "%%capture\n",
        "! pip install --upgrade vaex"
      ],
      "execution_count": 0,
      "outputs": []
    },
    {
      "cell_type": "code",
      "metadata": {
        "id": "GxC18hc29ls-",
        "colab_type": "code",
        "colab": {}
      },
      "source": [
        "import vaex\n",
        "import pandas as pd\n",
        "\n",
        "import numpy as np"
      ],
      "execution_count": 0,
      "outputs": []
    },
    {
      "cell_type": "code",
      "metadata": {
        "id": "8HijWt1s9rKb",
        "colab_type": "code",
        "colab": {}
      },
      "source": [
        "path = \"/content/sample_data/california_housing_train.csv\"\n",
        "pandas_df = pd.read_csv(path) \n",
        "vaex_df = vaex.from_csv(path, copy_index=True)"
      ],
      "execution_count": 0,
      "outputs": []
    },
    {
      "cell_type": "code",
      "metadata": {
        "id": "xVwb1pAVSVIN",
        "colab_type": "code",
        "outputId": "74c75265-2600-46f0-f47c-e7dd566520bd",
        "colab": {
          "base_uri": "https://localhost:8080/",
          "height": 204
        }
      },
      "source": [
        "!wget http://vaex.astro.rug.nl/data/helmi-dezeeuw-2000-10p.hdf5"
      ],
      "execution_count": 0,
      "outputs": [
        {
          "output_type": "stream",
          "text": [
            "--2020-03-09 07:53:20--  http://vaex.astro.rug.nl/data/helmi-dezeeuw-2000-10p.hdf5\n",
            "Resolving vaex.astro.rug.nl (vaex.astro.rug.nl)... 129.125.6.3\n",
            "Connecting to vaex.astro.rug.nl (vaex.astro.rug.nl)|129.125.6.3|:80... connected.\n",
            "HTTP request sent, awaiting response... 301 Moved Permanently\n",
            "Location: https://vaex.io/data/helmi-dezeeuw-2000-10p.hdf5 [following]\n",
            "--2020-03-09 07:53:21--  https://vaex.io/data/helmi-dezeeuw-2000-10p.hdf5\n",
            "Resolving vaex.io (vaex.io)... 104.27.177.135, 104.27.176.135, 2606:4700:3035::681b:b187, ...\n",
            "Connecting to vaex.io (vaex.io)|104.27.177.135|:443... connected.\n",
            "HTTP request sent, awaiting response... 404 Not Found\n",
            "2020-03-09 07:53:21 ERROR 404: Not Found.\n",
            "\n"
          ],
          "name": "stdout"
        }
      ]
    },
    {
      "cell_type": "code",
      "metadata": {
        "id": "zdsFlQkL_C12",
        "colab_type": "code",
        "outputId": "e9978e9a-a57d-482d-a9c3-d429aaf4a4e0",
        "colab": {
          "base_uri": "https://localhost:8080/",
          "height": 271
        }
      },
      "source": [
        "vaex_df"
      ],
      "execution_count": 0,
      "outputs": [
        {
          "output_type": "execute_result",
          "data": {
            "text/plain": [
              "#       longitude    latitude    housing_median_age    total_rooms    total_bedrooms    population    households    median_income    median_house_value    index\n",
              "0       -114.31      34.19       15.0                  5612.0         1283.0            1015.0        472.0         1.4936           66900.0               0\n",
              "1       -114.47      34.4        19.0                  7650.0         1901.0            1129.0        463.0         1.82             80100.0               1\n",
              "2       -114.56      33.69       17.0                  720.0          174.0             333.0         117.0         1.6509           85700.0               2\n",
              "3       -114.57      33.64       14.0                  1501.0         337.0             515.0         226.0         3.1917           73400.0               3\n",
              "4       -114.57      33.57       20.0                  1454.0         326.0             624.0         262.0         1.925            65500.0               4\n",
              "...     ...          ...         ...                   ...            ...               ...           ...           ...              ...                   ...\n",
              "16,995  -124.26      40.58       52.0                  2217.0         394.0             907.0         369.0         2.3571           111400.0              16995\n",
              "16,996  -124.27      40.69       36.0                  2349.0         528.0             1194.0        465.0         2.5179           79000.0               16996\n",
              "16,997  -124.3       41.84       17.0                  2677.0         531.0             1244.0        456.0         3.0313           103600.0              16997\n",
              "16,998  -124.3       41.8        19.0                  2672.0         552.0             1298.0        478.0         1.9797           85800.0               16998\n",
              "16,999  -124.35      40.54       52.0                  1820.0         300.0             806.0         270.0         3.0147           94600.0               16999"
            ],
            "text/html": [
              "<table>\n",
              "<thead>\n",
              "<tr><th>#                                 </th><th>longitude  </th><th>latitude  </th><th>housing_median_age  </th><th>total_rooms  </th><th>total_bedrooms  </th><th>population  </th><th>households  </th><th>median_income  </th><th>median_house_value  </th><th>index  </th></tr>\n",
              "</thead>\n",
              "<tbody>\n",
              "<tr><td><i style='opacity: 0.6'>0</i>     </td><td>-114.31    </td><td>34.19     </td><td>15.0                </td><td>5612.0       </td><td>1283.0          </td><td>1015.0      </td><td>472.0       </td><td>1.4936         </td><td>66900.0             </td><td>0      </td></tr>\n",
              "<tr><td><i style='opacity: 0.6'>1</i>     </td><td>-114.47    </td><td>34.4      </td><td>19.0                </td><td>7650.0       </td><td>1901.0          </td><td>1129.0      </td><td>463.0       </td><td>1.82           </td><td>80100.0             </td><td>1      </td></tr>\n",
              "<tr><td><i style='opacity: 0.6'>2</i>     </td><td>-114.56    </td><td>33.69     </td><td>17.0                </td><td>720.0        </td><td>174.0           </td><td>333.0       </td><td>117.0       </td><td>1.6509         </td><td>85700.0             </td><td>2      </td></tr>\n",
              "<tr><td><i style='opacity: 0.6'>3</i>     </td><td>-114.57    </td><td>33.64     </td><td>14.0                </td><td>1501.0       </td><td>337.0           </td><td>515.0       </td><td>226.0       </td><td>3.1917         </td><td>73400.0             </td><td>3      </td></tr>\n",
              "<tr><td><i style='opacity: 0.6'>4</i>     </td><td>-114.57    </td><td>33.57     </td><td>20.0                </td><td>1454.0       </td><td>326.0           </td><td>624.0       </td><td>262.0       </td><td>1.925          </td><td>65500.0             </td><td>4      </td></tr>\n",
              "<tr><td>...                               </td><td>...        </td><td>...       </td><td>...                 </td><td>...          </td><td>...             </td><td>...         </td><td>...         </td><td>...            </td><td>...                 </td><td>...    </td></tr>\n",
              "<tr><td><i style='opacity: 0.6'>16,995</i></td><td>-124.26    </td><td>40.58     </td><td>52.0                </td><td>2217.0       </td><td>394.0           </td><td>907.0       </td><td>369.0       </td><td>2.3571         </td><td>111400.0            </td><td>16995  </td></tr>\n",
              "<tr><td><i style='opacity: 0.6'>16,996</i></td><td>-124.27    </td><td>40.69     </td><td>36.0                </td><td>2349.0       </td><td>528.0           </td><td>1194.0      </td><td>465.0       </td><td>2.5179         </td><td>79000.0             </td><td>16996  </td></tr>\n",
              "<tr><td><i style='opacity: 0.6'>16,997</i></td><td>-124.3     </td><td>41.84     </td><td>17.0                </td><td>2677.0       </td><td>531.0           </td><td>1244.0      </td><td>456.0       </td><td>3.0313         </td><td>103600.0            </td><td>16997  </td></tr>\n",
              "<tr><td><i style='opacity: 0.6'>16,998</i></td><td>-124.3     </td><td>41.8      </td><td>19.0                </td><td>2672.0       </td><td>552.0           </td><td>1298.0      </td><td>478.0       </td><td>1.9797         </td><td>85800.0             </td><td>16998  </td></tr>\n",
              "<tr><td><i style='opacity: 0.6'>16,999</i></td><td>-124.35    </td><td>40.54     </td><td>52.0                </td><td>1820.0       </td><td>300.0           </td><td>806.0       </td><td>270.0       </td><td>3.0147         </td><td>94600.0             </td><td>16999  </td></tr>\n",
              "</tbody>\n",
              "</table>"
            ]
          },
          "metadata": {
            "tags": []
          },
          "execution_count": 11
        }
      ]
    },
    {
      "cell_type": "code",
      "metadata": {
        "id": "5X6S2219-LV-",
        "colab_type": "code",
        "outputId": "5ef58165-3db8-424e-fae6-a004644f3042",
        "colab": {
          "base_uri": "https://localhost:8080/",
          "height": 419
        }
      },
      "source": [
        "pandas_df"
      ],
      "execution_count": 0,
      "outputs": [
        {
          "output_type": "execute_result",
          "data": {
            "text/html": [
              "<div>\n",
              "<style scoped>\n",
              "    .dataframe tbody tr th:only-of-type {\n",
              "        vertical-align: middle;\n",
              "    }\n",
              "\n",
              "    .dataframe tbody tr th {\n",
              "        vertical-align: top;\n",
              "    }\n",
              "\n",
              "    .dataframe thead th {\n",
              "        text-align: right;\n",
              "    }\n",
              "</style>\n",
              "<table border=\"1\" class=\"dataframe\">\n",
              "  <thead>\n",
              "    <tr style=\"text-align: right;\">\n",
              "      <th></th>\n",
              "      <th>longitude</th>\n",
              "      <th>latitude</th>\n",
              "      <th>housing_median_age</th>\n",
              "      <th>total_rooms</th>\n",
              "      <th>total_bedrooms</th>\n",
              "      <th>population</th>\n",
              "      <th>households</th>\n",
              "      <th>median_income</th>\n",
              "      <th>median_house_value</th>\n",
              "    </tr>\n",
              "  </thead>\n",
              "  <tbody>\n",
              "    <tr>\n",
              "      <th>0</th>\n",
              "      <td>-114.31</td>\n",
              "      <td>34.19</td>\n",
              "      <td>15.0</td>\n",
              "      <td>5612.0</td>\n",
              "      <td>1283.0</td>\n",
              "      <td>1015.0</td>\n",
              "      <td>472.0</td>\n",
              "      <td>1.4936</td>\n",
              "      <td>66900.0</td>\n",
              "    </tr>\n",
              "    <tr>\n",
              "      <th>1</th>\n",
              "      <td>-114.47</td>\n",
              "      <td>34.40</td>\n",
              "      <td>19.0</td>\n",
              "      <td>7650.0</td>\n",
              "      <td>1901.0</td>\n",
              "      <td>1129.0</td>\n",
              "      <td>463.0</td>\n",
              "      <td>1.8200</td>\n",
              "      <td>80100.0</td>\n",
              "    </tr>\n",
              "    <tr>\n",
              "      <th>2</th>\n",
              "      <td>-114.56</td>\n",
              "      <td>33.69</td>\n",
              "      <td>17.0</td>\n",
              "      <td>720.0</td>\n",
              "      <td>174.0</td>\n",
              "      <td>333.0</td>\n",
              "      <td>117.0</td>\n",
              "      <td>1.6509</td>\n",
              "      <td>85700.0</td>\n",
              "    </tr>\n",
              "    <tr>\n",
              "      <th>3</th>\n",
              "      <td>-114.57</td>\n",
              "      <td>33.64</td>\n",
              "      <td>14.0</td>\n",
              "      <td>1501.0</td>\n",
              "      <td>337.0</td>\n",
              "      <td>515.0</td>\n",
              "      <td>226.0</td>\n",
              "      <td>3.1917</td>\n",
              "      <td>73400.0</td>\n",
              "    </tr>\n",
              "    <tr>\n",
              "      <th>4</th>\n",
              "      <td>-114.57</td>\n",
              "      <td>33.57</td>\n",
              "      <td>20.0</td>\n",
              "      <td>1454.0</td>\n",
              "      <td>326.0</td>\n",
              "      <td>624.0</td>\n",
              "      <td>262.0</td>\n",
              "      <td>1.9250</td>\n",
              "      <td>65500.0</td>\n",
              "    </tr>\n",
              "    <tr>\n",
              "      <th>...</th>\n",
              "      <td>...</td>\n",
              "      <td>...</td>\n",
              "      <td>...</td>\n",
              "      <td>...</td>\n",
              "      <td>...</td>\n",
              "      <td>...</td>\n",
              "      <td>...</td>\n",
              "      <td>...</td>\n",
              "      <td>...</td>\n",
              "    </tr>\n",
              "    <tr>\n",
              "      <th>16995</th>\n",
              "      <td>-124.26</td>\n",
              "      <td>40.58</td>\n",
              "      <td>52.0</td>\n",
              "      <td>2217.0</td>\n",
              "      <td>394.0</td>\n",
              "      <td>907.0</td>\n",
              "      <td>369.0</td>\n",
              "      <td>2.3571</td>\n",
              "      <td>111400.0</td>\n",
              "    </tr>\n",
              "    <tr>\n",
              "      <th>16996</th>\n",
              "      <td>-124.27</td>\n",
              "      <td>40.69</td>\n",
              "      <td>36.0</td>\n",
              "      <td>2349.0</td>\n",
              "      <td>528.0</td>\n",
              "      <td>1194.0</td>\n",
              "      <td>465.0</td>\n",
              "      <td>2.5179</td>\n",
              "      <td>79000.0</td>\n",
              "    </tr>\n",
              "    <tr>\n",
              "      <th>16997</th>\n",
              "      <td>-124.30</td>\n",
              "      <td>41.84</td>\n",
              "      <td>17.0</td>\n",
              "      <td>2677.0</td>\n",
              "      <td>531.0</td>\n",
              "      <td>1244.0</td>\n",
              "      <td>456.0</td>\n",
              "      <td>3.0313</td>\n",
              "      <td>103600.0</td>\n",
              "    </tr>\n",
              "    <tr>\n",
              "      <th>16998</th>\n",
              "      <td>-124.30</td>\n",
              "      <td>41.80</td>\n",
              "      <td>19.0</td>\n",
              "      <td>2672.0</td>\n",
              "      <td>552.0</td>\n",
              "      <td>1298.0</td>\n",
              "      <td>478.0</td>\n",
              "      <td>1.9797</td>\n",
              "      <td>85800.0</td>\n",
              "    </tr>\n",
              "    <tr>\n",
              "      <th>16999</th>\n",
              "      <td>-124.35</td>\n",
              "      <td>40.54</td>\n",
              "      <td>52.0</td>\n",
              "      <td>1820.0</td>\n",
              "      <td>300.0</td>\n",
              "      <td>806.0</td>\n",
              "      <td>270.0</td>\n",
              "      <td>3.0147</td>\n",
              "      <td>94600.0</td>\n",
              "    </tr>\n",
              "  </tbody>\n",
              "</table>\n",
              "<p>17000 rows × 9 columns</p>\n",
              "</div>"
            ],
            "text/plain": [
              "       longitude  latitude  ...  median_income  median_house_value\n",
              "0        -114.31     34.19  ...         1.4936             66900.0\n",
              "1        -114.47     34.40  ...         1.8200             80100.0\n",
              "2        -114.56     33.69  ...         1.6509             85700.0\n",
              "3        -114.57     33.64  ...         3.1917             73400.0\n",
              "4        -114.57     33.57  ...         1.9250             65500.0\n",
              "...          ...       ...  ...            ...                 ...\n",
              "16995    -124.26     40.58  ...         2.3571            111400.0\n",
              "16996    -124.27     40.69  ...         2.5179             79000.0\n",
              "16997    -124.30     41.84  ...         3.0313            103600.0\n",
              "16998    -124.30     41.80  ...         1.9797             85800.0\n",
              "16999    -124.35     40.54  ...         3.0147             94600.0\n",
              "\n",
              "[17000 rows x 9 columns]"
            ]
          },
          "metadata": {
            "tags": []
          },
          "execution_count": 10
        }
      ]
    },
    {
      "cell_type": "code",
      "metadata": {
        "id": "RoGeMJSY-Zua",
        "colab_type": "code",
        "outputId": "7c3e7e17-e25b-4ec1-d960-ee750bc781e0",
        "colab": {
          "base_uri": "https://localhost:8080/",
          "height": 271
        }
      },
      "source": [
        "vaex_df[vaex_df.housing_median_age < 30]  # easily filter your DataFrame, without making a copy"
      ],
      "execution_count": 0,
      "outputs": [
        {
          "output_type": "execute_result",
          "data": {
            "text/plain": [
              "#      longitude    latitude    housing_median_age    total_rooms    total_bedrooms    population    households    median_income    median_house_value    index\n",
              "0      -114.31      34.19       15.0                  5612.0         1283.0            1015.0        472.0         1.4936           66900.0               0\n",
              "1      -114.47      34.4        19.0                  7650.0         1901.0            1129.0        463.0         1.82             80100.0               1\n",
              "2      -114.56      33.69       17.0                  720.0          174.0             333.0         117.0         1.6509           85700.0               2\n",
              "3      -114.57      33.64       14.0                  1501.0         337.0             515.0         226.0         3.1917           73400.0               3\n",
              "4      -114.57      33.57       20.0                  1454.0         326.0             624.0         262.0         1.925            65500.0               4\n",
              "...    ...          ...         ...                   ...            ...               ...           ...           ...              ...                   ...\n",
              "8,806  -124.21      41.75       20.0                  3810.0         787.0             1993.0        721.0         2.0074           66900.0               16988\n",
              "8,807  -124.22      41.73       28.0                  3003.0         699.0             1530.0        653.0         1.7038           78300.0               16990\n",
              "8,808  -124.23      41.75       11.0                  3159.0         616.0             1343.0        479.0         2.4805           73200.0               16991\n",
              "8,809  -124.3       41.84       17.0                  2677.0         531.0             1244.0        456.0         3.0313           103600.0              16997\n",
              "8,810  -124.3       41.8        19.0                  2672.0         552.0             1298.0        478.0         1.9797           85800.0               16998"
            ],
            "text/html": [
              "<table>\n",
              "<thead>\n",
              "<tr><th>#                                </th><th>longitude  </th><th>latitude  </th><th>housing_median_age  </th><th>total_rooms  </th><th>total_bedrooms  </th><th>population  </th><th>households  </th><th>median_income  </th><th>median_house_value  </th><th>index  </th></tr>\n",
              "</thead>\n",
              "<tbody>\n",
              "<tr><td><i style='opacity: 0.6'>0</i>    </td><td>-114.31    </td><td>34.19     </td><td>15.0                </td><td>5612.0       </td><td>1283.0          </td><td>1015.0      </td><td>472.0       </td><td>1.4936         </td><td>66900.0             </td><td>0      </td></tr>\n",
              "<tr><td><i style='opacity: 0.6'>1</i>    </td><td>-114.47    </td><td>34.4      </td><td>19.0                </td><td>7650.0       </td><td>1901.0          </td><td>1129.0      </td><td>463.0       </td><td>1.82           </td><td>80100.0             </td><td>1      </td></tr>\n",
              "<tr><td><i style='opacity: 0.6'>2</i>    </td><td>-114.56    </td><td>33.69     </td><td>17.0                </td><td>720.0        </td><td>174.0           </td><td>333.0       </td><td>117.0       </td><td>1.6509         </td><td>85700.0             </td><td>2      </td></tr>\n",
              "<tr><td><i style='opacity: 0.6'>3</i>    </td><td>-114.57    </td><td>33.64     </td><td>14.0                </td><td>1501.0       </td><td>337.0           </td><td>515.0       </td><td>226.0       </td><td>3.1917         </td><td>73400.0             </td><td>3      </td></tr>\n",
              "<tr><td><i style='opacity: 0.6'>4</i>    </td><td>-114.57    </td><td>33.57     </td><td>20.0                </td><td>1454.0       </td><td>326.0           </td><td>624.0       </td><td>262.0       </td><td>1.925          </td><td>65500.0             </td><td>4      </td></tr>\n",
              "<tr><td>...                              </td><td>...        </td><td>...       </td><td>...                 </td><td>...          </td><td>...             </td><td>...         </td><td>...         </td><td>...            </td><td>...                 </td><td>...    </td></tr>\n",
              "<tr><td><i style='opacity: 0.6'>8,806</i></td><td>-124.21    </td><td>41.75     </td><td>20.0                </td><td>3810.0       </td><td>787.0           </td><td>1993.0      </td><td>721.0       </td><td>2.0074         </td><td>66900.0             </td><td>16988  </td></tr>\n",
              "<tr><td><i style='opacity: 0.6'>8,807</i></td><td>-124.22    </td><td>41.73     </td><td>28.0                </td><td>3003.0       </td><td>699.0           </td><td>1530.0      </td><td>653.0       </td><td>1.7038         </td><td>78300.0             </td><td>16990  </td></tr>\n",
              "<tr><td><i style='opacity: 0.6'>8,808</i></td><td>-124.23    </td><td>41.75     </td><td>11.0                </td><td>3159.0       </td><td>616.0           </td><td>1343.0      </td><td>479.0       </td><td>2.4805         </td><td>73200.0             </td><td>16991  </td></tr>\n",
              "<tr><td><i style='opacity: 0.6'>8,809</i></td><td>-124.3     </td><td>41.84     </td><td>17.0                </td><td>2677.0       </td><td>531.0           </td><td>1244.0      </td><td>456.0       </td><td>3.0313         </td><td>103600.0            </td><td>16997  </td></tr>\n",
              "<tr><td><i style='opacity: 0.6'>8,810</i></td><td>-124.3     </td><td>41.8      </td><td>19.0                </td><td>2672.0       </td><td>552.0           </td><td>1298.0      </td><td>478.0       </td><td>1.9797         </td><td>85800.0             </td><td>16998  </td></tr>\n",
              "</tbody>\n",
              "</table>"
            ]
          },
          "metadata": {
            "tags": []
          },
          "execution_count": 12
        }
      ]
    },
    {
      "cell_type": "code",
      "metadata": {
        "id": "OrzGZkXE_Qxr",
        "colab_type": "code",
        "outputId": "11b38a98-21b6-434d-92f6-9ef4d77af534",
        "colab": {
          "base_uri": "https://localhost:8080/",
          "height": 419
        }
      },
      "source": [
        "pandas_df[pandas_df.housing_median_age < 30]"
      ],
      "execution_count": 0,
      "outputs": [
        {
          "output_type": "execute_result",
          "data": {
            "text/html": [
              "<div>\n",
              "<style scoped>\n",
              "    .dataframe tbody tr th:only-of-type {\n",
              "        vertical-align: middle;\n",
              "    }\n",
              "\n",
              "    .dataframe tbody tr th {\n",
              "        vertical-align: top;\n",
              "    }\n",
              "\n",
              "    .dataframe thead th {\n",
              "        text-align: right;\n",
              "    }\n",
              "</style>\n",
              "<table border=\"1\" class=\"dataframe\">\n",
              "  <thead>\n",
              "    <tr style=\"text-align: right;\">\n",
              "      <th></th>\n",
              "      <th>longitude</th>\n",
              "      <th>latitude</th>\n",
              "      <th>housing_median_age</th>\n",
              "      <th>total_rooms</th>\n",
              "      <th>total_bedrooms</th>\n",
              "      <th>population</th>\n",
              "      <th>households</th>\n",
              "      <th>median_income</th>\n",
              "      <th>median_house_value</th>\n",
              "    </tr>\n",
              "  </thead>\n",
              "  <tbody>\n",
              "    <tr>\n",
              "      <th>0</th>\n",
              "      <td>-114.31</td>\n",
              "      <td>34.19</td>\n",
              "      <td>15.0</td>\n",
              "      <td>5612.0</td>\n",
              "      <td>1283.0</td>\n",
              "      <td>1015.0</td>\n",
              "      <td>472.0</td>\n",
              "      <td>1.4936</td>\n",
              "      <td>66900.0</td>\n",
              "    </tr>\n",
              "    <tr>\n",
              "      <th>1</th>\n",
              "      <td>-114.47</td>\n",
              "      <td>34.40</td>\n",
              "      <td>19.0</td>\n",
              "      <td>7650.0</td>\n",
              "      <td>1901.0</td>\n",
              "      <td>1129.0</td>\n",
              "      <td>463.0</td>\n",
              "      <td>1.8200</td>\n",
              "      <td>80100.0</td>\n",
              "    </tr>\n",
              "    <tr>\n",
              "      <th>2</th>\n",
              "      <td>-114.56</td>\n",
              "      <td>33.69</td>\n",
              "      <td>17.0</td>\n",
              "      <td>720.0</td>\n",
              "      <td>174.0</td>\n",
              "      <td>333.0</td>\n",
              "      <td>117.0</td>\n",
              "      <td>1.6509</td>\n",
              "      <td>85700.0</td>\n",
              "    </tr>\n",
              "    <tr>\n",
              "      <th>3</th>\n",
              "      <td>-114.57</td>\n",
              "      <td>33.64</td>\n",
              "      <td>14.0</td>\n",
              "      <td>1501.0</td>\n",
              "      <td>337.0</td>\n",
              "      <td>515.0</td>\n",
              "      <td>226.0</td>\n",
              "      <td>3.1917</td>\n",
              "      <td>73400.0</td>\n",
              "    </tr>\n",
              "    <tr>\n",
              "      <th>4</th>\n",
              "      <td>-114.57</td>\n",
              "      <td>33.57</td>\n",
              "      <td>20.0</td>\n",
              "      <td>1454.0</td>\n",
              "      <td>326.0</td>\n",
              "      <td>624.0</td>\n",
              "      <td>262.0</td>\n",
              "      <td>1.9250</td>\n",
              "      <td>65500.0</td>\n",
              "    </tr>\n",
              "    <tr>\n",
              "      <th>...</th>\n",
              "      <td>...</td>\n",
              "      <td>...</td>\n",
              "      <td>...</td>\n",
              "      <td>...</td>\n",
              "      <td>...</td>\n",
              "      <td>...</td>\n",
              "      <td>...</td>\n",
              "      <td>...</td>\n",
              "      <td>...</td>\n",
              "    </tr>\n",
              "    <tr>\n",
              "      <th>16988</th>\n",
              "      <td>-124.21</td>\n",
              "      <td>41.75</td>\n",
              "      <td>20.0</td>\n",
              "      <td>3810.0</td>\n",
              "      <td>787.0</td>\n",
              "      <td>1993.0</td>\n",
              "      <td>721.0</td>\n",
              "      <td>2.0074</td>\n",
              "      <td>66900.0</td>\n",
              "    </tr>\n",
              "    <tr>\n",
              "      <th>16990</th>\n",
              "      <td>-124.22</td>\n",
              "      <td>41.73</td>\n",
              "      <td>28.0</td>\n",
              "      <td>3003.0</td>\n",
              "      <td>699.0</td>\n",
              "      <td>1530.0</td>\n",
              "      <td>653.0</td>\n",
              "      <td>1.7038</td>\n",
              "      <td>78300.0</td>\n",
              "    </tr>\n",
              "    <tr>\n",
              "      <th>16991</th>\n",
              "      <td>-124.23</td>\n",
              "      <td>41.75</td>\n",
              "      <td>11.0</td>\n",
              "      <td>3159.0</td>\n",
              "      <td>616.0</td>\n",
              "      <td>1343.0</td>\n",
              "      <td>479.0</td>\n",
              "      <td>2.4805</td>\n",
              "      <td>73200.0</td>\n",
              "    </tr>\n",
              "    <tr>\n",
              "      <th>16997</th>\n",
              "      <td>-124.30</td>\n",
              "      <td>41.84</td>\n",
              "      <td>17.0</td>\n",
              "      <td>2677.0</td>\n",
              "      <td>531.0</td>\n",
              "      <td>1244.0</td>\n",
              "      <td>456.0</td>\n",
              "      <td>3.0313</td>\n",
              "      <td>103600.0</td>\n",
              "    </tr>\n",
              "    <tr>\n",
              "      <th>16998</th>\n",
              "      <td>-124.30</td>\n",
              "      <td>41.80</td>\n",
              "      <td>19.0</td>\n",
              "      <td>2672.0</td>\n",
              "      <td>552.0</td>\n",
              "      <td>1298.0</td>\n",
              "      <td>478.0</td>\n",
              "      <td>1.9797</td>\n",
              "      <td>85800.0</td>\n",
              "    </tr>\n",
              "  </tbody>\n",
              "</table>\n",
              "<p>8811 rows × 9 columns</p>\n",
              "</div>"
            ],
            "text/plain": [
              "       longitude  latitude  ...  median_income  median_house_value\n",
              "0        -114.31     34.19  ...         1.4936             66900.0\n",
              "1        -114.47     34.40  ...         1.8200             80100.0\n",
              "2        -114.56     33.69  ...         1.6509             85700.0\n",
              "3        -114.57     33.64  ...         3.1917             73400.0\n",
              "4        -114.57     33.57  ...         1.9250             65500.0\n",
              "...          ...       ...  ...            ...                 ...\n",
              "16988    -124.21     41.75  ...         2.0074             66900.0\n",
              "16990    -124.22     41.73  ...         1.7038             78300.0\n",
              "16991    -124.23     41.75  ...         2.4805             73200.0\n",
              "16997    -124.30     41.84  ...         3.0313            103600.0\n",
              "16998    -124.30     41.80  ...         1.9797             85800.0\n",
              "\n",
              "[8811 rows x 9 columns]"
            ]
          },
          "metadata": {
            "tags": []
          },
          "execution_count": 13
        }
      ]
    },
    {
      "cell_type": "markdown",
      "metadata": {
        "id": "0qxolTnPP1vp",
        "colab_type": "text"
      },
      "source": [
        "Filtering of a DataFrame, such as ds_filtered = ds[ds.x >0] merely results in a reference to the existing data plus a boolean mask keeping track which rows are selected and which are not. Almost no memory usage, and no memory copying going on.\n"
      ]
    },
    {
      "cell_type": "code",
      "metadata": {
        "id": "-ACDM0hD-jpt",
        "colab_type": "code",
        "outputId": "f93a5ea7-cf89-41ed-ad19-70dadc0eeb12",
        "colab": {
          "base_uri": "https://localhost:8080/",
          "height": 145
        }
      },
      "source": [
        "temp1 = vaex_df[vaex_df.housing_median_age < 30]  # easily filter your DataFrame, without making a copy\n",
        "temp1[:5][['housing_median_age', 'total_rooms']]  # take the first five rows, and only the 'x' and 'y' column (no memory copy!)"
      ],
      "execution_count": 0,
      "outputs": [
        {
          "output_type": "execute_result",
          "data": {
            "text/plain": [
              "  #    housing_median_age    total_rooms\n",
              "  0                    15           5612\n",
              "  1                    19           7650\n",
              "  2                    17            720\n",
              "  3                    14           1501\n",
              "  4                    20           1454"
            ],
            "text/html": [
              "<table>\n",
              "<thead>\n",
              "<tr><th>#                            </th><th style=\"text-align: right;\">  housing_median_age</th><th style=\"text-align: right;\">  total_rooms</th></tr>\n",
              "</thead>\n",
              "<tbody>\n",
              "<tr><td><i style='opacity: 0.6'>0</i></td><td style=\"text-align: right;\">                  15</td><td style=\"text-align: right;\">         5612</td></tr>\n",
              "<tr><td><i style='opacity: 0.6'>1</i></td><td style=\"text-align: right;\">                  19</td><td style=\"text-align: right;\">         7650</td></tr>\n",
              "<tr><td><i style='opacity: 0.6'>2</i></td><td style=\"text-align: right;\">                  17</td><td style=\"text-align: right;\">          720</td></tr>\n",
              "<tr><td><i style='opacity: 0.6'>3</i></td><td style=\"text-align: right;\">                  14</td><td style=\"text-align: right;\">         1501</td></tr>\n",
              "<tr><td><i style='opacity: 0.6'>4</i></td><td style=\"text-align: right;\">                  20</td><td style=\"text-align: right;\">         1454</td></tr>\n",
              "</tbody>\n",
              "</table>"
            ]
          },
          "metadata": {
            "tags": []
          },
          "execution_count": 15
        }
      ]
    },
    {
      "cell_type": "code",
      "metadata": {
        "id": "vEGeIuaU_jN3",
        "colab_type": "code",
        "outputId": "73bb272d-3fef-4a21-d60b-0fbe7aaa1cc0",
        "colab": {
          "base_uri": "https://localhost:8080/",
          "height": 204
        }
      },
      "source": [
        "#PANDAS\n",
        "temp2 = pandas_df[pandas_df.housing_median_age < 30]\n",
        "temp2[:5][['housing_median_age', 'total_rooms']] "
      ],
      "execution_count": 0,
      "outputs": [
        {
          "output_type": "execute_result",
          "data": {
            "text/html": [
              "<div>\n",
              "<style scoped>\n",
              "    .dataframe tbody tr th:only-of-type {\n",
              "        vertical-align: middle;\n",
              "    }\n",
              "\n",
              "    .dataframe tbody tr th {\n",
              "        vertical-align: top;\n",
              "    }\n",
              "\n",
              "    .dataframe thead th {\n",
              "        text-align: right;\n",
              "    }\n",
              "</style>\n",
              "<table border=\"1\" class=\"dataframe\">\n",
              "  <thead>\n",
              "    <tr style=\"text-align: right;\">\n",
              "      <th></th>\n",
              "      <th>housing_median_age</th>\n",
              "      <th>total_rooms</th>\n",
              "    </tr>\n",
              "  </thead>\n",
              "  <tbody>\n",
              "    <tr>\n",
              "      <th>0</th>\n",
              "      <td>15.0</td>\n",
              "      <td>5612.0</td>\n",
              "    </tr>\n",
              "    <tr>\n",
              "      <th>1</th>\n",
              "      <td>19.0</td>\n",
              "      <td>7650.0</td>\n",
              "    </tr>\n",
              "    <tr>\n",
              "      <th>2</th>\n",
              "      <td>17.0</td>\n",
              "      <td>720.0</td>\n",
              "    </tr>\n",
              "    <tr>\n",
              "      <th>3</th>\n",
              "      <td>14.0</td>\n",
              "      <td>1501.0</td>\n",
              "    </tr>\n",
              "    <tr>\n",
              "      <th>4</th>\n",
              "      <td>20.0</td>\n",
              "      <td>1454.0</td>\n",
              "    </tr>\n",
              "  </tbody>\n",
              "</table>\n",
              "</div>"
            ],
            "text/plain": [
              "   housing_median_age  total_rooms\n",
              "0                15.0       5612.0\n",
              "1                19.0       7650.0\n",
              "2                17.0        720.0\n",
              "3                14.0       1501.0\n",
              "4                20.0       1454.0"
            ]
          },
          "metadata": {
            "tags": []
          },
          "execution_count": 16
        }
      ]
    },
    {
      "cell_type": "markdown",
      "metadata": {
        "id": "B3FdqeVFA329",
        "colab_type": "text"
      },
      "source": [
        "When dealing with huge datasets, say a billion rows (10^9), computations with the data can waste memory, up to 8 GB for a new column. Instead, vaex uses **lazy computation**, storing only a representation of the computation, and computations are done on the fly when needed. You can just use many of the numpy functions, as if it was a normal array."
      ]
    },
    {
      "cell_type": "markdown",
      "metadata": {
        "id": "BhFHCSIZ_wbW",
        "colab_type": "text"
      },
      "source": [
        "This is similar to how TensorFlow works. Like TensorFlow which creates DAG (Directed Ascyclic Graph), Vaex creates representation of the computation. The benifit of this method is that only when there is requirement of the output, the calulations will be done. Till then there will be no calculation and thus the RAM which is utilized in storing data will be free."
      ]
    },
    {
      "cell_type": "markdown",
      "metadata": {
        "id": "re2QG11mTz1O",
        "colab_type": "text"
      },
      "source": [
        "When you apply your operations, you can print out the dataframe, and directly see a preview (head and tail), without any delay. **Only the values you see are evaluated.**"
      ]
    },
    {
      "cell_type": "code",
      "metadata": {
        "id": "ZW9UdjD6CNz1",
        "colab_type": "code",
        "outputId": "3d690e3a-9b46-45e9-b395-718a25a60fca",
        "colab": {
          "base_uri": "https://localhost:8080/",
          "height": 255
        }
      },
      "source": [
        "# creates an expression (nothing is computed)\n",
        "some_expression = vaex_df.housing_median_age + vaex_df.total_rooms\n",
        "some_expression  # for convenience, we print out some values"
      ],
      "execution_count": 0,
      "outputs": [
        {
          "output_type": "execute_result",
          "data": {
            "text/plain": [
              "Expression = (housing_median_age + total_rooms)\n",
              "Length: 17,000 dtype: float64 (expression)\n",
              "------------------------------------------\n",
              "    0  5627\n",
              "    1  7669\n",
              "    2   737\n",
              "    3  1515\n",
              "    4  1474\n",
              "    ...    \n",
              "16995  2269\n",
              "16996  2385\n",
              "16997  2694\n",
              "16998  2691\n",
              "16999  1872"
            ]
          },
          "metadata": {
            "tags": []
          },
          "execution_count": 20
        }
      ]
    },
    {
      "cell_type": "code",
      "metadata": {
        "id": "YUfzfuJoCw3U",
        "colab_type": "code",
        "outputId": "cdaca074-63f8-4f13-8f7b-1430c17ee85e",
        "colab": {
          "base_uri": "https://localhost:8080/",
          "height": 238
        }
      },
      "source": [
        "# PANDAS\n",
        "pandas_df.housing_median_age + pandas_df.total_rooms"
      ],
      "execution_count": 0,
      "outputs": [
        {
          "output_type": "stream",
          "text": [
            "INFO:MainThread:numexpr.utils:NumExpr defaulting to 2 threads.\n"
          ],
          "name": "stderr"
        },
        {
          "output_type": "execute_result",
          "data": {
            "text/plain": [
              "0        5627.0\n",
              "1        7669.0\n",
              "2         737.0\n",
              "3        1515.0\n",
              "4        1474.0\n",
              "          ...  \n",
              "16995    2269.0\n",
              "16996    2385.0\n",
              "16997    2694.0\n",
              "16998    2691.0\n",
              "16999    1872.0\n",
              "Length: 17000, dtype: float64"
            ]
          },
          "metadata": {
            "tags": []
          },
          "execution_count": 21
        }
      ]
    },
    {
      "cell_type": "markdown",
      "metadata": {
        "id": "azPnJiUNCtrF",
        "colab_type": "text"
      },
      "source": [
        "These expressions can be added to a DataFrame, creating what we call a **virtual column**. These virtual columns are similar to normal columns, except they do not waste memory."
      ]
    },
    {
      "cell_type": "code",
      "metadata": {
        "id": "iNNh3G4vDGuy",
        "colab_type": "code",
        "outputId": "8e8a9ad8-3b45-4586-8b73-2596750dc0bd",
        "colab": {
          "base_uri": "https://localhost:8080/",
          "height": 34
        }
      },
      "source": [
        "vaex_df['r'] = some_expression  # add a (virtual) column that will be computed on the fly\n",
        "vaex_df.mean(vaex_df.housing_median_age), vaex_df.mean(vaex_df.r)  # calculate statistics on normal and virtual columns"
      ],
      "execution_count": 0,
      "outputs": [
        {
          "output_type": "execute_result",
          "data": {
            "text/plain": [
              "(array(28.58935294), array(2672.25376471))"
            ]
          },
          "metadata": {
            "tags": []
          },
          "execution_count": 22
        }
      ]
    },
    {
      "cell_type": "code",
      "metadata": {
        "id": "wACuB7lXELPT",
        "colab_type": "code",
        "outputId": "76f3405d-7223-444d-d25e-ba9db75e9fc3",
        "colab": {
          "base_uri": "https://localhost:8080/",
          "height": 255
        }
      },
      "source": [
        "vaex_df.r"
      ],
      "execution_count": 0,
      "outputs": [
        {
          "output_type": "execute_result",
          "data": {
            "text/plain": [
              "Expression = r\n",
              "Length: 17,000 dtype: float64 (column)\n",
              "--------------------------------------\n",
              "    0  5627\n",
              "    1  7669\n",
              "    2   737\n",
              "    3  1515\n",
              "    4  1474\n",
              "    ...    \n",
              "16995  2269\n",
              "16996  2385\n",
              "16997  2694\n",
              "16998  2691\n",
              "16999  1872"
            ]
          },
          "metadata": {
            "tags": []
          },
          "execution_count": 28
        }
      ]
    },
    {
      "cell_type": "markdown",
      "metadata": {
        "id": "TB1xhxBJDjqV",
        "colab_type": "text"
      },
      "source": [
        "One of the core features of vaex is its ability to calculate statistics on a regular (N-dimensional) grid. The dimensions of the grid are specified by the binby argument (analogous to SQL’s grouby), and the shape and limits."
      ]
    },
    {
      "cell_type": "code",
      "metadata": {
        "id": "EwqEIWblDk4M",
        "colab_type": "code",
        "colab": {}
      },
      "source": [
        "vaex_df.mean(vaex_df.r, binby=vaex_df.housing_median_age) # create statistics on a regular grid (1d)"
      ],
      "execution_count": 0,
      "outputs": []
    },
    {
      "cell_type": "code",
      "metadata": {
        "id": "-p5uahAXEX6F",
        "colab_type": "code",
        "outputId": "d84e64ec-85cb-4f36-dd09-00be86c91ac0",
        "colab": {
          "base_uri": "https://localhost:8080/",
          "height": 297
        }
      },
      "source": [
        "vaex_df.plot(vaex_df.housing_median_age, vaex_df.total_rooms, show=True);  # make a plot quickly"
      ],
      "execution_count": 0,
      "outputs": [
        {
          "output_type": "display_data",
          "data": {
            "image/png": "[encoded data removed]",
            "text/plain": [
              "<Figure size 432x288 with 2 Axes>"
            ]
          },
          "metadata": {
            "tags": [],
            "needs_background": "light"
          }
        }
      ]
    },
    {
      "cell_type": "markdown",
      "metadata": {
        "id": "moSWQwUNG8RF",
        "colab_type": "text"
      },
      "source": [
        "Vaex uses ApacheArrow data structures and C++ to speed up string operations by a factor of about ~30–100x on a quadcore laptop, and up to 1000x on a 32 core machine. Nearly all of Pandas’ string operations are supported, and memory usage is practically zero because the lazy computations are done in chunks."
      ]
    },
    {
      "cell_type": "code",
      "metadata": {
        "id": "PMk30CMApRDB",
        "colab_type": "code",
        "colab": {}
      },
      "source": [
        "nyctaxi = vaex.open('s3://vaex/taxi/yellow_taxi_2009_2015_f32.hdf5?anon=true')"
      ],
      "execution_count": 0,
      "outputs": []
    },
    {
      "cell_type": "code",
      "metadata": {
        "id": "3_VE91tYpZRs",
        "colab_type": "code",
        "outputId": "5f4767df-c29e-4eb9-eba1-1aa384774aeb",
        "colab": {
          "base_uri": "https://localhost:8080/",
          "height": 250
        }
      },
      "source": [
        "nyctaxi.head(5)"
      ],
      "execution_count": 0,
      "outputs": [
        {
          "output_type": "execute_result",
          "data": {
            "text/plain": [
              "  #  vendor_id    pickup_datetime                dropoff_datetime                 passenger_count  payment_type      trip_distance    pickup_longitude    pickup_latitude    rate_code    store_and_fwd_flag    dropoff_longitude    dropoff_latitude    fare_amount    surcharge    mta_tax    tip_amount    tolls_amount    total_amount\n",
              "  0  VTS          2009-01-04 02:52:00.000000000  2009-01-04 03:02:00.000000000                  1  CASH                       2.63            -73.992             40.7216          nan                   nan             -73.9938             40.6959            8.9          0.5        nan          0                  0            9.4\n",
              "  1  VTS          2009-01-04 03:31:00.000000000  2009-01-04 03:38:00.000000000                  3  Credit                     4.55            -73.9821            40.7363          nan                   nan             -73.9558             40.768            12.1          0.5        nan          2                  0           14.6\n",
              "  2  VTS          2009-01-03 15:43:00.000000000  2009-01-03 15:57:00.000000000                  5  Credit                    10.35            -74.0026            40.7397          nan                   nan             -73.87               40.7702           23.7          0          nan          4.74               0           28.44\n",
              "  3  DDS          2009-01-01 20:52:58.000000000  2009-01-01 21:14:00.000000000                  1  CREDIT                     5               -73.9743            40.791           nan                   nan             -73.9966             40.7318           14.9          0.5        nan          3.05               0           18.45\n",
              "  4  DDS          2009-01-24 16:18:23.000000000  2009-01-24 16:24:56.000000000                  1  CASH                       0.4             -74.0016            40.7194          nan                   nan             -74.0084             40.7203            3.7          0          nan          0                  0            3.7"
            ],
            "text/html": [
              "<table>\n",
              "<thead>\n",
              "<tr><th>#                            </th><th>vendor_id  </th><th>pickup_datetime              </th><th>dropoff_datetime             </th><th style=\"text-align: right;\">  passenger_count</th><th>payment_type  </th><th style=\"text-align: right;\">  trip_distance</th><th style=\"text-align: right;\">  pickup_longitude</th><th style=\"text-align: right;\">  pickup_latitude</th><th style=\"text-align: right;\">  rate_code</th><th style=\"text-align: right;\">  store_and_fwd_flag</th><th style=\"text-align: right;\">  dropoff_longitude</th><th style=\"text-align: right;\">  dropoff_latitude</th><th style=\"text-align: right;\">  fare_amount</th><th style=\"text-align: right;\">  surcharge</th><th style=\"text-align: right;\">  mta_tax</th><th style=\"text-align: right;\">  tip_amount</th><th style=\"text-align: right;\">  tolls_amount</th><th style=\"text-align: right;\">  total_amount</th></tr>\n",
              "</thead>\n",
              "<tbody>\n",
              "<tr><td><i style='opacity: 0.6'>0</i></td><td>VTS        </td><td>2009-01-04 02:52:00.000000000</td><td>2009-01-04 03:02:00.000000000</td><td style=\"text-align: right;\">                1</td><td>CASH          </td><td style=\"text-align: right;\">           2.63</td><td style=\"text-align: right;\">          -73.992 </td><td style=\"text-align: right;\">          40.7216</td><td style=\"text-align: right;\">        nan</td><td style=\"text-align: right;\">                 nan</td><td style=\"text-align: right;\">           -73.9938</td><td style=\"text-align: right;\">           40.6959</td><td style=\"text-align: right;\">          8.9</td><td style=\"text-align: right;\">        0.5</td><td style=\"text-align: right;\">      nan</td><td style=\"text-align: right;\">        0   </td><td style=\"text-align: right;\">             0</td><td style=\"text-align: right;\">          9.4 </td></tr>\n",
              "<tr><td><i style='opacity: 0.6'>1</i></td><td>VTS        </td><td>2009-01-04 03:31:00.000000000</td><td>2009-01-04 03:38:00.000000000</td><td style=\"text-align: right;\">                3</td><td>Credit        </td><td style=\"text-align: right;\">           4.55</td><td style=\"text-align: right;\">          -73.9821</td><td style=\"text-align: right;\">          40.7363</td><td style=\"text-align: right;\">        nan</td><td style=\"text-align: right;\">                 nan</td><td style=\"text-align: right;\">           -73.9558</td><td style=\"text-align: right;\">           40.768 </td><td style=\"text-align: right;\">         12.1</td><td style=\"text-align: right;\">        0.5</td><td style=\"text-align: right;\">      nan</td><td style=\"text-align: right;\">        2   </td><td style=\"text-align: right;\">             0</td><td style=\"text-align: right;\">         14.6 </td></tr>\n",
              "<tr><td><i style='opacity: 0.6'>2</i></td><td>VTS        </td><td>2009-01-03 15:43:00.000000000</td><td>2009-01-03 15:57:00.000000000</td><td style=\"text-align: right;\">                5</td><td>Credit        </td><td style=\"text-align: right;\">          10.35</td><td style=\"text-align: right;\">          -74.0026</td><td style=\"text-align: right;\">          40.7397</td><td style=\"text-align: right;\">        nan</td><td style=\"text-align: right;\">                 nan</td><td style=\"text-align: right;\">           -73.87  </td><td style=\"text-align: right;\">           40.7702</td><td style=\"text-align: right;\">         23.7</td><td style=\"text-align: right;\">        0  </td><td style=\"text-align: right;\">      nan</td><td style=\"text-align: right;\">        4.74</td><td style=\"text-align: right;\">             0</td><td style=\"text-align: right;\">         28.44</td></tr>\n",
              "<tr><td><i style='opacity: 0.6'>3</i></td><td>DDS        </td><td>2009-01-01 20:52:58.000000000</td><td>2009-01-01 21:14:00.000000000</td><td style=\"text-align: right;\">                1</td><td>CREDIT        </td><td style=\"text-align: right;\">           5   </td><td style=\"text-align: right;\">          -73.9743</td><td style=\"text-align: right;\">          40.791 </td><td style=\"text-align: right;\">        nan</td><td style=\"text-align: right;\">                 nan</td><td style=\"text-align: right;\">           -73.9966</td><td style=\"text-align: right;\">           40.7318</td><td style=\"text-align: right;\">         14.9</td><td style=\"text-align: right;\">        0.5</td><td style=\"text-align: right;\">      nan</td><td style=\"text-align: right;\">        3.05</td><td style=\"text-align: right;\">             0</td><td style=\"text-align: right;\">         18.45</td></tr>\n",
              "<tr><td><i style='opacity: 0.6'>4</i></td><td>DDS        </td><td>2009-01-24 16:18:23.000000000</td><td>2009-01-24 16:24:56.000000000</td><td style=\"text-align: right;\">                1</td><td>CASH          </td><td style=\"text-align: right;\">           0.4 </td><td style=\"text-align: right;\">          -74.0016</td><td style=\"text-align: right;\">          40.7194</td><td style=\"text-align: right;\">        nan</td><td style=\"text-align: right;\">                 nan</td><td style=\"text-align: right;\">           -74.0084</td><td style=\"text-align: right;\">           40.7203</td><td style=\"text-align: right;\">          3.7</td><td style=\"text-align: right;\">        0  </td><td style=\"text-align: right;\">      nan</td><td style=\"text-align: right;\">        0   </td><td style=\"text-align: right;\">             0</td><td style=\"text-align: right;\">          3.7 </td></tr>\n",
              "</tbody>\n",
              "</table>"
            ]
          },
          "metadata": {
            "tags": []
          },
          "execution_count": 35
        }
      ]
    }
  ]
}