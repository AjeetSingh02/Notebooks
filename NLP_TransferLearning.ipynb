{
  "nbformat": 4,
  "nbformat_minor": 0,
  "metadata": {
    "colab": {
      "name": "NLP_TransferLearning.ipynb",
      "provenance": [],
      "collapsed_sections": [],
      "include_colab_link": true
    },
    "kernelspec": {
      "name": "python3",
      "display_name": "Python 3"
    },
    "accelerator": "TPU"
  },
  "cells": [
    {
      "cell_type": "markdown",
      "metadata": {
        "id": "view-in-github",
        "colab_type": "text"
      },
      "source": [
        "<a href=\"https://colab.research.google.com/github/AjeetSingh02/Notebooks/blob/master/NLP_TransferLearning.ipynb\" target=\"_parent\"><img src=\"https://colab.research.google.com/assets/colab-badge.svg\" alt=\"Open In Colab\"/></a>"
      ]
    },
    {
      "cell_type": "markdown",
      "metadata": {
        "id": "9ZlNWJpgqxXD",
        "colab_type": "text"
      },
      "source": [
        "<h1> Applying ULMfit for classification<h1>"
      ]
    },
    {
      "cell_type": "code",
      "metadata": {
        "id": "ShHCDrcUyjy0",
        "colab_type": "code",
        "colab": {}
      },
      "source": [
        "# import libraries\n",
        "import fastai\n",
        "from fastai import *\n",
        "from fastai.text import * \n",
        "import pandas as pd\n",
        "import numpy as np\n",
        "from functools import partial\n",
        "import io\n",
        "import os"
      ],
      "execution_count": 0,
      "outputs": []
    },
    {
      "cell_type": "code",
      "metadata": {
        "id": "Zl0IS7R9ytri",
        "colab_type": "code",
        "colab": {}
      },
      "source": [
        "from sklearn.datasets import fetch_20newsgroups\n",
        "dataset = fetch_20newsgroups(shuffle=True, random_state=1, remove=('headers', 'footers', 'quotes'))\n",
        "documents = dataset.data"
      ],
      "execution_count": 0,
      "outputs": []
    },
    {
      "cell_type": "code",
      "metadata": {
        "id": "wBpInOW9ywPZ",
        "colab_type": "code",
        "colab": {}
      },
      "source": [
        "df = pd.DataFrame({'label':dataset.target, 'text':dataset.data})"
      ],
      "execution_count": 0,
      "outputs": []
    },
    {
      "cell_type": "code",
      "metadata": {
        "id": "a35QRY0Sy1nx",
        "colab_type": "code",
        "outputId": "2bfe1ff5-96f0-4827-90f9-190c15580628",
        "colab": {
          "base_uri": "https://localhost:8080/",
          "height": 34
        }
      },
      "source": [
        "df.shape"
      ],
      "execution_count": 0,
      "outputs": [
        {
          "output_type": "execute_result",
          "data": {
            "text/plain": [
              "(11314, 2)"
            ]
          },
          "metadata": {
            "tags": []
          },
          "execution_count": 21
        }
      ]
    },
    {
      "cell_type": "code",
      "metadata": {
        "id": "rVPCGZj_zcSR",
        "colab_type": "code",
        "colab": {}
      },
      "source": [
        "df = df[df['label'].isin([1,10])]\n",
        "df = df.reset_index(drop = True)"
      ],
      "execution_count": 0,
      "outputs": []
    },
    {
      "cell_type": "code",
      "metadata": {
        "id": "3ONWhqZUze6T",
        "colab_type": "code",
        "outputId": "d813078f-dfb9-4b16-b3b2-b6ee908cff4d",
        "colab": {
          "base_uri": "https://localhost:8080/",
          "height": 34
        }
      },
      "source": [
        "df.shape"
      ],
      "execution_count": 0,
      "outputs": [
        {
          "output_type": "execute_result",
          "data": {
            "text/plain": [
              "(1184, 2)"
            ]
          },
          "metadata": {
            "tags": []
          },
          "execution_count": 23
        }
      ]
    },
    {
      "cell_type": "code",
      "metadata": {
        "id": "iraWlGh80Jur",
        "colab_type": "code",
        "outputId": "e9bcd10f-34e4-4771-d703-f78f200130f5",
        "colab": {
          "base_uri": "https://localhost:8080/",
          "height": 68
        }
      },
      "source": [
        "df['label'].value_counts()"
      ],
      "execution_count": 0,
      "outputs": [
        {
          "output_type": "execute_result",
          "data": {
            "text/plain": [
              "10    600\n",
              "1     584\n",
              "Name: label, dtype: int64"
            ]
          },
          "metadata": {
            "tags": []
          },
          "execution_count": 24
        }
      ]
    },
    {
      "cell_type": "code",
      "metadata": {
        "id": "5em4v93V0eHs",
        "colab_type": "code",
        "colab": {}
      },
      "source": [
        "df['text'] = df['text'].str.replace(\"[^a-zA-Z]\", \" \")"
      ],
      "execution_count": 0,
      "outputs": []
    },
    {
      "cell_type": "code",
      "metadata": {
        "id": "lrQf91ku0lQ1",
        "colab_type": "code",
        "outputId": "fe59b4f6-7c4d-4371-df1d-ca715e4a4bae",
        "colab": {
          "base_uri": "https://localhost:8080/",
          "height": 51
        }
      },
      "source": [
        "import nltk\n",
        "nltk.download('stopwords')\n",
        "\n",
        "from nltk.corpus import stopwords \n",
        "stop_words = stopwords.words('english')"
      ],
      "execution_count": 0,
      "outputs": [
        {
          "output_type": "stream",
          "text": [
            "[nltk_data] Downloading package stopwords to /root/nltk_data...\n",
            "[nltk_data]   Package stopwords is already up-to-date!\n"
          ],
          "name": "stdout"
        }
      ]
    },
    {
      "cell_type": "code",
      "metadata": {
        "id": "6MftpFuG00_O",
        "colab_type": "code",
        "colab": {}
      },
      "source": [
        "# tokenization \n",
        "tokenized_doc = df['text'].apply(lambda x: x.split())\n",
        "\n",
        "# remove stop-words \n",
        "tokenized_doc = tokenized_doc.apply(lambda x: [item for item in x if item not in stop_words])\n",
        "\n",
        "# de-tokenization \n",
        "detokenized_doc = [] \n",
        "for i in range(len(df)): \n",
        "    t = ' '.join(tokenized_doc[i]) \n",
        "    detokenized_doc.append(t) \n",
        "\n",
        "df['text'] = detokenized_doc"
      ],
      "execution_count": 0,
      "outputs": []
    },
    {
      "cell_type": "code",
      "metadata": {
        "id": "TI7lOwYe05JO",
        "colab_type": "code",
        "colab": {}
      },
      "source": [
        "from sklearn.model_selection import train_test_split\n",
        "\n",
        "# split data into training and validation set\n",
        "df_trn, df_val = train_test_split(df, stratify = df['label'], test_size = 0.4, random_state = 12)"
      ],
      "execution_count": 0,
      "outputs": []
    },
    {
      "cell_type": "code",
      "metadata": {
        "id": "-FhKFr8Y07yY",
        "colab_type": "code",
        "outputId": "2bdbcb7c-0802-4aa2-bac3-8c64db71c0e5",
        "colab": {
          "base_uri": "https://localhost:8080/",
          "height": 34
        }
      },
      "source": [
        "df_trn.shape, df_val.shape"
      ],
      "execution_count": 0,
      "outputs": [
        {
          "output_type": "execute_result",
          "data": {
            "text/plain": [
              "((710, 2), (474, 2))"
            ]
          },
          "metadata": {
            "tags": []
          },
          "execution_count": 29
        }
      ]
    },
    {
      "cell_type": "code",
      "metadata": {
        "id": "YdQFX6Ol8hHh",
        "colab_type": "code",
        "colab": {}
      },
      "source": [
        "# Language model data\n",
        "data_lm = TextLMDataBunch.from_df(train_df = df_trn, valid_df = df_val, path = \"\")\n",
        "\n",
        "# Classifier model data\n",
        "data_clas = TextClasDataBunch.from_df(path = \"\", train_df = df_trn, valid_df = df_val, vocab=data_lm.train_ds.vocab, bs=32)"
      ],
      "execution_count": 0,
      "outputs": []
    },
    {
      "cell_type": "code",
      "metadata": {
        "id": "otfEU6TA_sgG",
        "colab_type": "code",
        "colab": {}
      },
      "source": [
        "learn = language_model_learner(data_lm, arch=AWD_LSTM, drop_mult=0.7)"
      ],
      "execution_count": 0,
      "outputs": []
    },
    {
      "cell_type": "code",
      "metadata": {
        "id": "7ymEqtMOB60g",
        "colab_type": "code",
        "outputId": "15132119-a9ec-4987-f549-09062546dd6a",
        "colab": {
          "base_uri": "https://localhost:8080/",
          "height": 103
        }
      },
      "source": [
        "# train the learner object with learning rate = 1e-2\n",
        "learn.fit_one_cycle(1, 1e-2)"
      ],
      "execution_count": 0,
      "outputs": [
        {
          "output_type": "display_data",
          "data": {
            "text/html": [
              "Total time: 07:06 <p><table border=\"1\" class=\"dataframe\">\n",
              "  <thead>\n",
              "    <tr style=\"text-align: left;\">\n",
              "      <th>epoch</th>\n",
              "      <th>train_loss</th>\n",
              "      <th>valid_loss</th>\n",
              "      <th>accuracy</th>\n",
              "      <th>time</th>\n",
              "    </tr>\n",
              "  </thead>\n",
              "  <tbody>\n",
              "    <tr>\n",
              "      <td>0</td>\n",
              "      <td>6.704717</td>\n",
              "      <td>5.508235</td>\n",
              "      <td>0.238329</td>\n",
              "      <td>07:06</td>\n",
              "    </tr>\n",
              "  </tbody>\n",
              "</table>"
            ],
            "text/plain": [
              "<IPython.core.display.HTML object>"
            ]
          },
          "metadata": {
            "tags": []
          }
        }
      ]
    },
    {
      "cell_type": "code",
      "metadata": {
        "id": "GsQcM-QyDqcv",
        "colab_type": "code",
        "colab": {}
      },
      "source": [
        "learn.save_encoder('ft_enc')"
      ],
      "execution_count": 0,
      "outputs": []
    },
    {
      "cell_type": "code",
      "metadata": {
        "id": "U6gwJEPIDsaa",
        "colab_type": "code",
        "colab": {}
      },
      "source": [
        "learn = text_classifier_learner(data_clas, arch=AWD_LSTM, drop_mult=0.7)\n",
        "learn.load_encoder('ft_enc')"
      ],
      "execution_count": 0,
      "outputs": []
    },
    {
      "cell_type": "code",
      "metadata": {
        "id": "W5IY-GcgDu76",
        "colab_type": "code",
        "outputId": "a9c9772f-ce56-487e-bcf4-f764eebeb42a",
        "colab": {
          "base_uri": "https://localhost:8080/",
          "height": 103
        }
      },
      "source": [
        "learn.fit_one_cycle(1, 1e-2)\n"
      ],
      "execution_count": 0,
      "outputs": [
        {
          "output_type": "display_data",
          "data": {
            "text/html": [
              "Total time: 19:04 <p><table border=\"1\" class=\"dataframe\">\n",
              "  <thead>\n",
              "    <tr style=\"text-align: left;\">\n",
              "      <th>epoch</th>\n",
              "      <th>train_loss</th>\n",
              "      <th>valid_loss</th>\n",
              "      <th>accuracy</th>\n",
              "      <th>time</th>\n",
              "    </tr>\n",
              "  </thead>\n",
              "  <tbody>\n",
              "    <tr>\n",
              "      <td>0</td>\n",
              "      <td>0.441268</td>\n",
              "      <td>0.210568</td>\n",
              "      <td>0.898734</td>\n",
              "      <td>19:04</td>\n",
              "    </tr>\n",
              "  </tbody>\n",
              "</table>"
            ],
            "text/plain": [
              "<IPython.core.display.HTML object>"
            ]
          },
          "metadata": {
            "tags": []
          }
        }
      ]
    },
    {
      "cell_type": "code",
      "metadata": {
        "id": "R2GaHmv6D7vC",
        "colab_type": "code",
        "outputId": "b2eebc5b-2bd3-4fec-b1c2-0de0aacb9b5e",
        "colab": {
          "base_uri": "https://localhost:8080/",
          "height": 37
        }
      },
      "source": [
        "# get predictions\n",
        "preds, targets = learn.get_preds()\n",
        "\n",
        "predictions = np.argmax(preds, axis = 1)\n",
        "pd.crosstab(predictions, targets)"
      ],
      "execution_count": 0,
      "outputs": [
        {
          "output_type": "display_data",
          "data": {
            "text/html": [
              "\n",
              "    <div>\n",
              "        <style>\n",
              "            /* Turns off some styling */\n",
              "            progress {\n",
              "                /* gets rid of default border in Firefox and Opera. */\n",
              "                border: none;\n",
              "                /* Needs to be in here for Safari polyfill so background images work as expected. */\n",
              "                background-size: auto;\n",
              "            }\n",
              "            .progress-bar-interrupted, .progress-bar-interrupted::-webkit-progress-bar {\n",
              "                background: #F44336;\n",
              "            }\n",
              "        </style>\n",
              "      <progress value='0' class='' max='15', style='width:300px; height:20px; vertical-align: middle;'></progress>\n",
              "      0.00% [0/15 00:00<00:00]\n",
              "    </div>\n",
              "    "
            ],
            "text/plain": [
              "<IPython.core.display.HTML object>"
            ]
          },
          "metadata": {
            "tags": []
          }
        }
      ]
    },
    {
      "cell_type": "markdown",
      "metadata": {
        "id": "6OIZfr_SMG_5",
        "colab_type": "text"
      },
      "source": [
        "<h1>Flair implementation using Flair embedding</h1>"
      ]
    },
    {
      "cell_type": "code",
      "metadata": {
        "id": "VYM8WDJ5IIbo",
        "colab_type": "code",
        "outputId": "44d5ca61-8727-4b6d-c5e4-3ef72128d27b",
        "colab": {
          "base_uri": "https://localhost:8080/",
          "height": 34
        }
      },
      "source": [
        "from flair.data import Sentence\n",
        "from flair.models import SequenceTagger"
      ],
      "execution_count": 0,
      "outputs": [
        {
          "output_type": "stream",
          "text": [
            "Better speed can be achieved with apex installed from https://www.github.com/nvidia/apex.\n"
          ],
          "name": "stdout"
        }
      ]
    },
    {
      "cell_type": "code",
      "metadata": {
        "id": "WoSh06FtImAg",
        "colab_type": "code",
        "outputId": "c6b764e3-fa28-4f22-9d0b-7a360207f9ca",
        "colab": {
          "base_uri": "https://localhost:8080/",
          "height": 173
        }
      },
      "source": [
        "text = '''Original Tax Invoice\n",
        "OOoLA IGAAJCA1389G1ZG\n",
        "999799\n",
        "ANI Technologies Pvt. Ltd.\n",
        "ANI Technologies Pvt. Ltd., Infinity Think Tank, Business Auxiliary\n",
        "Tower-1, 2nd floor, Plot-A3, Block-GP,Sector-5 Service\n",
        "Salt Lake,Kolkata : 700091\n",
        "CIUPELNHR56992 19/05/2018\n",
        "Ronalisha +919886153386\n",
        "ANI Technologies Pvt. Ltd., Infinity Think\n",
        "Tank, Tower-1, 2nd floor, Plot-A3, Block-GP,Sector-5, Salt\n",
        "Lake,Kolkata : 700091\n",
        "Description Amount (INR)\n",
        "Ola Convenience Fee - CRN1851147515\n",
        "Convenience Fee (Ride) 418.86\n",
        "CGST 7\n",
        "x4\n",
        "SGST\n",
        "Te\n",
        "eee\n",
        "Total\n",
        "C c 22.26\n",
        "pepe ceccan acne neneaneeeeneeeeeee ee\n",
        "Authorised Signatory\n",
        "Q2x\n",
        "—_—_——_\n",
        ": -\n",
        "i .\n",
        "‘ 7\n",
        "i\n",
        "o\n",
        "i\n",
        ". 1\n",
        "----------------------\n",
        "'''\n",
        "sentence = Sentence(text)\n",
        "\n",
        "# load the NER tagger\n",
        "tagger = SequenceTagger.load('ner')\n",
        "\n",
        "# run NER over sentence\n",
        "tagger.predict(sentence)\n",
        "\n",
        "\n",
        "#print(sentence)\n",
        "print('The following NER tags are found:')\n",
        "\n",
        "# iterate over entities and print\n",
        "for entity in sentence.get_spans('ner'):\n",
        "    print(entity)"
      ],
      "execution_count": 0,
      "outputs": [
        {
          "output_type": "stream",
          "text": [
            "2019-03-25 07:23:49,681 https://s3.eu-central-1.amazonaws.com/alan-nlp/resources/models-v0.4/NER-conll03-english/en-ner-conll03-v0.4.pt not found in cache, downloading to /tmp/tmpfzx6xjgy\n"
          ],
          "name": "stdout"
        },
        {
          "output_type": "stream",
          "text": [
            "100%|██████████| 432197603/432197603 [00:24<00:00, 17614673.71B/s]"
          ],
          "name": "stderr"
        },
        {
          "output_type": "stream",
          "text": [
            "2019-03-25 07:24:14,779 copying /tmp/tmpfzx6xjgy to cache at /root/.flair/models/en-ner-conll03-v0.4.pt\n"
          ],
          "name": "stdout"
        },
        {
          "output_type": "stream",
          "text": [
            "\n"
          ],
          "name": "stderr"
        },
        {
          "output_type": "stream",
          "text": [
            "2019-03-25 07:24:16,305 removing temp file /tmp/tmpfzx6xjgy\n",
            "2019-03-25 07:24:16,307 loading file /root/.flair/models/en-ner-conll03-v0.4.pt\n",
            "The following NER tags are found:\n",
            "LOC-span [36]: \"Salt\n",
            "Lake,Kolkata\"\n"
          ],
          "name": "stdout"
        }
      ]
    },
    {
      "cell_type": "code",
      "metadata": {
        "id": "SPGbuiRXvPqK",
        "colab_type": "code",
        "outputId": "4773627d-ed3d-4758-e814-19627f69b695",
        "colab": {
          "base_uri": "https://localhost:8080/",
          "height": 187
        }
      },
      "source": [
        "text = '''SCALED AGILE” Invoice\n",
        "scated Agile, In ’ :\n",
        "400 Airport Blvd, #300 | Number | Date |\n",
        "Boulder, CO 80301 — = }\n",
        "136085 | 2/28/18 |\n",
        "Bill To [stip uD _ = a |\n",
        "eee) ee\n",
        "Satyanarayana Murthy Kotta Satyanarayana Murthy Kotta\n",
        "Infosys Ltd, Manikonda | Infosys Ltd, Manikonda\n",
        "HYDERABAD, Telangana, XXXXXX | | HYDERABAD, Telangana, XXXXXX |\n",
        "India | India\n",
        "eee\n",
        "PO Number Terms Due Date |\n",
        "#00040341 | Due on receipt 2/28/18 |\n",
        "|\n",
        "Payments/Adjustments\n",
        "laty | Description Price (USD) | Discount (USD) | Totals |\n",
        "pee\n",
        "| 5.00 | Leading SAFe 4 (For Satyanarayana Murthy Kotta) $100.00 $500.00 |\n",
        "| Sub-Total $500.00 |\n",
        "Payment Due | $500.00 |\n",
        "ee Farren Applied} ($500.00)|\n",
        "Balance Due} _$0.00|\n",
        "|\n",
        "'\n",
        "Si.\n",
        "s an\n",
        "KL\n",
        "ae\n",
        "ang\n",
        "----------------------\n",
        "'''\n",
        "sentence = Sentence(text)\n",
        "\n",
        "# load the NER tagger\n",
        "tagger = SequenceTagger.load('ner')\n",
        "\n",
        "# run NER over sentence\n",
        "tagger.predict(sentence)\n",
        "\n",
        "\n",
        "#print(sentence)\n",
        "print('The following NER tags are found:')\n",
        "\n",
        "# iterate over entities and print\n",
        "for entity in sentence.get_spans('ner'):\n",
        "    print(entity)"
      ],
      "execution_count": 0,
      "outputs": [
        {
          "output_type": "stream",
          "text": [
            "2019-03-25 07:26:13,771 loading file /root/.flair/models/en-ner-conll03-v0.4.pt\n",
            "The following NER tags are found:\n",
            "ORG-span [8,9]: \"Airport Blvd,\"\n",
            "LOC-span [16]: \"CO\"\n",
            "ORG-span [31,32,33,34,35,36,37,38]: \"ee\n",
            "Satyanarayana Murthy Kotta Satyanarayana Murthy Kotta\n",
            "Infosys Ltd, Manikonda\"\n",
            "ORG-span [40]: \"Infosys\"\n",
            "ORG-span [42,43,44]: \"Manikonda\n",
            "HYDERABAD, Telangana, XXXXXX\"\n"
          ],
          "name": "stdout"
        }
      ]
    },
    {
      "cell_type": "code",
      "metadata": {
        "id": "q7ecaq6mvrJG",
        "colab_type": "code",
        "outputId": "8181389a-9e2f-4dd5-8fcb-f5665cd45f0d",
        "colab": {
          "base_uri": "https://localhost:8080/",
          "height": 68
        }
      },
      "source": [
        "text = '''TAK INVOICE\n",
        "hie MT Ir I :\n",
        "PES INE INNS LIB LA\n",
        "\\ Unit of Choudhary Ventures)\n",
        "©CO-303P& 364 Sector-8,Panchkula(HR)-134109\n",
        "PH: 0172-4676555\n",
        "ROYAL RE TREAT\n",
        "GSTIN: O6ADDFSO0083P2Z5\n",
        "Bill No 4 lime: 22:13:28 Date:04/06/2018\n",
        "é No..07 Pax: 1 vtev L\n",
        "KOTS:45\n",
        "Particulars Qty Rate GST% Amount\n",
        "DINNER VEG. BUFFET 5 476.19 5.0 2380.95\n",
        "Tctal 5 2380.95\n",
        "CGST 59.52\n",
        "SGST 59,52\n",
        "ROYALRE Grand Total 2500.00\n",
        "Rupees Two Thousand Five Hundred only\n",
        "THANKS & PLZ VISIT AGAIN\n",
        "----------------------\n",
        "'''\n",
        "sentence = Sentence(text)\n",
        "\n",
        "# load the NER tagger\n",
        "tagger = SequenceTagger.load('ner')\n",
        "\n",
        "# run NER over sentence\n",
        "tagger.predict(sentence)\n",
        "\n",
        "\n",
        "#print(sentence)\n",
        "print('The following NER tags are found:')\n",
        "\n",
        "# iterate over entities and print\n",
        "for entity in sentence.get_spans('ner'):\n",
        "    print(entity)"
      ],
      "execution_count": 0,
      "outputs": [
        {
          "output_type": "stream",
          "text": [
            "2019-03-25 07:27:26,414 loading file /root/.flair/models/en-ner-conll03-v0.4.pt\n",
            "The following NER tags are found:\n",
            "ORG-span [1]: \"TAK\"\n"
          ],
          "name": "stdout"
        }
      ]
    },
    {
      "cell_type": "markdown",
      "metadata": {
        "id": "hZi-Nrt4MSrG",
        "colab_type": "text"
      },
      "source": [
        "<h1>Flair implementation using BERT embeddings</h1>"
      ]
    },
    {
      "cell_type": "code",
      "metadata": {
        "id": "5fj-dnAaMb8t",
        "colab_type": "code",
        "outputId": "97280233-0ddc-433f-e515-3395d0bf2360",
        "colab": {
          "base_uri": "https://localhost:8080/",
          "height": 51
        }
      },
      "source": [
        "from flair.embeddings import BertEmbeddings\n",
        "# init embedding\n",
        "embedding = BertEmbeddings('bert-large-cased')"
      ],
      "execution_count": 0,
      "outputs": [
        {
          "output_type": "stream",
          "text": [
            "100%|██████████| 213450/213450 [00:00<00:00, 2389883.32B/s]\n",
            "100%|██████████| 1242874899/1242874899 [00:20<00:00, 59225166.87B/s]\n"
          ],
          "name": "stderr"
        }
      ]
    },
    {
      "cell_type": "code",
      "metadata": {
        "id": "NOByS0HdMdxf",
        "colab_type": "code",
        "outputId": "73489007-420b-4884-e7bf-45d7a11192ef",
        "colab": {
          "base_uri": "https://localhost:8080/",
          "height": 85
        }
      },
      "source": [
        "#text\n",
        "text = '''Original Tax Invoice\n",
        "OOoLA IGAAJCA1389G1ZG\n",
        "999799\n",
        "ANI Technologies Pvt. Ltd.\n",
        "ANI Technologies Pvt. Ltd., Infinity Think Tank, Business Auxiliary\n",
        "Tower-1, 2nd floor, Plot-A3, Block-GP,Sector-5 Service\n",
        "Salt Lake,Kolkata : 700091\n",
        "CIUPELNHR56992 19/05/2018\n",
        "Ronalisha +919886153386\n",
        "ANI Technologies Pvt. Ltd., Infinity Think\n",
        "Tank, Tower-1, 2nd floor, Plot-A3, Block-GP,Sector-5, Salt\n",
        "Lake,Kolkata : 700091\n",
        "Description Amount (INR)\n",
        "Ola Convenience Fee - CRN1851147515\n",
        "Convenience Fee (Ride) 418.86\n",
        "CGST 7\n",
        "x4\n",
        "SGST\n",
        "Te\n",
        "eee\n",
        "Total\n",
        "C c 22.26\n",
        "pepe ceccan acne neneaneeeeneeeeeee ee\n",
        "Authorised Signatory\n",
        "Q2x\n",
        "—_—_——_\n",
        ": -\n",
        "i .\n",
        "‘ 7\n",
        "i\n",
        "o\n",
        "i\n",
        ". 1\n",
        "----------------------\n",
        "\n",
        "'''\n",
        "\n",
        "# create a sentence\n",
        "sentence = Sentence(text)\n",
        "\n",
        "# embed words in sentence\n",
        "embedding.embed(sentence)\n",
        "\n",
        "\n",
        "tagger = SequenceTagger.load('ner')\n",
        "\n",
        "# run NER over sentence\n",
        "tagger.predict(sentence)\n",
        "\n",
        "\n",
        "#print(sentence)\n",
        "print('The following NER tags are found:')\n",
        "\n",
        "# iterate over entities and print\n",
        "for entity in sentence.get_spans('ner'):\n",
        "    print(entity)\n"
      ],
      "execution_count": 0,
      "outputs": [
        {
          "output_type": "stream",
          "text": [
            "2019-03-25 07:30:25,919 loading file /root/.flair/models/en-ner-conll03-v0.4.pt\n",
            "The following NER tags are found:\n",
            "LOC-span [36]: \"Salt\n",
            "Lake,Kolkata\"\n"
          ],
          "name": "stdout"
        }
      ]
    },
    {
      "cell_type": "code",
      "metadata": {
        "id": "ifZXWrYcwkCu",
        "colab_type": "code",
        "outputId": "6e5a19f7-6152-4772-ed3c-d78f528bd359",
        "colab": {
          "base_uri": "https://localhost:8080/",
          "height": 187
        }
      },
      "source": [
        "#text\n",
        "text = '''SCALED AGILE” Invoice\n",
        "scated Agile, In ’ :\n",
        "400 Airport Blvd, #300 | Number | Date |\n",
        "Boulder, CO 80301 — = }\n",
        "136085 | 2/28/18 |\n",
        "Bill To [stip uD _ = a |\n",
        "eee) ee\n",
        "Satyanarayana Murthy Kotta Satyanarayana Murthy Kotta\n",
        "Infosys Ltd, Manikonda | Infosys Ltd, Manikonda\n",
        "HYDERABAD, Telangana, XXXXXX | | HYDERABAD, Telangana, XXXXXX |\n",
        "India | India\n",
        "eee\n",
        "PO Number Terms Due Date |\n",
        "#00040341 | Due on receipt 2/28/18 |\n",
        "|\n",
        "Payments/Adjustments\n",
        "laty | Description Price (USD) | Discount (USD) | Totals |\n",
        "pee\n",
        "| 5.00 | Leading SAFe 4 (For Satyanarayana Murthy Kotta) $100.00 $500.00 |\n",
        "| Sub-Total $500.00 |\n",
        "Payment Due | $500.00 |\n",
        "ee Farren Applied} ($500.00)|\n",
        "Balance Due} _$0.00|\n",
        "|\n",
        "'\n",
        "Si.\n",
        "s an\n",
        "KL\n",
        "ae\n",
        "ang\n",
        "----------------------\n",
        "'''\n",
        "\n",
        "# create a sentence\n",
        "sentence = Sentence(text)\n",
        "\n",
        "# embed words in sentence\n",
        "embedding.embed(sentence)\n",
        "\n",
        "\n",
        "tagger = SequenceTagger.load('ner')\n",
        "\n",
        "# run NER over sentence\n",
        "tagger.predict(sentence)\n",
        "\n",
        "\n",
        "#print(sentence)\n",
        "print('The following NER tags are found:')\n",
        "\n",
        "# iterate over entities and print\n",
        "for entity in sentence.get_spans('ner'):\n",
        "    print(entity)\n"
      ],
      "execution_count": 0,
      "outputs": [
        {
          "output_type": "stream",
          "text": [
            "2019-03-25 07:31:35,936 loading file /root/.flair/models/en-ner-conll03-v0.4.pt\n",
            "The following NER tags are found:\n",
            "ORG-span [8,9]: \"Airport Blvd,\"\n",
            "LOC-span [16]: \"CO\"\n",
            "ORG-span [31,32,33,34,35,36,37,38]: \"ee\n",
            "Satyanarayana Murthy Kotta Satyanarayana Murthy Kotta\n",
            "Infosys Ltd, Manikonda\"\n",
            "ORG-span [40]: \"Infosys\"\n",
            "ORG-span [42,43,44]: \"Manikonda\n",
            "HYDERABAD, Telangana, XXXXXX\"\n"
          ],
          "name": "stdout"
        }
      ]
    },
    {
      "cell_type": "code",
      "metadata": {
        "id": "bJq-xNRfw2Wr",
        "colab_type": "code",
        "outputId": "05eacfda-399b-463c-9937-6fca7cf31f44",
        "colab": {
          "base_uri": "https://localhost:8080/",
          "height": 68
        }
      },
      "source": [
        "#text\n",
        "text = '''TAK INVOICE\n",
        "hie MT Ir I :\n",
        "PES INE INNS LIB LA\n",
        "\\ Unit of Choudhary Ventures)\n",
        "©CO-303P& 364 Sector-8,Panchkula(HR)-134109\n",
        "PH: 0172-4676555\n",
        "ROYAL RE TREAT\n",
        "GSTIN: O6ADDFSO0083P2Z5\n",
        "Bill No 4 lime: 22:13:28 Date:04/06/2018\n",
        "é No..07 Pax: 1 vtev L\n",
        "KOTS:45\n",
        "Particulars Qty Rate GST% Amount\n",
        "DINNER VEG. BUFFET 5 476.19 5.0 2380.95\n",
        "Tctal 5 2380.95\n",
        "CGST 59.52\n",
        "SGST 59,52\n",
        "ROYALRE Grand Total 2500.00\n",
        "Rupees Two Thousand Five Hundred only\n",
        "THANKS & PLZ VISIT AGAIN\n",
        "----------------------\n",
        "'''\n",
        "\n",
        "# create a sentence\n",
        "sentence = Sentence(text)\n",
        "\n",
        "# embed words in sentence\n",
        "embedding.embed(sentence)\n",
        "\n",
        "\n",
        "tagger = SequenceTagger.load('ner')\n",
        "\n",
        "# run NER over sentence\n",
        "tagger.predict(sentence)\n",
        "\n",
        "\n",
        "#print(sentence)\n",
        "print('The following NER tags are found:')\n",
        "\n",
        "# iterate over entities and print\n",
        "for entity in sentence.get_spans('ner'):\n",
        "    print(entity)\n"
      ],
      "execution_count": 0,
      "outputs": [
        {
          "output_type": "stream",
          "text": [
            "2019-03-25 07:32:39,940 loading file /root/.flair/models/en-ner-conll03-v0.4.pt\n",
            "The following NER tags are found:\n",
            "ORG-span [1]: \"TAK\"\n"
          ],
          "name": "stdout"
        }
      ]
    },
    {
      "cell_type": "code",
      "metadata": {
        "id": "KZBiAbnaM_xN",
        "colab_type": "code",
        "outputId": "ed63ba31-f365-400d-97c3-ced0e6438fbc",
        "colab": {
          "base_uri": "https://localhost:8080/",
          "height": 68
        }
      },
      "source": [
        "tagger = SequenceTagger.load('ner')\n",
        "\n",
        "# run NER over sentence\n",
        "#text = \"a Guest Information: SAXENA/SALESH/MR Dates of Stay: 19/01/2016 - 11/03/2016\"\n",
        "text = \"Chennai\"\n",
        "\n",
        "sentence = Sentence(text)\n",
        "\n",
        "# embed words in sentence\n",
        "embedding.embed(sentence)\n",
        "\n",
        "tagger.predict(sentence)\n",
        "\n",
        "#print(sentence)\n",
        "print('The following NER tags are found:')\n",
        "\n",
        "# iterate over entities and print\n",
        "for entity in sentence.get_spans('ner'):\n",
        "    print(entity)"
      ],
      "execution_count": 0,
      "outputs": [
        {
          "output_type": "stream",
          "text": [
            "2019-03-25 07:33:17,576 loading file /root/.flair/models/en-ner-conll03-v0.4.pt\n",
            "The following NER tags are found:\n",
            "LOC-span [1]: \"Chennai\"\n"
          ],
          "name": "stdout"
        }
      ]
    },
    {
      "cell_type": "markdown",
      "metadata": {
        "id": "m_S41MVZyS0W",
        "colab_type": "text"
      },
      "source": [
        "<h1> Combining BERT and Flair embeddings"
      ]
    },
    {
      "cell_type": "code",
      "metadata": {
        "id": "oEuHBqxHyXvW",
        "colab_type": "code",
        "outputId": "13d87d5d-0f6b-4fcc-fd8e-ece6f7880ecf",
        "colab": {
          "base_uri": "https://localhost:8080/",
          "height": 187
        }
      },
      "source": [
        "from flair.embeddings import FlairEmbeddings, BertEmbeddings\n",
        "\n",
        "# init Flair embeddings\n",
        "flair_forward_embedding = FlairEmbeddings('multi-forward')\n",
        "flair_backward_embedding = FlairEmbeddings('multi-backward')\n",
        "\n",
        "# init multilingual BERT\n",
        "bert_embedding = BertEmbeddings('bert-base-multilingual-cased')\n",
        "\n",
        "#Now instantiate the StackedEmbeddings class and pass it a list containing these three embeddings.\n",
        "\n",
        "from flair.embeddings import StackedEmbeddings\n",
        "\n",
        "# create the StackedEmbedding object that combines all embeddings\n",
        "stacked_embeddings = StackedEmbeddings(\n",
        "    embeddings=[flair_forward_embedding, flair_backward_embedding, bert_embedding])\n",
        "\n",
        "text = '''SCALED AGILE” Invoice\n",
        "scated Agile, In ’ :\n",
        "400 Airport Blvd, #300 | Number | Date |\n",
        "Boulder, CO 80301 — = }\n",
        "136085 | 2/28/18 |\n",
        "Bill To [stip uD _ = a |\n",
        "eee) ee\n",
        "Satyanarayana Murthy Kotta Satyanarayana Murthy Kotta\n",
        "Infosys Ltd, Manikonda | Infosys Ltd, Manikonda\n",
        "HYDERABAD, Telangana, XXXXXX | | HYDERABAD, Telangana, XXXXXX |\n",
        "India | India\n",
        "eee\n",
        "PO Number Terms Due Date |\n",
        "#00040341 | Due on receipt 2/28/18 |\n",
        "|\n",
        "Payments/Adjustments\n",
        "laty | Description Price (USD) | Discount (USD) | Totals |\n",
        "pee\n",
        "| 5.00 | Leading SAFe 4 (For Satyanarayana Murthy Kotta) $100.00 $500.00 |\n",
        "| Sub-Total $500.00 |\n",
        "Payment Due | $500.00 |\n",
        "ee Farren Applied} ($500.00)|\n",
        "Balance Due} _$0.00|\n",
        "|\n",
        "'\n",
        "Si.\n",
        "s an\n",
        "KL\n",
        "ae\n",
        "ang\n",
        "----------------------'''\n",
        "\n",
        "\n",
        "\n",
        "sentence = Sentence(text)\n",
        "\n",
        "# just embed a sentence using the StackedEmbedding as you would with any single embedding.\n",
        "stacked_embeddings.embed(sentence)\n",
        "\n",
        "\n",
        "tagger = SequenceTagger.load('ner')\n",
        "\n",
        "# run NER over sentence\n",
        "tagger.predict(sentence)\n",
        "\n",
        "\n",
        "#print(sentence)\n",
        "print('The following NER tags are found:')\n",
        "\n",
        "# iterate over entities and print\n",
        "for entity in sentence.get_spans('ner'):\n",
        "    print(entity)\n"
      ],
      "execution_count": 0,
      "outputs": [
        {
          "output_type": "stream",
          "text": [
            "2019-03-25 07:46:28,352 loading file /root/.flair/models/en-ner-conll03-v0.4.pt\n",
            "The following NER tags are found:\n",
            "ORG-span [8,9]: \"Airport Blvd,\"\n",
            "LOC-span [16]: \"CO\"\n",
            "ORG-span [31,32,33,34,35,36,37,38]: \"ee\n",
            "Satyanarayana Murthy Kotta Satyanarayana Murthy Kotta\n",
            "Infosys Ltd, Manikonda\"\n",
            "ORG-span [40]: \"Infosys\"\n",
            "ORG-span [42,43,44]: \"Manikonda\n",
            "HYDERABAD, Telangana, XXXXXX\"\n"
          ],
          "name": "stdout"
        }
      ]
    },
    {
      "cell_type": "markdown",
      "metadata": {
        "id": "UD-qIeQbrFoo",
        "colab_type": "text"
      },
      "source": [
        "<h1>using Spacy on some sample resume</h1>"
      ]
    },
    {
      "cell_type": "code",
      "metadata": {
        "id": "c9vZCDuZecGk",
        "colab_type": "code",
        "colab": {}
      },
      "source": [
        "import spacy\n",
        "nlp = spacy.load('en_core_web_sm')"
      ],
      "execution_count": 0,
      "outputs": []
    },
    {
      "cell_type": "code",
      "metadata": {
        "id": "tej4Q_iLfr0b",
        "colab_type": "code",
        "colab": {}
      },
      "source": [
        "text = '''aaryan vatts\n",
        "Mumbai, Maharashtra - Email me on Indeed: indeed.com/r/aaryan-vatts/536d7f3aac570f70\n",
        "\n",
        "To enhance my knowledge and capabilities by working in a dynamic organization and the leading\n",
        "brand that prides itself by giving substantial responsibility to all the talents\n",
        "\n",
        "Willing to relocate: Anywhere\n",
        "\n",
        "WORK EXPERIENCE\n",
        "\n",
        "sales representative\n",
        "\n",
        "Aditya Birla Minacs Pvt. Ltd -  Mumbai, Maharashtra -\n",
        "\n",
        "May 2014 to Present\n",
        "\n",
        "One year\n",
        "\n",
        "escalation manager\n",
        "\n",
        "Barclaycard -  Mumbai, Maharashtra\n",
        "\n",
        "I have worked with Aditya Birla minacs for facebook process for a year as a sales representative.\n",
        "And now from last 2 and a half years I'm working with uk based credit card company n bank\n",
        "called Barclaycard as a escalation manager\n",
        "\n",
        "EDUCATION\n",
        "\n",
        "west Bengal council in science and commerce\n",
        "\n",
        "west Bengal council of higher education -  Kolkata, West Bengal\n",
        "\n",
        "2011 to 2013\n",
        "\n",
        "SKILLS\n",
        "\n",
        "good communication in English, Hindi, Sanskrit and Maithili, COMPUTER KNOWLEDGE - ms dos,\n",
        "word and excel and besic (3 years)\n",
        "\n",
        "LINKS\n",
        "\n",
        "http://vattsaaryan2011@gmail.com\n",
        "\n",
        "AWARDS\n",
        "\n",
        "employee of the month and year\n",
        "\n",
        "April 2017\n",
        "\n",
        "https://www.indeed.com/r/aaryan-vatts/536d7f3aac570f70?isid=rex-download&ikw=download-top&co=IN\n",
        "http://vattsaaryan2011@gmail.com\n",
        "\n",
        "\n",
        "I've been promoted from a front line agent to an escalation manager and now as team coach\n",
        "(none paper)\n",
        "Have also received applications from Clint and customers several time on social media. Been\n",
        "called to UK to be rewarded for my work.\n",
        "\n",
        "ADDITIONAL INFORMATION\n",
        "\n",
        "Personal information- \n",
        "Dob - […]\n",
        "Marital status - single\n",
        "Nationality - Indian\n",
        "Religion- Hindu\n",
        "\n",
        "None Academic Activity -\n",
        "Have also worked with some production company and done some none academic activity like tv\n",
        "serials like \"cid and gumrah\" and concerts and have done music and acting course too'''"
      ],
      "execution_count": 0,
      "outputs": []
    },
    {
      "cell_type": "code",
      "metadata": {
        "id": "nu6SNzWaf3FA",
        "colab_type": "code",
        "outputId": "1420896a-c942-40fa-b5a4-9abfda00c142",
        "colab": {
          "base_uri": "https://localhost:8080/",
          "height": 1275
        }
      },
      "source": [
        "doc = nlp(text)\n",
        "for entity in doc.ents:\n",
        "  print(entity, entity.label_)"
      ],
      "execution_count": 0,
      "outputs": [
        {
          "output_type": "stream",
          "text": [
            "\n",
            " GPE\n",
            "Mumbai GPE\n",
            "Maharashtra - Email ORG\n",
            "\n",
            " GPE\n",
            "\n",
            "\n",
            "Willing PERSON\n",
            "\n",
            "\n",
            "Aditya Birla PERSON\n",
            "Minacs Pvt PERSON\n",
            "Ltd -   PERSON\n",
            "Mumbai GPE\n",
            "Maharashtra -\n",
            "\n",
            " PRODUCT\n",
            "May 2014 to DATE\n",
            "One year DATE\n",
            "\n",
            "\n",
            "Barclaycard -   PERSON\n",
            "Mumbai GPE\n",
            "Maharashtra\n",
            "\n",
            " PRODUCT\n",
            "Aditya Birla PERSON\n",
            "a year DATE\n",
            "\n",
            " GPE\n",
            "last 2 and a half years DATE\n",
            "\n",
            " GPE\n",
            "Barclaycard ORG\n",
            "\n",
            "\n",
            " DATE\n",
            "Bengal GPE\n",
            "Bengal GPE\n",
            "Kolkata PERSON\n",
            "West Bengal GPE\n",
            "2011 DATE\n",
            "English LANGUAGE\n",
            "Hindi ORG\n",
            "Sanskrit GPE\n",
            "Maithili GPE\n",
            "\n",
            " GPE\n",
            "3 years DATE\n",
            "the month DATE\n",
            "year\n",
            "\n",
            "April 2017 DATE\n",
            "\n",
            " GPE\n",
            "\n",
            " GPE\n",
            "\n",
            " GPE\n",
            "Clint ORG\n",
            "\n",
            " GPE\n",
            "UK GPE\n",
            "\n",
            "Dob - […]\n",
            "Marital EVENT\n",
            "\n",
            " GPE\n",
            "Nationality - Indian ORG\n",
            "\n",
            "Religion- EVENT\n",
            "\n",
            " GPE\n"
          ],
          "name": "stdout"
        }
      ]
    }
  ]
}