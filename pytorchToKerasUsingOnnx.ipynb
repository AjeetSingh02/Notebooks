{
  "nbformat": 4,
  "nbformat_minor": 0,
  "metadata": {
    "colab": {
      "name": "pytorchToKerasUsingOnnx.ipynb",
      "provenance": [],
      "collapsed_sections": [],
      "toc_visible": true,
      "authorship_tag": "ABX9TyMUIzbC2rCplu3lgd5I5Z6J",
      "include_colab_link": true
    },
    "kernelspec": {
      "name": "python3",
      "display_name": "Python 3"
    },
    "widgets": {
      "application/vnd.jupyter.widget-state+json": {
        "d244e78ac8db4d6ca0d930d28780ac3f": {
          "model_module": "@jupyter-widgets/controls",
          "model_name": "HBoxModel",
          "state": {
            "_view_name": "HBoxView",
            "_dom_classes": [],
            "_model_name": "HBoxModel",
            "_view_module": "@jupyter-widgets/controls",
            "_model_module_version": "1.5.0",
            "_view_count": null,
            "_view_module_version": "1.5.0",
            "box_style": "",
            "layout": "IPY_MODEL_bcc122e9d54b4f819cc288606534b724",
            "_model_module": "@jupyter-widgets/controls",
            "children": [
              "IPY_MODEL_4034576632e346fca7f1528295fbffa3",
              "IPY_MODEL_f702061e3bb04a43ac217f3db0fc52af"
            ]
          }
        },
        "bcc122e9d54b4f819cc288606534b724": {
          "model_module": "@jupyter-widgets/base",
          "model_name": "LayoutModel",
          "state": {
            "_view_name": "LayoutView",
            "grid_template_rows": null,
            "right": null,
            "justify_content": null,
            "_view_module": "@jupyter-widgets/base",
            "overflow": null,
            "_model_module_version": "1.2.0",
            "_view_count": null,
            "flex_flow": null,
            "width": null,
            "min_width": null,
            "border": null,
            "align_items": null,
            "bottom": null,
            "_model_module": "@jupyter-widgets/base",
            "top": null,
            "grid_column": null,
            "overflow_y": null,
            "overflow_x": null,
            "grid_auto_flow": null,
            "grid_area": null,
            "grid_template_columns": null,
            "flex": null,
            "_model_name": "LayoutModel",
            "justify_items": null,
            "grid_row": null,
            "max_height": null,
            "align_content": null,
            "visibility": null,
            "align_self": null,
            "height": null,
            "min_height": null,
            "padding": null,
            "grid_auto_rows": null,
            "grid_gap": null,
            "max_width": null,
            "order": null,
            "_view_module_version": "1.2.0",
            "grid_template_areas": null,
            "object_position": null,
            "object_fit": null,
            "grid_auto_columns": null,
            "margin": null,
            "display": null,
            "left": null
          }
        },
        "4034576632e346fca7f1528295fbffa3": {
          "model_module": "@jupyter-widgets/controls",
          "model_name": "FloatProgressModel",
          "state": {
            "_view_name": "ProgressView",
            "style": "IPY_MODEL_f7c316db104743159f2ad6484e042550",
            "_dom_classes": [],
            "description": "",
            "_model_name": "FloatProgressModel",
            "bar_style": "success",
            "max": 1,
            "_view_module": "@jupyter-widgets/controls",
            "_model_module_version": "1.5.0",
            "value": 1,
            "_view_count": null,
            "_view_module_version": "1.5.0",
            "orientation": "horizontal",
            "min": 0,
            "description_tooltip": null,
            "_model_module": "@jupyter-widgets/controls",
            "layout": "IPY_MODEL_852edb834d684c00bedd89944dbf296b"
          }
        },
        "f702061e3bb04a43ac217f3db0fc52af": {
          "model_module": "@jupyter-widgets/controls",
          "model_name": "HTMLModel",
          "state": {
            "_view_name": "HTMLView",
            "style": "IPY_MODEL_8272017ee57f4ba3b7e806da8c79c029",
            "_dom_classes": [],
            "description": "",
            "_model_name": "HTMLModel",
            "placeholder": "​",
            "_view_module": "@jupyter-widgets/controls",
            "_model_module_version": "1.5.0",
            "value": " 9920512/? [00:05&lt;00:00, 1667491.86it/s]",
            "_view_count": null,
            "_view_module_version": "1.5.0",
            "description_tooltip": null,
            "_model_module": "@jupyter-widgets/controls",
            "layout": "IPY_MODEL_8c2a4c33ebc941bd8c162040d13ec162"
          }
        },
        "f7c316db104743159f2ad6484e042550": {
          "model_module": "@jupyter-widgets/controls",
          "model_name": "ProgressStyleModel",
          "state": {
            "_view_name": "StyleView",
            "_model_name": "ProgressStyleModel",
            "description_width": "initial",
            "_view_module": "@jupyter-widgets/base",
            "_model_module_version": "1.5.0",
            "_view_count": null,
            "_view_module_version": "1.2.0",
            "bar_color": null,
            "_model_module": "@jupyter-widgets/controls"
          }
        },
        "852edb834d684c00bedd89944dbf296b": {
          "model_module": "@jupyter-widgets/base",
          "model_name": "LayoutModel",
          "state": {
            "_view_name": "LayoutView",
            "grid_template_rows": null,
            "right": null,
            "justify_content": null,
            "_view_module": "@jupyter-widgets/base",
            "overflow": null,
            "_model_module_version": "1.2.0",
            "_view_count": null,
            "flex_flow": null,
            "width": null,
            "min_width": null,
            "border": null,
            "align_items": null,
            "bottom": null,
            "_model_module": "@jupyter-widgets/base",
            "top": null,
            "grid_column": null,
            "overflow_y": null,
            "overflow_x": null,
            "grid_auto_flow": null,
            "grid_area": null,
            "grid_template_columns": null,
            "flex": null,
            "_model_name": "LayoutModel",
            "justify_items": null,
            "grid_row": null,
            "max_height": null,
            "align_content": null,
            "visibility": null,
            "align_self": null,
            "height": null,
            "min_height": null,
            "padding": null,
            "grid_auto_rows": null,
            "grid_gap": null,
            "max_width": null,
            "order": null,
            "_view_module_version": "1.2.0",
            "grid_template_areas": null,
            "object_position": null,
            "object_fit": null,
            "grid_auto_columns": null,
            "margin": null,
            "display": null,
            "left": null
          }
        },
        "8272017ee57f4ba3b7e806da8c79c029": {
          "model_module": "@jupyter-widgets/controls",
          "model_name": "DescriptionStyleModel",
          "state": {
            "_view_name": "StyleView",
            "_model_name": "DescriptionStyleModel",
            "description_width": "",
            "_view_module": "@jupyter-widgets/base",
            "_model_module_version": "1.5.0",
            "_view_count": null,
            "_view_module_version": "1.2.0",
            "_model_module": "@jupyter-widgets/controls"
          }
        },
        "8c2a4c33ebc941bd8c162040d13ec162": {
          "model_module": "@jupyter-widgets/base",
          "model_name": "LayoutModel",
          "state": {
            "_view_name": "LayoutView",
            "grid_template_rows": null,
            "right": null,
            "justify_content": null,
            "_view_module": "@jupyter-widgets/base",
            "overflow": null,
            "_model_module_version": "1.2.0",
            "_view_count": null,
            "flex_flow": null,
            "width": null,
            "min_width": null,
            "border": null,
            "align_items": null,
            "bottom": null,
            "_model_module": "@jupyter-widgets/base",
            "top": null,
            "grid_column": null,
            "overflow_y": null,
            "overflow_x": null,
            "grid_auto_flow": null,
            "grid_area": null,
            "grid_template_columns": null,
            "flex": null,
            "_model_name": "LayoutModel",
            "justify_items": null,
            "grid_row": null,
            "max_height": null,
            "align_content": null,
            "visibility": null,
            "align_self": null,
            "height": null,
            "min_height": null,
            "padding": null,
            "grid_auto_rows": null,
            "grid_gap": null,
            "max_width": null,
            "order": null,
            "_view_module_version": "1.2.0",
            "grid_template_areas": null,
            "object_position": null,
            "object_fit": null,
            "grid_auto_columns": null,
            "margin": null,
            "display": null,
            "left": null
          }
        },
        "2a7781f271d64fa8b83b920f2b9a0e24": {
          "model_module": "@jupyter-widgets/controls",
          "model_name": "HBoxModel",
          "state": {
            "_view_name": "HBoxView",
            "_dom_classes": [],
            "_model_name": "HBoxModel",
            "_view_module": "@jupyter-widgets/controls",
            "_model_module_version": "1.5.0",
            "_view_count": null,
            "_view_module_version": "1.5.0",
            "box_style": "",
            "layout": "IPY_MODEL_031004517eca43569637d69ba9fd56c3",
            "_model_module": "@jupyter-widgets/controls",
            "children": [
              "IPY_MODEL_c2742fd0cd9f4878afe0d6f18d005a13",
              "IPY_MODEL_65c4ada04001450fb3ccaf511c411e87"
            ]
          }
        },
        "031004517eca43569637d69ba9fd56c3": {
          "model_module": "@jupyter-widgets/base",
          "model_name": "LayoutModel",
          "state": {
            "_view_name": "LayoutView",
            "grid_template_rows": null,
            "right": null,
            "justify_content": null,
            "_view_module": "@jupyter-widgets/base",
            "overflow": null,
            "_model_module_version": "1.2.0",
            "_view_count": null,
            "flex_flow": null,
            "width": null,
            "min_width": null,
            "border": null,
            "align_items": null,
            "bottom": null,
            "_model_module": "@jupyter-widgets/base",
            "top": null,
            "grid_column": null,
            "overflow_y": null,
            "overflow_x": null,
            "grid_auto_flow": null,
            "grid_area": null,
            "grid_template_columns": null,
            "flex": null,
            "_model_name": "LayoutModel",
            "justify_items": null,
            "grid_row": null,
            "max_height": null,
            "align_content": null,
            "visibility": null,
            "align_self": null,
            "height": null,
            "min_height": null,
            "padding": null,
            "grid_auto_rows": null,
            "grid_gap": null,
            "max_width": null,
            "order": null,
            "_view_module_version": "1.2.0",
            "grid_template_areas": null,
            "object_position": null,
            "object_fit": null,
            "grid_auto_columns": null,
            "margin": null,
            "display": null,
            "left": null
          }
        },
        "c2742fd0cd9f4878afe0d6f18d005a13": {
          "model_module": "@jupyter-widgets/controls",
          "model_name": "FloatProgressModel",
          "state": {
            "_view_name": "ProgressView",
            "style": "IPY_MODEL_a25219502fad4fa6b2ab5dd8be888d16",
            "_dom_classes": [],
            "description": "",
            "_model_name": "FloatProgressModel",
            "bar_style": "success",
            "max": 1,
            "_view_module": "@jupyter-widgets/controls",
            "_model_module_version": "1.5.0",
            "value": 1,
            "_view_count": null,
            "_view_module_version": "1.5.0",
            "orientation": "horizontal",
            "min": 0,
            "description_tooltip": null,
            "_model_module": "@jupyter-widgets/controls",
            "layout": "IPY_MODEL_32d23646fa9f427a87ccfb96e13351cb"
          }
        },
        "65c4ada04001450fb3ccaf511c411e87": {
          "model_module": "@jupyter-widgets/controls",
          "model_name": "HTMLModel",
          "state": {
            "_view_name": "HTMLView",
            "style": "IPY_MODEL_af1cfc6e1ceb4adfb5b177930f88b718",
            "_dom_classes": [],
            "description": "",
            "_model_name": "HTMLModel",
            "placeholder": "​",
            "_view_module": "@jupyter-widgets/controls",
            "_model_module_version": "1.5.0",
            "value": " 32768/? [00:02&lt;00:00, 14023.63it/s]",
            "_view_count": null,
            "_view_module_version": "1.5.0",
            "description_tooltip": null,
            "_model_module": "@jupyter-widgets/controls",
            "layout": "IPY_MODEL_4bc244426bf84f539f1172e8447e167e"
          }
        },
        "a25219502fad4fa6b2ab5dd8be888d16": {
          "model_module": "@jupyter-widgets/controls",
          "model_name": "ProgressStyleModel",
          "state": {
            "_view_name": "StyleView",
            "_model_name": "ProgressStyleModel",
            "description_width": "initial",
            "_view_module": "@jupyter-widgets/base",
            "_model_module_version": "1.5.0",
            "_view_count": null,
            "_view_module_version": "1.2.0",
            "bar_color": null,
            "_model_module": "@jupyter-widgets/controls"
          }
        },
        "32d23646fa9f427a87ccfb96e13351cb": {
          "model_module": "@jupyter-widgets/base",
          "model_name": "LayoutModel",
          "state": {
            "_view_name": "LayoutView",
            "grid_template_rows": null,
            "right": null,
            "justify_content": null,
            "_view_module": "@jupyter-widgets/base",
            "overflow": null,
            "_model_module_version": "1.2.0",
            "_view_count": null,
            "flex_flow": null,
            "width": null,
            "min_width": null,
            "border": null,
            "align_items": null,
            "bottom": null,
            "_model_module": "@jupyter-widgets/base",
            "top": null,
            "grid_column": null,
            "overflow_y": null,
            "overflow_x": null,
            "grid_auto_flow": null,
            "grid_area": null,
            "grid_template_columns": null,
            "flex": null,
            "_model_name": "LayoutModel",
            "justify_items": null,
            "grid_row": null,
            "max_height": null,
            "align_content": null,
            "visibility": null,
            "align_self": null,
            "height": null,
            "min_height": null,
            "padding": null,
            "grid_auto_rows": null,
            "grid_gap": null,
            "max_width": null,
            "order": null,
            "_view_module_version": "1.2.0",
            "grid_template_areas": null,
            "object_position": null,
            "object_fit": null,
            "grid_auto_columns": null,
            "margin": null,
            "display": null,
            "left": null
          }
        },
        "af1cfc6e1ceb4adfb5b177930f88b718": {
          "model_module": "@jupyter-widgets/controls",
          "model_name": "DescriptionStyleModel",
          "state": {
            "_view_name": "StyleView",
            "_model_name": "DescriptionStyleModel",
            "description_width": "",
            "_view_module": "@jupyter-widgets/base",
            "_model_module_version": "1.5.0",
            "_view_count": null,
            "_view_module_version": "1.2.0",
            "_model_module": "@jupyter-widgets/controls"
          }
        },
        "4bc244426bf84f539f1172e8447e167e": {
          "model_module": "@jupyter-widgets/base",
          "model_name": "LayoutModel",
          "state": {
            "_view_name": "LayoutView",
            "grid_template_rows": null,
            "right": null,
            "justify_content": null,
            "_view_module": "@jupyter-widgets/base",
            "overflow": null,
            "_model_module_version": "1.2.0",
            "_view_count": null,
            "flex_flow": null,
            "width": null,
            "min_width": null,
            "border": null,
            "align_items": null,
            "bottom": null,
            "_model_module": "@jupyter-widgets/base",
            "top": null,
            "grid_column": null,
            "overflow_y": null,
            "overflow_x": null,
            "grid_auto_flow": null,
            "grid_area": null,
            "grid_template_columns": null,
            "flex": null,
            "_model_name": "LayoutModel",
            "justify_items": null,
            "grid_row": null,
            "max_height": null,
            "align_content": null,
            "visibility": null,
            "align_self": null,
            "height": null,
            "min_height": null,
            "padding": null,
            "grid_auto_rows": null,
            "grid_gap": null,
            "max_width": null,
            "order": null,
            "_view_module_version": "1.2.0",
            "grid_template_areas": null,
            "object_position": null,
            "object_fit": null,
            "grid_auto_columns": null,
            "margin": null,
            "display": null,
            "left": null
          }
        },
        "51eb862a4a9e426dbefd1b783e2e36bb": {
          "model_module": "@jupyter-widgets/controls",
          "model_name": "HBoxModel",
          "state": {
            "_view_name": "HBoxView",
            "_dom_classes": [],
            "_model_name": "HBoxModel",
            "_view_module": "@jupyter-widgets/controls",
            "_model_module_version": "1.5.0",
            "_view_count": null,
            "_view_module_version": "1.5.0",
            "box_style": "",
            "layout": "IPY_MODEL_5f4086d83bd74a3ba202897f3aed5509",
            "_model_module": "@jupyter-widgets/controls",
            "children": [
              "IPY_MODEL_77e113f26d17460598ac19ce721bedf2",
              "IPY_MODEL_4565746eb91846729b843cbfcb634bab"
            ]
          }
        },
        "5f4086d83bd74a3ba202897f3aed5509": {
          "model_module": "@jupyter-widgets/base",
          "model_name": "LayoutModel",
          "state": {
            "_view_name": "LayoutView",
            "grid_template_rows": null,
            "right": null,
            "justify_content": null,
            "_view_module": "@jupyter-widgets/base",
            "overflow": null,
            "_model_module_version": "1.2.0",
            "_view_count": null,
            "flex_flow": null,
            "width": null,
            "min_width": null,
            "border": null,
            "align_items": null,
            "bottom": null,
            "_model_module": "@jupyter-widgets/base",
            "top": null,
            "grid_column": null,
            "overflow_y": null,
            "overflow_x": null,
            "grid_auto_flow": null,
            "grid_area": null,
            "grid_template_columns": null,
            "flex": null,
            "_model_name": "LayoutModel",
            "justify_items": null,
            "grid_row": null,
            "max_height": null,
            "align_content": null,
            "visibility": null,
            "align_self": null,
            "height": null,
            "min_height": null,
            "padding": null,
            "grid_auto_rows": null,
            "grid_gap": null,
            "max_width": null,
            "order": null,
            "_view_module_version": "1.2.0",
            "grid_template_areas": null,
            "object_position": null,
            "object_fit": null,
            "grid_auto_columns": null,
            "margin": null,
            "display": null,
            "left": null
          }
        },
        "77e113f26d17460598ac19ce721bedf2": {
          "model_module": "@jupyter-widgets/controls",
          "model_name": "FloatProgressModel",
          "state": {
            "_view_name": "ProgressView",
            "style": "IPY_MODEL_cc0d3de2547848d39ad5f5d51b9b81ba",
            "_dom_classes": [],
            "description": "",
            "_model_name": "FloatProgressModel",
            "bar_style": "success",
            "max": 1,
            "_view_module": "@jupyter-widgets/controls",
            "_model_module_version": "1.5.0",
            "value": 1,
            "_view_count": null,
            "_view_module_version": "1.5.0",
            "orientation": "horizontal",
            "min": 0,
            "description_tooltip": null,
            "_model_module": "@jupyter-widgets/controls",
            "layout": "IPY_MODEL_dd950513efe4496e9eecec386c6f8777"
          }
        },
        "4565746eb91846729b843cbfcb634bab": {
          "model_module": "@jupyter-widgets/controls",
          "model_name": "HTMLModel",
          "state": {
            "_view_name": "HTMLView",
            "style": "IPY_MODEL_e0cffd8f823b4604a8754f3ab7996b9c",
            "_dom_classes": [],
            "description": "",
            "_model_name": "HTMLModel",
            "placeholder": "​",
            "_view_module": "@jupyter-widgets/controls",
            "_model_module_version": "1.5.0",
            "value": " 1654784/? [00:01&lt;00:00, 970224.67it/s]",
            "_view_count": null,
            "_view_module_version": "1.5.0",
            "description_tooltip": null,
            "_model_module": "@jupyter-widgets/controls",
            "layout": "IPY_MODEL_4c0564540d1c45c3bc546679df083768"
          }
        },
        "cc0d3de2547848d39ad5f5d51b9b81ba": {
          "model_module": "@jupyter-widgets/controls",
          "model_name": "ProgressStyleModel",
          "state": {
            "_view_name": "StyleView",
            "_model_name": "ProgressStyleModel",
            "description_width": "initial",
            "_view_module": "@jupyter-widgets/base",
            "_model_module_version": "1.5.0",
            "_view_count": null,
            "_view_module_version": "1.2.0",
            "bar_color": null,
            "_model_module": "@jupyter-widgets/controls"
          }
        },
        "dd950513efe4496e9eecec386c6f8777": {
          "model_module": "@jupyter-widgets/base",
          "model_name": "LayoutModel",
          "state": {
            "_view_name": "LayoutView",
            "grid_template_rows": null,
            "right": null,
            "justify_content": null,
            "_view_module": "@jupyter-widgets/base",
            "overflow": null,
            "_model_module_version": "1.2.0",
            "_view_count": null,
            "flex_flow": null,
            "width": null,
            "min_width": null,
            "border": null,
            "align_items": null,
            "bottom": null,
            "_model_module": "@jupyter-widgets/base",
            "top": null,
            "grid_column": null,
            "overflow_y": null,
            "overflow_x": null,
            "grid_auto_flow": null,
            "grid_area": null,
            "grid_template_columns": null,
            "flex": null,
            "_model_name": "LayoutModel",
            "justify_items": null,
            "grid_row": null,
            "max_height": null,
            "align_content": null,
            "visibility": null,
            "align_self": null,
            "height": null,
            "min_height": null,
            "padding": null,
            "grid_auto_rows": null,
            "grid_gap": null,
            "max_width": null,
            "order": null,
            "_view_module_version": "1.2.0",
            "grid_template_areas": null,
            "object_position": null,
            "object_fit": null,
            "grid_auto_columns": null,
            "margin": null,
            "display": null,
            "left": null
          }
        },
        "e0cffd8f823b4604a8754f3ab7996b9c": {
          "model_module": "@jupyter-widgets/controls",
          "model_name": "DescriptionStyleModel",
          "state": {
            "_view_name": "StyleView",
            "_model_name": "DescriptionStyleModel",
            "description_width": "",
            "_view_module": "@jupyter-widgets/base",
            "_model_module_version": "1.5.0",
            "_view_count": null,
            "_view_module_version": "1.2.0",
            "_model_module": "@jupyter-widgets/controls"
          }
        },
        "4c0564540d1c45c3bc546679df083768": {
          "model_module": "@jupyter-widgets/base",
          "model_name": "LayoutModel",
          "state": {
            "_view_name": "LayoutView",
            "grid_template_rows": null,
            "right": null,
            "justify_content": null,
            "_view_module": "@jupyter-widgets/base",
            "overflow": null,
            "_model_module_version": "1.2.0",
            "_view_count": null,
            "flex_flow": null,
            "width": null,
            "min_width": null,
            "border": null,
            "align_items": null,
            "bottom": null,
            "_model_module": "@jupyter-widgets/base",
            "top": null,
            "grid_column": null,
            "overflow_y": null,
            "overflow_x": null,
            "grid_auto_flow": null,
            "grid_area": null,
            "grid_template_columns": null,
            "flex": null,
            "_model_name": "LayoutModel",
            "justify_items": null,
            "grid_row": null,
            "max_height": null,
            "align_content": null,
            "visibility": null,
            "align_self": null,
            "height": null,
            "min_height": null,
            "padding": null,
            "grid_auto_rows": null,
            "grid_gap": null,
            "max_width": null,
            "order": null,
            "_view_module_version": "1.2.0",
            "grid_template_areas": null,
            "object_position": null,
            "object_fit": null,
            "grid_auto_columns": null,
            "margin": null,
            "display": null,
            "left": null
          }
        },
        "95717024229242089018e43c109be2f5": {
          "model_module": "@jupyter-widgets/controls",
          "model_name": "HBoxModel",
          "state": {
            "_view_name": "HBoxView",
            "_dom_classes": [],
            "_model_name": "HBoxModel",
            "_view_module": "@jupyter-widgets/controls",
            "_model_module_version": "1.5.0",
            "_view_count": null,
            "_view_module_version": "1.5.0",
            "box_style": "",
            "layout": "IPY_MODEL_a988cf9f83f04bfd86015b718ae2f025",
            "_model_module": "@jupyter-widgets/controls",
            "children": [
              "IPY_MODEL_dd7df084add0420e9b35934563e5e1d5",
              "IPY_MODEL_860354ebc35944b39c1c1e290701c8be"
            ]
          }
        },
        "a988cf9f83f04bfd86015b718ae2f025": {
          "model_module": "@jupyter-widgets/base",
          "model_name": "LayoutModel",
          "state": {
            "_view_name": "LayoutView",
            "grid_template_rows": null,
            "right": null,
            "justify_content": null,
            "_view_module": "@jupyter-widgets/base",
            "overflow": null,
            "_model_module_version": "1.2.0",
            "_view_count": null,
            "flex_flow": null,
            "width": null,
            "min_width": null,
            "border": null,
            "align_items": null,
            "bottom": null,
            "_model_module": "@jupyter-widgets/base",
            "top": null,
            "grid_column": null,
            "overflow_y": null,
            "overflow_x": null,
            "grid_auto_flow": null,
            "grid_area": null,
            "grid_template_columns": null,
            "flex": null,
            "_model_name": "LayoutModel",
            "justify_items": null,
            "grid_row": null,
            "max_height": null,
            "align_content": null,
            "visibility": null,
            "align_self": null,
            "height": null,
            "min_height": null,
            "padding": null,
            "grid_auto_rows": null,
            "grid_gap": null,
            "max_width": null,
            "order": null,
            "_view_module_version": "1.2.0",
            "grid_template_areas": null,
            "object_position": null,
            "object_fit": null,
            "grid_auto_columns": null,
            "margin": null,
            "display": null,
            "left": null
          }
        },
        "dd7df084add0420e9b35934563e5e1d5": {
          "model_module": "@jupyter-widgets/controls",
          "model_name": "FloatProgressModel",
          "state": {
            "_view_name": "ProgressView",
            "style": "IPY_MODEL_7238de5f88d947dd9013f03130f84ecc",
            "_dom_classes": [],
            "description": "",
            "_model_name": "FloatProgressModel",
            "bar_style": "success",
            "max": 1,
            "_view_module": "@jupyter-widgets/controls",
            "_model_module_version": "1.5.0",
            "value": 1,
            "_view_count": null,
            "_view_module_version": "1.5.0",
            "orientation": "horizontal",
            "min": 0,
            "description_tooltip": null,
            "_model_module": "@jupyter-widgets/controls",
            "layout": "IPY_MODEL_d340a5d123c3461f84669dee11806340"
          }
        },
        "860354ebc35944b39c1c1e290701c8be": {
          "model_module": "@jupyter-widgets/controls",
          "model_name": "HTMLModel",
          "state": {
            "_view_name": "HTMLView",
            "style": "IPY_MODEL_eb7d384c09a34c67a2ccc7ce2e9e8ccd",
            "_dom_classes": [],
            "description": "",
            "_model_name": "HTMLModel",
            "placeholder": "​",
            "_view_module": "@jupyter-widgets/controls",
            "_model_module_version": "1.5.0",
            "value": " 8192/? [00:00&lt;00:00, 9089.10it/s]",
            "_view_count": null,
            "_view_module_version": "1.5.0",
            "description_tooltip": null,
            "_model_module": "@jupyter-widgets/controls",
            "layout": "IPY_MODEL_a70114297eb7487faa3534c96468e450"
          }
        },
        "7238de5f88d947dd9013f03130f84ecc": {
          "model_module": "@jupyter-widgets/controls",
          "model_name": "ProgressStyleModel",
          "state": {
            "_view_name": "StyleView",
            "_model_name": "ProgressStyleModel",
            "description_width": "initial",
            "_view_module": "@jupyter-widgets/base",
            "_model_module_version": "1.5.0",
            "_view_count": null,
            "_view_module_version": "1.2.0",
            "bar_color": null,
            "_model_module": "@jupyter-widgets/controls"
          }
        },
        "d340a5d123c3461f84669dee11806340": {
          "model_module": "@jupyter-widgets/base",
          "model_name": "LayoutModel",
          "state": {
            "_view_name": "LayoutView",
            "grid_template_rows": null,
            "right": null,
            "justify_content": null,
            "_view_module": "@jupyter-widgets/base",
            "overflow": null,
            "_model_module_version": "1.2.0",
            "_view_count": null,
            "flex_flow": null,
            "width": null,
            "min_width": null,
            "border": null,
            "align_items": null,
            "bottom": null,
            "_model_module": "@jupyter-widgets/base",
            "top": null,
            "grid_column": null,
            "overflow_y": null,
            "overflow_x": null,
            "grid_auto_flow": null,
            "grid_area": null,
            "grid_template_columns": null,
            "flex": null,
            "_model_name": "LayoutModel",
            "justify_items": null,
            "grid_row": null,
            "max_height": null,
            "align_content": null,
            "visibility": null,
            "align_self": null,
            "height": null,
            "min_height": null,
            "padding": null,
            "grid_auto_rows": null,
            "grid_gap": null,
            "max_width": null,
            "order": null,
            "_view_module_version": "1.2.0",
            "grid_template_areas": null,
            "object_position": null,
            "object_fit": null,
            "grid_auto_columns": null,
            "margin": null,
            "display": null,
            "left": null
          }
        },
        "eb7d384c09a34c67a2ccc7ce2e9e8ccd": {
          "model_module": "@jupyter-widgets/controls",
          "model_name": "DescriptionStyleModel",
          "state": {
            "_view_name": "StyleView",
            "_model_name": "DescriptionStyleModel",
            "description_width": "",
            "_view_module": "@jupyter-widgets/base",
            "_model_module_version": "1.5.0",
            "_view_count": null,
            "_view_module_version": "1.2.0",
            "_model_module": "@jupyter-widgets/controls"
          }
        },
        "a70114297eb7487faa3534c96468e450": {
          "model_module": "@jupyter-widgets/base",
          "model_name": "LayoutModel",
          "state": {
            "_view_name": "LayoutView",
            "grid_template_rows": null,
            "right": null,
            "justify_content": null,
            "_view_module": "@jupyter-widgets/base",
            "overflow": null,
            "_model_module_version": "1.2.0",
            "_view_count": null,
            "flex_flow": null,
            "width": null,
            "min_width": null,
            "border": null,
            "align_items": null,
            "bottom": null,
            "_model_module": "@jupyter-widgets/base",
            "top": null,
            "grid_column": null,
            "overflow_y": null,
            "overflow_x": null,
            "grid_auto_flow": null,
            "grid_area": null,
            "grid_template_columns": null,
            "flex": null,
            "_model_name": "LayoutModel",
            "justify_items": null,
            "grid_row": null,
            "max_height": null,
            "align_content": null,
            "visibility": null,
            "align_self": null,
            "height": null,
            "min_height": null,
            "padding": null,
            "grid_auto_rows": null,
            "grid_gap": null,
            "max_width": null,
            "order": null,
            "_view_module_version": "1.2.0",
            "grid_template_areas": null,
            "object_position": null,
            "object_fit": null,
            "grid_auto_columns": null,
            "margin": null,
            "display": null,
            "left": null
          }
        }
      }
    }
  },
  "cells": [
    {
      "cell_type": "markdown",
      "metadata": {
        "id": "view-in-github",
        "colab_type": "text"
      },
      "source": [
        "<a href=\"https://colab.research.google.com/github/AjeetSingh02/Notebooks/blob/master/pytorchToKerasUsingOnnx.ipynb\" target=\"_parent\"><img src=\"https://colab.research.google.com/assets/colab-badge.svg\" alt=\"Open In Colab\"/></a>"
      ]
    },
    {
      "cell_type": "markdown",
      "metadata": {
        "id": "ILNZ-ufwJf64"
      },
      "source": [
        "# Use Case: Handwritten Digits Classification"
      ]
    },
    {
      "cell_type": "markdown",
      "metadata": {
        "id": "-E2h-xwAaYKT"
      },
      "source": [
        "![MnistExamples.png](data:image/png;base64,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)"
      ]
    },
    {
      "cell_type": "markdown",
      "metadata": {
        "id": "EhUe3dCfctbg"
      },
      "source": [
        "**Use case brief**: We want to create a ML model which can take a image as input and successfully classify it as a digit between 0 and 9."
      ]
    },
    {
      "cell_type": "markdown",
      "metadata": {
        "id": "HWKwALbvJ01C"
      },
      "source": [
        "we will create a Multi-Layered Perceptron (MLP) network for building a handwritten digit classifier. We will make use of the MNIST dataset included in the torchvision package.\n",
        "\n",
        " we will use different utility packages provided within PyTorch (nn, autograd, optim, torchvision, torchtext, etc.) to build and train neural networks."
      ]
    },
    {
      "cell_type": "markdown",
      "metadata": {
        "id": "VpBDZjWOacOv"
      },
      "source": [
        "# Installation"
      ]
    },
    {
      "cell_type": "markdown",
      "metadata": {
        "id": "fKzhG_hGJ8OC"
      },
      "source": [
        "Install the necessary packages which doesnt come with Collab by default. If you are running outside Google Colab then you need to install all the packages mentioned in the last cell/part of this notebook."
      ]
    },
    {
      "cell_type": "code",
      "metadata": {
        "id": "Y2Az8LeREayw"
      },
      "source": [
        "! pip install onnx"
      ],
      "execution_count": null,
      "outputs": []
    },
    {
      "cell_type": "code",
      "metadata": {
        "id": "5n9UTdD1EqhY"
      },
      "source": [
        "! pip install onnx2keras"
      ],
      "execution_count": null,
      "outputs": []
    },
    {
      "cell_type": "code",
      "metadata": {
        "id": "t24Pu2MXY2kH"
      },
      "source": [
        "! pip install onnxruntime"
      ],
      "execution_count": null,
      "outputs": []
    },
    {
      "cell_type": "markdown",
      "metadata": {
        "id": "xPgj1eJ7afxF"
      },
      "source": [
        "# Data loading and processing"
      ]
    },
    {
      "cell_type": "markdown",
      "metadata": {
        "id": "IGE3R3RpJ9vk"
      },
      "source": [
        "The first step, as with any project you’ll work on, is data preprocessing. We need to transform the raw dataset into tensors and normalize them in a fixed range. The torchvision package provides a utility called transforms which can be used to combine different transformations together."
      ]
    },
    {
      "cell_type": "code",
      "metadata": {
        "id": "Vu43TUGJExUL"
      },
      "source": [
        "from torchvision import transforms\n",
        "\n",
        "_tasks = transforms.Compose([transforms.ToTensor(),\n",
        "  transforms.Normalize((0.5,), (0.5,))\n",
        "])"
      ],
      "execution_count": null,
      "outputs": []
    },
    {
      "cell_type": "markdown",
      "metadata": {
        "id": "kuYZnLJ5Kf-Y"
      },
      "source": [
        "The first transformation converts the raw data into tensor variables and the second transformation performs normalization using the below operation:\n",
        "\n",
        "x_normalized = x-mean / std"
      ]
    },
    {
      "cell_type": "code",
      "metadata": {
        "id": "kjxbS0fgEzXh"
      },
      "source": [
        "from torchvision.datasets import MNIST"
      ],
      "execution_count": null,
      "outputs": []
    },
    {
      "cell_type": "code",
      "metadata": {
        "id": "oe310rx2Ez39",
        "outputId": "7b8a15e5-4dd0-4c71-b5e5-1e9640889024",
        "colab": {
          "base_uri": "https://localhost:8080/",
          "height": 413,
          "referenced_widgets": [
            "d244e78ac8db4d6ca0d930d28780ac3f",
            "bcc122e9d54b4f819cc288606534b724",
            "4034576632e346fca7f1528295fbffa3",
            "f702061e3bb04a43ac217f3db0fc52af",
            "f7c316db104743159f2ad6484e042550",
            "852edb834d684c00bedd89944dbf296b",
            "8272017ee57f4ba3b7e806da8c79c029",
            "8c2a4c33ebc941bd8c162040d13ec162",
            "2a7781f271d64fa8b83b920f2b9a0e24",
            "031004517eca43569637d69ba9fd56c3",
            "c2742fd0cd9f4878afe0d6f18d005a13",
            "65c4ada04001450fb3ccaf511c411e87",
            "a25219502fad4fa6b2ab5dd8be888d16",
            "32d23646fa9f427a87ccfb96e13351cb",
            "af1cfc6e1ceb4adfb5b177930f88b718",
            "4bc244426bf84f539f1172e8447e167e",
            "51eb862a4a9e426dbefd1b783e2e36bb",
            "5f4086d83bd74a3ba202897f3aed5509",
            "77e113f26d17460598ac19ce721bedf2",
            "4565746eb91846729b843cbfcb634bab",
            "cc0d3de2547848d39ad5f5d51b9b81ba",
            "dd950513efe4496e9eecec386c6f8777",
            "e0cffd8f823b4604a8754f3ab7996b9c",
            "4c0564540d1c45c3bc546679df083768",
            "95717024229242089018e43c109be2f5",
            "a988cf9f83f04bfd86015b718ae2f025",
            "dd7df084add0420e9b35934563e5e1d5",
            "860354ebc35944b39c1c1e290701c8be",
            "7238de5f88d947dd9013f03130f84ecc",
            "d340a5d123c3461f84669dee11806340",
            "eb7d384c09a34c67a2ccc7ce2e9e8ccd",
            "a70114297eb7487faa3534c96468e450"
          ]
        }
      },
      "source": [
        "## Load MNIST Dataset and apply transformations\n",
        "mnist = MNIST(\"data\", download=True, train=True, transform=_tasks)"
      ],
      "execution_count": null,
      "outputs": [
        {
          "output_type": "stream",
          "text": [
            "Downloading http://yann.lecun.com/exdb/mnist/train-images-idx3-ubyte.gz to data/MNIST/raw/train-images-idx3-ubyte.gz\n"
          ],
          "name": "stdout"
        },
        {
          "output_type": "display_data",
          "data": {
            "application/vnd.jupyter.widget-view+json": {
              "model_id": "d244e78ac8db4d6ca0d930d28780ac3f",
              "version_minor": 0,
              "version_major": 2
            },
            "text/plain": [
              "HBox(children=(FloatProgress(value=1.0, bar_style='info', max=1.0), HTML(value='')))"
            ]
          },
          "metadata": {
            "tags": []
          }
        },
        {
          "output_type": "stream",
          "text": [
            "Extracting data/MNIST/raw/train-images-idx3-ubyte.gz to data/MNIST/raw\n",
            "Downloading http://yann.lecun.com/exdb/mnist/train-labels-idx1-ubyte.gz to data/MNIST/raw/train-labels-idx1-ubyte.gz\n"
          ],
          "name": "stdout"
        },
        {
          "output_type": "display_data",
          "data": {
            "application/vnd.jupyter.widget-view+json": {
              "model_id": "2a7781f271d64fa8b83b920f2b9a0e24",
              "version_minor": 0,
              "version_major": 2
            },
            "text/plain": [
              "HBox(children=(FloatProgress(value=1.0, bar_style='info', max=1.0), HTML(value='')))"
            ]
          },
          "metadata": {
            "tags": []
          }
        },
        {
          "output_type": "stream",
          "text": [
            "Extracting data/MNIST/raw/train-labels-idx1-ubyte.gz to data/MNIST/raw\n",
            "Downloading http://yann.lecun.com/exdb/mnist/t10k-images-idx3-ubyte.gz to data/MNIST/raw/t10k-images-idx3-ubyte.gz\n"
          ],
          "name": "stdout"
        },
        {
          "output_type": "display_data",
          "data": {
            "application/vnd.jupyter.widget-view+json": {
              "model_id": "51eb862a4a9e426dbefd1b783e2e36bb",
              "version_minor": 0,
              "version_major": 2
            },
            "text/plain": [
              "HBox(children=(FloatProgress(value=1.0, bar_style='info', max=1.0), HTML(value='')))"
            ]
          },
          "metadata": {
            "tags": []
          }
        },
        {
          "output_type": "stream",
          "text": [
            "Extracting data/MNIST/raw/t10k-images-idx3-ubyte.gz to data/MNIST/raw\n",
            "Downloading http://yann.lecun.com/exdb/mnist/t10k-labels-idx1-ubyte.gz to data/MNIST/raw/t10k-labels-idx1-ubyte.gz\n"
          ],
          "name": "stdout"
        },
        {
          "output_type": "display_data",
          "data": {
            "application/vnd.jupyter.widget-view+json": {
              "model_id": "95717024229242089018e43c109be2f5",
              "version_minor": 0,
              "version_major": 2
            },
            "text/plain": [
              "HBox(children=(FloatProgress(value=1.0, bar_style='info', max=1.0), HTML(value='')))"
            ]
          },
          "metadata": {
            "tags": []
          }
        },
        {
          "output_type": "stream",
          "text": [
            "\n",
            "\n",
            "Extracting data/MNIST/raw/t10k-labels-idx1-ubyte.gz to data/MNIST/raw\n",
            "Processing...\n",
            "Done!\n"
          ],
          "name": "stdout"
        },
        {
          "output_type": "stream",
          "text": [
            "/usr/local/lib/python3.6/dist-packages/torchvision/datasets/mnist.py:469: UserWarning: The given NumPy array is not writeable, and PyTorch does not support non-writeable tensors. This means you can write to the underlying (supposedly non-writeable) NumPy array using the tensor. You may want to copy the array to protect its data or make it writeable before converting it to a tensor. This type of warning will be suppressed for the rest of this program. (Triggered internally at  /pytorch/torch/csrc/utils/tensor_numpy.cpp:141.)\n",
            "  return torch.from_numpy(parsed.astype(m[2], copy=False)).view(*s)\n"
          ],
          "name": "stderr"
        }
      ]
    },
    {
      "cell_type": "markdown",
      "metadata": {
        "id": "kNLOkUhvaoIn"
      },
      "source": [
        "# Data Visualization"
      ]
    },
    {
      "cell_type": "markdown",
      "metadata": {
        "id": "vUWQKpGTw-T5"
      },
      "source": [
        "Lets now take a look at the dataset"
      ]
    },
    {
      "cell_type": "code",
      "metadata": {
        "id": "jn2bEyeDthde",
        "outputId": "10a47e1e-d81d-4f8c-cdb8-532adf2fe272",
        "colab": {
          "base_uri": "https://localhost:8080/",
          "height": 34
        }
      },
      "source": [
        "from torch.utils.data import DataLoader\n",
        "\n",
        "rawData = DataLoader(mnist, batch_size=10)\n",
        "\n",
        "dataiter = iter(rawData)\n",
        "data, labels = dataiter.next()\n",
        "data = data.view(data.shape[0], -1)\n",
        "\n",
        "print(f\"shape\", data.shape)"
      ],
      "execution_count": null,
      "outputs": [
        {
          "output_type": "stream",
          "text": [
            "shape torch.Size([10, 784])\n"
          ],
          "name": "stdout"
        }
      ]
    },
    {
      "cell_type": "markdown",
      "metadata": {
        "id": "o7-XkmiUxDcc"
      },
      "source": [
        "This dataset contains images of handwritten numbers. Each image (originally a matrix of shape 28×28) is squeezed in a vector of shape 1×784.\n",
        "\n",
        "Every example in the dataset will be a vector of shape 1×784. We can get the original image by reshaping the example into a 28×28 matrix.\n",
        "\n",
        "This is how starting 200 values of 1st vector (image) looks like:"
      ]
    },
    {
      "cell_type": "code",
      "metadata": {
        "id": "CYfKJsPjt9nq",
        "outputId": "7e09fbf2-46ce-423b-9df2-124ffca4acef",
        "colab": {
          "base_uri": "https://localhost:8080/",
          "height": 461
        }
      },
      "source": [
        "data[0][:200]"
      ],
      "execution_count": null,
      "outputs": [
        {
          "output_type": "execute_result",
          "data": {
            "text/plain": [
              "tensor([-1.0000, -1.0000, -1.0000, -1.0000, -1.0000, -1.0000, -1.0000, -1.0000,\n",
              "        -1.0000, -1.0000, -1.0000, -1.0000, -1.0000, -1.0000, -1.0000, -1.0000,\n",
              "        -1.0000, -1.0000, -1.0000, -1.0000, -1.0000, -1.0000, -1.0000, -1.0000,\n",
              "        -1.0000, -1.0000, -1.0000, -1.0000, -1.0000, -1.0000, -1.0000, -1.0000,\n",
              "        -1.0000, -1.0000, -1.0000, -1.0000, -1.0000, -1.0000, -1.0000, -1.0000,\n",
              "        -1.0000, -1.0000, -1.0000, -1.0000, -1.0000, -1.0000, -1.0000, -1.0000,\n",
              "        -1.0000, -1.0000, -1.0000, -1.0000, -1.0000, -1.0000, -1.0000, -1.0000,\n",
              "        -1.0000, -1.0000, -1.0000, -1.0000, -1.0000, -1.0000, -1.0000, -1.0000,\n",
              "        -1.0000, -1.0000, -1.0000, -1.0000, -1.0000, -1.0000, -1.0000, -1.0000,\n",
              "        -1.0000, -1.0000, -1.0000, -1.0000, -1.0000, -1.0000, -1.0000, -1.0000,\n",
              "        -1.0000, -1.0000, -1.0000, -1.0000, -1.0000, -1.0000, -1.0000, -1.0000,\n",
              "        -1.0000, -1.0000, -1.0000, -1.0000, -1.0000, -1.0000, -1.0000, -1.0000,\n",
              "        -1.0000, -1.0000, -1.0000, -1.0000, -1.0000, -1.0000, -1.0000, -1.0000,\n",
              "        -1.0000, -1.0000, -1.0000, -1.0000, -1.0000, -1.0000, -1.0000, -1.0000,\n",
              "        -1.0000, -1.0000, -1.0000, -1.0000, -1.0000, -1.0000, -1.0000, -1.0000,\n",
              "        -1.0000, -1.0000, -1.0000, -1.0000, -1.0000, -1.0000, -1.0000, -1.0000,\n",
              "        -1.0000, -1.0000, -1.0000, -1.0000, -1.0000, -1.0000, -1.0000, -1.0000,\n",
              "        -1.0000, -1.0000, -1.0000, -1.0000, -1.0000, -1.0000, -1.0000, -1.0000,\n",
              "        -1.0000, -1.0000, -1.0000, -1.0000, -1.0000, -1.0000, -1.0000, -1.0000,\n",
              "        -0.9765, -0.8588, -0.8588, -0.8588, -0.0118,  0.0667,  0.3725, -0.7961,\n",
              "         0.3020,  1.0000,  0.9373, -0.0039, -1.0000, -1.0000, -1.0000, -1.0000,\n",
              "        -1.0000, -1.0000, -1.0000, -1.0000, -1.0000, -1.0000, -1.0000, -1.0000,\n",
              "        -0.7647, -0.7176, -0.2627,  0.2078,  0.3333,  0.9843,  0.9843,  0.9843,\n",
              "         0.9843,  0.9843,  0.7647,  0.3490,  0.9843,  0.8980,  0.5294, -0.4980,\n",
              "        -1.0000, -1.0000, -1.0000, -1.0000, -1.0000, -1.0000, -1.0000, -1.0000])"
            ]
          },
          "metadata": {
            "tags": []
          },
          "execution_count": 7
        }
      ]
    },
    {
      "cell_type": "markdown",
      "metadata": {
        "id": "fWz5lf5qx7lN"
      },
      "source": [
        "Since numbers like above are not very intuitive, Lets try to visualize the images. Note the in the code we have reshaped the vector into 28×28 matrix for plotting."
      ]
    },
    {
      "cell_type": "code",
      "metadata": {
        "id": "1QNM1sTYt482",
        "outputId": "4e1345b1-236f-43b5-8b8b-772cd7fe57df",
        "colab": {
          "base_uri": "https://localhost:8080/",
          "height": 294
        }
      },
      "source": [
        "import matplotlib.pyplot as plt\n",
        "\n",
        "num=10\n",
        "num_row = 2\n",
        "num_col = 5\n",
        "\n",
        "# plot images\n",
        "fig, axes = plt.subplots(num_row, num_col, figsize=(1.5*num_col,2*num_row))\n",
        "for i in range(num):\n",
        "    ax = axes[i//num_col, i%num_col]\n",
        "    pixels = data[i].numpy()\n",
        "    pixels = pixels.reshape((28,28))\n",
        "    ax.imshow(pixels, cmap='gray')\n",
        "plt.tight_layout()\n",
        "plt.show()"
      ],
      "execution_count": null,
      "outputs": [
        {
          "output_type": "stream",
          "text": [
            "\n",
            "\n"
          ],
          "name": "stdout"
        },
        {
          "output_type": "display_data",
          "data": {
            "image/png": "[encoded data removed]",
            "text/plain": [
              "<Figure size 540x288 with 10 Axes>"
            ]
          },
          "metadata": {
            "tags": [],
            "needs_background": "light"
          }
        }
      ]
    },
    {
      "cell_type": "markdown",
      "metadata": {
        "id": "K1X9mp9tyPCh"
      },
      "source": [
        "So this is how our images will look like when plotted. Lets move ahead towards the other parts."
      ]
    },
    {
      "cell_type": "markdown",
      "metadata": {
        "id": "CBppUXEka0E1"
      },
      "source": [
        "# Pytorch Model Training and Predictions"
      ]
    },
    {
      "cell_type": "markdown",
      "metadata": {
        "id": "13lebQoDKmzw"
      },
      "source": [
        "Another excellent utility of PyTorch is DataLoader iterators which provide the ability to batch, shuffle and load the data in parallel using multiprocessing workers. For the purpose of evaluating our model, we will partition our data into training and validation sets."
      ]
    },
    {
      "cell_type": "code",
      "metadata": {
        "id": "-0wOfIBQE1Ax"
      },
      "source": [
        "from torch.utils.data import DataLoader\n",
        "from torch.utils.data.sampler import SubsetRandomSampler"
      ],
      "execution_count": null,
      "outputs": []
    },
    {
      "cell_type": "code",
      "metadata": {
        "id": "goMcCOp5E2F1"
      },
      "source": [
        "## create training and validation split \n",
        "split = int(0.8 * len(mnist))\n",
        "index_list = list(range(len(mnist)))\n",
        "train_idx, valid_idx = index_list[:split], index_list[split:]"
      ],
      "execution_count": null,
      "outputs": []
    },
    {
      "cell_type": "code",
      "metadata": {
        "id": "oRhAans6E3Mb"
      },
      "source": [
        "## create sampler objects using SubsetRandomSampler\n",
        "tr_sampler = SubsetRandomSampler(train_idx)\n",
        "val_sampler = SubsetRandomSampler(valid_idx)"
      ],
      "execution_count": null,
      "outputs": []
    },
    {
      "cell_type": "code",
      "metadata": {
        "id": "3Ho2S8lAE4Uk"
      },
      "source": [
        "## create iterator objects for train and valid datasets\n",
        "trainloader = DataLoader(mnist, batch_size=256, sampler=tr_sampler)\n",
        "validloader = DataLoader(mnist, batch_size=256, sampler=val_sampler)"
      ],
      "execution_count": null,
      "outputs": []
    },
    {
      "cell_type": "markdown",
      "metadata": {
        "id": "uQoWrzQKKsGs"
      },
      "source": [
        "The neural network architectures in PyTorch can be defined in a class which inherits the properties from the base class from nn package called Module. This inheritance from the nn.Module class allows us to implement, access, and call a number of methods easily. We can define all the layers inside the constructor of the class, and the forward propagation steps inside the forward function.\n",
        "\n",
        "We will define a network with the following layer configurations: [784, 128,10]. This configuration represents the 784 nodes (28*28 pixels) in the input layer, 128 in the hidden layer, and 10 in the output layer. Inside the forward function, we will use the sigmoid activation function in the hidden layer (which can be accessed from the nn module)."
      ]
    },
    {
      "cell_type": "code",
      "metadata": {
        "id": "CZXs9jD5E5nx"
      },
      "source": [
        "import torch.nn.functional as F\n",
        "import torch.nn as nn"
      ],
      "execution_count": null,
      "outputs": []
    },
    {
      "cell_type": "code",
      "metadata": {
        "id": "28pggi_iE62X"
      },
      "source": [
        "class Model(nn.Module):\n",
        "    def __init__(self):\n",
        "        super().__init__()\n",
        "        self.hidden = nn.Linear(784, 128)\n",
        "        self.output = nn.Linear(128, 10)\n",
        "        \n",
        "    def forward(self, x):\n",
        "        x = self.hidden(x)\n",
        "        x = F.sigmoid(x)\n",
        "        x = self.output(x)\n",
        "        return x"
      ],
      "execution_count": null,
      "outputs": []
    },
    {
      "cell_type": "code",
      "metadata": {
        "id": "3v_Twc0ZE8rg"
      },
      "source": [
        "model = Model()"
      ],
      "execution_count": null,
      "outputs": []
    },
    {
      "cell_type": "markdown",
      "metadata": {
        "id": "JLdIRntiLrZ_"
      },
      "source": [
        "Define the loss function and the optimizer using the nn and optim package:"
      ]
    },
    {
      "cell_type": "code",
      "metadata": {
        "id": "qFhexywOE95X"
      },
      "source": [
        "from torch import optim\n",
        "import numpy as np\n",
        "import torch"
      ],
      "execution_count": null,
      "outputs": []
    },
    {
      "cell_type": "code",
      "metadata": {
        "id": "Yheh_nCvFAGc"
      },
      "source": [
        "loss_function = nn.CrossEntropyLoss()\n",
        "optimizer = optim.SGD(model.parameters(), lr=0.01, weight_decay= 1e-6, momentum = 0.9, nesterov = True)"
      ],
      "execution_count": null,
      "outputs": []
    },
    {
      "cell_type": "markdown",
      "metadata": {
        "id": "DYfuS5ycLvaG"
      },
      "source": [
        "We are now ready to train the model. The core steps will be: Forward Propagation, Loss Computation, Backpropagation, and updating the parameters."
      ]
    },
    {
      "cell_type": "code",
      "metadata": {
        "id": "mddsb2MyFBqs"
      },
      "source": [
        "for epoch in range(1, 11): ## run the model for 10 epochs\n",
        "    train_loss, valid_loss = [], []\n",
        "    ## training part \n",
        "    model.train()\n",
        "    for data, target in trainloader:\n",
        "        optimizer.zero_grad()\n",
        "        ## 1. forward propagation\n",
        "        data = data.view(data.shape[0], -1)\n",
        "        output = model(data)\n",
        "        \n",
        "        ## 2. loss calculation\n",
        "        loss = loss_function(output, target)\n",
        "        \n",
        "        ## 3. backward propagation\n",
        "        loss.backward()\n",
        "        \n",
        "        ## 4. weight optimization\n",
        "        optimizer.step()\n",
        "        \n",
        "        train_loss.append(loss.item())\n",
        "        \n",
        "    ## evaluation part \n",
        "    model.eval()\n",
        "    for data, target in validloader:\n",
        "        data = data.view(data.shape[0], -1)\n",
        "        output = model(data)\n",
        "        loss = loss_function(output, target)\n",
        "        valid_loss.append(loss.item())\n",
        "    print (\"Epoch:\", epoch, \"Training Loss: \", np.mean(train_loss), \"Valid Loss: \", np.mean(valid_loss))"
      ],
      "execution_count": null,
      "outputs": []
    },
    {
      "cell_type": "markdown",
      "metadata": {
        "id": "OV57VM5jL3Hr"
      },
      "source": [
        "Once the model is trained, make the predictions on the validation data. We will use the predicted values to see if our pytorch model and converted Keras model output same values or not."
      ]
    },
    {
      "cell_type": "code",
      "metadata": {
        "id": "AXKLK_7tFCOm"
      },
      "source": [
        "## dataloader for validation dataset \n",
        "dataiter = iter(validloader)\n",
        "data, labels = dataiter.next()\n",
        "data = data.view(data.shape[0], -1)\n",
        "output = model(data)"
      ],
      "execution_count": null,
      "outputs": []
    },
    {
      "cell_type": "code",
      "metadata": {
        "id": "uWOdTha3FDbd"
      },
      "source": [
        "_, preds_tensor = torch.max(output, 1)\n",
        "pytorchPredictions = np.squeeze(preds_tensor.numpy())"
      ],
      "execution_count": null,
      "outputs": []
    },
    {
      "cell_type": "markdown",
      "metadata": {
        "id": "fdJOAajTTqqD"
      },
      "source": [
        "Now that we have our trained Pytorch model and we have saved the predictions, we will convert the pytorch model into ONNX format and then inturn convert that into Keras model. "
      ]
    },
    {
      "cell_type": "markdown",
      "metadata": {
        "id": "JcCBc0cSbDEX"
      },
      "source": [
        "# Export to ONNX and Inference using ONNX runtime"
      ]
    },
    {
      "cell_type": "markdown",
      "metadata": {
        "id": "vb2VesZgT8-X"
      },
      "source": [
        "What is ONNX ?\n",
        "\n",
        "ONNX stands for Open Neural Network Exchange\n",
        "\n",
        "ONNX is an open-source artificial intelligence ecosystem.\n",
        "It is a new standard for exchanging deep learning models. It promises to make deep learning models portable thus preventing vendor lock in.\n",
        "\n",
        "ONNX is developed and supported by a community of partners such as Microsoft, Facebook and AWS.\n",
        "\n",
        "For more information on ONNX refer this [link](https://github.com/onnx/onnx)."
      ]
    },
    {
      "cell_type": "code",
      "metadata": {
        "id": "5ZuNdsOdFGAP"
      },
      "source": [
        "# ONNX is natively supported by Pytorch so we just need \n",
        "# these 2 lines to export Pytorch model to ONNX.\n",
        "\n",
        "# while running inferences you will have to pass data of this shape only\n",
        "x = torch.randn(1, 1, 256, 784, requires_grad=True)\n",
        "torch.onnx.export(model, x, \"torchToOnnx.onnx\", verbose=True, input_names = ['input'], output_names = ['output'])"
      ],
      "execution_count": null,
      "outputs": []
    },
    {
      "cell_type": "markdown",
      "metadata": {
        "id": "fzGOn1a0VaiO"
      },
      "source": [
        "The ONNX model is saved with \"torchToOnnx.onnx\" name in current file system."
      ]
    },
    {
      "cell_type": "markdown",
      "metadata": {
        "id": "IlUuXmC3VVPj"
      },
      "source": [
        " If our aim is to just run inference then we can run inferences directly using ONNX object only. For that we will need to take help of ONNX runtime. Here is how you can do that:"
      ]
    },
    {
      "cell_type": "markdown",
      "metadata": {
        "id": "cUQdzxzTCtZm"
      },
      "source": [
        "**Inferences using ONNX:**"
      ]
    },
    {
      "cell_type": "code",
      "metadata": {
        "id": "oOEMrIDQX8Gl"
      },
      "source": [
        "import onnxruntime as rt\n",
        "import numpy\n",
        "\n",
        "sess = rt.InferenceSession(\"/content/torchToOnnx.onnx\")\n",
        "input_name = sess.get_inputs()[0].name\n",
        "\n",
        "# Note: The input must be of the same shape as the shape of x during the \n",
        "# model export part. i.e. second argument in this function call: torch.onnx.export()\n",
        "onnxPredictions = sess.run(None, {input_name: data.numpy().reshape(1,1,256,784)})[0]"
      ],
      "execution_count": null,
      "outputs": []
    },
    {
      "cell_type": "markdown",
      "metadata": {
        "id": "aA-mO0e7XbpU"
      },
      "source": [
        "We will look at the predicted values at the end. For now lets move forward and convert the model to Keras."
      ]
    },
    {
      "cell_type": "markdown",
      "metadata": {
        "id": "zxWSN7QMbNRy"
      },
      "source": [
        "# ONNX to Keras conversion and prediction on keras model"
      ]
    },
    {
      "cell_type": "markdown",
      "metadata": {
        "id": "0obRdfV3V5Rp"
      },
      "source": [
        "ONNX to Keras is not natively supported but thanks to generous Python community we have [onnx2keras](https://pypi.org/project/onnx2keras/) which does that for us."
      ]
    },
    {
      "cell_type": "code",
      "metadata": {
        "id": "MeKLgYpqFIVL"
      },
      "source": [
        "import onnx\n",
        "from onnx2keras import onnx_to_keras"
      ],
      "execution_count": null,
      "outputs": []
    },
    {
      "cell_type": "code",
      "metadata": {
        "id": "BBUBvS3NFJdh"
      },
      "source": [
        "# Load ONNX model\n",
        "onnx_model = onnx.load('/content/torchToOnnx.onnx')"
      ],
      "execution_count": null,
      "outputs": []
    },
    {
      "cell_type": "code",
      "metadata": {
        "id": "H6CYACg2FKhL"
      },
      "source": [
        "# Call the converter (input will be equal to the input_names parameter that you defined during exporting)\n",
        "k_model = onnx_to_keras(onnx_model, ['input'])"
      ],
      "execution_count": null,
      "outputs": []
    },
    {
      "cell_type": "markdown",
      "metadata": {
        "id": "93Vs-hpnWYKQ"
      },
      "source": [
        "Let us see the summary of Keras model to see if its imported properly"
      ]
    },
    {
      "cell_type": "code",
      "metadata": {
        "id": "LbYLMejqFLpP",
        "outputId": "79b24977-e675-462c-e370-c9ea878974b3",
        "colab": {
          "base_uri": "https://localhost:8080/",
          "height": 478
        }
      },
      "source": [
        "k_model.summary()"
      ],
      "execution_count": null,
      "outputs": [
        {
          "output_type": "stream",
          "text": [
            "Model: \"functional_1\"\n",
            "__________________________________________________________________________________________________\n",
            "Layer (type)                    Output Shape         Param #     Connected to                     \n",
            "==================================================================================================\n",
            "input (InputLayer)              [(None, 1, 256, 784) 0                                            \n",
            "__________________________________________________________________________________________________\n",
            "6 (Dense)                       (None, 1, 256, 128)  100352      input[0][0]                      \n",
            "__________________________________________________________________________________________________\n",
            "7_const2 (Lambda)               (128,)               0           input[0][0]                      \n",
            "__________________________________________________________________________________________________\n",
            "7 (Lambda)                      (None, 1, 256, 128)  0           6[0][0]                          \n",
            "                                                                 7_const2[0][0]                   \n",
            "__________________________________________________________________________________________________\n",
            "8 (Activation)                  (None, 1, 256, 128)  0           7[0][0]                          \n",
            "__________________________________________________________________________________________________\n",
            "10 (Dense)                      (None, 1, 256, 10)   1280        8[0][0]                          \n",
            "__________________________________________________________________________________________________\n",
            "output_const2 (Lambda)          (10,)                0           input[0][0]                      \n",
            "__________________________________________________________________________________________________\n",
            "output (Lambda)                 (None, 1, 256, 10)   0           10[0][0]                         \n",
            "                                                                 output_const2[0][0]              \n",
            "==================================================================================================\n",
            "Total params: 101,632\n",
            "Trainable params: 101,632\n",
            "Non-trainable params: 0\n",
            "__________________________________________________________________________________________________\n"
          ],
          "name": "stdout"
        }
      ]
    },
    {
      "cell_type": "markdown",
      "metadata": {
        "id": "nWirIE4NWkCN"
      },
      "source": [
        "Now that we have Keras model we can generate predictions on the same dataset and compare with the outputs of the Pytorch model to validate the conversion."
      ]
    },
    {
      "cell_type": "code",
      "metadata": {
        "id": "CDCMMg4zFN_X"
      },
      "source": [
        "KerasPredictions = []\n",
        "for i in range(10):\n",
        "    inp = data[i].numpy()\n",
        "    out = k_model.predict(inp.reshape(1, 784))\n",
        "    KerasPredictions.append(np.argmax(out))"
      ],
      "execution_count": null,
      "outputs": []
    },
    {
      "cell_type": "markdown",
      "metadata": {
        "id": "QVTDlC2XbYsL"
      },
      "source": [
        "# Predictions comparision"
      ]
    },
    {
      "cell_type": "markdown",
      "metadata": {
        "id": "mLCzc6DrW4vX"
      },
      "source": [
        "Lets first see the original images"
      ]
    },
    {
      "cell_type": "code",
      "metadata": {
        "id": "NjcFhG9UOrLk",
        "outputId": "25ce05d8-3fa8-44b6-9853-e57d8085fd29",
        "colab": {
          "base_uri": "https://localhost:8080/",
          "height": 258
        }
      },
      "source": [
        "num=10\n",
        "num_row = 2\n",
        "num_col = 5\n",
        "\n",
        "# plot images\n",
        "fig, axes = plt.subplots(num_row, num_col, figsize=(1.5*num_col,2*num_row))\n",
        "for i in range(num):\n",
        "    ax = axes[i//num_col, i%num_col]\n",
        "    pixels = data[i].numpy()\n",
        "    pixels = pixels.reshape((28,28))\n",
        "    ax.imshow(pixels, cmap='gray')\n",
        "plt.tight_layout()\n",
        "plt.show()"
      ],
      "execution_count": null,
      "outputs": [
        {
          "output_type": "display_data",
          "data": {
            "image/png": "[encoded data removed]",
            "text/plain": [
              "<Figure size 540x288 with 10 Axes>"
            ]
          },
          "metadata": {
            "tags": [],
            "needs_background": "light"
          }
        }
      ]
    },
    {
      "cell_type": "markdown",
      "metadata": {
        "id": "ojTw76jcXuhP"
      },
      "source": [
        "**Actual Labels for the images**"
      ]
    },
    {
      "cell_type": "code",
      "metadata": {
        "id": "ExexnNb3XsTd",
        "outputId": "85ed82c2-2ded-43a7-a715-50f04c9d7299",
        "colab": {
          "base_uri": "https://localhost:8080/",
          "height": 34
        }
      },
      "source": [
        "labels[:10]"
      ],
      "execution_count": null,
      "outputs": [
        {
          "output_type": "execute_result",
          "data": {
            "text/plain": [
              "tensor([7, 6, 5, 1, 7, 2, 0, 0, 6, 4])"
            ]
          },
          "metadata": {
            "tags": []
          },
          "execution_count": 34
        }
      ]
    },
    {
      "cell_type": "markdown",
      "metadata": {
        "id": "qk-F4Av3W_HC"
      },
      "source": [
        "**Predictions using original Pytorch model**"
      ]
    },
    {
      "cell_type": "code",
      "metadata": {
        "id": "q6JgBQIPXHMw",
        "outputId": "f7459609-1f36-4fd6-ed9c-2a63084e8768",
        "colab": {
          "base_uri": "https://localhost:8080/",
          "height": 34
        }
      },
      "source": [
        "pytorchPredictions[:10]"
      ],
      "execution_count": null,
      "outputs": [
        {
          "output_type": "execute_result",
          "data": {
            "text/plain": [
              "array([7, 6, 5, 1, 7, 2, 0, 0, 6, 4])"
            ]
          },
          "metadata": {
            "tags": []
          },
          "execution_count": 35
        }
      ]
    },
    {
      "cell_type": "markdown",
      "metadata": {
        "id": "m28ODqgpZ6Dv"
      },
      "source": [
        "**Predictions using ONNX runtime**"
      ]
    },
    {
      "cell_type": "code",
      "metadata": {
        "id": "w7bTtxDQZdfg",
        "outputId": "4070b498-8eec-43d6-cf38-36b50117759f",
        "colab": {
          "base_uri": "https://localhost:8080/",
          "height": 34
        }
      },
      "source": [
        "np.argmax(onnxPredictions[0][0][:10], axis=1)"
      ],
      "execution_count": null,
      "outputs": [
        {
          "output_type": "execute_result",
          "data": {
            "text/plain": [
              "array([7, 6, 5, 1, 7, 2, 0, 0, 6, 4])"
            ]
          },
          "metadata": {
            "tags": []
          },
          "execution_count": 42
        }
      ]
    },
    {
      "cell_type": "markdown",
      "metadata": {
        "id": "aR_AqJRFXi51"
      },
      "source": [
        "**Predictions using converted Keras model**"
      ]
    },
    {
      "cell_type": "code",
      "metadata": {
        "id": "pqUrCemtXmkh",
        "outputId": "76f854ce-f658-4ee3-c572-3e4bc612714f",
        "colab": {
          "base_uri": "https://localhost:8080/",
          "height": 34
        }
      },
      "source": [
        "KerasPredictions"
      ],
      "execution_count": null,
      "outputs": [
        {
          "output_type": "execute_result",
          "data": {
            "text/plain": [
              "[7, 6, 5, 1, 7, 2, 0, 0, 6, 4]"
            ]
          },
          "metadata": {
            "tags": []
          },
          "execution_count": 36
        }
      ]
    },
    {
      "cell_type": "markdown",
      "metadata": {
        "id": "qJCtj0EmX02a"
      },
      "source": [
        "As we can see in the last three cells the outputs are same for Pytorch, Keras and onnx models and thus our conversion worked."
      ]
    },
    {
      "cell_type": "markdown",
      "metadata": {
        "id": "HwvtQTvUbdDN"
      },
      "source": [
        "# Packages versions and References"
      ]
    },
    {
      "cell_type": "markdown",
      "metadata": {
        "id": "V2MqF4sfYQn2"
      },
      "source": [
        "Following are the versions of the packages used in the notebook\n",
        "\n",
        "1. torch: 1.6.0+cu101\n",
        "2. onnx: 1.7.0\n",
        "3. numpy: 1.18.5\n",
        "4. onnx2keras: 0.0.23\n",
        "5. torchvision: 0.7.0+cu101\n",
        "6. matplotlib: 3.2.2\n",
        "7. onnxruntime: 1.5.2"
      ]
    },
    {
      "cell_type": "markdown",
      "metadata": {
        "id": "uCoT54kGL9Or"
      },
      "source": [
        "References:\n",
        "1. https://www.analyticsvidhya.com/blog/2019/01/guide-pytorch-neural-networks-case-studies/\n",
        "2. https://medium.com/@mrdatascience/how-to-plot-mnist-digits-using-matplotlib-65a2e0cc068\n",
        "3. https://blog.paperspace.com/what-every-ml-ai-developer-should-know-about-onnx/\n",
        "4. https://microsoft.github.io/ai-at-edge/docs/onnx/ \t\n",
        "5. https://medium.com/analytics-vidhya/how-to-convert-your-keras-model-to-onnx-8d8b092c4e4f"
      ]
    }
  ]
}