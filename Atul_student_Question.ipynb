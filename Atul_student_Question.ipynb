{
  "nbformat": 4,
  "nbformat_minor": 0,
  "metadata": {
    "colab": {
      "name": "Atul_student_Question.ipynb",
      "provenance": [],
      "authorship_tag": "ABX9TyObwCbHxRj8YuVXxlZ7Xp52",
      "include_colab_link": true
    },
    "kernelspec": {
      "name": "python3",
      "display_name": "Python 3"
    }
  },
  "cells": [
    {
      "cell_type": "markdown",
      "metadata": {
        "id": "view-in-github",
        "colab_type": "text"
      },
      "source": [
        "<a href=\"https://colab.research.google.com/github/AjeetSingh02/Notebooks/blob/master/Atul_student_Question.ipynb\" target=\"_parent\"><img src=\"https://colab.research.google.com/assets/colab-badge.svg\" alt=\"Open In Colab\"/></a>"
      ]
    },
    {
      "cell_type": "code",
      "metadata": {
        "id": "xyJIwadAVA63",
        "colab_type": "code",
        "colab": {}
      },
      "source": [
        "import pandas as pd\n",
        "import numpy as np\n",
        "\n",
        "with open(\"student.txt\", \"r\") as f:\n",
        "    lines = f.readlines()\n",
        "\n",
        "temp = []\n",
        "for line in lines:\n",
        "    sp = line.split(\",\")\n",
        "    sp1 = []\n",
        "    # To remove \\n\n",
        "    for part in sp:\n",
        "        sp1.append(part.strip())\n",
        "    temp.append(sp)\n",
        "\n",
        "df = pd.DataFrame(temp, columns=[\"ID\", \"Name\", \"Subject\", \"Marks\"])\n",
        "\n",
        "for stu_id in df.ID.unique():\n",
        "\n",
        "    indx = np.where(df.ID == stu_id)\n",
        "    stu_list, total_marks = [], 0\n",
        "    stu_name = df.Name[indx[0][0]].strip()\n",
        "\n",
        "    for i in indx[0]:\n",
        "        marks = df.Marks[i].strip()\n",
        "        stu_dict = {\"Id\": stu_id, \"Name\": stu_name, \"Subject\": df.Subject[i], \"Marks\": marks}\n",
        "        stu_list.append(stu_dict)\n",
        "        total_marks += int(marks)\n",
        "\n",
        "    with open(f\"{stu_name}.{stu_id}.txt\", \"w\") as fw:\n",
        "        for stu_dict in stu_list:\n",
        "            fw.write(str(stu_dict))\n",
        "            fw.write(\"\\n\")\n",
        "        fw.write(f\"Total: {total_marks}\")"
      ],
      "execution_count": 0,
      "outputs": []
    }
  ]
}