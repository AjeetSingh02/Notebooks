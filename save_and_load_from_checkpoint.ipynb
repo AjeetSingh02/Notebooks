{
  "nbformat": 4,
  "nbformat_minor": 0,
  "metadata": {
    "accelerator": "GPU",
    "colab": {
      "name": "save_and_load_from_checkpoint.ipynb",
      "provenance": [],
      "collapsed_sections": [],
      "toc_visible": true,
      "include_colab_link": true
    },
    "kernelspec": {
      "display_name": "Python 3",
      "name": "python3"
    }
  },
  "cells": [
    {
      "cell_type": "markdown",
      "metadata": {
        "id": "view-in-github",
        "colab_type": "text"
      },
      "source": [
        "<a href=\"https://colab.research.google.com/github/AjeetSingh02/Notebooks/blob/master/save_and_load_from_checkpoint.ipynb\" target=\"_parent\"><img src=\"https://colab.research.google.com/assets/colab-badge.svg\" alt=\"Open In Colab\"/></a>"
      ]
    },
    {
      "cell_type": "code",
      "metadata": {
        "id": "RzIOVSdnMYyO",
        "colab": {
          "base_uri": "https://localhost:8080/"
        },
        "outputId": "9406fa1a-28cc-4bf6-ab95-4103bc194f99"
      },
      "source": [
        "!pip install pyyaml h5py  # Required to save models in HDF5 format"
      ],
      "execution_count": 1,
      "outputs": [
        {
          "output_type": "stream",
          "text": [
            "Requirement already satisfied: pyyaml in /usr/local/lib/python3.7/dist-packages (3.13)\n",
            "Requirement already satisfied: h5py in /usr/local/lib/python3.7/dist-packages (2.10.0)\n",
            "Requirement already satisfied: six in /usr/local/lib/python3.7/dist-packages (from h5py) (1.15.0)\n",
            "Requirement already satisfied: numpy>=1.7 in /usr/local/lib/python3.7/dist-packages (from h5py) (1.19.5)\n"
          ],
          "name": "stdout"
        }
      ]
    },
    {
      "cell_type": "code",
      "metadata": {
        "id": "7Nm7Tyb-gRt-",
        "colab": {
          "base_uri": "https://localhost:8080/"
        },
        "outputId": "8508b119-f385-401f-94e5-2e1587ee281b"
      },
      "source": [
        "import os\n",
        "\n",
        "import tensorflow as tf\n",
        "from tensorflow import keras\n",
        "\n",
        "print(tf.version.VERSION)"
      ],
      "execution_count": 2,
      "outputs": [
        {
          "output_type": "stream",
          "text": [
            "2.4.1\n"
          ],
          "name": "stdout"
        }
      ]
    },
    {
      "cell_type": "markdown",
      "metadata": {
        "id": "SbGsznErXWt6"
      },
      "source": [
        "### Get an example dataset\n",
        "\n",
        "To demonstrate how to save and load weights, you'll use the [MNIST dataset](http://yann.lecun.com/exdb/mnist/). To speed up these runs, use the first 1000 examples:"
      ]
    },
    {
      "cell_type": "code",
      "metadata": {
        "id": "9rGfFwE9XVwz",
        "colab": {
          "base_uri": "https://localhost:8080/"
        },
        "outputId": "e13cd6dd-f7b3-4a63-f602-6ac7872e5471"
      },
      "source": [
        "(train_images, train_labels), (test_images, test_labels) = tf.keras.datasets.mnist.load_data()\n",
        "\n",
        "train_labels = train_labels[:1000]\n",
        "test_labels = test_labels[:1000]\n",
        "\n",
        "train_images = train_images[:1000].reshape(-1, 28 * 28) / 255.0\n",
        "test_images = test_images[:1000].reshape(-1, 28 * 28) / 255.0"
      ],
      "execution_count": 3,
      "outputs": [
        {
          "output_type": "stream",
          "text": [
            "Downloading data from https://storage.googleapis.com/tensorflow/tf-keras-datasets/mnist.npz\n",
            "11493376/11490434 [==============================] - 0s 0us/step\n"
          ],
          "name": "stdout"
        }
      ]
    },
    {
      "cell_type": "markdown",
      "metadata": {
        "id": "anG3iVoXyZGI"
      },
      "source": [
        "### Define a model"
      ]
    },
    {
      "cell_type": "markdown",
      "metadata": {
        "id": "wynsOBfby0Pa"
      },
      "source": [
        "Start by building a simple sequential model:"
      ]
    },
    {
      "cell_type": "code",
      "metadata": {
        "id": "0HZbJIjxyX1S",
        "colab": {
          "base_uri": "https://localhost:8080/"
        },
        "outputId": "8a8efddb-e24f-47e5-c476-793b8a1bdfa7"
      },
      "source": [
        "# Define a simple sequential model\n",
        "def create_model():\n",
        "  model = tf.keras.models.Sequential([\n",
        "    keras.layers.Dense(512, activation='relu', input_shape=(784,)),\n",
        "    keras.layers.Dropout(0.2),\n",
        "    keras.layers.Dense(10)\n",
        "  ])\n",
        "\n",
        "  model.compile(optimizer='adam',\n",
        "                loss=tf.losses.SparseCategoricalCrossentropy(from_logits=True),\n",
        "                metrics=[tf.metrics.SparseCategoricalAccuracy()])\n",
        "\n",
        "  return model\n",
        "\n",
        "# Create a basic model instance\n",
        "model = create_model()\n",
        "\n",
        "# Display the model's architecture\n",
        "model.summary()"
      ],
      "execution_count": 4,
      "outputs": [
        {
          "output_type": "stream",
          "text": [
            "Model: \"sequential\"\n",
            "_________________________________________________________________\n",
            "Layer (type)                 Output Shape              Param #   \n",
            "=================================================================\n",
            "dense (Dense)                (None, 512)               401920    \n",
            "_________________________________________________________________\n",
            "dropout (Dropout)            (None, 512)               0         \n",
            "_________________________________________________________________\n",
            "dense_1 (Dense)              (None, 10)                5130      \n",
            "=================================================================\n",
            "Total params: 407,050\n",
            "Trainable params: 407,050\n",
            "Non-trainable params: 0\n",
            "_________________________________________________________________\n"
          ],
          "name": "stdout"
        }
      ]
    },
    {
      "cell_type": "markdown",
      "metadata": {
        "id": "soDE0W_KH8rG"
      },
      "source": [
        "## Save checkpoints during training"
      ]
    },
    {
      "cell_type": "markdown",
      "metadata": {
        "id": "mRyd5qQQIXZm"
      },
      "source": [
        "You can use a trained model without having to retrain it, or pick-up training where you left off in case the training process was interrupted. The `tf.keras.callbacks.ModelCheckpoint` callback allows you to continually save the model both *during* and at *the end* of training.\n",
        "\n",
        "### Checkpoint callback usage\n",
        "\n",
        "Create a `tf.keras.callbacks.ModelCheckpoint` callback that saves weights only during training:"
      ]
    },
    {
      "cell_type": "code",
      "metadata": {
        "id": "IFPuhwntH8VH"
      },
      "source": [
        "checkpoint_path = \"training_1/cp.ckpt\"\n",
        "checkpoint_dir = os.path.dirname(checkpoint_path)\n",
        "\n",
        "# Create a callback that saves the model's weights\n",
        "cp_callback = tf.keras.callbacks.ModelCheckpoint(filepath=checkpoint_path,\n",
        "                                                 save_weights_only=True,\n",
        "                                                 verbose=1)"
      ],
      "execution_count": 5,
      "outputs": []
    },
    {
      "cell_type": "code",
      "metadata": {
        "colab": {
          "base_uri": "https://localhost:8080/"
        },
        "id": "AxMdxzjUE62L",
        "outputId": "7d28bac9-170f-4408-e337-75fcdca4e181"
      },
      "source": [
        "# Train the model with the new callback\r\n",
        "model.fit(train_images, \r\n",
        "          train_labels,  \r\n",
        "          epochs=10,\r\n",
        "          validation_data=(test_images, test_labels),\r\n",
        "          callbacks=[cp_callback])  # Pass callback to training"
      ],
      "execution_count": 6,
      "outputs": [
        {
          "output_type": "stream",
          "text": [
            "Epoch 1/10\n",
            "32/32 [==============================] - 4s 14ms/step - loss: 1.5771 - sparse_categorical_accuracy: 0.5157 - val_loss: 0.7260 - val_sparse_categorical_accuracy: 0.7890\n",
            "\n",
            "Epoch 00001: saving model to training_1/cp.ckpt\n",
            "Epoch 2/10\n",
            "32/32 [==============================] - 0s 5ms/step - loss: 0.4428 - sparse_categorical_accuracy: 0.8761 - val_loss: 0.5485 - val_sparse_categorical_accuracy: 0.8270\n",
            "\n",
            "Epoch 00002: saving model to training_1/cp.ckpt\n",
            "Epoch 3/10\n",
            "32/32 [==============================] - 0s 5ms/step - loss: 0.3130 - sparse_categorical_accuracy: 0.9179 - val_loss: 0.4795 - val_sparse_categorical_accuracy: 0.8560\n",
            "\n",
            "Epoch 00003: saving model to training_1/cp.ckpt\n",
            "Epoch 4/10\n",
            "32/32 [==============================] - 0s 5ms/step - loss: 0.2226 - sparse_categorical_accuracy: 0.9532 - val_loss: 0.4571 - val_sparse_categorical_accuracy: 0.8480\n",
            "\n",
            "Epoch 00004: saving model to training_1/cp.ckpt\n",
            "Epoch 5/10\n",
            "32/32 [==============================] - 0s 4ms/step - loss: 0.1571 - sparse_categorical_accuracy: 0.9605 - val_loss: 0.4267 - val_sparse_categorical_accuracy: 0.8620\n",
            "\n",
            "Epoch 00005: saving model to training_1/cp.ckpt\n",
            "Epoch 6/10\n",
            "32/32 [==============================] - 0s 4ms/step - loss: 0.1061 - sparse_categorical_accuracy: 0.9882 - val_loss: 0.4208 - val_sparse_categorical_accuracy: 0.8610\n",
            "\n",
            "Epoch 00006: saving model to training_1/cp.ckpt\n",
            "Epoch 7/10\n",
            "32/32 [==============================] - 0s 4ms/step - loss: 0.0974 - sparse_categorical_accuracy: 0.9882 - val_loss: 0.4058 - val_sparse_categorical_accuracy: 0.8630\n",
            "\n",
            "Epoch 00007: saving model to training_1/cp.ckpt\n",
            "Epoch 8/10\n",
            "32/32 [==============================] - 0s 4ms/step - loss: 0.0710 - sparse_categorical_accuracy: 0.9894 - val_loss: 0.4215 - val_sparse_categorical_accuracy: 0.8530\n",
            "\n",
            "Epoch 00008: saving model to training_1/cp.ckpt\n",
            "Epoch 9/10\n",
            "32/32 [==============================] - 0s 4ms/step - loss: 0.0499 - sparse_categorical_accuracy: 0.9973 - val_loss: 0.4051 - val_sparse_categorical_accuracy: 0.8690\n",
            "\n",
            "Epoch 00009: saving model to training_1/cp.ckpt\n",
            "Epoch 10/10\n",
            "32/32 [==============================] - 0s 4ms/step - loss: 0.0396 - sparse_categorical_accuracy: 0.9982 - val_loss: 0.4095 - val_sparse_categorical_accuracy: 0.8700\n",
            "\n",
            "Epoch 00010: saving model to training_1/cp.ckpt\n"
          ],
          "name": "stdout"
        },
        {
          "output_type": "execute_result",
          "data": {
            "text/plain": [
              "<tensorflow.python.keras.callbacks.History at 0x7f007032db10>"
            ]
          },
          "metadata": {
            "tags": []
          },
          "execution_count": 6
        }
      ]
    },
    {
      "cell_type": "code",
      "metadata": {
        "id": "Q46NBhE9imqK"
      },
      "source": [
        "model = create_model()"
      ],
      "execution_count": 7,
      "outputs": []
    },
    {
      "cell_type": "code",
      "metadata": {
        "colab": {
          "base_uri": "https://localhost:8080/"
        },
        "id": "D462WobmfVLb",
        "outputId": "bb1ad1a6-cd85-4ad6-a567-534b2701f414"
      },
      "source": [
        "# Train the model with the new callback\r\n",
        "model.load_weights(checkpoint_path)"
      ],
      "execution_count": 8,
      "outputs": [
        {
          "output_type": "execute_result",
          "data": {
            "text/plain": [
              "<tensorflow.python.training.tracking.util.CheckpointLoadStatus at 0x7f0070039210>"
            ]
          },
          "metadata": {
            "tags": []
          },
          "execution_count": 8
        }
      ]
    },
    {
      "cell_type": "code",
      "metadata": {
        "colab": {
          "base_uri": "https://localhost:8080/"
        },
        "id": "-ZOAqSdBh4rm",
        "outputId": "19f1c3c0-ca9b-47bf-dcdf-df85043e02c7"
      },
      "source": [
        "# Look at the loss. If loss is lower then the last loss of last training then it has \r\n",
        "# started from last checkpoint only.\r\n",
        "model.fit(train_images, \r\n",
        "          train_labels,  \r\n",
        "          epochs=10,\r\n",
        "          validation_data=(test_images, test_labels),\r\n",
        "          callbacks=[cp_callback])  # Pass callback to training"
      ],
      "execution_count": 9,
      "outputs": [
        {
          "output_type": "stream",
          "text": [
            "Epoch 1/10\n",
            "32/32 [==============================] - 1s 8ms/step - loss: 0.0346 - sparse_categorical_accuracy: 0.9993 - val_loss: 0.4127 - val_sparse_categorical_accuracy: 0.8660\n",
            "\n",
            "Epoch 00001: saving model to training_1/cp.ckpt\n",
            "Epoch 2/10\n",
            "32/32 [==============================] - 0s 5ms/step - loss: 0.0240 - sparse_categorical_accuracy: 1.0000 - val_loss: 0.4057 - val_sparse_categorical_accuracy: 0.8790\n",
            "\n",
            "Epoch 00002: saving model to training_1/cp.ckpt\n",
            "Epoch 3/10\n",
            "32/32 [==============================] - 0s 5ms/step - loss: 0.0193 - sparse_categorical_accuracy: 1.0000 - val_loss: 0.4104 - val_sparse_categorical_accuracy: 0.8780\n",
            "\n",
            "Epoch 00003: saving model to training_1/cp.ckpt\n",
            "Epoch 4/10\n",
            "32/32 [==============================] - 0s 5ms/step - loss: 0.0207 - sparse_categorical_accuracy: 0.9997 - val_loss: 0.4098 - val_sparse_categorical_accuracy: 0.8740\n",
            "\n",
            "Epoch 00004: saving model to training_1/cp.ckpt\n",
            "Epoch 5/10\n",
            "32/32 [==============================] - 0s 5ms/step - loss: 0.0180 - sparse_categorical_accuracy: 1.0000 - val_loss: 0.4090 - val_sparse_categorical_accuracy: 0.8750\n",
            "\n",
            "Epoch 00005: saving model to training_1/cp.ckpt\n",
            "Epoch 6/10\n",
            "32/32 [==============================] - 0s 5ms/step - loss: 0.0125 - sparse_categorical_accuracy: 1.0000 - val_loss: 0.4116 - val_sparse_categorical_accuracy: 0.8760\n",
            "\n",
            "Epoch 00006: saving model to training_1/cp.ckpt\n",
            "Epoch 7/10\n",
            "32/32 [==============================] - 0s 5ms/step - loss: 0.0106 - sparse_categorical_accuracy: 1.0000 - val_loss: 0.4261 - val_sparse_categorical_accuracy: 0.8710\n",
            "\n",
            "Epoch 00007: saving model to training_1/cp.ckpt\n",
            "Epoch 8/10\n",
            "32/32 [==============================] - 0s 5ms/step - loss: 0.0121 - sparse_categorical_accuracy: 1.0000 - val_loss: 0.4277 - val_sparse_categorical_accuracy: 0.8720\n",
            "\n",
            "Epoch 00008: saving model to training_1/cp.ckpt\n",
            "Epoch 9/10\n",
            "32/32 [==============================] - 0s 5ms/step - loss: 0.0093 - sparse_categorical_accuracy: 1.0000 - val_loss: 0.4251 - val_sparse_categorical_accuracy: 0.8770\n",
            "\n",
            "Epoch 00009: saving model to training_1/cp.ckpt\n",
            "Epoch 10/10\n",
            "32/32 [==============================] - 0s 5ms/step - loss: 0.0110 - sparse_categorical_accuracy: 1.0000 - val_loss: 0.4280 - val_sparse_categorical_accuracy: 0.8800\n",
            "\n",
            "Epoch 00010: saving model to training_1/cp.ckpt\n"
          ],
          "name": "stdout"
        },
        {
          "output_type": "execute_result",
          "data": {
            "text/plain": [
              "<tensorflow.python.keras.callbacks.History at 0x7f00381502d0>"
            ]
          },
          "metadata": {
            "tags": []
          },
          "execution_count": 9
        }
      ]
    },
    {
      "cell_type": "code",
      "metadata": {
        "id": "FsdTsS26eVsz"
      },
      "source": [
        "# import numpy as np\r\n",
        "# from numpy.testing import assert_allclose\r\n",
        "# from tensorflow.keras.models import Sequential, load_model\r\n",
        "# from tensorflow.keras.layers import LSTM, Dropout, Dense\r\n",
        "# from tensorflow.keras.callbacks import ModelCheckpoint\r\n",
        "\r\n",
        "# vec_size = 100\r\n",
        "# n_units = 10\r\n",
        "\r\n",
        "# x_train = np.random.rand(500, 10, vec_size)\r\n",
        "# y_train = np.random.rand(500, vec_size)\r\n",
        "\r\n",
        "# model = Sequential()\r\n",
        "# model.add(LSTM(n_units, input_shape=(None, vec_size), return_sequences=True))\r\n",
        "# model.add(Dropout(0.2))\r\n",
        "# model.add(LSTM(n_units, return_sequences=True))\r\n",
        "# model.add(Dropout(0.2))\r\n",
        "# model.add(LSTM(n_units))\r\n",
        "# model.add(Dropout(0.2))\r\n",
        "# model.add(Dense(vec_size, activation='linear'))\r\n",
        "# model.compile(loss='mean_squared_error', optimizer='adam')\r\n",
        "\r\n",
        "# # define the checkpoint\r\n",
        "# filepath = \"model.h5\"\r\n",
        "# checkpoint = ModelCheckpoint(filepath, monitor='loss', verbose=1, save_best_only=True, mode='min')\r\n",
        "# callbacks_list = [checkpoint]\r\n",
        "\r\n",
        "# # fit the model\r\n",
        "# model.fit(x_train, y_train, epochs=5, batch_size=50, callbacks=callbacks_list)\r\n",
        "\r\n",
        "# # load the model\r\n",
        "# new_model = load_model(\"model.h5\")\r\n",
        "# assert_allclose(model.predict(x_train),\r\n",
        "#                 new_model.predict(x_train),\r\n",
        "#                 1e-5)\r\n",
        "\r\n",
        "# # fit the model\r\n",
        "# checkpoint = ModelCheckpoint(filepath, monitor='loss', verbose=1, save_best_only=True, mode='min')\r\n",
        "# callbacks_list = [checkpoint]\r\n",
        "# new_model.fit(x_train, y_train, epochs=5, batch_size=50, callbacks=callbacks_list)"
      ],
      "execution_count": null,
      "outputs": []
    }
  ]
}