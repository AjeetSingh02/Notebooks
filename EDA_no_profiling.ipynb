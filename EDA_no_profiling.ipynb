{
  "nbformat": 4,
  "nbformat_minor": 0,
  "metadata": {
    "colab": {
      "name": "EDA_no_profiling.ipynb",
      "provenance": [],
      "collapsed_sections": [],
      "include_colab_link": true
    },
    "kernelspec": {
      "name": "python3",
      "display_name": "Python 3"
    },
    "accelerator": "GPU"
  },
  "cells": [
    {
      "cell_type": "markdown",
      "metadata": {
        "id": "view-in-github",
        "colab_type": "text"
      },
      "source": [
        "<a href=\"https://colab.research.google.com/github/AjeetSingh02/Notebooks/blob/master/EDA_no_profiling.ipynb\" target=\"_parent\"><img src=\"https://colab.research.google.com/assets/colab-badge.svg\" alt=\"Open In Colab\"/></a>"
      ]
    },
    {
      "cell_type": "code",
      "metadata": {
        "id": "91WY3U6HAKuw",
        "colab_type": "code",
        "colab": {}
      },
      "source": [
        "%%capture\n",
        "!pip install confuse"
      ],
      "execution_count": 0,
      "outputs": []
    },
    {
      "cell_type": "code",
      "metadata": {
        "id": "-pc4Nesp_3hy",
        "colab_type": "code",
        "colab": {}
      },
      "source": [
        "from describe import describe"
      ],
      "execution_count": 0,
      "outputs": []
    },
    {
      "cell_type": "code",
      "metadata": {
        "id": "yZF8ixOTAU7g",
        "colab_type": "code",
        "colab": {}
      },
      "source": [
        "describe(df)"
      ],
      "execution_count": 0,
      "outputs": []
    },
    {
      "cell_type": "code",
      "metadata": {
        "id": "Oso2xwJcAzTW",
        "colab_type": "code",
        "colab": {}
      },
      "source": [
        "%%capture\n",
        "!pip install pandas_profiling==2.1.0"
      ],
      "execution_count": 0,
      "outputs": []
    },
    {
      "cell_type": "code",
      "metadata": {
        "id": "CuTgQOJOA0Cp",
        "colab_type": "code",
        "colab": {}
      },
      "source": [
        "import pandas_profiling"
      ],
      "execution_count": 0,
      "outputs": []
    },
    {
      "cell_type": "code",
      "metadata": {
        "id": "FqQe3_Fa_y47",
        "colab_type": "code",
        "colab": {}
      },
      "source": [
        "import pandas as pd\n",
        "import numpy as np"
      ],
      "execution_count": 0,
      "outputs": []
    },
    {
      "cell_type": "code",
      "metadata": {
        "id": "8kCEfip9__kT",
        "colab_type": "code",
        "colab": {}
      },
      "source": [
        "df = pd.read_csv(\"/content/sample_data/california_housing_test.csv\")\n",
        "for col in df.columns:\n",
        "    if df[col].dtype == 'object':\n",
        "        try:\n",
        "            df[col] = pd.to_datetime(df[col])\n",
        "        except ValueError:\n",
        "            pass"
      ],
      "execution_count": 0,
      "outputs": []
    },
    {
      "cell_type": "code",
      "metadata": {
        "id": "nlmXPcrAUldY",
        "colab_type": "code",
        "colab": {}
      },
      "source": [
        "profile = pandas_profiling.ProfileReport(df)\n",
        "parent_dict = profile.get_description()"
      ],
      "execution_count": 0,
      "outputs": []
    },
    {
      "cell_type": "code",
      "metadata": {
        "id": "XOJ1D5wgAHAm",
        "colab_type": "code",
        "outputId": "acf6b846-03c1-41ba-f736-45258f403281",
        "colab": {
          "base_uri": "https://localhost:8080/",
          "height": 111
        }
      },
      "source": [
        "df.head(2)"
      ],
      "execution_count": 0,
      "outputs": [
        {
          "output_type": "execute_result",
          "data": {
            "text/html": [
              "<div>\n",
              "<style scoped>\n",
              "    .dataframe tbody tr th:only-of-type {\n",
              "        vertical-align: middle;\n",
              "    }\n",
              "\n",
              "    .dataframe tbody tr th {\n",
              "        vertical-align: top;\n",
              "    }\n",
              "\n",
              "    .dataframe thead th {\n",
              "        text-align: right;\n",
              "    }\n",
              "</style>\n",
              "<table border=\"1\" class=\"dataframe\">\n",
              "  <thead>\n",
              "    <tr style=\"text-align: right;\">\n",
              "      <th></th>\n",
              "      <th>date_given</th>\n",
              "      <th>timestamp_given</th>\n",
              "      <th>total_hours</th>\n",
              "      <th>tt_</th>\n",
              "      <th>tt1____</th>\n",
              "      <th>tt2</th>\n",
              "      <th>tt3</th>\n",
              "      <th>tt4</th>\n",
              "      <th>tt5</th>\n",
              "    </tr>\n",
              "  </thead>\n",
              "  <tbody>\n",
              "    <tr>\n",
              "      <th>0</th>\n",
              "      <td>14-Jan</td>\n",
              "      <td>2018-09-02 08:23:00</td>\n",
              "      <td>0</td>\n",
              "      <td>2018-09-02 08:23:00</td>\n",
              "      <td>2019-01-14</td>\n",
              "      <td>1</td>\n",
              "      <td>67.0</td>\n",
              "      <td>67</td>\n",
              "      <td>a</td>\n",
              "    </tr>\n",
              "    <tr>\n",
              "      <th>1</th>\n",
              "      <td>15-Jan</td>\n",
              "      <td>2018-09-02 08:24:00</td>\n",
              "      <td>0</td>\n",
              "      <td>2018-09-02 08:24:00</td>\n",
              "      <td>2019-01-15</td>\n",
              "      <td>2</td>\n",
              "      <td>68.0</td>\n",
              "      <td>68</td>\n",
              "      <td>b</td>\n",
              "    </tr>\n",
              "  </tbody>\n",
              "</table>\n",
              "</div>"
            ],
            "text/plain": [
              "  date_given     timestamp_given total_hours  ...   tt3 tt4  tt5\n",
              "0     14-Jan 2018-09-02 08:23:00           0  ...  67.0  67    a\n",
              "1     15-Jan 2018-09-02 08:24:00           0  ...  68.0  68    b\n",
              "\n",
              "[2 rows x 9 columns]"
            ]
          },
          "metadata": {
            "tags": []
          },
          "execution_count": 6
        }
      ]
    },
    {
      "cell_type": "code",
      "metadata": {
        "id": "UVqhUn_YLryU",
        "colab_type": "code",
        "colab": {}
      },
      "source": [
        "series = df[\"tt3\"]"
      ],
      "execution_count": 0,
      "outputs": []
    },
    {
      "cell_type": "code",
      "metadata": {
        "id": "IEl3r8hOcGPW",
        "colab_type": "code",
        "colab": {}
      },
      "source": [
        "quantiles = [0.05, 0.25, 0.5, 0.75, 0.95]"
      ],
      "execution_count": 0,
      "outputs": []
    },
    {
      "cell_type": "code",
      "metadata": {
        "id": "LQfe5hBJcHCE",
        "colab_type": "code",
        "colab": {}
      },
      "source": [
        "quant = series.quantile(quantiles)"
      ],
      "execution_count": 0,
      "outputs": []
    },
    {
      "cell_type": "code",
      "metadata": {
        "id": "RMpclLGteeVc",
        "colab_type": "code",
        "outputId": "ab874470-10a4-413d-912a-67bb717147d8",
        "colab": {
          "base_uri": "https://localhost:8080/",
          "height": 34
        }
      },
      "source": [
        "dict(quant)\n"
      ],
      "execution_count": 0,
      "outputs": [
        {
          "output_type": "execute_result",
          "data": {
            "text/plain": [
              "{0.05: 68.0, 0.25: 76.0, 0.5: 79.0, 0.75: 81.0, 0.95: 82.0}"
            ]
          },
          "metadata": {
            "tags": []
          },
          "execution_count": 31
        }
      ]
    },
    {
      "cell_type": "code",
      "metadata": {
        "id": "rcCpEc7MecbT",
        "colab_type": "code",
        "colab": {}
      },
      "source": [
        "()"
      ],
      "execution_count": 0,
      "outputs": []
    },
    {
      "cell_type": "markdown",
      "metadata": {
        "id": "HdJOMWZyCu1y",
        "colab_type": "text"
      },
      "source": [
        "**PART 1: Extracting all the information about each column**"
      ]
    },
    {
      "cell_type": "code",
      "metadata": {
        "id": "pQyEMC7FC6Zy",
        "colab_type": "code",
        "colab": {}
      },
      "source": [
        "def describe_numeric(series: pd.Series, series_description: dict):\n",
        "    \"\"\"Describe a numeric series.\n",
        "    Args:\n",
        "        series: The Series to describe.\n",
        "        series_description: The dict containing the series description so far.\n",
        "\n",
        "    Returns:\n",
        "        A dict containing calculated series description values.\n",
        "    \"\"\"\n",
        "\n",
        "    distinct_count_without_nan = series.value_counts(dropna=True).count()\n",
        "\n",
        "    stats = {\n",
        "        \"mean\": series.mean(), \n",
        "        \"std\": series.std(), \n",
        "        \"variance\": series.var(), \n",
        "        \"min\": series.min(),\n",
        "        \"max\": series.max(), \n",
        "        \"kurtosis\": series.kurt(), \n",
        "        \"skewness\": series.skew(), \n",
        "        \"sum\": series.sum(),\n",
        "        \"mad\": series.mad(), \n",
        "        \"distinct_count_without_nan\" : distinct_count_without_nan, \n",
        "        \"count_without_nan\" : series.count()}\n",
        "\n",
        "    quantiles = [0.05, 0.25, 0.5, 0.75, 0.95]\n",
        "\n",
        "    stats.update(\n",
        "        {\n",
        "            \"{:.0%}\".format(percentile):value for percentile, value in dict(series.quantile(quantiles)).items()\n",
        "        }\n",
        "        )\n",
        "\n",
        "    \n",
        "    stats[\"range\"] = stats[\"max\"] - stats[\"min\"]\n",
        "    stats[\"iqr\"] = stats[\"75%\"] - stats[\"25%\"]\n",
        "    stats[\"cv\"] = stats[\"std\"] / stats[\"mean\"] if stats[\"mean\"] else np.NaN\n",
        "\n",
        "\n",
        "    return stats"
      ],
      "execution_count": 0,
      "outputs": []
    },
    {
      "cell_type": "code",
      "metadata": {
        "id": "Cx3Cm8aI6wI8",
        "colab_type": "code",
        "colab": {}
      },
      "source": [
        "def describe_date(series: pd.Series, series_description: dict):\n",
        "    \"\"\"Describe a date series.\n",
        "    Args:\n",
        "        series: The Series to describe.\n",
        "        series_description: The dict containing the series description so far.\n",
        "\n",
        "    Returns:\n",
        "        A dict containing calculated series description values.\n",
        "    \"\"\"\n",
        "\n",
        "    stats = {\"min\": series.min(), \"max\": series.max()}\n",
        "    stats[\"range\"] = stats[\"max\"] - stats[\"min\"]\n",
        "\n",
        "    return stats"
      ],
      "execution_count": 0,
      "outputs": []
    },
    {
      "cell_type": "code",
      "metadata": {
        "id": "FexBOUiV7LLg",
        "colab_type": "code",
        "colab": {}
      },
      "source": [
        "def describe_categorical(series: pd.Series, series_description: dict) -> dict:\n",
        "    \"\"\"Describe a categorical series.\n",
        "    Args:\n",
        "        series: The Series to describe.\n",
        "        series_description: The dict containing the series description so far.\n",
        "    Returns:\n",
        "        A dict containing calculated series description values.\n",
        "    \"\"\"\n",
        "\n",
        "    # Make sure we deal with strings\n",
        "    series = series[~series.isnull()].astype(str)\n",
        "\n",
        "    value_counts = series_description[\"value_counts_without_nan\"]\n",
        "    stats = {\"top\": value_counts.index[0], \"freq\": value_counts.iloc[0]}\n",
        "\n",
        "    return stats"
      ],
      "execution_count": 0,
      "outputs": []
    },
    {
      "cell_type": "code",
      "metadata": {
        "id": "C7FwZeeq8imV",
        "colab_type": "code",
        "colab": {}
      },
      "source": [
        "def describe_url(series: pd.Series, series_description: dict) -> dict:\n",
        "    \"\"\"Describe a path series.\n",
        "    Args:\n",
        "        series: The Series to describe.\n",
        "        series_description: The dict containing the series description so far.\n",
        "\n",
        "    Returns:\n",
        "        A dict containing calculated series description values.\n",
        "    \"\"\"\n",
        "    stats = {}\n",
        "\n",
        "    # Make sure we deal with strings. Convert only non empty values as string\n",
        "    series = series[~series.isnull()].astype(str)\n",
        "    \n",
        "    value_counts = series_description[\"value_counts_without_nan\"]\n",
        "    \n",
        "    stats[\"top\"] = value_counts.index[0]\n",
        "    stats[\"freq\"] = value_counts.iloc[0]\n",
        "\n",
        "    return stats"
      ],
      "execution_count": 0,
      "outputs": []
    },
    {
      "cell_type": "code",
      "metadata": {
        "id": "fnzqTaJr9jzc",
        "colab_type": "code",
        "colab": {}
      },
      "source": [
        "def describe_path(series: pd.Series, series_description: dict) -> dict:\n",
        "    \"\"\"Describe a path series.\n",
        "    Args:\n",
        "        series: The Series to describe.\n",
        "        series_description: The dict containing the series description so far.\n",
        "\n",
        "    Returns:\n",
        "        A dict containing calculated series description values.\n",
        "    \"\"\"\n",
        "\n",
        "    stats = {}\n",
        "\n",
        "    # Make sure we deal with strings\n",
        "    series = series[~series.isnull()].astype(str)\n",
        "\n",
        "    # Only run if at least 1 non-missing value\n",
        "    value_counts = series_description[\"value_counts_without_nan\"]\n",
        "\n",
        "    stats[\"top\"] = value_counts.index[0]\n",
        "    stats[\"freq\"] = value_counts.iloc[0]\n",
        "\n",
        "    return stats"
      ],
      "execution_count": 0,
      "outputs": []
    },
    {
      "cell_type": "code",
      "metadata": {
        "id": "3MNydVAVDvYq",
        "colab_type": "code",
        "colab": {}
      },
      "source": [
        "def describe_boolean(series: pd.Series, series_description: dict) -> dict:\n",
        "    \"\"\"Describe a boolean series.\n",
        "    Args:\n",
        "        series: The Series to describe.\n",
        "        series_description: The dict containing the series description so far.\n",
        "    Returns:\n",
        "        A dict containing calculated series description values.\n",
        "    \"\"\"\n",
        "\n",
        "    value_counts = series_description[\"value_counts_without_nan\"]\n",
        "\n",
        "    stats = {\"top\": value_counts.index[0], \"freq\": value_counts.iloc[0]}\n",
        "\n",
        "    return stats"
      ],
      "execution_count": 0,
      "outputs": []
    },
    {
      "cell_type": "code",
      "metadata": {
        "id": "oByBA0uqDy03",
        "colab_type": "code",
        "colab": {}
      },
      "source": [
        "def describe_constant(series: pd.Series, series_description: dict) -> dict:\n",
        "    \"\"\"Describe a constant series (placeholder).\n",
        "    Args:\n",
        "        series: The Series to describe.\n",
        "        series_description: The dict containing the series description so far.\n",
        "    Returns:\n",
        "        An empty dict.\n",
        "    \"\"\"\n",
        "    return {}"
      ],
      "execution_count": 0,
      "outputs": []
    },
    {
      "cell_type": "code",
      "metadata": {
        "id": "tR5gJjYTD4UQ",
        "colab_type": "code",
        "colab": {}
      },
      "source": [
        "def describe_unique(series: pd.Series, series_description: dict) -> dict:\n",
        "    \"\"\"Describe a unique series (placeholder).\n",
        "    Args:\n",
        "        series: The Series to describe.\n",
        "        series_description: The dict containing the series description so far.\n",
        "    Returns:\n",
        "        An empty dict.\n",
        "    \"\"\"\n",
        "\n",
        "    return {}"
      ],
      "execution_count": 0,
      "outputs": []
    },
    {
      "cell_type": "code",
      "metadata": {
        "id": "234xcbRqGqif",
        "colab_type": "code",
        "colab": {}
      },
      "source": [
        "def describe_supported(series: pd.Series, series_description: dict) -> dict:\n",
        "    \"\"\"Describe a supported series.\n",
        "    Args:\n",
        "        series: The Series to describe.\n",
        "        series_description: The dict containing the series description so far.\n",
        "    \n",
        "    Returns:\n",
        "        A dict containing calculated series description values.\n",
        "    \"\"\"\n",
        "\n",
        "    # number of observations in the Series\n",
        "    leng = len(series)\n",
        "\n",
        "    # number of non-NaN observations in the Series\n",
        "    count = series.count()\n",
        "\n",
        "    # number of infinite observations in the Series\n",
        "    n_infinite = count - series.count()\n",
        "\n",
        "    distinct_count = series_description[\"distinct_count_with_nan\"]\n",
        "\n",
        "    stats = {\n",
        "        \"count\": count,\n",
        "        \"distinct_count\": distinct_count,\n",
        "        \"p_missing\": 1 - count * 1.0 / leng,\n",
        "        \"n_missing\": leng - count,\n",
        "        \"p_infinite\": n_infinite * 1.0 / leng,\n",
        "        \"n_infinite\": n_infinite,\n",
        "        \"is_unique\": distinct_count == leng,\n",
        "        \"mode\": series.mode().iloc[0] if count > distinct_count > 1 else series[0],\n",
        "        \"p_unique\": distinct_count * 1.0 / leng,\n",
        "        \"memorysize\": series.memory_usage()\n",
        "    }\n",
        "\n",
        "    return stats"
      ],
      "execution_count": 0,
      "outputs": []
    },
    {
      "cell_type": "code",
      "metadata": {
        "id": "O2W2hU09HOIN",
        "colab_type": "code",
        "colab": {}
      },
      "source": [
        "def describe_unsupported(series: pd.Series, series_description: dict):\n",
        "    \"\"\"Describe an unsupported series.\n",
        "    Args:\n",
        "        series: The Series to describe.\n",
        "        series_description: The dict containing the series description so far.\n",
        "    \n",
        "    Returns:\n",
        "        A dict containing calculated series description values.\n",
        "    \"\"\"\n",
        "\n",
        "    # number of observations in the Series\n",
        "    leng = len(series)\n",
        "\n",
        "    # number of non-NaN observations in the Series\n",
        "    count = series.count()\n",
        "\n",
        "    # number of infinte observations in the Series\n",
        "    n_infinite = count - series.count()\n",
        "\n",
        "    results_data = {\n",
        "        \"count\": count,\n",
        "        \"p_missing\": 1 - count * 1.0 / leng,\n",
        "        \"n_missing\": leng - count,\n",
        "        \"p_infinite\": n_infinite * 1.0 / leng,\n",
        "        \"n_infinite\": n_infinite,\n",
        "        \"memorysize\": series.memory_usage()\n",
        "    }\n",
        "\n",
        "    return results_data"
      ],
      "execution_count": 0,
      "outputs": []
    },
    {
      "cell_type": "code",
      "metadata": {
        "id": "LF3hSfCOEBxs",
        "colab_type": "code",
        "colab": {}
      },
      "source": [
        "import base\n",
        "from base import Variable\n",
        "\n",
        "def describe_var(series: pd.Series) -> dict:\n",
        "    \"\"\"Describe a series (infer the variable type, then calculate type-specific values).\n",
        "    Args:\n",
        "        series: The Series to describe.\n",
        "    \n",
        "    Returns:\n",
        "        A dictionary containing calculated series description values.\n",
        "    \"\"\"\n",
        "\n",
        "    # Replace infinite values with NaNs to avoid issues.\n",
        "    series.replace(to_replace=[np.inf, np.NINF, np.PINF], value=np.nan, inplace=True)\n",
        "\n",
        "    # Infer variable types\n",
        "    series_description = base.get_var_type(series)\n",
        "\n",
        "    # Run type specific analysis\n",
        "    if series_description[\"type\"] == Variable.S_TYPE_UNSUPPORTED:\n",
        "        series_description.update(describe_unsupported(series, series_description))\n",
        "    else:\n",
        "        series_description.update(describe_supported(series, series_description))\n",
        "\n",
        "        type_to_func = {\n",
        "            Variable.S_TYPE_CONST: describe_constant,\n",
        "            Variable.TYPE_BOOL: describe_boolean,\n",
        "            Variable.TYPE_NUM: describe_numeric,\n",
        "            Variable.TYPE_DATE: describe_date,\n",
        "            Variable.S_TYPE_UNIQUE: describe_unique,\n",
        "            Variable.TYPE_CAT: describe_categorical,\n",
        "            Variable.TYPE_URL: describe_url,\n",
        "            Variable.TYPE_PATH: describe_path,\n",
        "        }\n",
        "\n",
        "        if series_description[\"type\"] in type_to_func:\n",
        "            series_description.update(\n",
        "                type_to_func[series_description[\"type\"]](series, series_description)\n",
        "            )\n",
        "        else:\n",
        "            raise ValueError(\"Unexpected type\")\n",
        "\n",
        "    # Return the description obtained\n",
        "    return series_description"
      ],
      "execution_count": 0,
      "outputs": []
    },
    {
      "cell_type": "code",
      "metadata": {
        "id": "k8SVHyLlTUKL",
        "colab_type": "code",
        "colab": {}
      },
      "source": [
        "def describe_table(df: pd.DataFrame, variable_stats: pd.DataFrame) -> dict:\n",
        "    \"\"\"General statistics for the DataFrame.\n",
        "    Args:\n",
        "      df: The DataFrame to describe.\n",
        "      variable_stats: Previously calculated statistic on the DataFrame.\n",
        "    Returns:\n",
        "        A dictionary that contains the table statistics.\n",
        "    \"\"\"\n",
        "    n = len(df)\n",
        "\n",
        "    memory_size = df.memory_usage(index=True).sum()\n",
        "    record_size = float(memory_size) / n\n",
        "\n",
        "    table_stats = {\n",
        "        \"n\": n,\n",
        "        \"nvar\": len(df.columns),\n",
        "        \"memsize\": memory_size,\n",
        "        \"recordsize\": record_size,\n",
        "        \"n_cells_missing\": variable_stats.loc[\"n_missing\"].sum(),\n",
        "        \"n_vars_with_missing\": sum((variable_stats.loc[\"n_missing\"] > 0).astype(int)),\n",
        "        \"n_vars_all_missing\": sum((variable_stats.loc[\"n_missing\"] == n).astype(int)),\n",
        "    }\n",
        "\n",
        "    table_stats[\"p_cells_missing\"] = table_stats[\"n_cells_missing\"] / (\n",
        "        table_stats[\"n\"] * table_stats[\"nvar\"]\n",
        "    )\n",
        "\n",
        "    supported_columns = variable_stats.transpose()[\n",
        "        variable_stats.transpose().type != Variable.S_TYPE_UNSUPPORTED\n",
        "    ].index.tolist()\n",
        "    table_stats[\"n_duplicates\"] = (\n",
        "        sum(df.duplicated(subset=supported_columns))\n",
        "        if len(supported_columns) > 0\n",
        "        else 0\n",
        "    )\n",
        "    table_stats[\"p_duplicates\"] = (\n",
        "        (table_stats[\"n_duplicates\"] / len(df))\n",
        "        if (len(supported_columns) > 0 and len(df) > 0)\n",
        "        else 0\n",
        "    )\n",
        "\n",
        "    # Variable type counts\n",
        "    table_stats.update({k.value: 0 for k in Variable})\n",
        "    table_stats.update(\n",
        "        dict(variable_stats.loc[\"type\"].apply(lambda x: x.value).value_counts())\n",
        "    )\n",
        "    table_stats[Variable.S_TYPE_REJECTED.value] = (\n",
        "        table_stats[Variable.S_TYPE_CONST.value]\n",
        "        + table_stats[Variable.S_TYPE_CORR.value]\n",
        "        + table_stats[Variable.S_TYPE_RECODED.value]\n",
        "    )\n",
        "    return table_stats"
      ],
      "execution_count": 0,
      "outputs": []
    },
    {
      "cell_type": "code",
      "metadata": {
        "id": "hJiaw9bcQUS2",
        "colab_type": "code",
        "colab": {}
      },
      "source": [
        "def multiprocess_1d(column, series):\n",
        "    \"\"\"Wrapper to process series in parallel.\n",
        "    Args:\n",
        "        column: The name of the column.\n",
        "        series: The series values.\n",
        "    Returns:\n",
        "        A tuple with column and the series description.\n",
        "    \"\"\"\n",
        "    return column, describe_var(series)"
      ],
      "execution_count": 0,
      "outputs": []
    },
    {
      "cell_type": "code",
      "metadata": {
        "id": "A4u4gBD3iBaM",
        "colab_type": "code",
        "colab": {}
      },
      "source": [
        "config = {\n",
        "    \"pool_size\" : 0, \n",
        "    \"check_correlation_pearson\" : True, \n",
        "    \"correlation_threshold_pearson\" : 0.9,\n",
        "    \"check_correlation_cramers\": False,\n",
        "    \"correlation_threshold_cramers\": 0.9,\n",
        "    \"check_recoded\": True\n",
        "    }"
      ],
      "execution_count": 0,
      "outputs": []
    },
    {
      "cell_type": "code",
      "metadata": {
        "id": "k_C62itZoiSG",
        "colab_type": "code",
        "colab": {}
      },
      "source": [
        "import collections\n",
        "def update(d: dict, u: dict) -> dict:\n",
        "    \"\"\" Recursively update a dict.\n",
        "    Args:\n",
        "        d: Dictionary to update.\n",
        "        u: Dictionary with values to use.\n",
        "    Returns:\n",
        "        The merged dictionary.\n",
        "    \"\"\"\n",
        "    for k, v in u.items():\n",
        "        if isinstance(v, collections.Mapping):\n",
        "            d[k] = update(d.get(k, {}), v)\n",
        "        else:\n",
        "            d[k] = v\n",
        "    return d"
      ],
      "execution_count": 0,
      "outputs": []
    },
    {
      "cell_type": "code",
      "metadata": {
        "id": "Hk0zl2nmPpYO",
        "colab_type": "code",
        "colab": {}
      },
      "source": [
        "import multiprocessing.pool\n",
        "import multiprocessing\n",
        "from correlations import calculate_correlations\n",
        "from correlations import perform_check_correlation\n",
        "\n",
        "def describe(df: pd.DataFrame) -> dict:\n",
        "    \"\"\"Calculate the statistics for each series in this DataFrame.\n",
        "    Args:\n",
        "        df: DataFrame.\n",
        "    Returns:\n",
        "        This function returns a dictionary containing:\n",
        "            - table: overall statistics.\n",
        "            - variables: descriptions per series.\n",
        "            - correlations: correlation matrices.\n",
        "    \"\"\"\n",
        "    if not isinstance(df, pd.DataFrame):\n",
        "        raise TypeError(\"df must be of type pandas.DataFrame\")\n",
        "\n",
        "    if df.empty:\n",
        "        raise ValueError(\"df can not be empty\")\n",
        "\n",
        "    # Multiprocessing of Describe_var for each column\n",
        "    pool_size = config['pool_size']\n",
        "\n",
        "    if pool_size <= 0:\n",
        "        pool_size = multiprocessing.cpu_count()\n",
        "\n",
        "    if pool_size == 1:\n",
        "        args = [(column, series) for column, series in df.iteritems()]\n",
        "        series_description = {\n",
        "            column: series\n",
        "            for column, series in itertools.starmap(multiprocess_1d, args)\n",
        "        }\n",
        "    else:\n",
        "        with multiprocessing.pool.ThreadPool(pool_size) as executor:\n",
        "            series_description = {}\n",
        "            results = executor.starmap(multiprocess_1d, df.iteritems())\n",
        "            for col, description in results:\n",
        "                series_description[col] = description\n",
        "\n",
        "    # Mapping from column name to variable type\n",
        "    variables = {\n",
        "        column: description[\"type\"]\n",
        "        for column, description in series_description.items()\n",
        "    }\n",
        "\n",
        "    # Get correlations\n",
        "    correlations = calculate_correlations(df, variables)    \n",
        "\n",
        "    # Check correlations between numerical variables\n",
        "    if config[\"check_correlation_pearson\"] and \"pearson\" in correlations:\n",
        "        # Overwrites the description with \"CORR\" series\n",
        "        correlation_threshold = config[\"correlation_threshold_pearson\"]\n",
        "        update(\n",
        "            series_description,\n",
        "            perform_check_correlation(\n",
        "                correlations[\"pearson\"],\n",
        "                lambda x: x > correlation_threshold,\n",
        "                Variable.S_TYPE_CORR,\n",
        "            ),\n",
        "        )\n",
        "\n",
        "    # Check correlations between categorical variables\n",
        "    if config[\"check_correlation_cramers\"] and \"cramers\" in correlations:\n",
        "\n",
        "        # Overwrites the description with \"CORR\" series\n",
        "        correlation_threshold = config[\"correlation_threshold_cramers\"]\n",
        "        update(\n",
        "            series_description,\n",
        "            perform_check_correlation(\n",
        "                correlations[\"cramers\"],\n",
        "                lambda x: x > correlation_threshold,\n",
        "                Variable.S_TYPE_CORR,\n",
        "            ),\n",
        "        )\n",
        "\n",
        "    # Check recoded\n",
        "    if config[\"check_recoded\"] and \"recoded\" in correlations:\n",
        "        # Overwrites the description with \"RECORDED\" series\n",
        "        update(\n",
        "            series_description,\n",
        "            perform_check_correlation(\n",
        "                correlations[\"recoded\"], lambda x: x == 1, Variable.S_TYPE_RECODED\n",
        "            ),\n",
        "        )\n",
        "\n",
        "\n",
        "    # Transform the series_description in a DataFrame\n",
        "    variable_stats = pd.DataFrame(series_description)\n",
        "\n",
        "    # Table statistics\n",
        "    table_stats = describe_table(df, variable_stats)\n",
        "\n",
        "\n",
        "    return {\n",
        "        # Overall description\n",
        "        \"table\": table_stats,\n",
        "\n",
        "        # Per variable descriptions\n",
        "        \"variables\": series_description,\n",
        "\n",
        "        # Correlation matrices\n",
        "        \"correlations\": correlations\n",
        "    }"
      ],
      "execution_count": 0,
      "outputs": []
    },
    {
      "cell_type": "code",
      "metadata": {
        "id": "upIRdIsWSIPe",
        "colab_type": "code",
        "colab": {}
      },
      "source": [
        "df = pd.read_csv(\"/content/sample_data/mnist_test.csv\")\n",
        "for col in df.columns:\n",
        "    if df[col].dtype == 'object':\n",
        "        try:\n",
        "            df[col] = pd.to_datetime(df[col])\n",
        "        except ValueError:\n",
        "            pass"
      ],
      "execution_count": 0,
      "outputs": []
    },
    {
      "cell_type": "code",
      "metadata": {
        "id": "6mkNKBrIE57j",
        "colab_type": "code",
        "colab": {}
      },
      "source": [
        ""
      ],
      "execution_count": 0,
      "outputs": []
    },
    {
      "cell_type": "code",
      "metadata": {
        "id": "_cxkAjCP4JxQ",
        "colab_type": "code",
        "colab": {}
      },
      "source": [
        ""
      ],
      "execution_count": 0,
      "outputs": []
    },
    {
      "cell_type": "code",
      "metadata": {
        "id": "NBdpb3vN4JqI",
        "colab_type": "code",
        "colab": {}
      },
      "source": [
        ""
      ],
      "execution_count": 0,
      "outputs": []
    },
    {
      "cell_type": "code",
      "metadata": {
        "id": "_qR93Rje4Jiu",
        "colab_type": "code",
        "colab": {}
      },
      "source": [
        ""
      ],
      "execution_count": 0,
      "outputs": []
    },
    {
      "cell_type": "code",
      "metadata": {
        "id": "IQ7pvB4Yqt-N",
        "colab_type": "code",
        "colab": {}
      },
      "source": [
        ""
      ],
      "execution_count": 0,
      "outputs": []
    },
    {
      "cell_type": "code",
      "metadata": {
        "id": "S04yMQUtqt7k",
        "colab_type": "code",
        "colab": {}
      },
      "source": [
        ""
      ],
      "execution_count": 0,
      "outputs": []
    },
    {
      "cell_type": "code",
      "metadata": {
        "id": "0u6z36LWqt5B",
        "colab_type": "code",
        "colab": {}
      },
      "source": [
        ""
      ],
      "execution_count": 0,
      "outputs": []
    },
    {
      "cell_type": "code",
      "metadata": {
        "id": "nj0mTElKDTud",
        "colab_type": "code",
        "outputId": "0d984cce-a3e8-4888-bf5c-69ff9e81a087",
        "colab": {
          "base_uri": "https://localhost:8080/",
          "height": 34
        }
      },
      "source": [
        "parent_dict.keys()"
      ],
      "execution_count": 0,
      "outputs": [
        {
          "output_type": "execute_result",
          "data": {
            "text/plain": [
              "dict_keys(['table', 'variables', 'correlations'])"
            ]
          },
          "metadata": {
            "tags": []
          },
          "execution_count": 37
        }
      ]
    },
    {
      "cell_type": "code",
      "metadata": {
        "id": "PwXOH_TpDTrB",
        "colab_type": "code",
        "outputId": "be005f5a-4fc3-4132-ab29-f16bb58c09bc",
        "colab": {
          "base_uri": "https://localhost:8080/",
          "height": 142
        }
      },
      "source": [
        "parent_dict[\"correlations\"][\"recoded\"]"
      ],
      "execution_count": 0,
      "outputs": [
        {
          "output_type": "execute_result",
          "data": {
            "text/html": [
              "<div>\n",
              "<style scoped>\n",
              "    .dataframe tbody tr th:only-of-type {\n",
              "        vertical-align: middle;\n",
              "    }\n",
              "\n",
              "    .dataframe tbody tr th {\n",
              "        vertical-align: top;\n",
              "    }\n",
              "\n",
              "    .dataframe thead th {\n",
              "        text-align: right;\n",
              "    }\n",
              "</style>\n",
              "<table border=\"1\" class=\"dataframe\">\n",
              "  <thead>\n",
              "    <tr style=\"text-align: right;\">\n",
              "      <th></th>\n",
              "      <th>date given</th>\n",
              "      <th>total hours</th>\n",
              "      <th>tt5</th>\n",
              "    </tr>\n",
              "  </thead>\n",
              "  <tbody>\n",
              "    <tr>\n",
              "      <th>date given</th>\n",
              "      <td>1.0</td>\n",
              "      <td>0.0</td>\n",
              "      <td>0.0</td>\n",
              "    </tr>\n",
              "    <tr>\n",
              "      <th>total hours</th>\n",
              "      <td>0.0</td>\n",
              "      <td>1.0</td>\n",
              "      <td>0.0</td>\n",
              "    </tr>\n",
              "    <tr>\n",
              "      <th>tt5</th>\n",
              "      <td>0.0</td>\n",
              "      <td>0.0</td>\n",
              "      <td>1.0</td>\n",
              "    </tr>\n",
              "  </tbody>\n",
              "</table>\n",
              "</div>"
            ],
            "text/plain": [
              "             date given  total hours  tt5\n",
              "date given          1.0          0.0  0.0\n",
              "total hours         0.0          1.0  0.0\n",
              "tt5                 0.0          0.0  1.0"
            ]
          },
          "metadata": {
            "tags": []
          },
          "execution_count": 50
        }
      ]
    },
    {
      "cell_type": "code",
      "metadata": {
        "id": "vNMhYNHJDToV",
        "colab_type": "code",
        "colab": {}
      },
      "source": [
        ""
      ],
      "execution_count": 0,
      "outputs": []
    },
    {
      "cell_type": "code",
      "metadata": {
        "id": "ZJjhhclcDTmL",
        "colab_type": "code",
        "colab": {}
      },
      "source": [
        ""
      ],
      "execution_count": 0,
      "outputs": []
    },
    {
      "cell_type": "code",
      "metadata": {
        "id": "GNqv6H7eDTjS",
        "colab_type": "code",
        "colab": {}
      },
      "source": [
        ""
      ],
      "execution_count": 0,
      "outputs": []
    },
    {
      "cell_type": "code",
      "metadata": {
        "id": "BU4tmPnpC6YQ",
        "colab_type": "code",
        "colab": {}
      },
      "source": [
        "cat_series = df[\"tt5\"]\n",
        "\n",
        "value_counts_with_nan = cat_series.value_counts(dropna=False)\n",
        "value_counts_without_nan = (value_counts_with_nan.reset_index().dropna().set_index(\"index\").iloc[:, 0])\n",
        "\n",
        "series_description = {\"value_counts_without_nan\":value_counts_without_nan}\n",
        "describe_categorical(cat_series, series_description)"
      ],
      "execution_count": 0,
      "outputs": []
    }
  ]
}