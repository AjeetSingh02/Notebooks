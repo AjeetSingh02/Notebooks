{
  "nbformat": 4,
  "nbformat_minor": 0,
  "metadata": {
    "colab": {
      "name": "Cascade TabNet Demo.ipynb",
      "provenance": [],
      "collapsed_sections": [],
      "toc_visible": true,
      "include_colab_link": true
    },
    "kernelspec": {
      "name": "python3",
      "display_name": "Python 3"
    },
    "accelerator": "GPU"
  },
  "cells": [
    {
      "cell_type": "markdown",
      "metadata": {
        "id": "view-in-github",
        "colab_type": "text"
      },
      "source": [
        "<a href=\"https://colab.research.google.com/github/AjeetSingh02/Notebooks/blob/master/Cascade_TabNet_Demo.ipynb\" target=\"_parent\"><img src=\"https://colab.research.google.com/assets/colab-badge.svg\" alt=\"Open In Colab\"/></a>"
      ]
    },
    {
      "cell_type": "markdown",
      "metadata": {
        "id": "8q-NrSjkPpo_"
      },
      "source": [
        "# CascadeTabNet Demo Notebook\n",
        "[![PWC](https://img.shields.io/endpoint.svg?url=https://paperswithcode.com/badge/cascadetabnet-an-approach-for-end-to-end/table-detection-on-icdar2013-1)](https://paperswithcode.com/sota/table-detection-on-icdar2013-1?p=cascadetabnet-an-approach-for-end-to-end)\n",
        "[![PWC](https://img.shields.io/badge/PyTorch-v1.4-blue)](https://pytorch.org/)\n",
        "[![PWC](https://img.shields.io/badge/%20mmdetection%20-v1.2-blue)](https://github.com/open-mmlab/mmdetection)\n",
        "\n",
        "> **CascadeTabNet: An approach for end to end table detection and structure recognition from image-based documents**<br>\n",
        "> [Devashish Prasad](https://github.com/DevashishPrasad),\n",
        "> [Ayan Gadpal](https://github.com/ayangadpal),\n",
        "> [Kshitij Kapadni](https://github.com/kshitijkapadni),\n",
        "> [Manish Visave](https://github.com/ManishDV),\n",
        "> <br>\n",
        "> [Preprint Link of Paper](https://arxiv.org/abs/2004.12629)<br>\n",
        "> <a href=\"results.pdf\">Supplementary file</a> <br>\n",
        "> The paper has been accepted at [CVPR 2020 Workshop on Text and Documents in the Deep Learning Era](https://cvpr2020text.wordpress.com/)<br>\n",
        "> [Code Link](https://github.com/DevashishPrasad/CascadeTabNet)\n",
        "<img align=\"right\" src=\"imgs/CVPR Teaser.gif\" />"
      ]
    },
    {
      "cell_type": "code",
      "metadata": {
        "id": "rRfeBmRcoc8L"
      },
      "source": [
        "import warnings\n",
        "warnings.filterwarnings('ignore')"
      ],
      "execution_count": 55,
      "outputs": []
    },
    {
      "cell_type": "markdown",
      "metadata": {
        "id": "h3w-lUufPs1X"
      },
      "source": [
        "## 1. Install all the prerequisite\n",
        "This will take a while, Remember to **Restart Runtime** after this step is done "
      ]
    },
    {
      "cell_type": "code",
      "metadata": {
        "id": "UEKJ_-iyPkdg"
      },
      "source": [
        "!pip install torch==1.4.0+cu100 torchvision==0.5.0+cu100 -f https://download.pytorch.org/whl/torch_stable.html\n",
        "!pip install -q mmcv terminaltables\n",
        "!git clone --branch v1.2.0 'https://github.com/open-mmlab/mmdetection.git'\n",
        "%cd \"mmdetection\"\n",
        "!pip install -r \"/content/mmdetection/requirements/optional.txt\"\n",
        "!python setup.py install\n",
        "!python setup.py develop\n",
        "!pip install -r {\"requirements.txt\"}\n",
        "!pip install pillow==6.2.1 \n",
        "!pip install mmcv==0.4.3\n",
        "%cd \"/content\""
      ],
      "execution_count": null,
      "outputs": []
    },
    {
      "cell_type": "markdown",
      "metadata": {
        "id": "ElH_dg6mQaWv"
      },
      "source": [
        "## 2. Clone the Repository \n",
        "We will be using \"ICDAR 19 (Track B2 Modern) table structure recognition\" for demo"
      ]
    },
    {
      "cell_type": "code",
      "metadata": {
        "id": "3qGrF50HQZjx"
      },
      "source": [
        "!git clone https://github.com/DevashishPrasad/CascadeTabNet.git"
      ],
      "execution_count": null,
      "outputs": []
    },
    {
      "cell_type": "markdown",
      "metadata": {
        "id": "5tJFeJMMQvlv"
      },
      "source": [
        "## 3. Download the Pretrained Model\n",
        "\n"
      ]
    },
    {
      "cell_type": "code",
      "metadata": {
        "id": "VNcfZA_bQ0ZR"
      },
      "source": [
        "!gdown \"https://drive.google.com/u/0/uc?id=1-QieHkR1Q7CXuBu4fp3rYrvDG9j26eFT\""
      ],
      "execution_count": null,
      "outputs": []
    },
    {
      "cell_type": "markdown",
      "metadata": {
        "id": "0ChCNzJSRCtD"
      },
      "source": [
        "## 4. Run the Predictions"
      ]
    },
    {
      "cell_type": "code",
      "metadata": {
        "id": "e0P85mJJQ304"
      },
      "source": [
        "from mmdet.apis import init_detector, inference_detector, show_result_pyplot\n",
        "import mmcv"
      ],
      "execution_count": 25,
      "outputs": []
    },
    {
      "cell_type": "code",
      "metadata": {
        "id": "7RGV2IrKZRYP"
      },
      "source": [
        "from IPython.display import Image \n",
        "\n",
        "# Test a single image \n",
        "img = \"/content/CascadeTabNet/Demo/MicrosoftTeams-image.png\"\n",
        "\n",
        "pil_img = Image(filename=img)\n",
        "display(pil_img)"
      ],
      "execution_count": null,
      "outputs": []
    },
    {
      "cell_type": "code",
      "metadata": {
        "id": "fVLYaM1rh5Pf"
      },
      "source": [
        "# epoch 1\n",
        "!gdown \"https://drive.google.com/u/0/uc?id=1-mVr4UBicFk3mjUz5tsVPjQ4jzRtiT7V&export=download\""
      ],
      "execution_count": null,
      "outputs": []
    },
    {
      "cell_type": "code",
      "metadata": {
        "id": "4HFgFrLxh4Nu"
      },
      "source": [
        "# epoch 13\n",
        "!gdown \"https://drive.google.com/u/0/uc?id=1-vjfGRhF8kqvKwZPPFNwiTaOoonJlGgv&export=download\""
      ],
      "execution_count": null,
      "outputs": []
    },
    {
      "cell_type": "code",
      "metadata": {
        "id": "Q_p23ckhh4nB"
      },
      "source": [
        "# epoch 14\n",
        "!gdown \"https://drive.google.com/u/0/uc?id=1vfUr4pmmI4GICZubAnBeFU8pviMUW_c9&export=download\""
      ],
      "execution_count": null,
      "outputs": []
    },
    {
      "cell_type": "code",
      "metadata": {
        "id": "sAyrEDhfh45v"
      },
      "source": [
        "# epoch 17\n",
        "!gdown \"https://drive.google.com/u/0/uc?id=1-ZnV84t61IrkAfQH7dOATpo_T4C1J4Qa&export=download\""
      ],
      "execution_count": null,
      "outputs": []
    },
    {
      "cell_type": "code",
      "metadata": {
        "id": "xHu-mgXbhrdo"
      },
      "source": [
        "# epoch 24\n",
        "!gdown \"https://drive.google.com/u/0/uc?id=1-xfq5hDmFdKgbY9FSFTmhSlcb2p13RPn&export=download\""
      ],
      "execution_count": null,
      "outputs": []
    },
    {
      "cell_type": "code",
      "metadata": {
        "id": "7FgogpX3fvPg"
      },
      "source": [
        "# Load model 1\n",
        "config_file = '/content/CascadeTabNet/Config/cascade_mask_rcnn_hrnetv2p_w32_20e.py'\n",
        "checkpoint_file = '/content/epoch_1.pth'\n",
        "model = init_detector(config_file, checkpoint_file, device='cuda:0')\n",
        "\n",
        "# Run Inference\n",
        "result = inference_detector(model, img)\n",
        "\n",
        "# Visualization results\n",
        "show_result_pyplot(img, result, ('Bordered', 'cell', 'Borderless'), score_thr=0.99)"
      ],
      "execution_count": null,
      "outputs": []
    },
    {
      "cell_type": "code",
      "metadata": {
        "id": "jc118qvgk6Mh"
      },
      "source": [
        "# Load model 13\n",
        "config_file = '/content/CascadeTabNet/Config/cascade_mask_rcnn_hrnetv2p_w32_20e.py'\n",
        "checkpoint_file = '/content/epoch_13.pth'\n",
        "model = init_detector(config_file, checkpoint_file, device='cuda:0')\n",
        "\n",
        "# Run Inference\n",
        "result = inference_detector(model, img)\n",
        "\n",
        "# Visualization results\n",
        "show_result_pyplot(img, result, ('Bordered', 'cell', 'Borderless'), score_thr=0.99)"
      ],
      "execution_count": null,
      "outputs": []
    },
    {
      "cell_type": "code",
      "metadata": {
        "id": "OdCm0tOZk6UG"
      },
      "source": [
        "# Load model 14\n",
        "config_file = '/content/CascadeTabNet/Config/cascade_mask_rcnn_hrnetv2p_w32_20e.py'\n",
        "checkpoint_file = '/content/epoch_14.pth'\n",
        "model = init_detector(config_file, checkpoint_file, device='cuda:0')\n",
        "\n",
        "# Run Inference\n",
        "result = inference_detector(model, img)\n",
        "\n",
        "# Visualization results\n",
        "show_result_pyplot(img, result, ('Bordered', 'cell', 'Borderless'), score_thr=0.99)"
      ],
      "execution_count": null,
      "outputs": []
    },
    {
      "cell_type": "code",
      "metadata": {
        "id": "VF5kjq1Mk6bO"
      },
      "source": [
        "# Load model 17\n",
        "config_file = '/content/CascadeTabNet/Config/cascade_mask_rcnn_hrnetv2p_w32_20e.py'\n",
        "checkpoint_file = '/content/epoch_17.pth'\n",
        "model = init_detector(config_file, checkpoint_file, device='cuda:0')\n",
        "\n",
        "# Run Inference\n",
        "result = inference_detector(model, img)\n",
        "\n",
        "# Visualization results\n",
        "show_result_pyplot(img, result, ('Bordered', 'cell', 'Borderless'), score_thr=0.99)"
      ],
      "execution_count": null,
      "outputs": []
    },
    {
      "cell_type": "code",
      "metadata": {
        "id": "m0UeAZDWk6hv"
      },
      "source": [
        "# Load model 24\n",
        "config_file = '/content/CascadeTabNet/Config/cascade_mask_rcnn_hrnetv2p_w32_20e.py'\n",
        "checkpoint_file = '/content/epoch_24.pth'\n",
        "model = init_detector(config_file, checkpoint_file, device='cuda:0')\n",
        "\n",
        "# Run Inference\n",
        "result = inference_detector(model, img)\n",
        "\n",
        "# Visualization results\n",
        "show_result_pyplot(img, result, ('Bordered', 'cell', 'Borderless'), score_thr=0.99)"
      ],
      "execution_count": null,
      "outputs": []
    },
    {
      "cell_type": "code",
      "metadata": {
        "id": "dOI7pEAEk6ov"
      },
      "source": [
        "# Load model 36\n",
        "config_file = '/content/CascadeTabNet/Config/cascade_mask_rcnn_hrnetv2p_w32_20e.py'\n",
        "checkpoint_file = '/content/epoch_36.pth'\n",
        "model = init_detector(config_file, checkpoint_file, device='cuda:0')\n",
        "\n",
        "# Run Inference\n",
        "result = inference_detector(model, img)\n",
        "\n",
        "# Visualization results\n",
        "show_result_pyplot(img, result, ('cell', 'Borderless'), score_thr=0.87)"
      ],
      "execution_count": null,
      "outputs": []
    },
    {
      "cell_type": "code",
      "metadata": {
        "id": "LJxGDafXnFkI"
      },
      "source": [
        "modelPaths = [\n",
        "              '/content/epoch_1.pth',\n",
        "              '/content/epoch_13.pth',\n",
        "              '/content/epoch_14.pth',\n",
        "              '/content/epoch_17.pth',\n",
        "              '/content/epoch_24.pth',\n",
        "              '/content/epoch_36.pth'\n",
        "              ]\n",
        "\n",
        "thresholds = [0.2, 0.4, 0.6, 0.8, 0.99]"
      ],
      "execution_count": 52,
      "outputs": []
    },
    {
      "cell_type": "code",
      "metadata": {
        "id": "kECOwbt5nSTl"
      },
      "source": [
        "config_file = '/content/CascadeTabNet/Config/cascade_mask_rcnn_hrnetv2p_w32_20e.py'\n",
        "\n",
        "for modelPath in modelPaths:\n",
        "    checkpoint_file = modelPath\n",
        "    model = init_detector(config_file, checkpoint_file, device='cuda:0')\n",
        "    \n",
        "    for threshold in thresholds:\n",
        "        result = inference_detector(model, img)\n",
        "        show_result_pyplot(img, result, ('Bordered', 'cell', 'Borderless'), score_thr=threshold)"
      ],
      "execution_count": null,
      "outputs": []
    },
    {
      "cell_type": "code",
      "metadata": {
        "id": "O1yC28Vqq6uR"
      },
      "source": [
        "# Note: Image name will be stored as \"Smudge_OriginalName\" to avoid confict\n",
        "import cv2\n",
        "import numpy as np\n",
        "import glob\n",
        "\n",
        "\n",
        "def basicTransform(img):\n",
        "\t_, mask = cv2.threshold(img,120,255,cv2.THRESH_BINARY_INV)\n",
        "\timg = cv2.bitwise_not(mask)\n",
        "\treturn img\n",
        "\n",
        "\n",
        "img = cv2.imread(\"/content/in/MicrosoftTeams-image.png\")\n",
        "\n",
        "# Split the 3 channels into Blue,Green and Red\n",
        "b,g,r = cv2.split(img)\n",
        "\n",
        "# Apply Basic Transformation\n",
        "b = basicTransform(b)\n",
        "r = basicTransform(r)\n",
        "g = basicTransform(g)\n",
        "\n",
        "# Perform the distance transform algorithm\n",
        "b = cv2.distanceTransform(b, cv2.DIST_L2, 3)  # ELCUDIAN\n",
        "g = cv2.distanceTransform(g, cv2.DIST_L1, 3)  # LINEAR\n",
        "r = cv2.distanceTransform(r, cv2.DIST_C, 3)   # MAX\n",
        "\n",
        "# Normalize\n",
        "r = cv2.normalize(r, r, 0, 1.0, cv2.NORM_MINMAX)\n",
        "g = cv2.normalize(g, g, 0, 1.0, cv2.NORM_MINMAX)\n",
        "b = cv2.normalize(b, b, 0, 1.0, cv2.NORM_MINMAX)\n",
        "\n",
        "# Merge the channels\n",
        "dist = cv2.merge((b,g,r))\n",
        "dist = cv2.normalize(dist,dist, 0, 2.0, cv2.NORM_MINMAX)\n",
        "dist = cv2.cvtColor(dist, cv2.COLOR_BGR2GRAY)\n",
        "\n",
        "# In order to save as jpg, or png, we need to handle the Data\n",
        "# format of image\n",
        "data = dist.astype(np.float64) / 2.0\n",
        "# data = 1800 * data # Now scale by 1800\n",
        "dist = data.astype(np.uint16)\n",
        "\n",
        "# Save to destination\n",
        "cv2.imwrite(\"/content/out/1.png\",dist)"
      ],
      "execution_count": null,
      "outputs": []
    }
  ]
}