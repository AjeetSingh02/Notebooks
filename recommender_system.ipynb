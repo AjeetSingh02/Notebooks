{
  "nbformat": 4,
  "nbformat_minor": 0,
  "metadata": {
    "colab": {
      "name": "recommender_system.ipynb",
      "provenance": [],
      "collapsed_sections": [],
      "include_colab_link": true
    },
    "kernelspec": {
      "name": "python3",
      "display_name": "Python 3"
    },
    "accelerator": "TPU"
  },
  "cells": [
    {
      "cell_type": "markdown",
      "metadata": {
        "id": "view-in-github",
        "colab_type": "text"
      },
      "source": [
        "<a href=\"https://colab.research.google.com/github/AjeetSingh02/Notebooks/blob/master/recommender_system.ipynb\" target=\"_parent\"><img src=\"https://colab.research.google.com/assets/colab-badge.svg\" alt=\"Open In Colab\"/></a>"
      ]
    },
    {
      "cell_type": "code",
      "metadata": {
        "id": "97IVE324unOJ",
        "colab_type": "code",
        "colab": {}
      },
      "source": [
        "import pandas as pd\n",
        "import numpy as np"
      ],
      "execution_count": 0,
      "outputs": []
    },
    {
      "cell_type": "code",
      "metadata": {
        "id": "zJd1MihV-4u8",
        "colab_type": "code",
        "colab": {}
      },
      "source": [
        "# !wget https://datasets.imdbws.com/title.basics.tsv.gz\n",
        "# !wget https://datasets.imdbws.com/title.akas.tsv.gz\n",
        "# !wget https://datasets.imdbws.com/title.crew.tsv.gz\n",
        "# !wget https://datasets.imdbws.com/title.ratings.tsv.gz\n",
        "# !wget https://datasets.imdbws.com/title.principals.tsv.gz"
      ],
      "execution_count": 0,
      "outputs": []
    },
    {
      "cell_type": "code",
      "metadata": {
        "id": "YqMKl9CJuqLL",
        "colab_type": "code",
        "outputId": "9f436abe-3782-41f6-fe1c-b9192fa78c20",
        "colab": {
          "base_uri": "https://localhost:8080/",
          "height": 70
        }
      },
      "source": [
        "#Reading the datasets stored in tsv file format\n",
        "\n",
        "title_basic_info = pd.read_csv(\"title.basics.tsv.gz\", sep=\"\\t\")\n",
        "title_more_info = pd.read_csv(\"title.akas.tsv.gz\", sep=\"\\t\")\n",
        "directors_writers = pd.read_csv(\"title.crew.tsv.gz\", sep=\"\\t\")\n",
        "ratings = pd.read_csv(\"title.ratings.tsv.gz\", sep=\"\\t\")\n",
        "crew_info_orig = pd.read_csv(\"title.principals.tsv.gz\", sep=\"\\t\")"
      ],
      "execution_count": 0,
      "outputs": [
        {
          "output_type": "stream",
          "text": [
            "/usr/local/lib/python3.6/dist-packages/IPython/core/interactiveshell.py:2718: DtypeWarning: Columns (7) have mixed types. Specify dtype option on import or set low_memory=False.\n",
            "  interactivity=interactivity, compiler=compiler, result=result)\n"
          ],
          "name": "stderr"
        }
      ]
    },
    {
      "cell_type": "code",
      "metadata": {
        "id": "a3YF8A8jvOH_",
        "colab_type": "code",
        "outputId": "08984ee6-11e6-4794-e495-eea3cd00b5a9",
        "colab": {
          "base_uri": "https://localhost:8080/",
          "height": 195
        }
      },
      "source": [
        "title_basic_info.head()"
      ],
      "execution_count": 0,
      "outputs": [
        {
          "output_type": "execute_result",
          "data": {
            "text/html": [
              "<div>\n",
              "<style scoped>\n",
              "    .dataframe tbody tr th:only-of-type {\n",
              "        vertical-align: middle;\n",
              "    }\n",
              "\n",
              "    .dataframe tbody tr th {\n",
              "        vertical-align: top;\n",
              "    }\n",
              "\n",
              "    .dataframe thead th {\n",
              "        text-align: right;\n",
              "    }\n",
              "</style>\n",
              "<table border=\"1\" class=\"dataframe\">\n",
              "  <thead>\n",
              "    <tr style=\"text-align: right;\">\n",
              "      <th></th>\n",
              "      <th>tconst</th>\n",
              "      <th>titleType</th>\n",
              "      <th>primaryTitle</th>\n",
              "      <th>originalTitle</th>\n",
              "      <th>isAdult</th>\n",
              "      <th>startYear</th>\n",
              "      <th>endYear</th>\n",
              "      <th>runtimeMinutes</th>\n",
              "      <th>genres</th>\n",
              "    </tr>\n",
              "  </thead>\n",
              "  <tbody>\n",
              "    <tr>\n",
              "      <th>0</th>\n",
              "      <td>tt0000001</td>\n",
              "      <td>short</td>\n",
              "      <td>Carmencita</td>\n",
              "      <td>Carmencita</td>\n",
              "      <td>0</td>\n",
              "      <td>1894</td>\n",
              "      <td>\\N</td>\n",
              "      <td>1</td>\n",
              "      <td>Documentary,Short</td>\n",
              "    </tr>\n",
              "    <tr>\n",
              "      <th>1</th>\n",
              "      <td>tt0000002</td>\n",
              "      <td>short</td>\n",
              "      <td>Le clown et ses chiens</td>\n",
              "      <td>Le clown et ses chiens</td>\n",
              "      <td>0</td>\n",
              "      <td>1892</td>\n",
              "      <td>\\N</td>\n",
              "      <td>5</td>\n",
              "      <td>Animation,Short</td>\n",
              "    </tr>\n",
              "    <tr>\n",
              "      <th>2</th>\n",
              "      <td>tt0000003</td>\n",
              "      <td>short</td>\n",
              "      <td>Pauvre Pierrot</td>\n",
              "      <td>Pauvre Pierrot</td>\n",
              "      <td>0</td>\n",
              "      <td>1892</td>\n",
              "      <td>\\N</td>\n",
              "      <td>4</td>\n",
              "      <td>Animation,Comedy,Romance</td>\n",
              "    </tr>\n",
              "    <tr>\n",
              "      <th>3</th>\n",
              "      <td>tt0000004</td>\n",
              "      <td>short</td>\n",
              "      <td>Un bon bock</td>\n",
              "      <td>Un bon bock</td>\n",
              "      <td>0</td>\n",
              "      <td>1892</td>\n",
              "      <td>\\N</td>\n",
              "      <td>\\N</td>\n",
              "      <td>Animation,Short</td>\n",
              "    </tr>\n",
              "    <tr>\n",
              "      <th>4</th>\n",
              "      <td>tt0000005</td>\n",
              "      <td>short</td>\n",
              "      <td>Blacksmith Scene</td>\n",
              "      <td>Blacksmith Scene</td>\n",
              "      <td>0</td>\n",
              "      <td>1893</td>\n",
              "      <td>\\N</td>\n",
              "      <td>1</td>\n",
              "      <td>Comedy,Short</td>\n",
              "    </tr>\n",
              "  </tbody>\n",
              "</table>\n",
              "</div>"
            ],
            "text/plain": [
              "      tconst titleType            primaryTitle           originalTitle  \\\n",
              "0  tt0000001     short              Carmencita              Carmencita   \n",
              "1  tt0000002     short  Le clown et ses chiens  Le clown et ses chiens   \n",
              "2  tt0000003     short          Pauvre Pierrot          Pauvre Pierrot   \n",
              "3  tt0000004     short             Un bon bock             Un bon bock   \n",
              "4  tt0000005     short        Blacksmith Scene        Blacksmith Scene   \n",
              "\n",
              "   isAdult startYear endYear runtimeMinutes                    genres  \n",
              "0        0      1894      \\N              1         Documentary,Short  \n",
              "1        0      1892      \\N              5           Animation,Short  \n",
              "2        0      1892      \\N              4  Animation,Comedy,Romance  \n",
              "3        0      1892      \\N             \\N           Animation,Short  \n",
              "4        0      1893      \\N              1              Comedy,Short  "
            ]
          },
          "metadata": {
            "tags": []
          },
          "execution_count": 4
        }
      ]
    },
    {
      "cell_type": "code",
      "metadata": {
        "id": "oBzZZZp-vDJD",
        "colab_type": "code",
        "outputId": "6d833f7a-4b15-48ae-aecb-21aee2a50ab1",
        "colab": {
          "base_uri": "https://localhost:8080/",
          "height": 195
        }
      },
      "source": [
        "title_more_info.head()"
      ],
      "execution_count": 0,
      "outputs": [
        {
          "output_type": "execute_result",
          "data": {
            "text/html": [
              "<div>\n",
              "<style scoped>\n",
              "    .dataframe tbody tr th:only-of-type {\n",
              "        vertical-align: middle;\n",
              "    }\n",
              "\n",
              "    .dataframe tbody tr th {\n",
              "        vertical-align: top;\n",
              "    }\n",
              "\n",
              "    .dataframe thead th {\n",
              "        text-align: right;\n",
              "    }\n",
              "</style>\n",
              "<table border=\"1\" class=\"dataframe\">\n",
              "  <thead>\n",
              "    <tr style=\"text-align: right;\">\n",
              "      <th></th>\n",
              "      <th>titleId</th>\n",
              "      <th>ordering</th>\n",
              "      <th>title</th>\n",
              "      <th>region</th>\n",
              "      <th>language</th>\n",
              "      <th>types</th>\n",
              "      <th>attributes</th>\n",
              "      <th>isOriginalTitle</th>\n",
              "    </tr>\n",
              "  </thead>\n",
              "  <tbody>\n",
              "    <tr>\n",
              "      <th>0</th>\n",
              "      <td>tt0000001</td>\n",
              "      <td>1</td>\n",
              "      <td>Carmencita - spanyol tánc</td>\n",
              "      <td>HU</td>\n",
              "      <td>\\N</td>\n",
              "      <td>imdbDisplay</td>\n",
              "      <td>\\N</td>\n",
              "      <td>0</td>\n",
              "    </tr>\n",
              "    <tr>\n",
              "      <th>1</th>\n",
              "      <td>tt0000001</td>\n",
              "      <td>2</td>\n",
              "      <td>Καρμενσίτα</td>\n",
              "      <td>GR</td>\n",
              "      <td>\\N</td>\n",
              "      <td>\\N</td>\n",
              "      <td>\\N</td>\n",
              "      <td>0</td>\n",
              "    </tr>\n",
              "    <tr>\n",
              "      <th>2</th>\n",
              "      <td>tt0000001</td>\n",
              "      <td>3</td>\n",
              "      <td>Карменсита</td>\n",
              "      <td>RU</td>\n",
              "      <td>\\N</td>\n",
              "      <td>\\N</td>\n",
              "      <td>\\N</td>\n",
              "      <td>0</td>\n",
              "    </tr>\n",
              "    <tr>\n",
              "      <th>3</th>\n",
              "      <td>tt0000001</td>\n",
              "      <td>4</td>\n",
              "      <td>Carmencita</td>\n",
              "      <td>US</td>\n",
              "      <td>\\N</td>\n",
              "      <td>\\N</td>\n",
              "      <td>\\N</td>\n",
              "      <td>0</td>\n",
              "    </tr>\n",
              "    <tr>\n",
              "      <th>4</th>\n",
              "      <td>tt0000001</td>\n",
              "      <td>5</td>\n",
              "      <td>Carmencita</td>\n",
              "      <td>\\N</td>\n",
              "      <td>\\N</td>\n",
              "      <td>original</td>\n",
              "      <td>\\N</td>\n",
              "      <td>1</td>\n",
              "    </tr>\n",
              "  </tbody>\n",
              "</table>\n",
              "</div>"
            ],
            "text/plain": [
              "     titleId  ordering                      title region language  \\\n",
              "0  tt0000001         1  Carmencita - spanyol tánc     HU       \\N   \n",
              "1  tt0000001         2                 Καρμενσίτα     GR       \\N   \n",
              "2  tt0000001         3                 Карменсита     RU       \\N   \n",
              "3  tt0000001         4                 Carmencita     US       \\N   \n",
              "4  tt0000001         5                 Carmencita     \\N       \\N   \n",
              "\n",
              "         types attributes isOriginalTitle  \n",
              "0  imdbDisplay         \\N               0  \n",
              "1           \\N         \\N               0  \n",
              "2           \\N         \\N               0  \n",
              "3           \\N         \\N               0  \n",
              "4     original         \\N               1  "
            ]
          },
          "metadata": {
            "tags": []
          },
          "execution_count": 5
        }
      ]
    },
    {
      "cell_type": "code",
      "metadata": {
        "id": "YGbBxshfvXP-",
        "colab_type": "code",
        "outputId": "b754811b-cbd0-439c-acd7-9cf8aaaad181",
        "colab": {
          "base_uri": "https://localhost:8080/",
          "height": 195
        }
      },
      "source": [
        "directors_writers.head()"
      ],
      "execution_count": 0,
      "outputs": [
        {
          "output_type": "execute_result",
          "data": {
            "text/html": [
              "<div>\n",
              "<style scoped>\n",
              "    .dataframe tbody tr th:only-of-type {\n",
              "        vertical-align: middle;\n",
              "    }\n",
              "\n",
              "    .dataframe tbody tr th {\n",
              "        vertical-align: top;\n",
              "    }\n",
              "\n",
              "    .dataframe thead th {\n",
              "        text-align: right;\n",
              "    }\n",
              "</style>\n",
              "<table border=\"1\" class=\"dataframe\">\n",
              "  <thead>\n",
              "    <tr style=\"text-align: right;\">\n",
              "      <th></th>\n",
              "      <th>tconst</th>\n",
              "      <th>directors</th>\n",
              "      <th>writers</th>\n",
              "    </tr>\n",
              "  </thead>\n",
              "  <tbody>\n",
              "    <tr>\n",
              "      <th>0</th>\n",
              "      <td>tt0000001</td>\n",
              "      <td>nm0005690</td>\n",
              "      <td>\\N</td>\n",
              "    </tr>\n",
              "    <tr>\n",
              "      <th>1</th>\n",
              "      <td>tt0000002</td>\n",
              "      <td>nm0721526</td>\n",
              "      <td>\\N</td>\n",
              "    </tr>\n",
              "    <tr>\n",
              "      <th>2</th>\n",
              "      <td>tt0000003</td>\n",
              "      <td>nm0721526</td>\n",
              "      <td>\\N</td>\n",
              "    </tr>\n",
              "    <tr>\n",
              "      <th>3</th>\n",
              "      <td>tt0000004</td>\n",
              "      <td>nm0721526</td>\n",
              "      <td>\\N</td>\n",
              "    </tr>\n",
              "    <tr>\n",
              "      <th>4</th>\n",
              "      <td>tt0000005</td>\n",
              "      <td>nm0005690</td>\n",
              "      <td>\\N</td>\n",
              "    </tr>\n",
              "  </tbody>\n",
              "</table>\n",
              "</div>"
            ],
            "text/plain": [
              "      tconst  directors writers\n",
              "0  tt0000001  nm0005690      \\N\n",
              "1  tt0000002  nm0721526      \\N\n",
              "2  tt0000003  nm0721526      \\N\n",
              "3  tt0000004  nm0721526      \\N\n",
              "4  tt0000005  nm0005690      \\N"
            ]
          },
          "metadata": {
            "tags": []
          },
          "execution_count": 6
        }
      ]
    },
    {
      "cell_type": "code",
      "metadata": {
        "id": "8SdAjgqEvaj6",
        "colab_type": "code",
        "outputId": "ac54198a-cdff-425b-c9e3-f5cda1418f90",
        "colab": {
          "base_uri": "https://localhost:8080/",
          "height": 195
        }
      },
      "source": [
        "ratings.head()"
      ],
      "execution_count": 0,
      "outputs": [
        {
          "output_type": "execute_result",
          "data": {
            "text/html": [
              "<div>\n",
              "<style scoped>\n",
              "    .dataframe tbody tr th:only-of-type {\n",
              "        vertical-align: middle;\n",
              "    }\n",
              "\n",
              "    .dataframe tbody tr th {\n",
              "        vertical-align: top;\n",
              "    }\n",
              "\n",
              "    .dataframe thead th {\n",
              "        text-align: right;\n",
              "    }\n",
              "</style>\n",
              "<table border=\"1\" class=\"dataframe\">\n",
              "  <thead>\n",
              "    <tr style=\"text-align: right;\">\n",
              "      <th></th>\n",
              "      <th>tconst</th>\n",
              "      <th>averageRating</th>\n",
              "      <th>numVotes</th>\n",
              "    </tr>\n",
              "  </thead>\n",
              "  <tbody>\n",
              "    <tr>\n",
              "      <th>0</th>\n",
              "      <td>tt0000001</td>\n",
              "      <td>5.8</td>\n",
              "      <td>1497</td>\n",
              "    </tr>\n",
              "    <tr>\n",
              "      <th>1</th>\n",
              "      <td>tt0000002</td>\n",
              "      <td>6.3</td>\n",
              "      <td>181</td>\n",
              "    </tr>\n",
              "    <tr>\n",
              "      <th>2</th>\n",
              "      <td>tt0000003</td>\n",
              "      <td>6.6</td>\n",
              "      <td>1136</td>\n",
              "    </tr>\n",
              "    <tr>\n",
              "      <th>3</th>\n",
              "      <td>tt0000004</td>\n",
              "      <td>6.4</td>\n",
              "      <td>110</td>\n",
              "    </tr>\n",
              "    <tr>\n",
              "      <th>4</th>\n",
              "      <td>tt0000005</td>\n",
              "      <td>6.2</td>\n",
              "      <td>1837</td>\n",
              "    </tr>\n",
              "  </tbody>\n",
              "</table>\n",
              "</div>"
            ],
            "text/plain": [
              "      tconst  averageRating  numVotes\n",
              "0  tt0000001            5.8      1497\n",
              "1  tt0000002            6.3       181\n",
              "2  tt0000003            6.6      1136\n",
              "3  tt0000004            6.4       110\n",
              "4  tt0000005            6.2      1837"
            ]
          },
          "metadata": {
            "tags": []
          },
          "execution_count": 7
        }
      ]
    },
    {
      "cell_type": "code",
      "metadata": {
        "id": "r9wUjOtovcb5",
        "colab_type": "code",
        "outputId": "0e3c53ce-1bb1-4dfb-9d98-9d3e192c5b49",
        "colab": {
          "base_uri": "https://localhost:8080/",
          "height": 195
        }
      },
      "source": [
        "crew_info_orig.head()"
      ],
      "execution_count": 0,
      "outputs": [
        {
          "output_type": "execute_result",
          "data": {
            "text/html": [
              "<div>\n",
              "<style scoped>\n",
              "    .dataframe tbody tr th:only-of-type {\n",
              "        vertical-align: middle;\n",
              "    }\n",
              "\n",
              "    .dataframe tbody tr th {\n",
              "        vertical-align: top;\n",
              "    }\n",
              "\n",
              "    .dataframe thead th {\n",
              "        text-align: right;\n",
              "    }\n",
              "</style>\n",
              "<table border=\"1\" class=\"dataframe\">\n",
              "  <thead>\n",
              "    <tr style=\"text-align: right;\">\n",
              "      <th></th>\n",
              "      <th>tconst</th>\n",
              "      <th>ordering</th>\n",
              "      <th>nconst</th>\n",
              "      <th>category</th>\n",
              "      <th>job</th>\n",
              "      <th>characters</th>\n",
              "    </tr>\n",
              "  </thead>\n",
              "  <tbody>\n",
              "    <tr>\n",
              "      <th>0</th>\n",
              "      <td>tt0000001</td>\n",
              "      <td>1</td>\n",
              "      <td>nm1588970</td>\n",
              "      <td>self</td>\n",
              "      <td>\\N</td>\n",
              "      <td>[\"Herself\"]</td>\n",
              "    </tr>\n",
              "    <tr>\n",
              "      <th>1</th>\n",
              "      <td>tt0000001</td>\n",
              "      <td>2</td>\n",
              "      <td>nm0005690</td>\n",
              "      <td>director</td>\n",
              "      <td>\\N</td>\n",
              "      <td>\\N</td>\n",
              "    </tr>\n",
              "    <tr>\n",
              "      <th>2</th>\n",
              "      <td>tt0000001</td>\n",
              "      <td>3</td>\n",
              "      <td>nm0374658</td>\n",
              "      <td>cinematographer</td>\n",
              "      <td>director of photography</td>\n",
              "      <td>\\N</td>\n",
              "    </tr>\n",
              "    <tr>\n",
              "      <th>3</th>\n",
              "      <td>tt0000002</td>\n",
              "      <td>1</td>\n",
              "      <td>nm0721526</td>\n",
              "      <td>director</td>\n",
              "      <td>\\N</td>\n",
              "      <td>\\N</td>\n",
              "    </tr>\n",
              "    <tr>\n",
              "      <th>4</th>\n",
              "      <td>tt0000002</td>\n",
              "      <td>2</td>\n",
              "      <td>nm1335271</td>\n",
              "      <td>composer</td>\n",
              "      <td>\\N</td>\n",
              "      <td>\\N</td>\n",
              "    </tr>\n",
              "  </tbody>\n",
              "</table>\n",
              "</div>"
            ],
            "text/plain": [
              "      tconst  ordering     nconst         category                      job  \\\n",
              "0  tt0000001         1  nm1588970             self                       \\N   \n",
              "1  tt0000001         2  nm0005690         director                       \\N   \n",
              "2  tt0000001         3  nm0374658  cinematographer  director of photography   \n",
              "3  tt0000002         1  nm0721526         director                       \\N   \n",
              "4  tt0000002         2  nm1335271         composer                       \\N   \n",
              "\n",
              "    characters  \n",
              "0  [\"Herself\"]  \n",
              "1           \\N  \n",
              "2           \\N  \n",
              "3           \\N  \n",
              "4           \\N  "
            ]
          },
          "metadata": {
            "tags": []
          },
          "execution_count": 8
        }
      ]
    },
    {
      "cell_type": "markdown",
      "metadata": {
        "id": "x5ciqndxvhns",
        "colab_type": "text"
      },
      "source": [
        "**Will Start from title_basic_info, which is having some basic info about all the available titles. Then We will go to each dataset and extract important columns to make one combined dataset**"
      ]
    },
    {
      "cell_type": "code",
      "metadata": {
        "id": "FIhuvsokvl-t",
        "colab_type": "code",
        "outputId": "fc9530a3-fb83-4ef2-c924-a630979a408d",
        "colab": {
          "base_uri": "https://localhost:8080/",
          "height": 195
        }
      },
      "source": [
        "title_basic_info.head()"
      ],
      "execution_count": 0,
      "outputs": [
        {
          "output_type": "execute_result",
          "data": {
            "text/html": [
              "<div>\n",
              "<style scoped>\n",
              "    .dataframe tbody tr th:only-of-type {\n",
              "        vertical-align: middle;\n",
              "    }\n",
              "\n",
              "    .dataframe tbody tr th {\n",
              "        vertical-align: top;\n",
              "    }\n",
              "\n",
              "    .dataframe thead th {\n",
              "        text-align: right;\n",
              "    }\n",
              "</style>\n",
              "<table border=\"1\" class=\"dataframe\">\n",
              "  <thead>\n",
              "    <tr style=\"text-align: right;\">\n",
              "      <th></th>\n",
              "      <th>tconst</th>\n",
              "      <th>titleType</th>\n",
              "      <th>primaryTitle</th>\n",
              "      <th>originalTitle</th>\n",
              "      <th>isAdult</th>\n",
              "      <th>startYear</th>\n",
              "      <th>endYear</th>\n",
              "      <th>runtimeMinutes</th>\n",
              "      <th>genres</th>\n",
              "    </tr>\n",
              "  </thead>\n",
              "  <tbody>\n",
              "    <tr>\n",
              "      <th>0</th>\n",
              "      <td>tt0000001</td>\n",
              "      <td>short</td>\n",
              "      <td>Carmencita</td>\n",
              "      <td>Carmencita</td>\n",
              "      <td>0</td>\n",
              "      <td>1894</td>\n",
              "      <td>\\N</td>\n",
              "      <td>1</td>\n",
              "      <td>Documentary,Short</td>\n",
              "    </tr>\n",
              "    <tr>\n",
              "      <th>1</th>\n",
              "      <td>tt0000002</td>\n",
              "      <td>short</td>\n",
              "      <td>Le clown et ses chiens</td>\n",
              "      <td>Le clown et ses chiens</td>\n",
              "      <td>0</td>\n",
              "      <td>1892</td>\n",
              "      <td>\\N</td>\n",
              "      <td>5</td>\n",
              "      <td>Animation,Short</td>\n",
              "    </tr>\n",
              "    <tr>\n",
              "      <th>2</th>\n",
              "      <td>tt0000003</td>\n",
              "      <td>short</td>\n",
              "      <td>Pauvre Pierrot</td>\n",
              "      <td>Pauvre Pierrot</td>\n",
              "      <td>0</td>\n",
              "      <td>1892</td>\n",
              "      <td>\\N</td>\n",
              "      <td>4</td>\n",
              "      <td>Animation,Comedy,Romance</td>\n",
              "    </tr>\n",
              "    <tr>\n",
              "      <th>3</th>\n",
              "      <td>tt0000004</td>\n",
              "      <td>short</td>\n",
              "      <td>Un bon bock</td>\n",
              "      <td>Un bon bock</td>\n",
              "      <td>0</td>\n",
              "      <td>1892</td>\n",
              "      <td>\\N</td>\n",
              "      <td>\\N</td>\n",
              "      <td>Animation,Short</td>\n",
              "    </tr>\n",
              "    <tr>\n",
              "      <th>4</th>\n",
              "      <td>tt0000005</td>\n",
              "      <td>short</td>\n",
              "      <td>Blacksmith Scene</td>\n",
              "      <td>Blacksmith Scene</td>\n",
              "      <td>0</td>\n",
              "      <td>1893</td>\n",
              "      <td>\\N</td>\n",
              "      <td>1</td>\n",
              "      <td>Comedy,Short</td>\n",
              "    </tr>\n",
              "  </tbody>\n",
              "</table>\n",
              "</div>"
            ],
            "text/plain": [
              "      tconst titleType            primaryTitle           originalTitle  \\\n",
              "0  tt0000001     short              Carmencita              Carmencita   \n",
              "1  tt0000002     short  Le clown et ses chiens  Le clown et ses chiens   \n",
              "2  tt0000003     short          Pauvre Pierrot          Pauvre Pierrot   \n",
              "3  tt0000004     short             Un bon bock             Un bon bock   \n",
              "4  tt0000005     short        Blacksmith Scene        Blacksmith Scene   \n",
              "\n",
              "   isAdult startYear endYear runtimeMinutes                    genres  \n",
              "0        0      1894      \\N              1         Documentary,Short  \n",
              "1        0      1892      \\N              5           Animation,Short  \n",
              "2        0      1892      \\N              4  Animation,Comedy,Romance  \n",
              "3        0      1892      \\N             \\N           Animation,Short  \n",
              "4        0      1893      \\N              1              Comedy,Short  "
            ]
          },
          "metadata": {
            "tags": []
          },
          "execution_count": 9
        }
      ]
    },
    {
      "cell_type": "code",
      "metadata": {
        "id": "eKGAQMFOv-_6",
        "colab_type": "code",
        "outputId": "841ed14a-bdc9-448b-83f1-0516da80130e",
        "colab": {
          "base_uri": "https://localhost:8080/",
          "height": 202
        }
      },
      "source": [
        "title_basic_info[\"titleType\"].value_counts()"
      ],
      "execution_count": 0,
      "outputs": [
        {
          "output_type": "execute_result",
          "data": {
            "text/plain": [
              "tvEpisode       4050510\n",
              "short            681705\n",
              "movie            517334\n",
              "video            229785\n",
              "tvSeries         164262\n",
              "tvMovie          126253\n",
              "tvMiniSeries      25944\n",
              "videoGame         23404\n",
              "tvSpecial         17798\n",
              "tvShort            9392\n",
              "Name: titleType, dtype: int64"
            ]
          },
          "metadata": {
            "tags": []
          },
          "execution_count": 10
        }
      ]
    },
    {
      "cell_type": "markdown",
      "metadata": {
        "id": "jYNYMCwDwOno",
        "colab_type": "text"
      },
      "source": [
        "**Since There are a lot of types of videos available as \"title\" and we are interested in only movies. So we will extract only the rows corresponding to movies**"
      ]
    },
    {
      "cell_type": "code",
      "metadata": {
        "id": "x5cYouhKwYBc",
        "colab_type": "code",
        "colab": {}
      },
      "source": [
        "movies_df = title_basic_info[title_basic_info[\"titleType\"] == \"movie\"]"
      ],
      "execution_count": 0,
      "outputs": []
    },
    {
      "cell_type": "code",
      "metadata": {
        "id": "IaY9iyjqwYcH",
        "colab_type": "code",
        "outputId": "131d63fc-b73f-4ba8-b690-7a41d3dd8e09",
        "colab": {
          "base_uri": "https://localhost:8080/",
          "height": 195
        }
      },
      "source": [
        "movies_df.head()"
      ],
      "execution_count": 0,
      "outputs": [
        {
          "output_type": "execute_result",
          "data": {
            "text/html": [
              "<div>\n",
              "<style scoped>\n",
              "    .dataframe tbody tr th:only-of-type {\n",
              "        vertical-align: middle;\n",
              "    }\n",
              "\n",
              "    .dataframe tbody tr th {\n",
              "        vertical-align: top;\n",
              "    }\n",
              "\n",
              "    .dataframe thead th {\n",
              "        text-align: right;\n",
              "    }\n",
              "</style>\n",
              "<table border=\"1\" class=\"dataframe\">\n",
              "  <thead>\n",
              "    <tr style=\"text-align: right;\">\n",
              "      <th></th>\n",
              "      <th>tconst</th>\n",
              "      <th>titleType</th>\n",
              "      <th>primaryTitle</th>\n",
              "      <th>originalTitle</th>\n",
              "      <th>isAdult</th>\n",
              "      <th>startYear</th>\n",
              "      <th>endYear</th>\n",
              "      <th>runtimeMinutes</th>\n",
              "      <th>genres</th>\n",
              "    </tr>\n",
              "  </thead>\n",
              "  <tbody>\n",
              "    <tr>\n",
              "      <th>8</th>\n",
              "      <td>tt0000009</td>\n",
              "      <td>movie</td>\n",
              "      <td>Miss Jerry</td>\n",
              "      <td>Miss Jerry</td>\n",
              "      <td>0</td>\n",
              "      <td>1894</td>\n",
              "      <td>\\N</td>\n",
              "      <td>45</td>\n",
              "      <td>Romance</td>\n",
              "    </tr>\n",
              "    <tr>\n",
              "      <th>145</th>\n",
              "      <td>tt0000147</td>\n",
              "      <td>movie</td>\n",
              "      <td>The Corbett-Fitzsimmons Fight</td>\n",
              "      <td>The Corbett-Fitzsimmons Fight</td>\n",
              "      <td>0</td>\n",
              "      <td>1897</td>\n",
              "      <td>\\N</td>\n",
              "      <td>20</td>\n",
              "      <td>Documentary,News,Sport</td>\n",
              "    </tr>\n",
              "    <tr>\n",
              "      <th>332</th>\n",
              "      <td>tt0000335</td>\n",
              "      <td>movie</td>\n",
              "      <td>Soldiers of the Cross</td>\n",
              "      <td>Soldiers of the Cross</td>\n",
              "      <td>0</td>\n",
              "      <td>1900</td>\n",
              "      <td>\\N</td>\n",
              "      <td>\\N</td>\n",
              "      <td>Biography,Drama</td>\n",
              "    </tr>\n",
              "    <tr>\n",
              "      <th>499</th>\n",
              "      <td>tt0000502</td>\n",
              "      <td>movie</td>\n",
              "      <td>Bohemios</td>\n",
              "      <td>Bohemios</td>\n",
              "      <td>0</td>\n",
              "      <td>1905</td>\n",
              "      <td>\\N</td>\n",
              "      <td>100</td>\n",
              "      <td>\\N</td>\n",
              "    </tr>\n",
              "    <tr>\n",
              "      <th>571</th>\n",
              "      <td>tt0000574</td>\n",
              "      <td>movie</td>\n",
              "      <td>The Story of the Kelly Gang</td>\n",
              "      <td>The Story of the Kelly Gang</td>\n",
              "      <td>0</td>\n",
              "      <td>1906</td>\n",
              "      <td>\\N</td>\n",
              "      <td>70</td>\n",
              "      <td>Biography,Crime,Drama</td>\n",
              "    </tr>\n",
              "  </tbody>\n",
              "</table>\n",
              "</div>"
            ],
            "text/plain": [
              "        tconst titleType                   primaryTitle  \\\n",
              "8    tt0000009     movie                     Miss Jerry   \n",
              "145  tt0000147     movie  The Corbett-Fitzsimmons Fight   \n",
              "332  tt0000335     movie          Soldiers of the Cross   \n",
              "499  tt0000502     movie                       Bohemios   \n",
              "571  tt0000574     movie    The Story of the Kelly Gang   \n",
              "\n",
              "                     originalTitle  isAdult startYear endYear runtimeMinutes  \\\n",
              "8                       Miss Jerry        0      1894      \\N             45   \n",
              "145  The Corbett-Fitzsimmons Fight        0      1897      \\N             20   \n",
              "332          Soldiers of the Cross        0      1900      \\N             \\N   \n",
              "499                       Bohemios        0      1905      \\N            100   \n",
              "571    The Story of the Kelly Gang        0      1906      \\N             70   \n",
              "\n",
              "                     genres  \n",
              "8                   Romance  \n",
              "145  Documentary,News,Sport  \n",
              "332         Biography,Drama  \n",
              "499                      \\N  \n",
              "571   Biography,Crime,Drama  "
            ]
          },
          "metadata": {
            "tags": []
          },
          "execution_count": 12
        }
      ]
    },
    {
      "cell_type": "markdown",
      "metadata": {
        "id": "ytVYX1vswZMs",
        "colab_type": "text"
      },
      "source": [
        "**Keeping only the rows which I think will be important in making recommendations.**"
      ]
    },
    {
      "cell_type": "code",
      "metadata": {
        "id": "kB0tK_Tcwvv-",
        "colab_type": "code",
        "colab": {}
      },
      "source": [
        "movies_df = movies_df[[\"tconst\", \"primaryTitle\", \"isAdult\", \"genres\"]]"
      ],
      "execution_count": 0,
      "outputs": []
    },
    {
      "cell_type": "code",
      "metadata": {
        "id": "-N5KQ43wwy3J",
        "colab_type": "code",
        "outputId": "a0996b2d-fb33-4c83-91bd-c0cd7c6d23f3",
        "colab": {
          "base_uri": "https://localhost:8080/",
          "height": 195
        }
      },
      "source": [
        "movies_df.head()"
      ],
      "execution_count": 0,
      "outputs": [
        {
          "output_type": "execute_result",
          "data": {
            "text/html": [
              "<div>\n",
              "<style scoped>\n",
              "    .dataframe tbody tr th:only-of-type {\n",
              "        vertical-align: middle;\n",
              "    }\n",
              "\n",
              "    .dataframe tbody tr th {\n",
              "        vertical-align: top;\n",
              "    }\n",
              "\n",
              "    .dataframe thead th {\n",
              "        text-align: right;\n",
              "    }\n",
              "</style>\n",
              "<table border=\"1\" class=\"dataframe\">\n",
              "  <thead>\n",
              "    <tr style=\"text-align: right;\">\n",
              "      <th></th>\n",
              "      <th>tconst</th>\n",
              "      <th>primaryTitle</th>\n",
              "      <th>isAdult</th>\n",
              "      <th>genres</th>\n",
              "    </tr>\n",
              "  </thead>\n",
              "  <tbody>\n",
              "    <tr>\n",
              "      <th>8</th>\n",
              "      <td>tt0000009</td>\n",
              "      <td>Miss Jerry</td>\n",
              "      <td>0</td>\n",
              "      <td>Romance</td>\n",
              "    </tr>\n",
              "    <tr>\n",
              "      <th>145</th>\n",
              "      <td>tt0000147</td>\n",
              "      <td>The Corbett-Fitzsimmons Fight</td>\n",
              "      <td>0</td>\n",
              "      <td>Documentary,News,Sport</td>\n",
              "    </tr>\n",
              "    <tr>\n",
              "      <th>332</th>\n",
              "      <td>tt0000335</td>\n",
              "      <td>Soldiers of the Cross</td>\n",
              "      <td>0</td>\n",
              "      <td>Biography,Drama</td>\n",
              "    </tr>\n",
              "    <tr>\n",
              "      <th>499</th>\n",
              "      <td>tt0000502</td>\n",
              "      <td>Bohemios</td>\n",
              "      <td>0</td>\n",
              "      <td>\\N</td>\n",
              "    </tr>\n",
              "    <tr>\n",
              "      <th>571</th>\n",
              "      <td>tt0000574</td>\n",
              "      <td>The Story of the Kelly Gang</td>\n",
              "      <td>0</td>\n",
              "      <td>Biography,Crime,Drama</td>\n",
              "    </tr>\n",
              "  </tbody>\n",
              "</table>\n",
              "</div>"
            ],
            "text/plain": [
              "        tconst                   primaryTitle  isAdult                  genres\n",
              "8    tt0000009                     Miss Jerry        0                 Romance\n",
              "145  tt0000147  The Corbett-Fitzsimmons Fight        0  Documentary,News,Sport\n",
              "332  tt0000335          Soldiers of the Cross        0         Biography,Drama\n",
              "499  tt0000502                       Bohemios        0                      \\N\n",
              "571  tt0000574    The Story of the Kelly Gang        0   Biography,Crime,Drama"
            ]
          },
          "metadata": {
            "tags": []
          },
          "execution_count": 14
        }
      ]
    },
    {
      "cell_type": "markdown",
      "metadata": {
        "id": "PjFIM25Vw0sg",
        "colab_type": "text"
      },
      "source": [
        "**Now let us see the title_more dataframe which has other important information about videos**"
      ]
    },
    {
      "cell_type": "code",
      "metadata": {
        "id": "IsLplhpzw3zj",
        "colab_type": "code",
        "outputId": "d4f89a5c-8da3-4d20-b565-4dbe2f4f3a90",
        "colab": {
          "base_uri": "https://localhost:8080/",
          "height": 195
        }
      },
      "source": [
        "title_more_info.head()"
      ],
      "execution_count": 0,
      "outputs": [
        {
          "output_type": "execute_result",
          "data": {
            "text/html": [
              "<div>\n",
              "<style scoped>\n",
              "    .dataframe tbody tr th:only-of-type {\n",
              "        vertical-align: middle;\n",
              "    }\n",
              "\n",
              "    .dataframe tbody tr th {\n",
              "        vertical-align: top;\n",
              "    }\n",
              "\n",
              "    .dataframe thead th {\n",
              "        text-align: right;\n",
              "    }\n",
              "</style>\n",
              "<table border=\"1\" class=\"dataframe\">\n",
              "  <thead>\n",
              "    <tr style=\"text-align: right;\">\n",
              "      <th></th>\n",
              "      <th>titleId</th>\n",
              "      <th>ordering</th>\n",
              "      <th>title</th>\n",
              "      <th>region</th>\n",
              "      <th>language</th>\n",
              "      <th>types</th>\n",
              "      <th>attributes</th>\n",
              "      <th>isOriginalTitle</th>\n",
              "    </tr>\n",
              "  </thead>\n",
              "  <tbody>\n",
              "    <tr>\n",
              "      <th>0</th>\n",
              "      <td>tt0000001</td>\n",
              "      <td>1</td>\n",
              "      <td>Carmencita - spanyol tánc</td>\n",
              "      <td>HU</td>\n",
              "      <td>\\N</td>\n",
              "      <td>imdbDisplay</td>\n",
              "      <td>\\N</td>\n",
              "      <td>0</td>\n",
              "    </tr>\n",
              "    <tr>\n",
              "      <th>1</th>\n",
              "      <td>tt0000001</td>\n",
              "      <td>2</td>\n",
              "      <td>Καρμενσίτα</td>\n",
              "      <td>GR</td>\n",
              "      <td>\\N</td>\n",
              "      <td>\\N</td>\n",
              "      <td>\\N</td>\n",
              "      <td>0</td>\n",
              "    </tr>\n",
              "    <tr>\n",
              "      <th>2</th>\n",
              "      <td>tt0000001</td>\n",
              "      <td>3</td>\n",
              "      <td>Карменсита</td>\n",
              "      <td>RU</td>\n",
              "      <td>\\N</td>\n",
              "      <td>\\N</td>\n",
              "      <td>\\N</td>\n",
              "      <td>0</td>\n",
              "    </tr>\n",
              "    <tr>\n",
              "      <th>3</th>\n",
              "      <td>tt0000001</td>\n",
              "      <td>4</td>\n",
              "      <td>Carmencita</td>\n",
              "      <td>US</td>\n",
              "      <td>\\N</td>\n",
              "      <td>\\N</td>\n",
              "      <td>\\N</td>\n",
              "      <td>0</td>\n",
              "    </tr>\n",
              "    <tr>\n",
              "      <th>4</th>\n",
              "      <td>tt0000001</td>\n",
              "      <td>5</td>\n",
              "      <td>Carmencita</td>\n",
              "      <td>\\N</td>\n",
              "      <td>\\N</td>\n",
              "      <td>original</td>\n",
              "      <td>\\N</td>\n",
              "      <td>1</td>\n",
              "    </tr>\n",
              "  </tbody>\n",
              "</table>\n",
              "</div>"
            ],
            "text/plain": [
              "     titleId  ordering                      title region language  \\\n",
              "0  tt0000001         1  Carmencita - spanyol tánc     HU       \\N   \n",
              "1  tt0000001         2                 Καρμενσίτα     GR       \\N   \n",
              "2  tt0000001         3                 Карменсита     RU       \\N   \n",
              "3  tt0000001         4                 Carmencita     US       \\N   \n",
              "4  tt0000001         5                 Carmencita     \\N       \\N   \n",
              "\n",
              "         types attributes isOriginalTitle  \n",
              "0  imdbDisplay         \\N               0  \n",
              "1           \\N         \\N               0  \n",
              "2           \\N         \\N               0  \n",
              "3           \\N         \\N               0  \n",
              "4     original         \\N               1  "
            ]
          },
          "metadata": {
            "tags": []
          },
          "execution_count": 15
        }
      ]
    },
    {
      "cell_type": "markdown",
      "metadata": {
        "id": "umRrQZ8qw93K",
        "colab_type": "text"
      },
      "source": [
        "**First we will merge the two dataframes on the movie ID columns (tconst,titleID). Since the two columns have same meaning we will rename them to have same name.** "
      ]
    },
    {
      "cell_type": "code",
      "metadata": {
        "id": "YeooF04yxAZi",
        "colab_type": "code",
        "colab": {}
      },
      "source": [
        "title_more_info.rename(columns={\"titleId\":\"tconst\"}, inplace=True)"
      ],
      "execution_count": 0,
      "outputs": []
    },
    {
      "cell_type": "code",
      "metadata": {
        "id": "REVR59dbxGrV",
        "colab_type": "code",
        "outputId": "1e8ff4b2-fdd2-49f4-ca8f-db45d767b79a",
        "colab": {
          "base_uri": "https://localhost:8080/",
          "height": 77
        }
      },
      "source": [
        "title_more_info.head(1)"
      ],
      "execution_count": 0,
      "outputs": [
        {
          "output_type": "execute_result",
          "data": {
            "text/html": [
              "<div>\n",
              "<style scoped>\n",
              "    .dataframe tbody tr th:only-of-type {\n",
              "        vertical-align: middle;\n",
              "    }\n",
              "\n",
              "    .dataframe tbody tr th {\n",
              "        vertical-align: top;\n",
              "    }\n",
              "\n",
              "    .dataframe thead th {\n",
              "        text-align: right;\n",
              "    }\n",
              "</style>\n",
              "<table border=\"1\" class=\"dataframe\">\n",
              "  <thead>\n",
              "    <tr style=\"text-align: right;\">\n",
              "      <th></th>\n",
              "      <th>tconst</th>\n",
              "      <th>ordering</th>\n",
              "      <th>title</th>\n",
              "      <th>region</th>\n",
              "      <th>language</th>\n",
              "      <th>types</th>\n",
              "      <th>attributes</th>\n",
              "      <th>isOriginalTitle</th>\n",
              "    </tr>\n",
              "  </thead>\n",
              "  <tbody>\n",
              "    <tr>\n",
              "      <th>0</th>\n",
              "      <td>tt0000001</td>\n",
              "      <td>1</td>\n",
              "      <td>Carmencita - spanyol tánc</td>\n",
              "      <td>HU</td>\n",
              "      <td>\\N</td>\n",
              "      <td>imdbDisplay</td>\n",
              "      <td>\\N</td>\n",
              "      <td>0</td>\n",
              "    </tr>\n",
              "  </tbody>\n",
              "</table>\n",
              "</div>"
            ],
            "text/plain": [
              "      tconst  ordering                      title region language  \\\n",
              "0  tt0000001         1  Carmencita - spanyol tánc     HU       \\N   \n",
              "\n",
              "         types attributes isOriginalTitle  \n",
              "0  imdbDisplay         \\N               0  "
            ]
          },
          "metadata": {
            "tags": []
          },
          "execution_count": 17
        }
      ]
    },
    {
      "cell_type": "code",
      "metadata": {
        "id": "_Coq4gmSxLge",
        "colab_type": "code",
        "colab": {}
      },
      "source": [
        "title_full_df = movies_df.merge(title_more_info, on=\"tconst\")"
      ],
      "execution_count": 0,
      "outputs": []
    },
    {
      "cell_type": "code",
      "metadata": {
        "id": "Yn69N54VxPeE",
        "colab_type": "code",
        "outputId": "c4f49868-b8cf-4751-8c09-d52905db9a34",
        "colab": {
          "base_uri": "https://localhost:8080/",
          "height": 195
        }
      },
      "source": [
        "title_full_df.head()"
      ],
      "execution_count": 0,
      "outputs": [
        {
          "output_type": "execute_result",
          "data": {
            "text/html": [
              "<div>\n",
              "<style scoped>\n",
              "    .dataframe tbody tr th:only-of-type {\n",
              "        vertical-align: middle;\n",
              "    }\n",
              "\n",
              "    .dataframe tbody tr th {\n",
              "        vertical-align: top;\n",
              "    }\n",
              "\n",
              "    .dataframe thead th {\n",
              "        text-align: right;\n",
              "    }\n",
              "</style>\n",
              "<table border=\"1\" class=\"dataframe\">\n",
              "  <thead>\n",
              "    <tr style=\"text-align: right;\">\n",
              "      <th></th>\n",
              "      <th>tconst</th>\n",
              "      <th>primaryTitle</th>\n",
              "      <th>isAdult</th>\n",
              "      <th>genres</th>\n",
              "      <th>ordering</th>\n",
              "      <th>title</th>\n",
              "      <th>region</th>\n",
              "      <th>language</th>\n",
              "      <th>types</th>\n",
              "      <th>attributes</th>\n",
              "      <th>isOriginalTitle</th>\n",
              "    </tr>\n",
              "  </thead>\n",
              "  <tbody>\n",
              "    <tr>\n",
              "      <th>0</th>\n",
              "      <td>tt0000009</td>\n",
              "      <td>Miss Jerry</td>\n",
              "      <td>0</td>\n",
              "      <td>Romance</td>\n",
              "      <td>1</td>\n",
              "      <td>Miss Jerry</td>\n",
              "      <td>\\N</td>\n",
              "      <td>\\N</td>\n",
              "      <td>original</td>\n",
              "      <td>\\N</td>\n",
              "      <td>1</td>\n",
              "    </tr>\n",
              "    <tr>\n",
              "      <th>1</th>\n",
              "      <td>tt0000009</td>\n",
              "      <td>Miss Jerry</td>\n",
              "      <td>0</td>\n",
              "      <td>Romance</td>\n",
              "      <td>2</td>\n",
              "      <td>Miss Jerry</td>\n",
              "      <td>HU</td>\n",
              "      <td>\\N</td>\n",
              "      <td>imdbDisplay</td>\n",
              "      <td>\\N</td>\n",
              "      <td>0</td>\n",
              "    </tr>\n",
              "    <tr>\n",
              "      <th>2</th>\n",
              "      <td>tt0000009</td>\n",
              "      <td>Miss Jerry</td>\n",
              "      <td>0</td>\n",
              "      <td>Romance</td>\n",
              "      <td>3</td>\n",
              "      <td>Miss Jerry</td>\n",
              "      <td>US</td>\n",
              "      <td>\\N</td>\n",
              "      <td>\\N</td>\n",
              "      <td>\\N</td>\n",
              "      <td>0</td>\n",
              "    </tr>\n",
              "    <tr>\n",
              "      <th>3</th>\n",
              "      <td>tt0000147</td>\n",
              "      <td>The Corbett-Fitzsimmons Fight</td>\n",
              "      <td>0</td>\n",
              "      <td>Documentary,News,Sport</td>\n",
              "      <td>1</td>\n",
              "      <td>The Corbett-Fitzsimmons Fight</td>\n",
              "      <td>US</td>\n",
              "      <td>\\N</td>\n",
              "      <td>\\N</td>\n",
              "      <td>\\N</td>\n",
              "      <td>0</td>\n",
              "    </tr>\n",
              "    <tr>\n",
              "      <th>4</th>\n",
              "      <td>tt0000147</td>\n",
              "      <td>The Corbett-Fitzsimmons Fight</td>\n",
              "      <td>0</td>\n",
              "      <td>Documentary,News,Sport</td>\n",
              "      <td>2</td>\n",
              "      <td>Бой Корбетта и Фитцсиммонса</td>\n",
              "      <td>RU</td>\n",
              "      <td>\\N</td>\n",
              "      <td>\\N</td>\n",
              "      <td>\\N</td>\n",
              "      <td>0</td>\n",
              "    </tr>\n",
              "  </tbody>\n",
              "</table>\n",
              "</div>"
            ],
            "text/plain": [
              "      tconst                   primaryTitle  isAdult                  genres  \\\n",
              "0  tt0000009                     Miss Jerry        0                 Romance   \n",
              "1  tt0000009                     Miss Jerry        0                 Romance   \n",
              "2  tt0000009                     Miss Jerry        0                 Romance   \n",
              "3  tt0000147  The Corbett-Fitzsimmons Fight        0  Documentary,News,Sport   \n",
              "4  tt0000147  The Corbett-Fitzsimmons Fight        0  Documentary,News,Sport   \n",
              "\n",
              "   ordering                          title region language        types  \\\n",
              "0         1                     Miss Jerry     \\N       \\N     original   \n",
              "1         2                     Miss Jerry     HU       \\N  imdbDisplay   \n",
              "2         3                     Miss Jerry     US       \\N           \\N   \n",
              "3         1  The Corbett-Fitzsimmons Fight     US       \\N           \\N   \n",
              "4         2    Бой Корбетта и Фитцсиммонса     RU       \\N           \\N   \n",
              "\n",
              "  attributes isOriginalTitle  \n",
              "0         \\N               1  \n",
              "1         \\N               0  \n",
              "2         \\N               0  \n",
              "3         \\N               0  \n",
              "4         \\N               0  "
            ]
          },
          "metadata": {
            "tags": []
          },
          "execution_count": 19
        }
      ]
    },
    {
      "cell_type": "markdown",
      "metadata": {
        "id": "ztOZZOj3xSiZ",
        "colab_type": "text"
      },
      "source": [
        "**Now keeping only the important columns and neglecting rest**"
      ]
    },
    {
      "cell_type": "code",
      "metadata": {
        "id": "wnNoBVT-xUwn",
        "colab_type": "code",
        "colab": {}
      },
      "source": [
        "title_full_df.drop(columns = [\"ordering\",\"title\",\"attributes\",\"isOriginalTitle\"], inplace=True)"
      ],
      "execution_count": 0,
      "outputs": []
    },
    {
      "cell_type": "code",
      "metadata": {
        "id": "izZN9V-ixTrG",
        "colab_type": "code",
        "outputId": "9f5ddf43-348f-4ce5-a54a-2942e4b2482b",
        "colab": {
          "base_uri": "https://localhost:8080/",
          "height": 195
        }
      },
      "source": [
        "title_full_df.head()"
      ],
      "execution_count": 0,
      "outputs": [
        {
          "output_type": "execute_result",
          "data": {
            "text/html": [
              "<div>\n",
              "<style scoped>\n",
              "    .dataframe tbody tr th:only-of-type {\n",
              "        vertical-align: middle;\n",
              "    }\n",
              "\n",
              "    .dataframe tbody tr th {\n",
              "        vertical-align: top;\n",
              "    }\n",
              "\n",
              "    .dataframe thead th {\n",
              "        text-align: right;\n",
              "    }\n",
              "</style>\n",
              "<table border=\"1\" class=\"dataframe\">\n",
              "  <thead>\n",
              "    <tr style=\"text-align: right;\">\n",
              "      <th></th>\n",
              "      <th>tconst</th>\n",
              "      <th>primaryTitle</th>\n",
              "      <th>isAdult</th>\n",
              "      <th>genres</th>\n",
              "      <th>region</th>\n",
              "      <th>language</th>\n",
              "      <th>types</th>\n",
              "    </tr>\n",
              "  </thead>\n",
              "  <tbody>\n",
              "    <tr>\n",
              "      <th>0</th>\n",
              "      <td>tt0000009</td>\n",
              "      <td>Miss Jerry</td>\n",
              "      <td>0</td>\n",
              "      <td>Romance</td>\n",
              "      <td>\\N</td>\n",
              "      <td>\\N</td>\n",
              "      <td>original</td>\n",
              "    </tr>\n",
              "    <tr>\n",
              "      <th>1</th>\n",
              "      <td>tt0000009</td>\n",
              "      <td>Miss Jerry</td>\n",
              "      <td>0</td>\n",
              "      <td>Romance</td>\n",
              "      <td>HU</td>\n",
              "      <td>\\N</td>\n",
              "      <td>imdbDisplay</td>\n",
              "    </tr>\n",
              "    <tr>\n",
              "      <th>2</th>\n",
              "      <td>tt0000009</td>\n",
              "      <td>Miss Jerry</td>\n",
              "      <td>0</td>\n",
              "      <td>Romance</td>\n",
              "      <td>US</td>\n",
              "      <td>\\N</td>\n",
              "      <td>\\N</td>\n",
              "    </tr>\n",
              "    <tr>\n",
              "      <th>3</th>\n",
              "      <td>tt0000147</td>\n",
              "      <td>The Corbett-Fitzsimmons Fight</td>\n",
              "      <td>0</td>\n",
              "      <td>Documentary,News,Sport</td>\n",
              "      <td>US</td>\n",
              "      <td>\\N</td>\n",
              "      <td>\\N</td>\n",
              "    </tr>\n",
              "    <tr>\n",
              "      <th>4</th>\n",
              "      <td>tt0000147</td>\n",
              "      <td>The Corbett-Fitzsimmons Fight</td>\n",
              "      <td>0</td>\n",
              "      <td>Documentary,News,Sport</td>\n",
              "      <td>RU</td>\n",
              "      <td>\\N</td>\n",
              "      <td>\\N</td>\n",
              "    </tr>\n",
              "  </tbody>\n",
              "</table>\n",
              "</div>"
            ],
            "text/plain": [
              "      tconst                   primaryTitle  isAdult                  genres  \\\n",
              "0  tt0000009                     Miss Jerry        0                 Romance   \n",
              "1  tt0000009                     Miss Jerry        0                 Romance   \n",
              "2  tt0000009                     Miss Jerry        0                 Romance   \n",
              "3  tt0000147  The Corbett-Fitzsimmons Fight        0  Documentary,News,Sport   \n",
              "4  tt0000147  The Corbett-Fitzsimmons Fight        0  Documentary,News,Sport   \n",
              "\n",
              "  region language        types  \n",
              "0     \\N       \\N     original  \n",
              "1     HU       \\N  imdbDisplay  \n",
              "2     US       \\N           \\N  \n",
              "3     US       \\N           \\N  \n",
              "4     RU       \\N           \\N  "
            ]
          },
          "metadata": {
            "tags": []
          },
          "execution_count": 21
        }
      ]
    },
    {
      "cell_type": "code",
      "metadata": {
        "id": "WhKV3pMrxb9e",
        "colab_type": "code",
        "colab": {}
      },
      "source": [
        "#Removing any row will Null value\n",
        "title_full_df.dropna(inplace=True)"
      ],
      "execution_count": 0,
      "outputs": []
    },
    {
      "cell_type": "code",
      "metadata": {
        "id": "TyxSrebUxeVJ",
        "colab_type": "code",
        "outputId": "9b9c6693-8e91-48e5-bb2f-d39aa1cae4ed",
        "colab": {
          "base_uri": "https://localhost:8080/",
          "height": 151
        }
      },
      "source": [
        "title_full_df.isnull().any()"
      ],
      "execution_count": 0,
      "outputs": [
        {
          "output_type": "execute_result",
          "data": {
            "text/plain": [
              "tconst          False\n",
              "primaryTitle    False\n",
              "isAdult         False\n",
              "genres          False\n",
              "region          False\n",
              "language        False\n",
              "types           False\n",
              "dtype: bool"
            ]
          },
          "metadata": {
            "tags": []
          },
          "execution_count": 23
        }
      ]
    },
    {
      "cell_type": "markdown",
      "metadata": {
        "id": "rA6kPDN-xg5K",
        "colab_type": "text"
      },
      "source": [
        "**Now we will remove all the rows where any value is \"\\N\". We will do this because while making recommendations we cant decide any value for this. Though there are some other options also:**\n",
        "1. Change the value to the mean of the whole column.\n",
        "2. Give any random value between the highest and lowest value of the column.\n",
        "3. Distribute all the \\N value between all other non \\N values.\n",
        "\n",
        "**For now we will just remove all the rows and do the experiments later to check the impacts on the end result**"
      ]
    },
    {
      "cell_type": "code",
      "metadata": {
        "id": "DgxbrMyzxkgu",
        "colab_type": "code",
        "colab": {}
      },
      "source": [
        "title_full_df = title_full_df[title_full_df[\"genres\"] != \"\\\\N\"]\n",
        "title_full_df = title_full_df[title_full_df[\"region\"] != \"\\\\N\"]\n",
        "title_full_df = title_full_df[title_full_df[\"language\"] != \"\\\\N\"]\n",
        "title_full_df = title_full_df[title_full_df[\"types\"] != \"\\\\N\"]"
      ],
      "execution_count": 0,
      "outputs": []
    },
    {
      "cell_type": "code",
      "metadata": {
        "id": "u780kDDvxtrv",
        "colab_type": "code",
        "outputId": "7bd25993-aed3-42f5-acc9-718b26a60040",
        "colab": {
          "base_uri": "https://localhost:8080/",
          "height": 195
        }
      },
      "source": [
        "title_full_df.head()"
      ],
      "execution_count": 0,
      "outputs": [
        {
          "output_type": "execute_result",
          "data": {
            "text/html": [
              "<div>\n",
              "<style scoped>\n",
              "    .dataframe tbody tr th:only-of-type {\n",
              "        vertical-align: middle;\n",
              "    }\n",
              "\n",
              "    .dataframe tbody tr th {\n",
              "        vertical-align: top;\n",
              "    }\n",
              "\n",
              "    .dataframe thead th {\n",
              "        text-align: right;\n",
              "    }\n",
              "</style>\n",
              "<table border=\"1\" class=\"dataframe\">\n",
              "  <thead>\n",
              "    <tr style=\"text-align: right;\">\n",
              "      <th></th>\n",
              "      <th>tconst</th>\n",
              "      <th>primaryTitle</th>\n",
              "      <th>isAdult</th>\n",
              "      <th>genres</th>\n",
              "      <th>region</th>\n",
              "      <th>language</th>\n",
              "      <th>types</th>\n",
              "    </tr>\n",
              "  </thead>\n",
              "  <tbody>\n",
              "    <tr>\n",
              "      <th>19</th>\n",
              "      <td>tt0000630</td>\n",
              "      <td>Hamlet</td>\n",
              "      <td>0</td>\n",
              "      <td>Drama</td>\n",
              "      <td>FI</td>\n",
              "      <td>sv</td>\n",
              "      <td>imdbDisplay</td>\n",
              "    </tr>\n",
              "    <tr>\n",
              "      <th>158</th>\n",
              "      <td>tt0001381</td>\n",
              "      <td>En rekrut fra 64</td>\n",
              "      <td>0</td>\n",
              "      <td>Drama,War</td>\n",
              "      <td>FI</td>\n",
              "      <td>sv</td>\n",
              "      <td>imdbDisplay</td>\n",
              "    </tr>\n",
              "    <tr>\n",
              "      <th>193</th>\n",
              "      <td>tt0001603</td>\n",
              "      <td>Den farlige leg</td>\n",
              "      <td>0</td>\n",
              "      <td>Drama</td>\n",
              "      <td>FI</td>\n",
              "      <td>sv</td>\n",
              "      <td>imdbDisplay</td>\n",
              "    </tr>\n",
              "    <tr>\n",
              "      <th>211</th>\n",
              "      <td>tt0001692</td>\n",
              "      <td>The Great Moment</td>\n",
              "      <td>0</td>\n",
              "      <td>Drama</td>\n",
              "      <td>FI</td>\n",
              "      <td>sv</td>\n",
              "      <td>imdbDisplay</td>\n",
              "    </tr>\n",
              "    <tr>\n",
              "      <th>233</th>\n",
              "      <td>tt0001790</td>\n",
              "      <td>Les Misérables, Part 1: Jean Valjean</td>\n",
              "      <td>0</td>\n",
              "      <td>Drama</td>\n",
              "      <td>XWW</td>\n",
              "      <td>en</td>\n",
              "      <td>imdbDisplay</td>\n",
              "    </tr>\n",
              "  </tbody>\n",
              "</table>\n",
              "</div>"
            ],
            "text/plain": [
              "        tconst                          primaryTitle  isAdult     genres  \\\n",
              "19   tt0000630                                Hamlet        0      Drama   \n",
              "158  tt0001381                      En rekrut fra 64        0  Drama,War   \n",
              "193  tt0001603                       Den farlige leg        0      Drama   \n",
              "211  tt0001692                      The Great Moment        0      Drama   \n",
              "233  tt0001790  Les Misérables, Part 1: Jean Valjean        0      Drama   \n",
              "\n",
              "    region language        types  \n",
              "19      FI       sv  imdbDisplay  \n",
              "158     FI       sv  imdbDisplay  \n",
              "193     FI       sv  imdbDisplay  \n",
              "211     FI       sv  imdbDisplay  \n",
              "233    XWW       en  imdbDisplay  "
            ]
          },
          "metadata": {
            "tags": []
          },
          "execution_count": 60
        }
      ]
    },
    {
      "cell_type": "markdown",
      "metadata": {
        "id": "qBz1Di8CxpAk",
        "colab_type": "text"
      },
      "source": [
        "**Now Let us see the next dataframe and extract important information.**"
      ]
    },
    {
      "cell_type": "code",
      "metadata": {
        "id": "h0OD6ZGmybJ_",
        "colab_type": "code",
        "outputId": "d18f12e0-a03c-4d58-a25c-45bf4e105045",
        "colab": {
          "base_uri": "https://localhost:8080/",
          "height": 195
        }
      },
      "source": [
        "crew_info_orig.head()"
      ],
      "execution_count": 0,
      "outputs": [
        {
          "output_type": "execute_result",
          "data": {
            "text/html": [
              "<div>\n",
              "<style scoped>\n",
              "    .dataframe tbody tr th:only-of-type {\n",
              "        vertical-align: middle;\n",
              "    }\n",
              "\n",
              "    .dataframe tbody tr th {\n",
              "        vertical-align: top;\n",
              "    }\n",
              "\n",
              "    .dataframe thead th {\n",
              "        text-align: right;\n",
              "    }\n",
              "</style>\n",
              "<table border=\"1\" class=\"dataframe\">\n",
              "  <thead>\n",
              "    <tr style=\"text-align: right;\">\n",
              "      <th></th>\n",
              "      <th>tconst</th>\n",
              "      <th>ordering</th>\n",
              "      <th>nconst</th>\n",
              "      <th>category</th>\n",
              "      <th>job</th>\n",
              "      <th>characters</th>\n",
              "    </tr>\n",
              "  </thead>\n",
              "  <tbody>\n",
              "    <tr>\n",
              "      <th>0</th>\n",
              "      <td>tt0000001</td>\n",
              "      <td>1</td>\n",
              "      <td>nm1588970</td>\n",
              "      <td>self</td>\n",
              "      <td>\\N</td>\n",
              "      <td>[\"Herself\"]</td>\n",
              "    </tr>\n",
              "    <tr>\n",
              "      <th>1</th>\n",
              "      <td>tt0000001</td>\n",
              "      <td>2</td>\n",
              "      <td>nm0005690</td>\n",
              "      <td>director</td>\n",
              "      <td>\\N</td>\n",
              "      <td>\\N</td>\n",
              "    </tr>\n",
              "    <tr>\n",
              "      <th>2</th>\n",
              "      <td>tt0000001</td>\n",
              "      <td>3</td>\n",
              "      <td>nm0374658</td>\n",
              "      <td>cinematographer</td>\n",
              "      <td>director of photography</td>\n",
              "      <td>\\N</td>\n",
              "    </tr>\n",
              "    <tr>\n",
              "      <th>3</th>\n",
              "      <td>tt0000002</td>\n",
              "      <td>1</td>\n",
              "      <td>nm0721526</td>\n",
              "      <td>director</td>\n",
              "      <td>\\N</td>\n",
              "      <td>\\N</td>\n",
              "    </tr>\n",
              "    <tr>\n",
              "      <th>4</th>\n",
              "      <td>tt0000002</td>\n",
              "      <td>2</td>\n",
              "      <td>nm1335271</td>\n",
              "      <td>composer</td>\n",
              "      <td>\\N</td>\n",
              "      <td>\\N</td>\n",
              "    </tr>\n",
              "  </tbody>\n",
              "</table>\n",
              "</div>"
            ],
            "text/plain": [
              "      tconst  ordering     nconst         category                      job  \\\n",
              "0  tt0000001         1  nm1588970             self                       \\N   \n",
              "1  tt0000001         2  nm0005690         director                       \\N   \n",
              "2  tt0000001         3  nm0374658  cinematographer  director of photography   \n",
              "3  tt0000002         1  nm0721526         director                       \\N   \n",
              "4  tt0000002         2  nm1335271         composer                       \\N   \n",
              "\n",
              "    characters  \n",
              "0  [\"Herself\"]  \n",
              "1           \\N  \n",
              "2           \\N  \n",
              "3           \\N  \n",
              "4           \\N  "
            ]
          },
          "metadata": {
            "tags": []
          },
          "execution_count": 26
        }
      ]
    },
    {
      "cell_type": "code",
      "metadata": {
        "id": "YCWJ4ak40rGK",
        "colab_type": "code",
        "outputId": "49005497-bd6e-420c-c229-0298d907f289",
        "colab": {
          "base_uri": "https://localhost:8080/",
          "height": 235
        }
      },
      "source": [
        "crew_info_orig.category.value_counts()"
      ],
      "execution_count": 0,
      "outputs": [
        {
          "output_type": "execute_result",
          "data": {
            "text/plain": [
              "actor                  7915976\n",
              "actress                5776153\n",
              "self                   5704821\n",
              "writer                 4360988\n",
              "director               3790419\n",
              "producer               2014147\n",
              "composer               1228152\n",
              "cinematographer        1197061\n",
              "editor                 1112474\n",
              "production_designer     266600\n",
              "archive_footage         193453\n",
              "archive_sound             1991\n",
              "Name: category, dtype: int64"
            ]
          },
          "metadata": {
            "tags": []
          },
          "execution_count": 27
        }
      ]
    },
    {
      "cell_type": "markdown",
      "metadata": {
        "id": "fhEmJAJR1fdD",
        "colab_type": "text"
      },
      "source": [
        "**We will take only the rows corresponding to Director, Actor or Actress as they are more influential**"
      ]
    },
    {
      "cell_type": "code",
      "metadata": {
        "id": "EaTu-VCTyo77",
        "colab_type": "code",
        "colab": {}
      },
      "source": [
        "crew_info = crew_info_orig[(crew_info_orig.category == \"actor\") | (crew_info_orig.category == \"actress\") | (crew_info_orig.category == \"director\")]"
      ],
      "execution_count": 0,
      "outputs": []
    },
    {
      "cell_type": "code",
      "metadata": {
        "id": "TPpkCOlx18-b",
        "colab_type": "code",
        "outputId": "c7a34d3c-04b7-489c-ea72-71106798bf71",
        "colab": {
          "base_uri": "https://localhost:8080/",
          "height": 195
        }
      },
      "source": [
        "crew_info.head()"
      ],
      "execution_count": 0,
      "outputs": [
        {
          "output_type": "execute_result",
          "data": {
            "text/html": [
              "<div>\n",
              "<style scoped>\n",
              "    .dataframe tbody tr th:only-of-type {\n",
              "        vertical-align: middle;\n",
              "    }\n",
              "\n",
              "    .dataframe tbody tr th {\n",
              "        vertical-align: top;\n",
              "    }\n",
              "\n",
              "    .dataframe thead th {\n",
              "        text-align: right;\n",
              "    }\n",
              "</style>\n",
              "<table border=\"1\" class=\"dataframe\">\n",
              "  <thead>\n",
              "    <tr style=\"text-align: right;\">\n",
              "      <th></th>\n",
              "      <th>tconst</th>\n",
              "      <th>ordering</th>\n",
              "      <th>nconst</th>\n",
              "      <th>category</th>\n",
              "      <th>job</th>\n",
              "      <th>characters</th>\n",
              "    </tr>\n",
              "  </thead>\n",
              "  <tbody>\n",
              "    <tr>\n",
              "      <th>1</th>\n",
              "      <td>tt0000001</td>\n",
              "      <td>2</td>\n",
              "      <td>nm0005690</td>\n",
              "      <td>director</td>\n",
              "      <td>\\N</td>\n",
              "      <td>\\N</td>\n",
              "    </tr>\n",
              "    <tr>\n",
              "      <th>3</th>\n",
              "      <td>tt0000002</td>\n",
              "      <td>1</td>\n",
              "      <td>nm0721526</td>\n",
              "      <td>director</td>\n",
              "      <td>\\N</td>\n",
              "      <td>\\N</td>\n",
              "    </tr>\n",
              "    <tr>\n",
              "      <th>5</th>\n",
              "      <td>tt0000003</td>\n",
              "      <td>1</td>\n",
              "      <td>nm0721526</td>\n",
              "      <td>director</td>\n",
              "      <td>\\N</td>\n",
              "      <td>\\N</td>\n",
              "    </tr>\n",
              "    <tr>\n",
              "      <th>9</th>\n",
              "      <td>tt0000004</td>\n",
              "      <td>1</td>\n",
              "      <td>nm0721526</td>\n",
              "      <td>director</td>\n",
              "      <td>\\N</td>\n",
              "      <td>\\N</td>\n",
              "    </tr>\n",
              "    <tr>\n",
              "      <th>11</th>\n",
              "      <td>tt0000005</td>\n",
              "      <td>1</td>\n",
              "      <td>nm0443482</td>\n",
              "      <td>actor</td>\n",
              "      <td>\\N</td>\n",
              "      <td>[\"Blacksmith\"]</td>\n",
              "    </tr>\n",
              "  </tbody>\n",
              "</table>\n",
              "</div>"
            ],
            "text/plain": [
              "       tconst  ordering     nconst  category job      characters\n",
              "1   tt0000001         2  nm0005690  director  \\N              \\N\n",
              "3   tt0000002         1  nm0721526  director  \\N              \\N\n",
              "5   tt0000003         1  nm0721526  director  \\N              \\N\n",
              "9   tt0000004         1  nm0721526  director  \\N              \\N\n",
              "11  tt0000005         1  nm0443482     actor  \\N  [\"Blacksmith\"]"
            ]
          },
          "metadata": {
            "tags": []
          },
          "execution_count": 29
        }
      ]
    },
    {
      "cell_type": "code",
      "metadata": {
        "id": "0IByirHM1rP_",
        "colab_type": "code",
        "outputId": "0683658b-38b9-4aaf-94a8-5f49897e7456",
        "colab": {
          "base_uri": "https://localhost:8080/",
          "height": 202
        }
      },
      "source": [
        "crew_info.ordering.value_counts()"
      ],
      "execution_count": 0,
      "outputs": [
        {
          "output_type": "execute_result",
          "data": {
            "text/plain": [
              "1     3495289\n",
              "2     3095175\n",
              "3     2789466\n",
              "4     2499487\n",
              "5     2218562\n",
              "6      741227\n",
              "9      688621\n",
              "10     681570\n",
              "8      651193\n",
              "7      621958\n",
              "Name: ordering, dtype: int64"
            ]
          },
          "metadata": {
            "tags": []
          },
          "execution_count": 30
        }
      ]
    },
    {
      "cell_type": "markdown",
      "metadata": {
        "id": "JFrD0sdU2Ba7",
        "colab_type": "text"
      },
      "source": [
        "**There are multiple actors, actresses and directors of a movie. We will take only 3 top ranked. This information is given by \"ordering\" column. Numbers 1-10 tells what priority that person has in the movie. Then we will drop the ordering column as it has served its purpose**"
      ]
    },
    {
      "cell_type": "code",
      "metadata": {
        "id": "Ems43S6y2cbP",
        "colab_type": "code",
        "colab": {}
      },
      "source": [
        "crew_info = crew_info[crew_info.ordering.isin([1,2,3])]\n",
        "crew_info.drop(columns=[\"ordering\"], inplace=True)"
      ],
      "execution_count": 0,
      "outputs": []
    },
    {
      "cell_type": "code",
      "metadata": {
        "id": "1K_WbLTc29P1",
        "colab_type": "code",
        "outputId": "8b083b1e-aebc-43b4-d3a4-59095eb9e807",
        "colab": {
          "base_uri": "https://localhost:8080/",
          "height": 195
        }
      },
      "source": [
        "crew_info.head()"
      ],
      "execution_count": 0,
      "outputs": [
        {
          "output_type": "execute_result",
          "data": {
            "text/html": [
              "<div>\n",
              "<style scoped>\n",
              "    .dataframe tbody tr th:only-of-type {\n",
              "        vertical-align: middle;\n",
              "    }\n",
              "\n",
              "    .dataframe tbody tr th {\n",
              "        vertical-align: top;\n",
              "    }\n",
              "\n",
              "    .dataframe thead th {\n",
              "        text-align: right;\n",
              "    }\n",
              "</style>\n",
              "<table border=\"1\" class=\"dataframe\">\n",
              "  <thead>\n",
              "    <tr style=\"text-align: right;\">\n",
              "      <th></th>\n",
              "      <th>tconst</th>\n",
              "      <th>nconst</th>\n",
              "      <th>category</th>\n",
              "      <th>job</th>\n",
              "      <th>characters</th>\n",
              "    </tr>\n",
              "  </thead>\n",
              "  <tbody>\n",
              "    <tr>\n",
              "      <th>1</th>\n",
              "      <td>tt0000001</td>\n",
              "      <td>nm0005690</td>\n",
              "      <td>director</td>\n",
              "      <td>\\N</td>\n",
              "      <td>\\N</td>\n",
              "    </tr>\n",
              "    <tr>\n",
              "      <th>3</th>\n",
              "      <td>tt0000002</td>\n",
              "      <td>nm0721526</td>\n",
              "      <td>director</td>\n",
              "      <td>\\N</td>\n",
              "      <td>\\N</td>\n",
              "    </tr>\n",
              "    <tr>\n",
              "      <th>5</th>\n",
              "      <td>tt0000003</td>\n",
              "      <td>nm0721526</td>\n",
              "      <td>director</td>\n",
              "      <td>\\N</td>\n",
              "      <td>\\N</td>\n",
              "    </tr>\n",
              "    <tr>\n",
              "      <th>9</th>\n",
              "      <td>tt0000004</td>\n",
              "      <td>nm0721526</td>\n",
              "      <td>director</td>\n",
              "      <td>\\N</td>\n",
              "      <td>\\N</td>\n",
              "    </tr>\n",
              "    <tr>\n",
              "      <th>11</th>\n",
              "      <td>tt0000005</td>\n",
              "      <td>nm0443482</td>\n",
              "      <td>actor</td>\n",
              "      <td>\\N</td>\n",
              "      <td>[\"Blacksmith\"]</td>\n",
              "    </tr>\n",
              "  </tbody>\n",
              "</table>\n",
              "</div>"
            ],
            "text/plain": [
              "       tconst     nconst  category job      characters\n",
              "1   tt0000001  nm0005690  director  \\N              \\N\n",
              "3   tt0000002  nm0721526  director  \\N              \\N\n",
              "5   tt0000003  nm0721526  director  \\N              \\N\n",
              "9   tt0000004  nm0721526  director  \\N              \\N\n",
              "11  tt0000005  nm0443482     actor  \\N  [\"Blacksmith\"]"
            ]
          },
          "metadata": {
            "tags": []
          },
          "execution_count": 32
        }
      ]
    },
    {
      "cell_type": "markdown",
      "metadata": {
        "id": "y5Wt3OM_3Mqg",
        "colab_type": "text"
      },
      "source": [
        "**The columns \"Job\" and \"characters\" gives information about what kind of director a \"director\" is and what roles did an actor/actress played. So we will remove those columns as they have no value for recommendation for now. We will later see if they can be any use**"
      ]
    },
    {
      "cell_type": "code",
      "metadata": {
        "id": "21fhh_0U4Gwz",
        "colab_type": "code",
        "colab": {}
      },
      "source": [
        "crew_info.drop(columns=[\"job\",\"characters\"], inplace=True)"
      ],
      "execution_count": 0,
      "outputs": []
    },
    {
      "cell_type": "code",
      "metadata": {
        "id": "jdgfM5id4VHj",
        "colab_type": "code",
        "outputId": "ef6851a5-9b43-411a-ac20-39e21d04cda0",
        "colab": {
          "base_uri": "https://localhost:8080/",
          "height": 195
        }
      },
      "source": [
        "crew_info.head()"
      ],
      "execution_count": 0,
      "outputs": [
        {
          "output_type": "execute_result",
          "data": {
            "text/html": [
              "<div>\n",
              "<style scoped>\n",
              "    .dataframe tbody tr th:only-of-type {\n",
              "        vertical-align: middle;\n",
              "    }\n",
              "\n",
              "    .dataframe tbody tr th {\n",
              "        vertical-align: top;\n",
              "    }\n",
              "\n",
              "    .dataframe thead th {\n",
              "        text-align: right;\n",
              "    }\n",
              "</style>\n",
              "<table border=\"1\" class=\"dataframe\">\n",
              "  <thead>\n",
              "    <tr style=\"text-align: right;\">\n",
              "      <th></th>\n",
              "      <th>tconst</th>\n",
              "      <th>nconst</th>\n",
              "      <th>category</th>\n",
              "    </tr>\n",
              "  </thead>\n",
              "  <tbody>\n",
              "    <tr>\n",
              "      <th>1</th>\n",
              "      <td>tt0000001</td>\n",
              "      <td>nm0005690</td>\n",
              "      <td>director</td>\n",
              "    </tr>\n",
              "    <tr>\n",
              "      <th>3</th>\n",
              "      <td>tt0000002</td>\n",
              "      <td>nm0721526</td>\n",
              "      <td>director</td>\n",
              "    </tr>\n",
              "    <tr>\n",
              "      <th>5</th>\n",
              "      <td>tt0000003</td>\n",
              "      <td>nm0721526</td>\n",
              "      <td>director</td>\n",
              "    </tr>\n",
              "    <tr>\n",
              "      <th>9</th>\n",
              "      <td>tt0000004</td>\n",
              "      <td>nm0721526</td>\n",
              "      <td>director</td>\n",
              "    </tr>\n",
              "    <tr>\n",
              "      <th>11</th>\n",
              "      <td>tt0000005</td>\n",
              "      <td>nm0443482</td>\n",
              "      <td>actor</td>\n",
              "    </tr>\n",
              "  </tbody>\n",
              "</table>\n",
              "</div>"
            ],
            "text/plain": [
              "       tconst     nconst  category\n",
              "1   tt0000001  nm0005690  director\n",
              "3   tt0000002  nm0721526  director\n",
              "5   tt0000003  nm0721526  director\n",
              "9   tt0000004  nm0721526  director\n",
              "11  tt0000005  nm0443482     actor"
            ]
          },
          "metadata": {
            "tags": []
          },
          "execution_count": 34
        }
      ]
    },
    {
      "cell_type": "markdown",
      "metadata": {
        "id": "9mkgwnpj4aog",
        "colab_type": "text"
      },
      "source": [
        "**Now we will make separate columns for Actors, Actress and Directors. There can be multiple approaches for this, but the one that I have used is that 1st create separate datasets for all three and then merge with original and then remove the extra category column**"
      ]
    },
    {
      "cell_type": "code",
      "metadata": {
        "id": "mv8bLxBL_8KD",
        "colab_type": "code",
        "colab": {}
      },
      "source": [
        "directors_df = crew_info[crew_info.category==\"director\"]\n",
        "actors_df = crew_info[crew_info.category == \"actor\"]\n",
        "actress_df = crew_info[crew_info.category == \"actress\"]"
      ],
      "execution_count": 0,
      "outputs": []
    },
    {
      "cell_type": "code",
      "metadata": {
        "id": "yoiFw3bFAgDh",
        "colab_type": "code",
        "outputId": "05da501f-136b-4e27-b6a1-9517338b6ac7",
        "colab": {
          "base_uri": "https://localhost:8080/",
          "height": 101
        }
      },
      "source": [
        "directors_df.drop(columns=[\"category\"], inplace=True)\n",
        "actors_df.drop(columns=[\"category\"], inplace=True)\n",
        "actress_df.drop(columns=[\"category\"], inplace=True)"
      ],
      "execution_count": 0,
      "outputs": [
        {
          "output_type": "stream",
          "text": [
            "/usr/local/lib/python3.6/dist-packages/pandas/core/frame.py:3940: SettingWithCopyWarning: \n",
            "A value is trying to be set on a copy of a slice from a DataFrame\n",
            "\n",
            "See the caveats in the documentation: http://pandas.pydata.org/pandas-docs/stable/indexing.html#indexing-view-versus-copy\n",
            "  errors=errors)\n"
          ],
          "name": "stderr"
        }
      ]
    },
    {
      "cell_type": "code",
      "metadata": {
        "id": "Wlg4ZOk7BblF",
        "colab_type": "code",
        "outputId": "3b6f16be-c8a3-45c2-8093-8401ff6059a0",
        "colab": {
          "base_uri": "https://localhost:8080/",
          "height": 195
        }
      },
      "source": [
        "directors_df.head()"
      ],
      "execution_count": 0,
      "outputs": [
        {
          "output_type": "execute_result",
          "data": {
            "text/html": [
              "<div>\n",
              "<style scoped>\n",
              "    .dataframe tbody tr th:only-of-type {\n",
              "        vertical-align: middle;\n",
              "    }\n",
              "\n",
              "    .dataframe tbody tr th {\n",
              "        vertical-align: top;\n",
              "    }\n",
              "\n",
              "    .dataframe thead th {\n",
              "        text-align: right;\n",
              "    }\n",
              "</style>\n",
              "<table border=\"1\" class=\"dataframe\">\n",
              "  <thead>\n",
              "    <tr style=\"text-align: right;\">\n",
              "      <th></th>\n",
              "      <th>tconst</th>\n",
              "      <th>nconst</th>\n",
              "    </tr>\n",
              "  </thead>\n",
              "  <tbody>\n",
              "    <tr>\n",
              "      <th>1</th>\n",
              "      <td>tt0000001</td>\n",
              "      <td>nm0005690</td>\n",
              "    </tr>\n",
              "    <tr>\n",
              "      <th>3</th>\n",
              "      <td>tt0000002</td>\n",
              "      <td>nm0721526</td>\n",
              "    </tr>\n",
              "    <tr>\n",
              "      <th>5</th>\n",
              "      <td>tt0000003</td>\n",
              "      <td>nm0721526</td>\n",
              "    </tr>\n",
              "    <tr>\n",
              "      <th>9</th>\n",
              "      <td>tt0000004</td>\n",
              "      <td>nm0721526</td>\n",
              "    </tr>\n",
              "    <tr>\n",
              "      <th>13</th>\n",
              "      <td>tt0000005</td>\n",
              "      <td>nm0005690</td>\n",
              "    </tr>\n",
              "  </tbody>\n",
              "</table>\n",
              "</div>"
            ],
            "text/plain": [
              "       tconst     nconst\n",
              "1   tt0000001  nm0005690\n",
              "3   tt0000002  nm0721526\n",
              "5   tt0000003  nm0721526\n",
              "9   tt0000004  nm0721526\n",
              "13  tt0000005  nm0005690"
            ]
          },
          "metadata": {
            "tags": []
          },
          "execution_count": 37
        }
      ]
    },
    {
      "cell_type": "code",
      "metadata": {
        "id": "Ln3bcbD3BsfY",
        "colab_type": "code",
        "outputId": "47b0f995-d127-4cd1-fd7c-9b1878e2f282",
        "colab": {
          "base_uri": "https://localhost:8080/",
          "height": 195
        }
      },
      "source": [
        "crew_info.head()"
      ],
      "execution_count": 0,
      "outputs": [
        {
          "output_type": "execute_result",
          "data": {
            "text/html": [
              "<div>\n",
              "<style scoped>\n",
              "    .dataframe tbody tr th:only-of-type {\n",
              "        vertical-align: middle;\n",
              "    }\n",
              "\n",
              "    .dataframe tbody tr th {\n",
              "        vertical-align: top;\n",
              "    }\n",
              "\n",
              "    .dataframe thead th {\n",
              "        text-align: right;\n",
              "    }\n",
              "</style>\n",
              "<table border=\"1\" class=\"dataframe\">\n",
              "  <thead>\n",
              "    <tr style=\"text-align: right;\">\n",
              "      <th></th>\n",
              "      <th>tconst</th>\n",
              "      <th>nconst</th>\n",
              "      <th>category</th>\n",
              "    </tr>\n",
              "  </thead>\n",
              "  <tbody>\n",
              "    <tr>\n",
              "      <th>1</th>\n",
              "      <td>tt0000001</td>\n",
              "      <td>nm0005690</td>\n",
              "      <td>director</td>\n",
              "    </tr>\n",
              "    <tr>\n",
              "      <th>3</th>\n",
              "      <td>tt0000002</td>\n",
              "      <td>nm0721526</td>\n",
              "      <td>director</td>\n",
              "    </tr>\n",
              "    <tr>\n",
              "      <th>5</th>\n",
              "      <td>tt0000003</td>\n",
              "      <td>nm0721526</td>\n",
              "      <td>director</td>\n",
              "    </tr>\n",
              "    <tr>\n",
              "      <th>9</th>\n",
              "      <td>tt0000004</td>\n",
              "      <td>nm0721526</td>\n",
              "      <td>director</td>\n",
              "    </tr>\n",
              "    <tr>\n",
              "      <th>11</th>\n",
              "      <td>tt0000005</td>\n",
              "      <td>nm0443482</td>\n",
              "      <td>actor</td>\n",
              "    </tr>\n",
              "  </tbody>\n",
              "</table>\n",
              "</div>"
            ],
            "text/plain": [
              "       tconst     nconst  category\n",
              "1   tt0000001  nm0005690  director\n",
              "3   tt0000002  nm0721526  director\n",
              "5   tt0000003  nm0721526  director\n",
              "9   tt0000004  nm0721526  director\n",
              "11  tt0000005  nm0443482     actor"
            ]
          },
          "metadata": {
            "tags": []
          },
          "execution_count": 38
        }
      ]
    },
    {
      "cell_type": "markdown",
      "metadata": {
        "id": "FpZ3yKlVBwRi",
        "colab_type": "text"
      },
      "source": [
        "**As we can see the crew_info has \"nconst\" column which is already in respective category datasets. Also the \"category\" column is redundant. SO we will remove these two columns and then merge the three category datasets with the crew_info_updated dataset.\n",
        "Also there will be multiple copies of same \"tconst\" in the crew_info as there were separate rows for actor, director and actress. But now since we have separate columns for the same we will remove duplicate records**"
      ]
    },
    {
      "cell_type": "code",
      "metadata": {
        "id": "s95HC0VECRzU",
        "colab_type": "code",
        "colab": {}
      },
      "source": [
        "#Dropping the columns\n",
        "crew_info.drop(columns=[\"nconst\",\"category\"], inplace=True)"
      ],
      "execution_count": 0,
      "outputs": []
    },
    {
      "cell_type": "code",
      "metadata": {
        "id": "gplmAijYDPYb",
        "colab_type": "code",
        "colab": {}
      },
      "source": [
        "#Merging the Director dataframe\n",
        "crew_info = crew_info.merge(directors_df, on=\"tconst\")\n",
        "crew_info.rename(columns = {\"nconst\":\"director\"}, inplace=True)"
      ],
      "execution_count": 0,
      "outputs": []
    },
    {
      "cell_type": "code",
      "metadata": {
        "id": "4bM3_m1rD4gN",
        "colab_type": "code",
        "colab": {}
      },
      "source": [
        "#Merging the Actor dataframe\n",
        "crew_info = crew_info.merge(actors_df, on=\"tconst\")\n",
        "crew_info.rename(columns = {\"nconst\":\"actor\"}, inplace=True)"
      ],
      "execution_count": 0,
      "outputs": []
    },
    {
      "cell_type": "code",
      "metadata": {
        "id": "obqJ5p0IDKTp",
        "colab_type": "code",
        "colab": {}
      },
      "source": [
        "#Merging the Actress dataframe\n",
        "crew_info = crew_info.merge(actress_df, on=\"tconst\")\n",
        "crew_info.rename(columns = {\"nconst\":\"actress\"}, inplace=True)"
      ],
      "execution_count": 0,
      "outputs": []
    },
    {
      "cell_type": "code",
      "metadata": {
        "id": "pzBq2dXkHDVx",
        "colab_type": "code",
        "colab": {}
      },
      "source": [
        "#Dropping the duplicates\n",
        "crew_info.drop_duplicates(inplace=True)"
      ],
      "execution_count": 0,
      "outputs": []
    },
    {
      "cell_type": "code",
      "metadata": {
        "id": "Wq14JTXcS8SB",
        "colab_type": "code",
        "outputId": "8762b0ff-76fe-4ece-aebe-bb52984da6eb",
        "colab": {
          "base_uri": "https://localhost:8080/",
          "height": 195
        }
      },
      "source": [
        "crew_info.head()"
      ],
      "execution_count": 0,
      "outputs": [
        {
          "output_type": "execute_result",
          "data": {
            "text/html": [
              "<div>\n",
              "<style scoped>\n",
              "    .dataframe tbody tr th:only-of-type {\n",
              "        vertical-align: middle;\n",
              "    }\n",
              "\n",
              "    .dataframe tbody tr th {\n",
              "        vertical-align: top;\n",
              "    }\n",
              "\n",
              "    .dataframe thead th {\n",
              "        text-align: right;\n",
              "    }\n",
              "</style>\n",
              "<table border=\"1\" class=\"dataframe\">\n",
              "  <thead>\n",
              "    <tr style=\"text-align: right;\">\n",
              "      <th></th>\n",
              "      <th>tconst</th>\n",
              "      <th>director</th>\n",
              "      <th>actor</th>\n",
              "      <th>actress</th>\n",
              "    </tr>\n",
              "  </thead>\n",
              "  <tbody>\n",
              "    <tr>\n",
              "      <th>0</th>\n",
              "      <td>tt0000017</td>\n",
              "      <td>nm1587194</td>\n",
              "      <td>nm3691272</td>\n",
              "      <td>nm3692829</td>\n",
              "    </tr>\n",
              "    <tr>\n",
              "      <th>3</th>\n",
              "      <td>tt0000172</td>\n",
              "      <td>nm0808310</td>\n",
              "      <td>nm0338379</td>\n",
              "      <td>nm0809419</td>\n",
              "    </tr>\n",
              "    <tr>\n",
              "      <th>6</th>\n",
              "      <td>tt0000308</td>\n",
              "      <td>nm0808310</td>\n",
              "      <td>nm2940072</td>\n",
              "      <td>nm2940350</td>\n",
              "    </tr>\n",
              "    <tr>\n",
              "      <th>9</th>\n",
              "      <td>tt0000313</td>\n",
              "      <td>nm0808310</td>\n",
              "      <td>nm0338379</td>\n",
              "      <td>nm0809419</td>\n",
              "    </tr>\n",
              "    <tr>\n",
              "      <th>12</th>\n",
              "      <td>tt0000442</td>\n",
              "      <td>nm0253298</td>\n",
              "      <td>nm1854449</td>\n",
              "      <td>nm0622273</td>\n",
              "    </tr>\n",
              "  </tbody>\n",
              "</table>\n",
              "</div>"
            ],
            "text/plain": [
              "       tconst   director      actor    actress\n",
              "0   tt0000017  nm1587194  nm3691272  nm3692829\n",
              "3   tt0000172  nm0808310  nm0338379  nm0809419\n",
              "6   tt0000308  nm0808310  nm2940072  nm2940350\n",
              "9   tt0000313  nm0808310  nm0338379  nm0809419\n",
              "12  tt0000442  nm0253298  nm1854449  nm0622273"
            ]
          },
          "metadata": {
            "tags": []
          },
          "execution_count": 44
        }
      ]
    },
    {
      "cell_type": "code",
      "metadata": {
        "id": "3u_fqSeaS8gE",
        "colab_type": "code",
        "outputId": "e773bec2-02b7-4d85-f0b4-e9ff96090c23",
        "colab": {
          "base_uri": "https://localhost:8080/",
          "height": 195
        }
      },
      "source": [
        "title_full_df.head()"
      ],
      "execution_count": 0,
      "outputs": [
        {
          "output_type": "execute_result",
          "data": {
            "text/html": [
              "<div>\n",
              "<style scoped>\n",
              "    .dataframe tbody tr th:only-of-type {\n",
              "        vertical-align: middle;\n",
              "    }\n",
              "\n",
              "    .dataframe tbody tr th {\n",
              "        vertical-align: top;\n",
              "    }\n",
              "\n",
              "    .dataframe thead th {\n",
              "        text-align: right;\n",
              "    }\n",
              "</style>\n",
              "<table border=\"1\" class=\"dataframe\">\n",
              "  <thead>\n",
              "    <tr style=\"text-align: right;\">\n",
              "      <th></th>\n",
              "      <th>tconst</th>\n",
              "      <th>primaryTitle</th>\n",
              "      <th>isAdult</th>\n",
              "      <th>genres</th>\n",
              "      <th>region</th>\n",
              "      <th>language</th>\n",
              "      <th>types</th>\n",
              "    </tr>\n",
              "  </thead>\n",
              "  <tbody>\n",
              "    <tr>\n",
              "      <th>19</th>\n",
              "      <td>tt0000630</td>\n",
              "      <td>Hamlet</td>\n",
              "      <td>0</td>\n",
              "      <td>Drama</td>\n",
              "      <td>FI</td>\n",
              "      <td>sv</td>\n",
              "      <td>imdbDisplay</td>\n",
              "    </tr>\n",
              "    <tr>\n",
              "      <th>158</th>\n",
              "      <td>tt0001381</td>\n",
              "      <td>En rekrut fra 64</td>\n",
              "      <td>0</td>\n",
              "      <td>Drama,War</td>\n",
              "      <td>FI</td>\n",
              "      <td>sv</td>\n",
              "      <td>imdbDisplay</td>\n",
              "    </tr>\n",
              "    <tr>\n",
              "      <th>193</th>\n",
              "      <td>tt0001603</td>\n",
              "      <td>Den farlige leg</td>\n",
              "      <td>0</td>\n",
              "      <td>Drama</td>\n",
              "      <td>FI</td>\n",
              "      <td>sv</td>\n",
              "      <td>imdbDisplay</td>\n",
              "    </tr>\n",
              "    <tr>\n",
              "      <th>211</th>\n",
              "      <td>tt0001692</td>\n",
              "      <td>The Great Moment</td>\n",
              "      <td>0</td>\n",
              "      <td>Drama</td>\n",
              "      <td>FI</td>\n",
              "      <td>sv</td>\n",
              "      <td>imdbDisplay</td>\n",
              "    </tr>\n",
              "    <tr>\n",
              "      <th>233</th>\n",
              "      <td>tt0001790</td>\n",
              "      <td>Les Misérables, Part 1: Jean Valjean</td>\n",
              "      <td>0</td>\n",
              "      <td>Drama</td>\n",
              "      <td>XWW</td>\n",
              "      <td>en</td>\n",
              "      <td>imdbDisplay</td>\n",
              "    </tr>\n",
              "  </tbody>\n",
              "</table>\n",
              "</div>"
            ],
            "text/plain": [
              "        tconst                          primaryTitle  isAdult     genres  \\\n",
              "19   tt0000630                                Hamlet        0      Drama   \n",
              "158  tt0001381                      En rekrut fra 64        0  Drama,War   \n",
              "193  tt0001603                       Den farlige leg        0      Drama   \n",
              "211  tt0001692                      The Great Moment        0      Drama   \n",
              "233  tt0001790  Les Misérables, Part 1: Jean Valjean        0      Drama   \n",
              "\n",
              "    region language        types  \n",
              "19      FI       sv  imdbDisplay  \n",
              "158     FI       sv  imdbDisplay  \n",
              "193     FI       sv  imdbDisplay  \n",
              "211     FI       sv  imdbDisplay  \n",
              "233    XWW       en  imdbDisplay  "
            ]
          },
          "metadata": {
            "tags": []
          },
          "execution_count": 45
        }
      ]
    },
    {
      "cell_type": "markdown",
      "metadata": {
        "id": "-wZyRYlwS8iI",
        "colab_type": "text"
      },
      "source": [
        "**Now we will merge crew_info dataframe with our earlier title_full_df dataframe. So that we now have combined information of both the dataframes**"
      ]
    },
    {
      "cell_type": "code",
      "metadata": {
        "id": "VyykZ-tbThun",
        "colab_type": "code",
        "colab": {}
      },
      "source": [
        "title_full_df = title_full_df.merge(crew_info, on=\"tconst\")"
      ],
      "execution_count": 0,
      "outputs": []
    },
    {
      "cell_type": "code",
      "metadata": {
        "id": "2lUC7ZxRaJHV",
        "colab_type": "code",
        "outputId": "eb499ff2-e54d-43cd-96ae-06981b65f1fc",
        "colab": {
          "base_uri": "https://localhost:8080/",
          "height": 195
        }
      },
      "source": [
        "title_full_df.head()"
      ],
      "execution_count": 0,
      "outputs": [
        {
          "output_type": "execute_result",
          "data": {
            "text/html": [
              "<div>\n",
              "<style scoped>\n",
              "    .dataframe tbody tr th:only-of-type {\n",
              "        vertical-align: middle;\n",
              "    }\n",
              "\n",
              "    .dataframe tbody tr th {\n",
              "        vertical-align: top;\n",
              "    }\n",
              "\n",
              "    .dataframe thead th {\n",
              "        text-align: right;\n",
              "    }\n",
              "</style>\n",
              "<table border=\"1\" class=\"dataframe\">\n",
              "  <thead>\n",
              "    <tr style=\"text-align: right;\">\n",
              "      <th></th>\n",
              "      <th>tconst</th>\n",
              "      <th>primaryTitle</th>\n",
              "      <th>isAdult</th>\n",
              "      <th>genres</th>\n",
              "      <th>region</th>\n",
              "      <th>language</th>\n",
              "      <th>types</th>\n",
              "      <th>director</th>\n",
              "      <th>actor</th>\n",
              "      <th>actress</th>\n",
              "    </tr>\n",
              "  </thead>\n",
              "  <tbody>\n",
              "    <tr>\n",
              "      <th>0</th>\n",
              "      <td>tt0018353</td>\n",
              "      <td>Sabishiki ranbomono</td>\n",
              "      <td>0</td>\n",
              "      <td>Drama</td>\n",
              "      <td>XWW</td>\n",
              "      <td>en</td>\n",
              "      <td>alternative</td>\n",
              "      <td>nm0331482</td>\n",
              "      <td>nm1263070</td>\n",
              "      <td>nm1846969</td>\n",
              "    </tr>\n",
              "    <tr>\n",
              "      <th>1</th>\n",
              "      <td>tt0045040</td>\n",
              "      <td>A Treasure on Bird Island</td>\n",
              "      <td>0</td>\n",
              "      <td>Animation</td>\n",
              "      <td>XEU</td>\n",
              "      <td>en</td>\n",
              "      <td>imdbDisplay</td>\n",
              "      <td>nm0954724</td>\n",
              "      <td>nm1227995</td>\n",
              "      <td>nm1785269</td>\n",
              "    </tr>\n",
              "    <tr>\n",
              "      <th>2</th>\n",
              "      <td>tt0045040</td>\n",
              "      <td>A Treasure on Bird Island</td>\n",
              "      <td>0</td>\n",
              "      <td>Animation</td>\n",
              "      <td>XWW</td>\n",
              "      <td>en</td>\n",
              "      <td>imdbDisplay</td>\n",
              "      <td>nm0954724</td>\n",
              "      <td>nm1227995</td>\n",
              "      <td>nm1785269</td>\n",
              "    </tr>\n",
              "    <tr>\n",
              "      <th>3</th>\n",
              "      <td>tt0050490</td>\n",
              "      <td>Heaven Knows, Mr. Allison</td>\n",
              "      <td>0</td>\n",
              "      <td>Adventure,Drama,War</td>\n",
              "      <td>CA</td>\n",
              "      <td>en</td>\n",
              "      <td>imdbDisplay</td>\n",
              "      <td>nm0001379</td>\n",
              "      <td>nm0000053</td>\n",
              "      <td>nm0000039</td>\n",
              "    </tr>\n",
              "    <tr>\n",
              "      <th>4</th>\n",
              "      <td>tt0076652</td>\n",
              "      <td>Safrana or Freedom of Speech</td>\n",
              "      <td>0</td>\n",
              "      <td>Drama</td>\n",
              "      <td>XWW</td>\n",
              "      <td>en</td>\n",
              "      <td>imdbDisplay</td>\n",
              "      <td>nm0812406</td>\n",
              "      <td>nm0393124</td>\n",
              "      <td>nm1429466</td>\n",
              "    </tr>\n",
              "  </tbody>\n",
              "</table>\n",
              "</div>"
            ],
            "text/plain": [
              "      tconst                  primaryTitle  isAdult               genres  \\\n",
              "0  tt0018353           Sabishiki ranbomono        0                Drama   \n",
              "1  tt0045040     A Treasure on Bird Island        0            Animation   \n",
              "2  tt0045040     A Treasure on Bird Island        0            Animation   \n",
              "3  tt0050490     Heaven Knows, Mr. Allison        0  Adventure,Drama,War   \n",
              "4  tt0076652  Safrana or Freedom of Speech        0                Drama   \n",
              "\n",
              "  region language        types   director      actor    actress  \n",
              "0    XWW       en  alternative  nm0331482  nm1263070  nm1846969  \n",
              "1    XEU       en  imdbDisplay  nm0954724  nm1227995  nm1785269  \n",
              "2    XWW       en  imdbDisplay  nm0954724  nm1227995  nm1785269  \n",
              "3     CA       en  imdbDisplay  nm0001379  nm0000053  nm0000039  \n",
              "4    XWW       en  imdbDisplay  nm0812406  nm0393124  nm1429466  "
            ]
          },
          "metadata": {
            "tags": []
          },
          "execution_count": 74
        }
      ]
    },
    {
      "cell_type": "markdown",
      "metadata": {
        "id": "1iWqjKaBdHY9",
        "colab_type": "text"
      },
      "source": [
        "**Now we have one more dataset remaining. That is related to ratings. Let us see that also**"
      ]
    },
    {
      "cell_type": "code",
      "metadata": {
        "id": "I9b3wzXndPrP",
        "colab_type": "code",
        "outputId": "e77bb4f0-246b-44f9-d2b0-ad5c8f10bac3",
        "colab": {
          "base_uri": "https://localhost:8080/",
          "height": 195
        }
      },
      "source": [
        "ratings.head()"
      ],
      "execution_count": 0,
      "outputs": [
        {
          "output_type": "execute_result",
          "data": {
            "text/html": [
              "<div>\n",
              "<style scoped>\n",
              "    .dataframe tbody tr th:only-of-type {\n",
              "        vertical-align: middle;\n",
              "    }\n",
              "\n",
              "    .dataframe tbody tr th {\n",
              "        vertical-align: top;\n",
              "    }\n",
              "\n",
              "    .dataframe thead th {\n",
              "        text-align: right;\n",
              "    }\n",
              "</style>\n",
              "<table border=\"1\" class=\"dataframe\">\n",
              "  <thead>\n",
              "    <tr style=\"text-align: right;\">\n",
              "      <th></th>\n",
              "      <th>tconst</th>\n",
              "      <th>averageRating</th>\n",
              "      <th>numVotes</th>\n",
              "    </tr>\n",
              "  </thead>\n",
              "  <tbody>\n",
              "    <tr>\n",
              "      <th>0</th>\n",
              "      <td>tt0000001</td>\n",
              "      <td>5.8</td>\n",
              "      <td>1497</td>\n",
              "    </tr>\n",
              "    <tr>\n",
              "      <th>1</th>\n",
              "      <td>tt0000002</td>\n",
              "      <td>6.3</td>\n",
              "      <td>181</td>\n",
              "    </tr>\n",
              "    <tr>\n",
              "      <th>2</th>\n",
              "      <td>tt0000003</td>\n",
              "      <td>6.6</td>\n",
              "      <td>1136</td>\n",
              "    </tr>\n",
              "    <tr>\n",
              "      <th>3</th>\n",
              "      <td>tt0000004</td>\n",
              "      <td>6.4</td>\n",
              "      <td>110</td>\n",
              "    </tr>\n",
              "    <tr>\n",
              "      <th>4</th>\n",
              "      <td>tt0000005</td>\n",
              "      <td>6.2</td>\n",
              "      <td>1837</td>\n",
              "    </tr>\n",
              "  </tbody>\n",
              "</table>\n",
              "</div>"
            ],
            "text/plain": [
              "      tconst  averageRating  numVotes\n",
              "0  tt0000001            5.8      1497\n",
              "1  tt0000002            6.3       181\n",
              "2  tt0000003            6.6      1136\n",
              "3  tt0000004            6.4       110\n",
              "4  tt0000005            6.2      1837"
            ]
          },
          "metadata": {
            "tags": []
          },
          "execution_count": 75
        }
      ]
    },
    {
      "cell_type": "code",
      "metadata": {
        "id": "pDR6YYDLtK_Q",
        "colab_type": "code",
        "outputId": "bbe4c6ef-1bed-4541-a559-66a8a42d5325",
        "colab": {
          "base_uri": "https://localhost:8080/",
          "height": 34
        }
      },
      "source": [
        "len(ratings)"
      ],
      "execution_count": 0,
      "outputs": [
        {
          "output_type": "execute_result",
          "data": {
            "text/plain": [
              "931372"
            ]
          },
          "metadata": {
            "tags": []
          },
          "execution_count": 143
        }
      ]
    },
    {
      "cell_type": "markdown",
      "metadata": {
        "id": "NyTitd8zdXlK",
        "colab_type": "text"
      },
      "source": [
        "**Merging \"ratings\" dataframe with \"title_full_df\"**"
      ]
    },
    {
      "cell_type": "code",
      "metadata": {
        "id": "Nr_oMFoVdnWz",
        "colab_type": "code",
        "colab": {}
      },
      "source": [
        "movie_final_df = title_full_df.merge(ratings, on=\"tconst\")"
      ],
      "execution_count": 0,
      "outputs": []
    },
    {
      "cell_type": "code",
      "metadata": {
        "id": "5M5P0M9lekRb",
        "colab_type": "code",
        "outputId": "08ee95eb-60e6-4f1c-ddab-d68686cc01f6",
        "colab": {
          "base_uri": "https://localhost:8080/",
          "height": 195
        }
      },
      "source": [
        "movie_final_df.head()"
      ],
      "execution_count": 0,
      "outputs": [
        {
          "output_type": "execute_result",
          "data": {
            "text/html": [
              "<div>\n",
              "<style scoped>\n",
              "    .dataframe tbody tr th:only-of-type {\n",
              "        vertical-align: middle;\n",
              "    }\n",
              "\n",
              "    .dataframe tbody tr th {\n",
              "        vertical-align: top;\n",
              "    }\n",
              "\n",
              "    .dataframe thead th {\n",
              "        text-align: right;\n",
              "    }\n",
              "</style>\n",
              "<table border=\"1\" class=\"dataframe\">\n",
              "  <thead>\n",
              "    <tr style=\"text-align: right;\">\n",
              "      <th></th>\n",
              "      <th>tconst</th>\n",
              "      <th>primaryTitle</th>\n",
              "      <th>isAdult</th>\n",
              "      <th>genres</th>\n",
              "      <th>region</th>\n",
              "      <th>language</th>\n",
              "      <th>types</th>\n",
              "      <th>director</th>\n",
              "      <th>actor</th>\n",
              "      <th>actress</th>\n",
              "      <th>averageRating</th>\n",
              "      <th>numVotes</th>\n",
              "    </tr>\n",
              "  </thead>\n",
              "  <tbody>\n",
              "    <tr>\n",
              "      <th>0</th>\n",
              "      <td>tt0045040</td>\n",
              "      <td>A Treasure on Bird Island</td>\n",
              "      <td>0</td>\n",
              "      <td>Animation</td>\n",
              "      <td>XEU</td>\n",
              "      <td>en</td>\n",
              "      <td>imdbDisplay</td>\n",
              "      <td>nm0954724</td>\n",
              "      <td>nm1227995</td>\n",
              "      <td>nm1785269</td>\n",
              "      <td>6.6</td>\n",
              "      <td>62</td>\n",
              "    </tr>\n",
              "    <tr>\n",
              "      <th>1</th>\n",
              "      <td>tt0045040</td>\n",
              "      <td>A Treasure on Bird Island</td>\n",
              "      <td>0</td>\n",
              "      <td>Animation</td>\n",
              "      <td>XWW</td>\n",
              "      <td>en</td>\n",
              "      <td>imdbDisplay</td>\n",
              "      <td>nm0954724</td>\n",
              "      <td>nm1227995</td>\n",
              "      <td>nm1785269</td>\n",
              "      <td>6.6</td>\n",
              "      <td>62</td>\n",
              "    </tr>\n",
              "    <tr>\n",
              "      <th>2</th>\n",
              "      <td>tt0050490</td>\n",
              "      <td>Heaven Knows, Mr. Allison</td>\n",
              "      <td>0</td>\n",
              "      <td>Adventure,Drama,War</td>\n",
              "      <td>CA</td>\n",
              "      <td>en</td>\n",
              "      <td>imdbDisplay</td>\n",
              "      <td>nm0001379</td>\n",
              "      <td>nm0000053</td>\n",
              "      <td>nm0000039</td>\n",
              "      <td>7.4</td>\n",
              "      <td>7206</td>\n",
              "    </tr>\n",
              "    <tr>\n",
              "      <th>3</th>\n",
              "      <td>tt0078196</td>\n",
              "      <td>Made in Iran</td>\n",
              "      <td>0</td>\n",
              "      <td>Crime,Drama</td>\n",
              "      <td>XWW</td>\n",
              "      <td>en</td>\n",
              "      <td>imdbDisplay</td>\n",
              "      <td>nm0618881</td>\n",
              "      <td>nm0705282</td>\n",
              "      <td>nm0074038</td>\n",
              "      <td>7.0</td>\n",
              "      <td>47</td>\n",
              "    </tr>\n",
              "    <tr>\n",
              "      <th>4</th>\n",
              "      <td>tt0108615</td>\n",
              "      <td>Red Beads</td>\n",
              "      <td>0</td>\n",
              "      <td>Drama</td>\n",
              "      <td>XWW</td>\n",
              "      <td>en</td>\n",
              "      <td>imdbDisplay</td>\n",
              "      <td>nm0372087</td>\n",
              "      <td>nm0422629</td>\n",
              "      <td>nm0443752</td>\n",
              "      <td>6.1</td>\n",
              "      <td>10</td>\n",
              "    </tr>\n",
              "  </tbody>\n",
              "</table>\n",
              "</div>"
            ],
            "text/plain": [
              "      tconst               primaryTitle  isAdult               genres region  \\\n",
              "0  tt0045040  A Treasure on Bird Island        0            Animation    XEU   \n",
              "1  tt0045040  A Treasure on Bird Island        0            Animation    XWW   \n",
              "2  tt0050490  Heaven Knows, Mr. Allison        0  Adventure,Drama,War     CA   \n",
              "3  tt0078196               Made in Iran        0          Crime,Drama    XWW   \n",
              "4  tt0108615                  Red Beads        0                Drama    XWW   \n",
              "\n",
              "  language        types   director      actor    actress  averageRating  \\\n",
              "0       en  imdbDisplay  nm0954724  nm1227995  nm1785269            6.6   \n",
              "1       en  imdbDisplay  nm0954724  nm1227995  nm1785269            6.6   \n",
              "2       en  imdbDisplay  nm0001379  nm0000053  nm0000039            7.4   \n",
              "3       en  imdbDisplay  nm0618881  nm0705282  nm0074038            7.0   \n",
              "4       en  imdbDisplay  nm0372087  nm0422629  nm0443752            6.1   \n",
              "\n",
              "   numVotes  \n",
              "0        62  \n",
              "1        62  \n",
              "2      7206  \n",
              "3        47  \n",
              "4        10  "
            ]
          },
          "metadata": {
            "tags": []
          },
          "execution_count": 97
        }
      ]
    },
    {
      "cell_type": "markdown",
      "metadata": {
        "id": "Wc3IGrWcaRj3",
        "colab_type": "text"
      },
      "source": [
        "**The \"region\", \"language\", \"types\", \"director\", \"actor\",\"actress\" columns can have different values for same movie. So What we will do is join all the values of a particular column corresponding to a movie together. Before that we will store all the unique values for further use.** "
      ]
    },
    {
      "cell_type": "code",
      "metadata": {
        "id": "rc62jcZhfMgr",
        "colab_type": "code",
        "colab": {}
      },
      "source": [
        "regions_unique = movie_final_df.genres.unique()\n",
        "languages_unique = movie_final_df.language.unique()\n",
        "types_unique = movie_final_df.types.unique()\n",
        "directors_unique = movie_final_df.director.unique()\n",
        "actors_unique = movie_final_df.actor.unique()\n",
        "actresses_unique = movie_final_df.actress.unique()"
      ],
      "execution_count": 0,
      "outputs": []
    },
    {
      "cell_type": "markdown",
      "metadata": {
        "id": "VdEEOt_7hU2b",
        "colab_type": "text"
      },
      "source": [
        "**we will do the grouping and joining of individual columns separately in 4 steps.**\n",
        "1. Make a temp dataframe with just \"tconst\" and the column whose values we want to join.\n",
        "2. Drop the column from movie_final_df dataframe.\n",
        "3. Group by \"tconst\" and join the all the values corresponding to this \"tconst\" by comma(,).\n",
        "4.Drop duplicates from original_dataset\n",
        "5. Merge this temperory dataframe with the original dataframe"
      ]
    },
    {
      "cell_type": "code",
      "metadata": {
        "id": "7sr8ZcfXi3eU",
        "colab_type": "code",
        "outputId": "9d937ab8-b03a-4352-dbf7-fca5cb38fcaa",
        "colab": {
          "base_uri": "https://localhost:8080/",
          "height": 195
        }
      },
      "source": [
        "movie_final_df.head()"
      ],
      "execution_count": 0,
      "outputs": [
        {
          "output_type": "execute_result",
          "data": {
            "text/html": [
              "<div>\n",
              "<style scoped>\n",
              "    .dataframe tbody tr th:only-of-type {\n",
              "        vertical-align: middle;\n",
              "    }\n",
              "\n",
              "    .dataframe tbody tr th {\n",
              "        vertical-align: top;\n",
              "    }\n",
              "\n",
              "    .dataframe thead th {\n",
              "        text-align: right;\n",
              "    }\n",
              "</style>\n",
              "<table border=\"1\" class=\"dataframe\">\n",
              "  <thead>\n",
              "    <tr style=\"text-align: right;\">\n",
              "      <th></th>\n",
              "      <th>tconst</th>\n",
              "      <th>primaryTitle</th>\n",
              "      <th>isAdult</th>\n",
              "      <th>genres</th>\n",
              "      <th>region</th>\n",
              "      <th>language</th>\n",
              "      <th>types</th>\n",
              "      <th>director</th>\n",
              "      <th>actor</th>\n",
              "      <th>actress</th>\n",
              "      <th>averageRating</th>\n",
              "      <th>numVotes</th>\n",
              "    </tr>\n",
              "  </thead>\n",
              "  <tbody>\n",
              "    <tr>\n",
              "      <th>0</th>\n",
              "      <td>tt0045040</td>\n",
              "      <td>A Treasure on Bird Island</td>\n",
              "      <td>0</td>\n",
              "      <td>Animation</td>\n",
              "      <td>XEU</td>\n",
              "      <td>en</td>\n",
              "      <td>imdbDisplay</td>\n",
              "      <td>nm0954724</td>\n",
              "      <td>nm1227995</td>\n",
              "      <td>nm1785269</td>\n",
              "      <td>6.6</td>\n",
              "      <td>62</td>\n",
              "    </tr>\n",
              "    <tr>\n",
              "      <th>1</th>\n",
              "      <td>tt0045040</td>\n",
              "      <td>A Treasure on Bird Island</td>\n",
              "      <td>0</td>\n",
              "      <td>Animation</td>\n",
              "      <td>XWW</td>\n",
              "      <td>en</td>\n",
              "      <td>imdbDisplay</td>\n",
              "      <td>nm0954724</td>\n",
              "      <td>nm1227995</td>\n",
              "      <td>nm1785269</td>\n",
              "      <td>6.6</td>\n",
              "      <td>62</td>\n",
              "    </tr>\n",
              "    <tr>\n",
              "      <th>2</th>\n",
              "      <td>tt0050490</td>\n",
              "      <td>Heaven Knows, Mr. Allison</td>\n",
              "      <td>0</td>\n",
              "      <td>Adventure,Drama,War</td>\n",
              "      <td>CA</td>\n",
              "      <td>en</td>\n",
              "      <td>imdbDisplay</td>\n",
              "      <td>nm0001379</td>\n",
              "      <td>nm0000053</td>\n",
              "      <td>nm0000039</td>\n",
              "      <td>7.4</td>\n",
              "      <td>7206</td>\n",
              "    </tr>\n",
              "    <tr>\n",
              "      <th>3</th>\n",
              "      <td>tt0078196</td>\n",
              "      <td>Made in Iran</td>\n",
              "      <td>0</td>\n",
              "      <td>Crime,Drama</td>\n",
              "      <td>XWW</td>\n",
              "      <td>en</td>\n",
              "      <td>imdbDisplay</td>\n",
              "      <td>nm0618881</td>\n",
              "      <td>nm0705282</td>\n",
              "      <td>nm0074038</td>\n",
              "      <td>7.0</td>\n",
              "      <td>47</td>\n",
              "    </tr>\n",
              "    <tr>\n",
              "      <th>4</th>\n",
              "      <td>tt0108615</td>\n",
              "      <td>Red Beads</td>\n",
              "      <td>0</td>\n",
              "      <td>Drama</td>\n",
              "      <td>XWW</td>\n",
              "      <td>en</td>\n",
              "      <td>imdbDisplay</td>\n",
              "      <td>nm0372087</td>\n",
              "      <td>nm0422629</td>\n",
              "      <td>nm0443752</td>\n",
              "      <td>6.1</td>\n",
              "      <td>10</td>\n",
              "    </tr>\n",
              "  </tbody>\n",
              "</table>\n",
              "</div>"
            ],
            "text/plain": [
              "      tconst               primaryTitle  isAdult               genres region  \\\n",
              "0  tt0045040  A Treasure on Bird Island        0            Animation    XEU   \n",
              "1  tt0045040  A Treasure on Bird Island        0            Animation    XWW   \n",
              "2  tt0050490  Heaven Knows, Mr. Allison        0  Adventure,Drama,War     CA   \n",
              "3  tt0078196               Made in Iran        0          Crime,Drama    XWW   \n",
              "4  tt0108615                  Red Beads        0                Drama    XWW   \n",
              "\n",
              "  language        types   director      actor    actress  averageRating  \\\n",
              "0       en  imdbDisplay  nm0954724  nm1227995  nm1785269            6.6   \n",
              "1       en  imdbDisplay  nm0954724  nm1227995  nm1785269            6.6   \n",
              "2       en  imdbDisplay  nm0001379  nm0000053  nm0000039            7.4   \n",
              "3       en  imdbDisplay  nm0618881  nm0705282  nm0074038            7.0   \n",
              "4       en  imdbDisplay  nm0372087  nm0422629  nm0443752            6.1   \n",
              "\n",
              "   numVotes  \n",
              "0        62  \n",
              "1        62  \n",
              "2      7206  \n",
              "3        47  \n",
              "4        10  "
            ]
          },
          "metadata": {
            "tags": []
          },
          "execution_count": 99
        }
      ]
    },
    {
      "cell_type": "code",
      "metadata": {
        "id": "ldaEHtdZtCLp",
        "colab_type": "code",
        "outputId": "b8fd453e-3d7e-418a-a679-0ab8c929813f",
        "colab": {
          "base_uri": "https://localhost:8080/",
          "height": 34
        }
      },
      "source": [
        "len(movie_final_df)"
      ],
      "execution_count": 0,
      "outputs": [
        {
          "output_type": "execute_result",
          "data": {
            "text/plain": [
              "157"
            ]
          },
          "metadata": {
            "tags": []
          },
          "execution_count": 142
        }
      ]
    },
    {
      "cell_type": "code",
      "metadata": {
        "id": "jZFk29nEgNuQ",
        "colab_type": "code",
        "colab": {}
      },
      "source": [
        "temp_df = movie_final_df[[\"tconst\", \"region\"]]\n",
        "movie_final_df.drop(columns=[\"region\"], inplace=True)\n",
        "temp_df = temp_df.groupby(\"tconst\").agg({\"region\":\", \".join})\n",
        "movie_final_df.drop_duplicates(inplace=True)\n",
        "movie_final_df = movie_final_df.merge(temp_df, on=\"tconst\")"
      ],
      "execution_count": 0,
      "outputs": []
    },
    {
      "cell_type": "code",
      "metadata": {
        "id": "bmkn5OtpiMWD",
        "colab_type": "code",
        "colab": {}
      },
      "source": [
        "temp_df = movie_final_df[[\"tconst\", \"language\"]]\n",
        "movie_final_df.drop(columns=[\"language\"], inplace=True)\n",
        "temp_df = temp_df.groupby(\"tconst\").agg({\"language\":\", \".join})\n",
        "movie_final_df.drop_duplicates(inplace=True)\n",
        "movie_final_df = movie_final_df.merge(temp_df, on=\"tconst\")"
      ],
      "execution_count": 0,
      "outputs": []
    },
    {
      "cell_type": "code",
      "metadata": {
        "id": "boQyGl6UiTif",
        "colab_type": "code",
        "colab": {}
      },
      "source": [
        "temp_df = movie_final_df[[\"tconst\", \"types\"]]\n",
        "movie_final_df.drop(columns=[\"types\"], inplace=True)\n",
        "\n",
        "temp_df = temp_df.groupby(\"tconst\").agg({\"types\":\", \".join})\n",
        "movie_final_df.drop_duplicates(inplace=True)\n",
        "movie_final_df = movie_final_df.merge(temp_df, on=\"tconst\")"
      ],
      "execution_count": 0,
      "outputs": []
    },
    {
      "cell_type": "code",
      "metadata": {
        "id": "ipWGlCAciZOr",
        "colab_type": "code",
        "colab": {}
      },
      "source": [
        "temp_df = movie_final_df[[\"tconst\", \"director\"]]\n",
        "movie_final_df.drop(columns=[\"director\"], inplace=True)\n",
        "\n",
        "temp_df = temp_df.groupby(\"tconst\").agg({\"director\":\", \".join})\n",
        "movie_final_df.drop_duplicates(inplace=True)\n",
        "movie_final_df = movie_final_df.merge(temp_df, on=\"tconst\")"
      ],
      "execution_count": 0,
      "outputs": []
    },
    {
      "cell_type": "code",
      "metadata": {
        "id": "jkY71YwYihTH",
        "colab_type": "code",
        "colab": {}
      },
      "source": [
        "temp_df = movie_final_df[[\"tconst\", \"actor\"]]\n",
        "movie_final_df.drop(columns=[\"actor\"], inplace=True)\n",
        "\n",
        "temp_df = temp_df.groupby(\"tconst\").agg({\"actor\":\", \".join})\n",
        "movie_final_df.drop_duplicates(inplace=True)\n",
        "movie_final_df = movie_final_df.merge(temp_df, on=\"tconst\")"
      ],
      "execution_count": 0,
      "outputs": []
    },
    {
      "cell_type": "code",
      "metadata": {
        "id": "9xdYVoP1imz9",
        "colab_type": "code",
        "colab": {}
      },
      "source": [
        "temp_df = movie_final_df[[\"tconst\", \"actress\"]]\n",
        "movie_final_df.drop(columns=[\"actress\"], inplace=True)\n",
        "\n",
        "temp_df = temp_df.groupby(\"tconst\").agg({\"actress\":\", \".join})\n",
        "movie_final_df.drop_duplicates(inplace=True)\n",
        "movie_final_df = movie_final_df.merge(temp_df, on=\"tconst\")"
      ],
      "execution_count": 0,
      "outputs": []
    },
    {
      "cell_type": "code",
      "metadata": {
        "id": "rLeO6M1lkl8T",
        "colab_type": "code",
        "colab": {}
      },
      "source": [
        "#dropping numVotes column for now\n",
        "movie_final_df.drop(columns='numVotes', inplace=True)"
      ],
      "execution_count": 0,
      "outputs": []
    },
    {
      "cell_type": "code",
      "metadata": {
        "id": "aDtjfZaDhQX0",
        "colab_type": "code",
        "outputId": "d1fe0233-b2e2-4941-fa3c-023a5ccfbd65",
        "colab": {
          "base_uri": "https://localhost:8080/",
          "height": 195
        }
      },
      "source": [
        "movie_final_df.head()"
      ],
      "execution_count": 0,
      "outputs": [
        {
          "output_type": "execute_result",
          "data": {
            "text/html": [
              "<div>\n",
              "<style scoped>\n",
              "    .dataframe tbody tr th:only-of-type {\n",
              "        vertical-align: middle;\n",
              "    }\n",
              "\n",
              "    .dataframe tbody tr th {\n",
              "        vertical-align: top;\n",
              "    }\n",
              "\n",
              "    .dataframe thead th {\n",
              "        text-align: right;\n",
              "    }\n",
              "</style>\n",
              "<table border=\"1\" class=\"dataframe\">\n",
              "  <thead>\n",
              "    <tr style=\"text-align: right;\">\n",
              "      <th></th>\n",
              "      <th>tconst</th>\n",
              "      <th>primaryTitle</th>\n",
              "      <th>isAdult</th>\n",
              "      <th>genres</th>\n",
              "      <th>averageRating</th>\n",
              "      <th>region</th>\n",
              "      <th>language</th>\n",
              "      <th>types</th>\n",
              "      <th>director</th>\n",
              "      <th>actor</th>\n",
              "      <th>actress</th>\n",
              "    </tr>\n",
              "  </thead>\n",
              "  <tbody>\n",
              "    <tr>\n",
              "      <th>0</th>\n",
              "      <td>tt0045040</td>\n",
              "      <td>A Treasure on Bird Island</td>\n",
              "      <td>0</td>\n",
              "      <td>Animation</td>\n",
              "      <td>6.6</td>\n",
              "      <td>XEU, XWW</td>\n",
              "      <td>en</td>\n",
              "      <td>imdbDisplay</td>\n",
              "      <td>nm0954724</td>\n",
              "      <td>nm1227995</td>\n",
              "      <td>nm1785269</td>\n",
              "    </tr>\n",
              "    <tr>\n",
              "      <th>1</th>\n",
              "      <td>tt0050490</td>\n",
              "      <td>Heaven Knows, Mr. Allison</td>\n",
              "      <td>0</td>\n",
              "      <td>Adventure,Drama,War</td>\n",
              "      <td>7.4</td>\n",
              "      <td>CA</td>\n",
              "      <td>en</td>\n",
              "      <td>imdbDisplay</td>\n",
              "      <td>nm0001379</td>\n",
              "      <td>nm0000053</td>\n",
              "      <td>nm0000039</td>\n",
              "    </tr>\n",
              "    <tr>\n",
              "      <th>2</th>\n",
              "      <td>tt0078196</td>\n",
              "      <td>Made in Iran</td>\n",
              "      <td>0</td>\n",
              "      <td>Crime,Drama</td>\n",
              "      <td>7.0</td>\n",
              "      <td>XWW</td>\n",
              "      <td>en</td>\n",
              "      <td>imdbDisplay</td>\n",
              "      <td>nm0618881</td>\n",
              "      <td>nm0705282</td>\n",
              "      <td>nm0074038</td>\n",
              "    </tr>\n",
              "    <tr>\n",
              "      <th>3</th>\n",
              "      <td>tt0108615</td>\n",
              "      <td>Red Beads</td>\n",
              "      <td>0</td>\n",
              "      <td>Drama</td>\n",
              "      <td>6.1</td>\n",
              "      <td>XWW</td>\n",
              "      <td>en</td>\n",
              "      <td>imdbDisplay</td>\n",
              "      <td>nm0372087</td>\n",
              "      <td>nm0422629</td>\n",
              "      <td>nm0443752</td>\n",
              "    </tr>\n",
              "    <tr>\n",
              "      <th>4</th>\n",
              "      <td>tt0119711</td>\n",
              "      <td>Mother and Son</td>\n",
              "      <td>0</td>\n",
              "      <td>Drama</td>\n",
              "      <td>7.5</td>\n",
              "      <td>XWW, JP</td>\n",
              "      <td>en</td>\n",
              "      <td>imdbDisplay</td>\n",
              "      <td>nm0812546</td>\n",
              "      <td>nm0025651</td>\n",
              "      <td>nm0315407</td>\n",
              "    </tr>\n",
              "  </tbody>\n",
              "</table>\n",
              "</div>"
            ],
            "text/plain": [
              "      tconst               primaryTitle  isAdult               genres  \\\n",
              "0  tt0045040  A Treasure on Bird Island        0            Animation   \n",
              "1  tt0050490  Heaven Knows, Mr. Allison        0  Adventure,Drama,War   \n",
              "2  tt0078196               Made in Iran        0          Crime,Drama   \n",
              "3  tt0108615                  Red Beads        0                Drama   \n",
              "4  tt0119711             Mother and Son        0                Drama   \n",
              "\n",
              "   averageRating    region language        types   director      actor  \\\n",
              "0            6.6  XEU, XWW       en  imdbDisplay  nm0954724  nm1227995   \n",
              "1            7.4        CA       en  imdbDisplay  nm0001379  nm0000053   \n",
              "2            7.0       XWW       en  imdbDisplay  nm0618881  nm0705282   \n",
              "3            6.1       XWW       en  imdbDisplay  nm0372087  nm0422629   \n",
              "4            7.5   XWW, JP       en  imdbDisplay  nm0812546  nm0025651   \n",
              "\n",
              "     actress  \n",
              "0  nm1785269  \n",
              "1  nm0000039  \n",
              "2  nm0074038  \n",
              "3  nm0443752  \n",
              "4  nm0315407  "
            ]
          },
          "metadata": {
            "tags": []
          },
          "execution_count": 114
        }
      ]
    },
    {
      "cell_type": "code",
      "metadata": {
        "id": "8FNx16Fus386",
        "colab_type": "code",
        "outputId": "6fb60936-b6eb-4b5d-f5aa-ed7165760066",
        "colab": {
          "base_uri": "https://localhost:8080/",
          "height": 34
        }
      },
      "source": [
        "len(movie_final_df)"
      ],
      "execution_count": 0,
      "outputs": [
        {
          "output_type": "execute_result",
          "data": {
            "text/plain": [
              "157"
            ]
          },
          "metadata": {
            "tags": []
          },
          "execution_count": 140
        }
      ]
    },
    {
      "cell_type": "code",
      "metadata": {
        "id": "rzTYwRKQlE9J",
        "colab_type": "code",
        "colab": {}
      },
      "source": [
        "genres_unique = movie_final_df.genres.unique()"
      ],
      "execution_count": 0,
      "outputs": []
    },
    {
      "cell_type": "code",
      "metadata": {
        "id": "D4X5Z5yHlVE_",
        "colab_type": "code",
        "colab": {}
      },
      "source": [
        "genres = []\n",
        "for genre_string in genres_unique:\n",
        "  genre_list = genre_string.split(\",\")\n",
        "  for genre in genre_list:\n",
        "    if genre not in genres:\n",
        "      genres.append(genre)"
      ],
      "execution_count": 0,
      "outputs": []
    },
    {
      "cell_type": "code",
      "metadata": {
        "id": "Z7HD_j39mP0E",
        "colab_type": "code",
        "colab": {}
      },
      "source": [
        "size = len(movie_final_df)"
      ],
      "execution_count": 0,
      "outputs": []
    },
    {
      "cell_type": "code",
      "metadata": {
        "id": "VYUXIMfbmDGM",
        "colab_type": "code",
        "colab": {}
      },
      "source": [
        "temp_matrix = np.zeros([size,len(genres)])"
      ],
      "execution_count": 0,
      "outputs": []
    },
    {
      "cell_type": "code",
      "metadata": {
        "id": "cGp1qMTVm5cV",
        "colab_type": "code",
        "colab": {}
      },
      "source": [
        "for i in range(size):\n",
        "  genre_string = movie_final_df.genres[i]\n",
        "  genre_list = genre_string.split(\",\")\n",
        "  for genre in genre_list:\n",
        "    ind = genres.index(genre)\n",
        "    temp_matrix[i][ind] = 1\n"
      ],
      "execution_count": 0,
      "outputs": []
    },
    {
      "cell_type": "code",
      "metadata": {
        "id": "Raa91q_9sesL",
        "colab_type": "code",
        "colab": {}
      },
      "source": [
        "temp_df = pd.DataFrame(temp_matrix, columns = genres)"
      ],
      "execution_count": 0,
      "outputs": []
    },
    {
      "cell_type": "code",
      "metadata": {
        "id": "cAXWKSLVss2k",
        "colab_type": "code",
        "outputId": "b9b8fde6-23a7-4a66-e65e-4a6cb02d5585",
        "colab": {
          "base_uri": "https://localhost:8080/",
          "height": 34
        }
      },
      "source": [
        "len(temp_df)"
      ],
      "execution_count": 0,
      "outputs": [
        {
          "output_type": "execute_result",
          "data": {
            "text/plain": [
              "157"
            ]
          },
          "metadata": {
            "tags": []
          },
          "execution_count": 139
        }
      ]
    }
  ]
}