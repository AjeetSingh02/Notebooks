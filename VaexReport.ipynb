{
  "nbformat": 4,
  "nbformat_minor": 0,
  "metadata": {
    "colab": {
      "name": "VaexReport.ipynb",
      "provenance": [],
      "collapsed_sections": [
        "xT2jHThQVqFh",
        "KCbGuuTmviBA",
        "kN9hdLAAcSKT",
        "dBlDQ1vjTCms",
        "QsTVc9Q8UXCc",
        "yXsT7W27UmPL",
        "1nQES8SVCxVZ",
        "rxB_sT1MyscE",
        "duj4Whc9E13X"
      ],
      "authorship_tag": "ABX9TyM3VoExJ4HRememgFG+YXST",
      "include_colab_link": true
    },
    "kernelspec": {
      "name": "python3",
      "display_name": "Python 3"
    }
  },
  "cells": [
    {
      "cell_type": "markdown",
      "metadata": {
        "id": "view-in-github",
        "colab_type": "text"
      },
      "source": [
        "<a href=\"https://colab.research.google.com/github/AjeetSingh02/Notebooks/blob/master/VaexReport.ipynb\" target=\"_parent\"><img src=\"https://colab.research.google.com/assets/colab-badge.svg\" alt=\"Open In Colab\"/></a>"
      ]
    },
    {
      "cell_type": "markdown",
      "metadata": {
        "id": "xT2jHThQVqFh",
        "colab_type": "text"
      },
      "source": [
        "# What is Vaex?"
      ]
    },
    {
      "cell_type": "markdown",
      "metadata": {
        "id": "QWQ7eFJ6v3yd",
        "colab_type": "text"
      },
      "source": [
        "Vaex is a **memory-efficient** and **incredibly fast** Python library that makes working with huge datasets a breeze. It does **memory-mapping** and never touches or copies the data unless explicitly requested.\n",
        "\n",
        "This makes it possible to **work with datasets that are the size of your hard drive**. Furthermore, it does **lazy computations**, works with **virtual columns**, does efficient **data cleansing**, computes fast **N-dimensional statistics**, creates **interactive visualization** and more.\n",
        "\n",
        "It can calculate statistics such as mean, sum, count, standard deviation etc, on an N-dimensional grid up to a billion (10^9) objects/rows per second"
      ]
    },
    {
      "cell_type": "markdown",
      "metadata": {
        "id": "zL3vEZj2J0oV",
        "colab_type": "text"
      },
      "source": [
        "**What is Memory Mapping?**\n",
        "\n"
      ]
    },
    {
      "cell_type": "markdown",
      "metadata": {
        "id": "cyYkuBDEwMAr",
        "colab_type": "text"
      },
      "source": [
        "A technique where you tell the operating system that you want a piece of memory to be in sync with the content on disk. It is technically quite similar to a swap disk. If a piece of memory isn’t modified, or not used for a while, the kernel will discard it so that RAM can be reused. Also, all processes that have the same file open share the same physical memory.\n",
        "\n",
        "Memory mapping is excellent, you can memory-map a 1 TB file instantly, and the kernel smartly decides what to read or discard. Now imagine you want to filter out some rows which contain irrelevant data. In pandas, with our 1 TB DataFrame we could do **df_filtered = df[df.x > 0]**, which makes a copy of all the data, taking up another 0.8 TB… well, actually you will see a MemoryError."
      ]
    },
    {
      "cell_type": "markdown",
      "metadata": {
        "id": "KCbGuuTmviBA",
        "colab_type": "text"
      },
      "source": [
        "#Installation and Import"
      ]
    },
    {
      "cell_type": "code",
      "metadata": {
        "id": "vXblq1xDb-HH",
        "colab_type": "code",
        "colab": {}
      },
      "source": [
        "%%capture\n",
        "! pip install --upgrade vaex"
      ],
      "execution_count": 0,
      "outputs": []
    },
    {
      "cell_type": "code",
      "metadata": {
        "id": "1Omre2y9cCho",
        "colab_type": "code",
        "colab": {}
      },
      "source": [
        "import vaex\n",
        "import pandas as pd\n",
        "\n",
        "import numpy as np"
      ],
      "execution_count": 0,
      "outputs": []
    },
    {
      "cell_type": "code",
      "metadata": {
        "id": "Vw992uMxcFKt",
        "colab_type": "code",
        "colab": {}
      },
      "source": [
        "path = \"/content/sample_data/california_housing_train.csv\"\n",
        "pandas_df = pd.read_csv(path) \n",
        "vaex_df = vaex.from_csv(path, copy_index=True)"
      ],
      "execution_count": 0,
      "outputs": []
    },
    {
      "cell_type": "markdown",
      "metadata": {
        "id": "8igNKEvTv7ax",
        "colab_type": "text"
      },
      "source": [
        "# Vaex Features"
      ]
    },
    {
      "cell_type": "markdown",
      "metadata": {
        "id": "kN9hdLAAcSKT",
        "colab_type": "text"
      },
      "source": [
        "#1. Vaex has same API as Pandas for column access"
      ]
    },
    {
      "cell_type": "code",
      "metadata": {
        "id": "-aR_kg0ncbE3",
        "colab_type": "code",
        "outputId": "c8a5fb90-f888-4d5b-d67c-910c467c5e1c",
        "colab": {
          "base_uri": "https://localhost:8080/",
          "height": 61
        }
      },
      "source": [
        "vaex_df.head(1)"
      ],
      "execution_count": 0,
      "outputs": [
        {
          "output_type": "execute_result",
          "data": {
            "text/plain": [
              "  #    longitude    latitude    housing_median_age    total_rooms    total_bedrooms    population    households    median_income    median_house_value    index\n",
              "  0      -114.31       34.19                    15           5612              1283          1015           472           1.4936                 66900        0"
            ],
            "text/html": [
              "<table>\n",
              "<thead>\n",
              "<tr><th>#                            </th><th style=\"text-align: right;\">  longitude</th><th style=\"text-align: right;\">  latitude</th><th style=\"text-align: right;\">  housing_median_age</th><th style=\"text-align: right;\">  total_rooms</th><th style=\"text-align: right;\">  total_bedrooms</th><th style=\"text-align: right;\">  population</th><th style=\"text-align: right;\">  households</th><th style=\"text-align: right;\">  median_income</th><th style=\"text-align: right;\">  median_house_value</th><th style=\"text-align: right;\">  index</th></tr>\n",
              "</thead>\n",
              "<tbody>\n",
              "<tr><td><i style='opacity: 0.6'>0</i></td><td style=\"text-align: right;\">    -114.31</td><td style=\"text-align: right;\">     34.19</td><td style=\"text-align: right;\">                  15</td><td style=\"text-align: right;\">         5612</td><td style=\"text-align: right;\">            1283</td><td style=\"text-align: right;\">        1015</td><td style=\"text-align: right;\">         472</td><td style=\"text-align: right;\">         1.4936</td><td style=\"text-align: right;\">               66900</td><td style=\"text-align: right;\">      0</td></tr>\n",
              "</tbody>\n",
              "</table>"
            ]
          },
          "metadata": {
            "tags": []
          },
          "execution_count": 17
        }
      ]
    },
    {
      "cell_type": "code",
      "metadata": {
        "id": "wynoOJa84K4B",
        "colab_type": "code",
        "outputId": "b86e0cbc-6297-42bd-f1f9-91713e7c2a54",
        "colab": {
          "base_uri": "https://localhost:8080/",
          "height": 136
        }
      },
      "source": [
        "vaex_df.longitude[3:7]"
      ],
      "execution_count": 0,
      "outputs": [
        {
          "output_type": "execute_result",
          "data": {
            "text/plain": [
              "Expression = longitude\n",
              "Length: 4 dtype: float64 (column)\n",
              "---------------------------------\n",
              "0  -114.57\n",
              "1  -114.57\n",
              "2  -114.58\n",
              "3  -114.58"
            ]
          },
          "metadata": {
            "tags": []
          },
          "execution_count": 40
        }
      ]
    },
    {
      "cell_type": "code",
      "metadata": {
        "id": "4YvciOa64w7W",
        "colab_type": "code",
        "outputId": "d6f93acf-121f-415e-ca51-2c4e1c1b545f",
        "colab": {
          "base_uri": "https://localhost:8080/",
          "height": 145
        }
      },
      "source": [
        "vaex_df[vaex_df.housing_median_age > 30][\"housing_median_age\", \"total_rooms\"][:5]"
      ],
      "execution_count": 0,
      "outputs": [
        {
          "output_type": "execute_result",
          "data": {
            "text/plain": [
              "  #    housing_median_age    total_rooms\n",
              "  0                    41            812\n",
              "  1                    34           4789\n",
              "  2                    46           1497\n",
              "  3                    48           1291\n",
              "  4                    31           2478"
            ],
            "text/html": [
              "<table>\n",
              "<thead>\n",
              "<tr><th>#                            </th><th style=\"text-align: right;\">  housing_median_age</th><th style=\"text-align: right;\">  total_rooms</th></tr>\n",
              "</thead>\n",
              "<tbody>\n",
              "<tr><td><i style='opacity: 0.6'>0</i></td><td style=\"text-align: right;\">                  41</td><td style=\"text-align: right;\">          812</td></tr>\n",
              "<tr><td><i style='opacity: 0.6'>1</i></td><td style=\"text-align: right;\">                  34</td><td style=\"text-align: right;\">         4789</td></tr>\n",
              "<tr><td><i style='opacity: 0.6'>2</i></td><td style=\"text-align: right;\">                  46</td><td style=\"text-align: right;\">         1497</td></tr>\n",
              "<tr><td><i style='opacity: 0.6'>3</i></td><td style=\"text-align: right;\">                  48</td><td style=\"text-align: right;\">         1291</td></tr>\n",
              "<tr><td><i style='opacity: 0.6'>4</i></td><td style=\"text-align: right;\">                  31</td><td style=\"text-align: right;\">         2478</td></tr>\n",
              "</tbody>\n",
              "</table>"
            ]
          },
          "metadata": {
            "tags": []
          },
          "execution_count": 58
        }
      ]
    },
    {
      "cell_type": "markdown",
      "metadata": {
        "id": "dBlDQ1vjTCms",
        "colab_type": "text"
      },
      "source": [
        "#2. Vaex is lazy\n"
      ]
    },
    {
      "cell_type": "markdown",
      "metadata": {
        "id": "zpO2E1HUyc8j",
        "colab_type": "text"
      },
      "source": [
        "When executing an expression such as **np.sqrt(ds.x^2 + ds.y^2)**, **no computations happen**. A vaex expression object is created instead, and when printed out it shows some preview values.\n",
        "\n",
        "With the expression system, **vaex performs calculations only when needed**."
      ]
    },
    {
      "cell_type": "code",
      "metadata": {
        "id": "uluTjtqocq0D",
        "colab_type": "code",
        "outputId": "16f6635f-f928-4474-ed77-a87a5478f5d7",
        "colab": {
          "base_uri": "https://localhost:8080/",
          "height": 255
        }
      },
      "source": [
        "np.sqrt(vaex_df.housing_median_age ** 2+ vaex_df.total_rooms ** 2)"
      ],
      "execution_count": 0,
      "outputs": [
        {
          "output_type": "execute_result",
          "data": {
            "text/plain": [
              "Expression = sqrt(((housing_median_age ** 2) + (total_rooms ** 2)))\n",
              "Length: 17,000 dtype: float64 (expression)\n",
              "------------------------------------------\n",
              "    0  5612.02\n",
              "    1  7650.02\n",
              "    2  720.201\n",
              "    3  1501.07\n",
              "    4  1454.14\n",
              "     ...      \n",
              "16995  2217.61\n",
              "16996  2349.28\n",
              "16997  2677.05\n",
              "16998  2672.07\n",
              "16999  1820.74"
            ]
          },
          "metadata": {
            "tags": []
          },
          "execution_count": 18
        }
      ]
    },
    {
      "cell_type": "markdown",
      "metadata": {
        "id": "0uO9ZVjKrQNx",
        "colab_type": "text"
      },
      "source": [
        "**NOTE**: Only the values you see are evaluated."
      ]
    },
    {
      "cell_type": "markdown",
      "metadata": {
        "id": "QsTVc9Q8UXCc",
        "colab_type": "text"
      },
      "source": [
        "#3. Virtual columns\n"
      ]
    },
    {
      "cell_type": "markdown",
      "metadata": {
        "id": "Oai-N0NlyhZB",
        "colab_type": "text"
      },
      "source": [
        "We can also add expressions to a DataFrame, which result in virtual columns. A virtual column behaves like a regular column but occupies no memory. Vaex makes no distinction between real and virtual columns, they are treated on equal footing."
      ]
    },
    {
      "cell_type": "code",
      "metadata": {
        "id": "2-Xr8W2grpvk",
        "colab_type": "code",
        "colab": {}
      },
      "source": [
        "vaex_df['r'] = np.sqrt(vaex_df.housing_median_age ** 2+ vaex_df.total_rooms ** 2)  # add a (virtual) column that will be computed on the fly"
      ],
      "execution_count": 0,
      "outputs": []
    },
    {
      "cell_type": "code",
      "metadata": {
        "id": "_Pmwzi_4r7x9",
        "colab_type": "code",
        "outputId": "106da0a0-2a0a-401e-d93c-82add7424774",
        "colab": {
          "base_uri": "https://localhost:8080/",
          "height": 255
        }
      },
      "source": [
        "vaex_df.r"
      ],
      "execution_count": 0,
      "outputs": [
        {
          "output_type": "execute_result",
          "data": {
            "text/plain": [
              "Expression = r\n",
              "Length: 17,000 dtype: float64 (column)\n",
              "--------------------------------------\n",
              "    0  5612.02\n",
              "    1  7650.02\n",
              "    2  720.201\n",
              "    3  1501.07\n",
              "    4  1454.14\n",
              "     ...      \n",
              "16995  2217.61\n",
              "16996  2349.28\n",
              "16997  2677.05\n",
              "16998  2672.07\n",
              "16999  1820.74"
            ]
          },
          "metadata": {
            "tags": []
          },
          "execution_count": 20
        }
      ]
    },
    {
      "cell_type": "code",
      "metadata": {
        "id": "na_RcsCTr5oe",
        "colab_type": "code",
        "outputId": "bc284960-99b5-4663-b0bc-d10882db8785",
        "colab": {
          "base_uri": "https://localhost:8080/",
          "height": 34
        }
      },
      "source": [
        "vaex_df.mean(vaex_df.housing_median_age), vaex_df.mean(vaex_df.r)  # calculate statistics on normal and virtual columns"
      ],
      "execution_count": 0,
      "outputs": [
        {
          "output_type": "execute_result",
          "data": {
            "text/plain": [
              "(array(28.58935294), array(2644.06865098))"
            ]
          },
          "metadata": {
            "tags": []
          },
          "execution_count": 10
        }
      ]
    },
    {
      "cell_type": "markdown",
      "metadata": {
        "id": "MgIyGHtEUeL2",
        "colab_type": "text"
      },
      "source": [
        "**What if an expression is really expensive to compute on the fly?** \n",
        "\n",
        "By using Pythran or Numba, we can optimize the computation using manual Just-In-Time (JIT) compilation.\n",
        "\n",
        "**If we have plenty of RAM?** \n",
        "\n",
        "We can materialize the column. You can choose to squeeze out extra performance at the cost of RAM."
      ]
    },
    {
      "cell_type": "code",
      "metadata": {
        "id": "yGFzIShUsdvF",
        "colab_type": "code",
        "colab": {}
      },
      "source": [
        "df_m = vaex_df.materialize('r') # A new dataframe will be returned"
      ],
      "execution_count": 0,
      "outputs": []
    },
    {
      "cell_type": "markdown",
      "metadata": {
        "id": "yXsT7W27UmPL",
        "colab_type": "text"
      },
      "source": [
        "#4. Data cleansing"
      ]
    },
    {
      "cell_type": "markdown",
      "metadata": {
        "id": "c0yCGh5Eynnd",
        "colab_type": "text"
      },
      "source": [
        "Filtering of a DataFrame, such as **ds_filtered = ds[ds.x >0]** merely results in a reference to the existing data plus a boolean mask keeping track which rows are selected and which are not. Almost no memory usage, and no memory copying going on."
      ]
    },
    {
      "cell_type": "code",
      "metadata": {
        "id": "hIf7gVEsvPGo",
        "colab_type": "code",
        "outputId": "a1ec6e59-ec4c-4e34-e55d-2b6b9c4f5432",
        "colab": {
          "base_uri": "https://localhost:8080/",
          "height": 145
        }
      },
      "source": [
        "temp1 = vaex_df[vaex_df.housing_median_age < 30]  # easily filter your DataFrame, without making a copy\n",
        "temp1[:5][['housing_median_age', 'total_rooms']]  # take the first five rows, and only the 'housing_median_age' and 'total_rooms' column (no memory copy!)"
      ],
      "execution_count": 0,
      "outputs": [
        {
          "output_type": "execute_result",
          "data": {
            "text/plain": [
              "  #    housing_median_age    total_rooms\n",
              "  0                    15           5612\n",
              "  1                    19           7650\n",
              "  2                    17            720\n",
              "  3                    14           1501\n",
              "  4                    20           1454"
            ],
            "text/html": [
              "<table>\n",
              "<thead>\n",
              "<tr><th>#                            </th><th style=\"text-align: right;\">  housing_median_age</th><th style=\"text-align: right;\">  total_rooms</th></tr>\n",
              "</thead>\n",
              "<tbody>\n",
              "<tr><td><i style='opacity: 0.6'>0</i></td><td style=\"text-align: right;\">                  15</td><td style=\"text-align: right;\">         5612</td></tr>\n",
              "<tr><td><i style='opacity: 0.6'>1</i></td><td style=\"text-align: right;\">                  19</td><td style=\"text-align: right;\">         7650</td></tr>\n",
              "<tr><td><i style='opacity: 0.6'>2</i></td><td style=\"text-align: right;\">                  17</td><td style=\"text-align: right;\">          720</td></tr>\n",
              "<tr><td><i style='opacity: 0.6'>3</i></td><td style=\"text-align: right;\">                  14</td><td style=\"text-align: right;\">         1501</td></tr>\n",
              "<tr><td><i style='opacity: 0.6'>4</i></td><td style=\"text-align: right;\">                  20</td><td style=\"text-align: right;\">         1454</td></tr>\n",
              "</tbody>\n",
              "</table>"
            ]
          },
          "metadata": {
            "tags": []
          },
          "execution_count": 34
        }
      ]
    },
    {
      "cell_type": "markdown",
      "metadata": {
        "id": "KpZE_ln6xbkf",
        "colab_type": "text"
      },
      "source": [
        "When dealing with huge datasets, say a billion rows (10^9), computations with the data can waste memory, up to 8 GB for a new column. Instead, vaex uses lazy computation, storing only a representation of the computation, and computations are done on the fly when needed."
      ]
    },
    {
      "cell_type": "markdown",
      "metadata": {
        "id": "FNexOD16xf_7",
        "colab_type": "text"
      },
      "source": [
        "This is **similar to how TensorFlow works**. Like TensorFlow which creates DAG (Directed Ascyclic Graph), Vaex creates representation of the computation. The benifit of this method is that only when there is requirement of the output, the calulations will be done. Till then there will be no calculation and thus the RAM which is utilized in storing data will be free."
      ]
    },
    {
      "cell_type": "markdown",
      "metadata": {
        "id": "eIKwNBrbxtvB",
        "colab_type": "text"
      },
      "source": [
        "When you apply your operations, you can print out the dataframe, and directly see a preview (head and tail), without any delay. **Only the values you see are evaluated.**"
      ]
    },
    {
      "cell_type": "code",
      "metadata": {
        "id": "EmwShdtZxwSS",
        "colab_type": "code",
        "outputId": "fe088185-1ffd-4cdb-e258-4d31ecc2d4b8",
        "colab": {
          "base_uri": "https://localhost:8080/",
          "height": 255
        }
      },
      "source": [
        "# creates an expression (nothing is computed)\n",
        "some_expression = vaex_df.housing_median_age + vaex_df.total_rooms\n",
        "some_expression  # for convenience, we print out some values"
      ],
      "execution_count": 0,
      "outputs": [
        {
          "output_type": "execute_result",
          "data": {
            "text/plain": [
              "Expression = (housing_median_age + total_rooms)\n",
              "Length: 17,000 dtype: float64 (expression)\n",
              "------------------------------------------\n",
              "    0  5627\n",
              "    1  7669\n",
              "    2   737\n",
              "    3  1515\n",
              "    4  1474\n",
              "    ...    \n",
              "16995  2269\n",
              "16996  2385\n",
              "16997  2694\n",
              "16998  2691\n",
              "16999  1872"
            ]
          },
          "metadata": {
            "tags": []
          },
          "execution_count": 31
        }
      ]
    },
    {
      "cell_type": "markdown",
      "metadata": {
        "id": "1nQES8SVCxVZ",
        "colab_type": "text"
      },
      "source": [
        "#5. Statistics on N-d grids"
      ]
    },
    {
      "cell_type": "markdown",
      "metadata": {
        "id": "BxiigkrPDAmw",
        "colab_type": "text"
      },
      "source": [
        "A core feature of Vaex is the extremely efficient calculation of statistics on N-dimensional grids. This is rather useful for making visualisations of large datasets."
      ]
    },
    {
      "cell_type": "code",
      "metadata": {
        "id": "gIPFFF5ECAsv",
        "colab_type": "code",
        "outputId": "90366ab3-ac95-43f9-85ac-0ed3d4c04c42",
        "colab": {
          "base_uri": "https://localhost:8080/",
          "height": 34
        }
      },
      "source": [
        "vaex_df.count()"
      ],
      "execution_count": 0,
      "outputs": [
        {
          "output_type": "execute_result",
          "data": {
            "text/plain": [
              "array(17000)"
            ]
          },
          "metadata": {
            "tags": []
          },
          "execution_count": 104
        }
      ]
    },
    {
      "cell_type": "code",
      "metadata": {
        "id": "pomMvYnDC5S_",
        "colab_type": "code",
        "outputId": "aa45f2ab-6efa-4492-bcbb-bdff0a144e7a",
        "colab": {
          "base_uri": "https://localhost:8080/",
          "height": 34
        }
      },
      "source": [
        "vaex_df.mean(vaex_df.total_bedrooms)"
      ],
      "execution_count": 0,
      "outputs": [
        {
          "output_type": "execute_result",
          "data": {
            "text/plain": [
              "array(539.41082353)"
            ]
          },
          "metadata": {
            "tags": []
          },
          "execution_count": 111
        }
      ]
    },
    {
      "cell_type": "code",
      "metadata": {
        "id": "YQzBIx8UCTM7",
        "colab_type": "code",
        "outputId": "8c48f49a-e4df-4652-d489-2d2a0d11dd6c",
        "colab": {
          "base_uri": "https://localhost:8080/",
          "height": 61
        }
      },
      "source": [
        "vaex_df.head(1)"
      ],
      "execution_count": 0,
      "outputs": [
        {
          "output_type": "execute_result",
          "data": {
            "text/plain": [
              "  #    longitude    latitude    housing_median_age    total_rooms    total_bedrooms    population    households    median_income    median_house_value    index        r\n",
              "  0      -114.31       34.19                    15           5612              1283          1015           472           1.4936                 66900        0  5612.02"
            ],
            "text/html": [
              "<table>\n",
              "<thead>\n",
              "<tr><th>#                            </th><th style=\"text-align: right;\">  longitude</th><th style=\"text-align: right;\">  latitude</th><th style=\"text-align: right;\">  housing_median_age</th><th style=\"text-align: right;\">  total_rooms</th><th style=\"text-align: right;\">  total_bedrooms</th><th style=\"text-align: right;\">  population</th><th style=\"text-align: right;\">  households</th><th style=\"text-align: right;\">  median_income</th><th style=\"text-align: right;\">  median_house_value</th><th style=\"text-align: right;\">  index</th><th style=\"text-align: right;\">      r</th></tr>\n",
              "</thead>\n",
              "<tbody>\n",
              "<tr><td><i style='opacity: 0.6'>0</i></td><td style=\"text-align: right;\">    -114.31</td><td style=\"text-align: right;\">     34.19</td><td style=\"text-align: right;\">                  15</td><td style=\"text-align: right;\">         5612</td><td style=\"text-align: right;\">            1283</td><td style=\"text-align: right;\">        1015</td><td style=\"text-align: right;\">         472</td><td style=\"text-align: right;\">         1.4936</td><td style=\"text-align: right;\">               66900</td><td style=\"text-align: right;\">      0</td><td style=\"text-align: right;\">5612.02</td></tr>\n",
              "</tbody>\n",
              "</table>"
            ]
          },
          "metadata": {
            "tags": []
          },
          "execution_count": 106
        }
      ]
    },
    {
      "cell_type": "markdown",
      "metadata": {
        "id": "oK6IfZd1DDhH",
        "colab_type": "text"
      },
      "source": [
        "Similar to SQL’s groupby, Vaex uses the **binby** concept, which tells Vaex that a statistic should be calculated on a regular grid (for performance reasons)"
      ]
    },
    {
      "cell_type": "code",
      "metadata": {
        "id": "lq7hZZ0FCPyl",
        "colab_type": "code",
        "outputId": "95b6866a-aff7-4664-9ff8-026d9a572989",
        "colab": {
          "base_uri": "https://localhost:8080/",
          "height": 102
        }
      },
      "source": [
        "xcounts = vaex_df.count(binby=vaex_df.housing_median_age, limits=[-10, 10], shape=64)\n",
        "xcounts"
      ],
      "execution_count": 0,
      "outputs": [
        {
          "output_type": "execute_result",
          "data": {
            "text/plain": [
              "array([  0,   0,   0,   0,   0,   0,   0,   0,   0,   0,   0,   0,   0,\n",
              "         0,   0,   0,   0,   0,   0,   0,   0,   0,   0,   0,   0,   0,\n",
              "         0,   0,   0,   0,   0,   0,   0,   0,   0,   2,   0,   0,  49,\n",
              "         0,   0,  46,   0,   0, 161,   0,   0,   0, 199,   0,   0, 129,\n",
              "         0,   0, 151,   0,   0, 178,   0,   0, 172,   0,   0,   0])"
            ]
          },
          "metadata": {
            "tags": []
          },
          "execution_count": 110
        }
      ]
    },
    {
      "cell_type": "markdown",
      "metadata": {
        "id": "O_pquyr3DJKL",
        "colab_type": "text"
      },
      "source": [
        "This results in a Numpy array with the number counts in 64 bins distributed between x = -10, and x = 10. We can quickly visualize this using Matplotlib."
      ]
    },
    {
      "cell_type": "code",
      "metadata": {
        "id": "xSMe7JvKDMvv",
        "colab_type": "code",
        "outputId": "b6423d15-697b-4751-bff7-7e21c97a17ac",
        "colab": {
          "base_uri": "https://localhost:8080/",
          "height": 265
        }
      },
      "source": [
        "import matplotlib.pylab as plt\n",
        "plt.plot(np.linspace(-10, 10, 64), xcounts)\n",
        "plt.show()"
      ],
      "execution_count": 0,
      "outputs": [
        {
          "output_type": "display_data",
          "data": {
            "image/png": "[encoded data removed]",
            "text/plain": [
              "<Figure size 432x288 with 1 Axes>"
            ]
          },
          "metadata": {
            "tags": []
          }
        }
      ]
    },
    {
      "cell_type": "markdown",
      "metadata": {
        "id": "dq9pKhgqDTxj",
        "colab_type": "text"
      },
      "source": [
        "We can do the same in 2D as well (this can be generalized to N-D actually!), and display it with Matplotlib."
      ]
    },
    {
      "cell_type": "markdown",
      "metadata": {
        "id": "rxB_sT1MyscE",
        "colab_type": "text"
      },
      "source": [
        "# Vaex Performance"
      ]
    },
    {
      "cell_type": "markdown",
      "metadata": {
        "id": "kpBp2KHgyxUz",
        "colab_type": "text"
      },
      "source": [
        "Compared to Pandas, string operations in Vaex are up to ~30–100x faster on quadcore laptop, and up to a 1000 times faster on a 32 core machine."
      ]
    },
    {
      "cell_type": "markdown",
      "metadata": {
        "id": "eyYi1zpH2MuV",
        "colab_type": "text"
      },
      "source": [
        "**How: The GIL, C++, and ApacheArrow**\n",
        "\n",
        "Three ingredients are involved: C++, Apache Arrow and the Global Interpreter Lock (GIL). \n",
        "\n",
        "In Python multithreading is hampered by the GIL, making all pure Python instructions effectively single threaded. When moving to C++, the GIL can be released and all cores of your machine will be used. To exploit this advantage, **Vaex does all string operations in C++**.\n",
        "\n",
        "The next ingredient is to define an in-memory and on-disk data structure that is efficient in memory usage, and this is where Apache Arrow comes into play. Apache Arrow defines a well thought out StringArray that can be stored on disk, is friendly to the CPU, and even supports masked/null values. On top of that, it means that all projects supporting the Apache Arrow format will be able to use the same data structure without any memory copying."
      ]
    },
    {
      "cell_type": "markdown",
      "metadata": {
        "id": "TuqcH4jw2mne",
        "colab_type": "text"
      },
      "source": [
        "**Pandas VS Spark VS Vaex**"
      ]
    },
    {
      "cell_type": "markdown",
      "metadata": {
        "id": "G01AccN02sN0",
        "colab_type": "text"
      },
      "source": [
        "Spark performs better than Pandas, which is expected due to multithreading. \n",
        "Also, in the experiments Vaex did much better than Spark. \n",
        "\n",
        "Overall we can say that if you want to do interactive work on your laptop:\n",
        "\n",
        "1. Pandas will do in the order of millions of strings per seconds (and does not scale)\n",
        "2. Spark will do in the order of 10 millions of strings per second (and will scale up with the number of cores and number of machines).\n",
        "3. Vaex can do in the order of 100 millions of strings per second, and will scale up with the number of cores. On a 32 core machine, we get in the order of a billion of strings per second."
      ]
    },
    {
      "cell_type": "markdown",
      "metadata": {
        "id": "duj4Whc9E13X",
        "colab_type": "text"
      },
      "source": [
        "# Conclusion"
      ]
    },
    {
      "cell_type": "markdown",
      "metadata": {
        "id": "3b5zt4WpE4YL",
        "colab_type": "text"
      },
      "source": [
        "1. Vaex is very similar to pandas in terms of API. Vaex team has claimed it to be faster than both pandas and Spark.\n",
        "You can check those results [here](https://towardsdatascience.com/vaex-a-dataframe-with-super-strings-789b92e8d861)\n",
        "\n",
        "\n",
        "2. Below we can see one functioning which is present in pandas and not in Vaex"
      ]
    },
    {
      "cell_type": "code",
      "metadata": {
        "id": "yWoe-kdiF9hc",
        "colab_type": "code",
        "outputId": "38dc27d7-388d-45d2-8525-6b12ea8f74fb",
        "colab": {
          "base_uri": "https://localhost:8080/",
          "height": 85
        }
      },
      "source": [
        "# This will give 1st to 4th row of 3rd column (indexing starts from 0)\n",
        "pandas_df.iloc[1:4, 3]"
      ],
      "execution_count": 0,
      "outputs": [
        {
          "output_type": "execute_result",
          "data": {
            "text/plain": [
              "1    7650.0\n",
              "2     720.0\n",
              "3    1501.0\n",
              "Name: total_rooms, dtype: float64"
            ]
          },
          "metadata": {
            "tags": []
          },
          "execution_count": 123
        }
      ]
    },
    {
      "cell_type": "code",
      "metadata": {
        "id": "YKbZ-K1tGErg",
        "colab_type": "code",
        "outputId": "00e56b9e-b150-4c49-d135-b8a6c62c1dd6",
        "colab": {
          "base_uri": "https://localhost:8080/",
          "height": 282
        }
      },
      "source": [
        "# This iloc functioning is not supported in Vaex and thus there will be error\n",
        "vaex_df.iloc[1:4, 3]"
      ],
      "execution_count": 0,
      "outputs": [
        {
          "output_type": "error",
          "ename": "AttributeError",
          "evalue": "ignored",
          "traceback": [
            "\u001b[0;31m---------------------------------------------------------------------------\u001b[0m",
            "\u001b[0;31mAttributeError\u001b[0m                            Traceback (most recent call last)",
            "\u001b[0;32m<ipython-input-124-bb0f11026755>\u001b[0m in \u001b[0;36m<module>\u001b[0;34m()\u001b[0m\n\u001b[0;32m----> 1\u001b[0;31m \u001b[0mvaex_df\u001b[0m\u001b[0;34m.\u001b[0m\u001b[0miloc\u001b[0m\u001b[0;34m[\u001b[0m\u001b[0;36m1\u001b[0m\u001b[0;34m:\u001b[0m\u001b[0;36m4\u001b[0m\u001b[0;34m,\u001b[0m \u001b[0;36m3\u001b[0m\u001b[0;34m]\u001b[0m\u001b[0;34m\u001b[0m\u001b[0;34m\u001b[0m\u001b[0m\n\u001b[0m",
            "\u001b[0;32m/usr/local/lib/python3.6/dist-packages/vaex/dataframe.py\u001b[0m in \u001b[0;36m__getattr__\u001b[0;34m(self, name)\u001b[0m\n\u001b[1;32m    227\u001b[0m             \u001b[0;32mreturn\u001b[0m \u001b[0mself\u001b[0m\u001b[0;34m.\u001b[0m\u001b[0m__hidden__\u001b[0m\u001b[0;34m[\u001b[0m\u001b[0mname\u001b[0m\u001b[0;34m]\u001b[0m\u001b[0;34m.\u001b[0m\u001b[0m__get__\u001b[0m\u001b[0;34m(\u001b[0m\u001b[0mself\u001b[0m\u001b[0;34m)\u001b[0m\u001b[0;34m\u001b[0m\u001b[0;34m\u001b[0m\u001b[0m\n\u001b[1;32m    228\u001b[0m         \u001b[0;32melse\u001b[0m\u001b[0;34m:\u001b[0m\u001b[0;34m\u001b[0m\u001b[0;34m\u001b[0m\u001b[0m\n\u001b[0;32m--> 229\u001b[0;31m             \u001b[0;32mreturn\u001b[0m \u001b[0mobject\u001b[0m\u001b[0;34m.\u001b[0m\u001b[0m__getattribute__\u001b[0m\u001b[0;34m(\u001b[0m\u001b[0mself\u001b[0m\u001b[0;34m,\u001b[0m \u001b[0mname\u001b[0m\u001b[0;34m)\u001b[0m\u001b[0;34m\u001b[0m\u001b[0;34m\u001b[0m\u001b[0m\n\u001b[0m\u001b[1;32m    230\u001b[0m \u001b[0;34m\u001b[0m\u001b[0m\n\u001b[1;32m    231\u001b[0m     \u001b[0;34m@\u001b[0m\u001b[0mproperty\u001b[0m\u001b[0;34m\u001b[0m\u001b[0;34m\u001b[0m\u001b[0m\n",
            "\u001b[0;31mAttributeError\u001b[0m: 'DataFrameArrays' object has no attribute 'iloc'"
          ]
        }
      ]
    },
    {
      "cell_type": "markdown",
      "metadata": {
        "id": "UF_JSzc1IFtU",
        "colab_type": "text"
      },
      "source": [
        "3. Pandas will be around forever, its flexibility is unparalleled, and for a big part responsible for the Python’s popularity in data science [Source: [Article](https://towardsdatascience.com/vaex-a-dataframe-with-super-strings-789b92e8d861) by founder of Vaex]. \n",
        "\n",
        "4. There are many functioning of pandas which makes it so much important. Vaex can be a good alternative of Pandas for those functionings which Vaex also supports.\n",
        "\n",
        "5. But for the functionings which are not supported by Vaex we will have to use pandas only. On top of that Pandas team is working on version 2 which will be targetting the drawbacks of current pandas version. Though there are still no dates for its arrival."
      ]
    }
  ]
}