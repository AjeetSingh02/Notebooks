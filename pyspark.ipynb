{
  "nbformat": 4,
  "nbformat_minor": 0,
  "metadata": {
    "colab": {
      "name": "pyspark.ipynb",
      "provenance": [],
      "collapsed_sections": [],
      "include_colab_link": true
    },
    "kernelspec": {
      "name": "python3",
      "display_name": "Python 3"
    },
    "accelerator": "TPU"
  },
  "cells": [
    {
      "cell_type": "markdown",
      "metadata": {
        "id": "view-in-github",
        "colab_type": "text"
      },
      "source": [
        "<a href=\"https://colab.research.google.com/github/AjeetSingh02/Notebooks/blob/master/pyspark.ipynb\" target=\"_parent\"><img src=\"https://colab.research.google.com/assets/colab-badge.svg\" alt=\"Open In Colab\"/></a>"
      ]
    },
    {
      "cell_type": "code",
      "metadata": {
        "id": "WMbbHDVpUVkQ",
        "colab_type": "code",
        "colab": {}
      },
      "source": [
        "%%capture\n",
        "# !pip install ray"
      ],
      "execution_count": 0,
      "outputs": []
    },
    {
      "cell_type": "code",
      "metadata": {
        "id": "5rPxw73aRQdd",
        "colab_type": "code",
        "colab": {}
      },
      "source": [
        "%%capture\n",
        "# !pip install modin"
      ],
      "execution_count": 0,
      "outputs": []
    },
    {
      "cell_type": "code",
      "metadata": {
        "id": "AMBWwnwcUJLr",
        "colab_type": "code",
        "colab": {}
      },
      "source": [
        "# import ray"
      ],
      "execution_count": 0,
      "outputs": []
    },
    {
      "cell_type": "code",
      "metadata": {
        "id": "ak7Oom_dSw6z",
        "colab_type": "code",
        "colab": {}
      },
      "source": [
        "# import modin.pandas as pd"
      ],
      "execution_count": 0,
      "outputs": []
    },
    {
      "cell_type": "markdown",
      "metadata": {
        "id": "3CRiUBoLmHiO",
        "colab_type": "text"
      },
      "source": [
        "**PYSPARK**"
      ]
    },
    {
      "cell_type": "code",
      "metadata": {
        "id": "UIkGCuuyxoaI",
        "colab_type": "code",
        "outputId": "e579a499-1421-4c6e-ab0e-af02c64d4a46",
        "colab": {
          "base_uri": "https://localhost:8080/",
          "height": 68
        }
      },
      "source": [
        "#checking java version\n",
        "!java -version"
      ],
      "execution_count": 0,
      "outputs": [
        {
          "output_type": "stream",
          "text": [
            "openjdk version \"1.8.0_222\"\n",
            "OpenJDK Runtime Environment (build 1.8.0_222-8u222-b10-1ubuntu1~18.04.1-b10)\n",
            "OpenJDK 64-Bit Server VM (build 25.222-b10, mixed mode)\n"
          ],
          "name": "stdout"
        }
      ]
    },
    {
      "cell_type": "code",
      "metadata": {
        "id": "l3wCz_xS2Ep6",
        "colab_type": "code",
        "outputId": "b415bde4-e4f8-4585-a168-cd8c944e8a59",
        "colab": {
          "base_uri": "https://localhost:8080/",
          "height": 187
        }
      },
      "source": [
        "#installing version 8\n",
        "!sudo update-alternatives --config java"
      ],
      "execution_count": 0,
      "outputs": [
        {
          "output_type": "stream",
          "text": [
            "There are 2 choices for the alternative java (providing /usr/bin/java).\n",
            "\n",
            "  Selection    Path                                            Priority   Status\n",
            "------------------------------------------------------------\n",
            "* 0            /usr/lib/jvm/java-11-openjdk-amd64/bin/java      1111      auto mode\n",
            "  1            /usr/lib/jvm/java-11-openjdk-amd64/bin/java      1111      manual mode\n",
            "  2            /usr/lib/jvm/java-8-openjdk-amd64/jre/bin/java   1081      manual mode\n",
            "\n",
            "Press <enter> to keep the current choice[*], or type selection number: 2\n",
            "update-alternatives: using /usr/lib/jvm/java-8-openjdk-amd64/jre/bin/java to provide /usr/bin/java (java) in manual mode\n"
          ],
          "name": "stdout"
        }
      ]
    },
    {
      "cell_type": "code",
      "metadata": {
        "id": "sH3mMZuG3EUu",
        "colab_type": "code",
        "colab": {}
      },
      "source": [
        "#downloading Spark\n",
        "!wget -q http://apachemirror.wuchna.com/spark/spark-2.4.4/spark-2.4.4-bin-hadoop2.7.tgz"
      ],
      "execution_count": 0,
      "outputs": []
    },
    {
      "cell_type": "code",
      "metadata": {
        "id": "fpPWxOR14Nnf",
        "colab_type": "code",
        "colab": {}
      },
      "source": [
        "#Extracting Spark files\n",
        "!tar xf spark-2.4.4-bin-hadoop2.7.tgz"
      ],
      "execution_count": 0,
      "outputs": []
    },
    {
      "cell_type": "code",
      "metadata": {
        "id": "dvm5NREj4k-l",
        "colab_type": "code",
        "colab": {}
      },
      "source": [
        "#installing FindSpark\n",
        "'''Provides findspark.init() to make pyspark importable as a regular library.'''\n",
        "!pip install -q findspark"
      ],
      "execution_count": 0,
      "outputs": []
    },
    {
      "cell_type": "code",
      "metadata": {
        "id": "R12K1ySM5MZ8",
        "colab_type": "code",
        "colab": {}
      },
      "source": [
        "#Setting up ENV variables\n",
        "import os\n",
        "os.environ[\"JAVA_HOME\"] = \"/usr/lib/jvm/java-8-openjdk-amd64\"\n",
        "os.environ[\"SPARK_HOME\"] = \"/content/spark-2.4.4-bin-hadoop2.7\""
      ],
      "execution_count": 0,
      "outputs": []
    },
    {
      "cell_type": "code",
      "metadata": {
        "id": "10EC8bPf7LLi",
        "colab_type": "code",
        "colab": {}
      },
      "source": [
        "#creating spark session\n",
        "import findspark\n",
        "findspark.init()\n",
        "from pyspark.sql import SparkSession\n",
        "spark = SparkSession.builder.master(\"local[*]\").getOrCreate()"
      ],
      "execution_count": 0,
      "outputs": []
    },
    {
      "cell_type": "code",
      "metadata": {
        "id": "Fi57yvJ97_za",
        "colab_type": "code",
        "colab": {}
      },
      "source": [
        "#stopping the session\n",
        "#only one spark instance can run at a time\n",
        "spark.stop()"
      ],
      "execution_count": 0,
      "outputs": []
    },
    {
      "cell_type": "code",
      "metadata": {
        "id": "V1KbMymp8VnL",
        "colab_type": "code",
        "outputId": "c0a92a33-d489-4745-dcd0-2b3a16ba1e37",
        "colab": {
          "base_uri": "https://localhost:8080/",
          "height": 343
        }
      },
      "source": [
        "#installing py-spark\n",
        "!pip install pyspark"
      ],
      "execution_count": 0,
      "outputs": [
        {
          "output_type": "stream",
          "text": [
            "Collecting pyspark\n",
            "\u001b[?25l  Downloading https://files.pythonhosted.org/packages/87/21/f05c186f4ddb01d15d0ddc36ef4b7e3cedbeb6412274a41f26b55a650ee5/pyspark-2.4.4.tar.gz (215.7MB)\n",
            "\u001b[K     |████████████████████████████████| 215.7MB 67kB/s \n",
            "\u001b[?25hCollecting py4j==0.10.7\n",
            "\u001b[?25l  Downloading https://files.pythonhosted.org/packages/e3/53/c737818eb9a7dc32a7cd4f1396e787bd94200c3997c72c1dbe028587bd76/py4j-0.10.7-py2.py3-none-any.whl (197kB)\n",
            "\u001b[K     |████████████████████████████████| 204kB 54.1MB/s \n",
            "\u001b[?25hBuilding wheels for collected packages: pyspark\n",
            "  Building wheel for pyspark (setup.py) ... \u001b[?25l\u001b[?25hdone\n",
            "  Created wheel for pyspark: filename=pyspark-2.4.4-py2.py3-none-any.whl size=216130387 sha256=c7b2c2586eebb353f41ba4a7142ee8f12400c95b296d01243a5a5adfa9ec267f\n",
            "  Stored in directory: /root/.cache/pip/wheels/ab/09/4d/0d184230058e654eb1b04467dbc1292f00eaa186544604b471\n",
            "Successfully built pyspark\n",
            "Installing collected packages: py4j, pyspark\n",
            "Successfully installed py4j-0.10.7 pyspark-2.4.4\n"
          ],
          "name": "stdout"
        },
        {
          "output_type": "display_data",
          "data": {
            "application/vnd.colab-display-data+json": {
              "pip_warning": {
                "packages": [
                  "py4j",
                  "pyspark"
                ]
              }
            }
          },
          "metadata": {
            "tags": []
          }
        }
      ]
    },
    {
      "cell_type": "markdown",
      "metadata": {
        "id": "zUyL0gq08aRs",
        "colab_type": "text"
      },
      "source": [
        "**First PySpark Job**"
      ]
    },
    {
      "cell_type": "code",
      "metadata": {
        "id": "AGucpFFw5MyM",
        "colab_type": "code",
        "colab": {}
      },
      "source": [
        "import pyspark"
      ],
      "execution_count": 0,
      "outputs": []
    },
    {
      "cell_type": "code",
      "metadata": {
        "id": "brfcDlYF5M3W",
        "colab_type": "code",
        "colab": {}
      },
      "source": [
        "from pyspark import SparkConf\n",
        "from pyspark import SparkContext"
      ],
      "execution_count": 0,
      "outputs": []
    },
    {
      "cell_type": "code",
      "metadata": {
        "id": "T8R7aa3A86ua",
        "colab_type": "code",
        "colab": {}
      },
      "source": [
        "conf = SparkConf()\n",
        "conf.setMaster(\"local\")\n",
        "conf.setAppName(\"job1\")\n",
        "sc = SparkContext(conf=conf)"
      ],
      "execution_count": 0,
      "outputs": []
    },
    {
      "cell_type": "code",
      "metadata": {
        "id": "7cyHRZ4L5M9G",
        "colab_type": "code",
        "colab": {}
      },
      "source": [
        "#function to calculate mod\n",
        "import numpy as np\n",
        "\n",
        "def mod(x):\n",
        "    return (x, np.mod(x, 2))"
      ],
      "execution_count": 0,
      "outputs": []
    },
    {
      "cell_type": "code",
      "metadata": {
        "id": "mygef71n9j9U",
        "colab_type": "code",
        "outputId": "a440abc2-340a-45a3-eef7-91284be659a5",
        "colab": {
          "base_uri": "https://localhost:8080/",
          "height": 34
        }
      },
      "source": [
        "#creating an RDD\n",
        "rdd = sc.parallelize(range(1000)).map(mod).take(10)\n",
        "print(rdd)"
      ],
      "execution_count": 0,
      "outputs": [
        {
          "output_type": "stream",
          "text": [
            "[(0, 0), (1, 1), (2, 0), (3, 1), (4, 0), (5, 1), (6, 0), (7, 1), (8, 0), (9, 1)]\n"
          ],
          "name": "stdout"
        }
      ]
    },
    {
      "cell_type": "code",
      "metadata": {
        "id": "GicolclCY0M5",
        "colab_type": "code",
        "outputId": "0a1c8954-5234-4f81-cb17-dcdcfa328c9e",
        "colab": {
          "base_uri": "https://localhost:8080/",
          "height": 34
        }
      },
      "source": [
        "print(\"stay put\")"
      ],
      "execution_count": 0,
      "outputs": [
        {
          "output_type": "stream",
          "text": [
            "stay put\n"
          ],
          "name": "stdout"
        }
      ]
    },
    {
      "cell_type": "code",
      "metadata": {
        "id": "sGp7pK4i1H6j",
        "colab_type": "code",
        "colab": {}
      },
      "source": [
        "#creating RDD using list\n",
        "rdd = sc.parallelize([1,2,3,4,5])"
      ],
      "execution_count": 0,
      "outputs": []
    },
    {
      "cell_type": "code",
      "metadata": {
        "id": "eCuEziAt1IJJ",
        "colab_type": "code",
        "outputId": "79ca4b25-f731-447e-ae15-b8cc8c281728",
        "colab": {
          "base_uri": "https://localhost:8080/",
          "height": 34
        }
      },
      "source": [
        "rdd.take(4)"
      ],
      "execution_count": 0,
      "outputs": [
        {
          "output_type": "execute_result",
          "data": {
            "text/plain": [
              "[1, 2, 3, 4]"
            ]
          },
          "metadata": {
            "tags": []
          },
          "execution_count": 37
        }
      ]
    },
    {
      "cell_type": "code",
      "metadata": {
        "id": "MNNTuFCQ1QwG",
        "colab_type": "code",
        "outputId": "a84f6cb8-1d67-48a9-827a-423e225d4698",
        "colab": {
          "base_uri": "https://localhost:8080/",
          "height": 34
        }
      },
      "source": [
        "rdd.collect()"
      ],
      "execution_count": 0,
      "outputs": [
        {
          "output_type": "execute_result",
          "data": {
            "text/plain": [
              "[1, 2, 3, 4, 5]"
            ]
          },
          "metadata": {
            "tags": []
          },
          "execution_count": 36
        }
      ]
    },
    {
      "cell_type": "code",
      "metadata": {
        "id": "QE9xi42L9Og4",
        "colab_type": "code",
        "outputId": "9e8c68cb-a43e-4a3e-ef66-663d1683fee8",
        "colab": {
          "resources": {
            "http://localhost:8080/nbextensions/google.colab/files.js": {
              "data": "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",
              "ok": true,
              "headers": [
                [
                  "content-type",
                  "application/javascript"
                ]
              ],
              "status": 200,
              "status_text": ""
            }
          },
          "base_uri": "https://localhost:8080/",
          "height": 74
        }
      },
      "source": [
        "from google.colab import files\n",
        "uploaded = files.upload()"
      ],
      "execution_count": 0,
      "outputs": [
        {
          "output_type": "display_data",
          "data": {
            "text/html": [
              "\n",
              "     <input type=\"file\" id=\"files-ca91c2b0-63d4-474f-8e8e-f2e385ab0013\" name=\"files[]\" multiple disabled />\n",
              "     <output id=\"result-ca91c2b0-63d4-474f-8e8e-f2e385ab0013\">\n",
              "      Upload widget is only available when the cell has been executed in the\n",
              "      current browser session. Please rerun this cell to enable.\n",
              "      </output>\n",
              "      <script src=\"/nbextensions/google.colab/files.js\"></script> "
            ],
            "text/plain": [
              "<IPython.core.display.HTML object>"
            ]
          },
          "metadata": {
            "tags": []
          }
        },
        {
          "output_type": "stream",
          "text": [
            "Saving requirements.txt to requirements.txt\n"
          ],
          "name": "stdout"
        }
      ]
    },
    {
      "cell_type": "code",
      "metadata": {
        "id": "gfM3xgyf1bCk",
        "colab_type": "code",
        "colab": {}
      },
      "source": [
        "rdd = sc.textFile(\"requirements.txt\")"
      ],
      "execution_count": 0,
      "outputs": []
    },
    {
      "cell_type": "code",
      "metadata": {
        "id": "dDxY9PNl1qLo",
        "colab_type": "code",
        "outputId": "8591fbb8-dd3a-4bd9-bbc1-a49b20105b6a",
        "colab": {
          "base_uri": "https://localhost:8080/",
          "height": 34
        }
      },
      "source": [
        "rdd.take(3)"
      ],
      "execution_count": 0,
      "outputs": [
        {
          "output_type": "execute_result",
          "data": {
            "text/plain": [
              "['numpy==1.17.4']"
            ]
          },
          "metadata": {
            "tags": []
          },
          "execution_count": 43
        }
      ]
    },
    {
      "cell_type": "code",
      "metadata": {
        "id": "eXihnJhy1kVQ",
        "colab_type": "code",
        "outputId": "a8b706a1-e470-44ae-d199-698fadda6bed",
        "colab": {
          "base_uri": "https://localhost:8080/",
          "height": 34
        }
      },
      "source": [
        "rdd.collect()"
      ],
      "execution_count": 0,
      "outputs": [
        {
          "output_type": "execute_result",
          "data": {
            "text/plain": [
              "['numpy==1.17.4']"
            ]
          },
          "metadata": {
            "tags": []
          },
          "execution_count": 42
        }
      ]
    },
    {
      "cell_type": "markdown",
      "metadata": {
        "id": "rb2KyD4sMCRx",
        "colab_type": "text"
      },
      "source": [
        "**RDD Transformations**"
      ]
    },
    {
      "cell_type": "code",
      "metadata": {
        "id": "db7mqk099Ok_",
        "colab_type": "code",
        "outputId": "2abe94cf-65b0-47b2-83fd-3338be80a9c7",
        "colab": {
          "base_uri": "https://localhost:8080/",
          "height": 34
        }
      },
      "source": [
        "#RDD Persistence\n",
        "aba = sc.parallelize(range(1, 1000, 2))\n",
        "aba.persist()"
      ],
      "execution_count": 0,
      "outputs": [
        {
          "output_type": "execute_result",
          "data": {
            "text/plain": [
              "PythonRDD[23] at RDD at PythonRDD.scala:53"
            ]
          },
          "metadata": {
            "tags": []
          },
          "execution_count": 44
        }
      ]
    },
    {
      "cell_type": "code",
      "metadata": {
        "id": "mmM1ijeW9Oe1",
        "colab_type": "code",
        "outputId": "5dace2d3-6a74-414f-ebb0-a679086ac088",
        "colab": {
          "base_uri": "https://localhost:8080/",
          "height": 34
        }
      },
      "source": [
        "#RDD Caching\n",
        "textFile = sc.textFile(\"requirements.txt\")\n",
        "textFile.cache()"
      ],
      "execution_count": 0,
      "outputs": [
        {
          "output_type": "execute_result",
          "data": {
            "text/plain": [
              "requirements.txt MapPartitionsRDD[25] at textFile at NativeMethodAccessorImpl.java:0"
            ]
          },
          "metadata": {
            "tags": []
          },
          "execution_count": 45
        }
      ]
    },
    {
      "cell_type": "code",
      "metadata": {
        "id": "ZOnifjAm9OdM",
        "colab_type": "code",
        "outputId": "2a2152df-2249-4d6c-b709-5501c3669f03",
        "colab": {
          "base_uri": "https://localhost:8080/",
          "height": 34
        }
      },
      "source": [
        "#flatmap\n",
        "rdd = sc.parallelize([2,3,4,5,6,7,8])\n",
        "print(sorted(rdd.flatMap(lambda x: range(1, x)).collect()))"
      ],
      "execution_count": 0,
      "outputs": [
        {
          "output_type": "stream",
          "text": [
            "[1, 1, 1, 1, 1, 1, 1, 2, 2, 2, 2, 2, 2, 3, 3, 3, 3, 3, 4, 4, 4, 4, 5, 5, 5, 6, 6, 7]\n"
          ],
          "name": "stdout"
        }
      ]
    },
    {
      "cell_type": "code",
      "metadata": {
        "id": "mPOGUXEN9Oai",
        "colab_type": "code",
        "outputId": "6819dda8-34b3-4e49-9aa8-962103066f19",
        "colab": {
          "base_uri": "https://localhost:8080/",
          "height": 34
        }
      },
      "source": [
        "#filter\n",
        "rdd.filter(lambda x: x % 2 == 0).collect()"
      ],
      "execution_count": 0,
      "outputs": [
        {
          "output_type": "execute_result",
          "data": {
            "text/plain": [
              "[2, 4, 6, 8]"
            ]
          },
          "metadata": {
            "tags": []
          },
          "execution_count": 76
        }
      ]
    },
    {
      "cell_type": "code",
      "metadata": {
        "id": "qRe6W7f39DKz",
        "colab_type": "code",
        "outputId": "47a044ba-8e7e-4425-ac01-72bcc331d513",
        "colab": {
          "base_uri": "https://localhost:8080/",
          "height": 51
        }
      },
      "source": [
        "#sample\n",
        "print(rdd.sample(True, fraction=0.2, seed=3).count())\n",
        "print(rdd.sample(withReplacement=True, fraction=0.2, seed=3).collect())"
      ],
      "execution_count": 0,
      "outputs": [
        {
          "output_type": "stream",
          "text": [
            "3\n",
            "[2, 3, 7]\n"
          ],
          "name": "stdout"
        }
      ]
    },
    {
      "cell_type": "code",
      "metadata": {
        "id": "V4E-oBzm-tZI",
        "colab_type": "code",
        "outputId": "5bc1a7f3-46f7-4ad6-f206-efd166840c4e",
        "colab": {
          "base_uri": "https://localhost:8080/",
          "height": 51
        }
      },
      "source": [
        "#union\n",
        "rdd1 = sc.parallelize(range(7))\n",
        "rdd2 = sc.parallelize(range(5,10))\n",
        "print(rdd1.union(rdd2).collect())\n",
        "print(rdd1.union(rdd2).take(4))"
      ],
      "execution_count": 0,
      "outputs": [
        {
          "output_type": "stream",
          "text": [
            "[0, 1, 2, 3, 4, 5, 6, 5, 6, 7, 8, 9]\n",
            "[0, 1, 2, 3]\n"
          ],
          "name": "stdout"
        }
      ]
    },
    {
      "cell_type": "code",
      "metadata": {
        "id": "CE5RofTM_LQL",
        "colab_type": "code",
        "outputId": "3cda422c-12c7-4b5b-e229-1fd34fe9ebca",
        "colab": {
          "base_uri": "https://localhost:8080/",
          "height": 34
        }
      },
      "source": [
        "#intersection\n",
        "print(rdd1.intersection(rdd2).collect())"
      ],
      "execution_count": 0,
      "outputs": [
        {
          "output_type": "stream",
          "text": [
            "[6, 5]\n"
          ],
          "name": "stdout"
        }
      ]
    },
    {
      "cell_type": "code",
      "metadata": {
        "id": "oEcCZIBC9OXa",
        "colab_type": "code",
        "outputId": "1b855a7d-f5bf-4003-b53b-24f6db9cced4",
        "colab": {
          "base_uri": "https://localhost:8080/",
          "height": 34
        }
      },
      "source": [
        "#distinct\n",
        "rdd1 = sc.parallelize([1,2,3,4,1,2,3,4])\n",
        "rdd.distinct().collect()"
      ],
      "execution_count": 0,
      "outputs": [
        {
          "output_type": "execute_result",
          "data": {
            "text/plain": [
              "[2, 3, 4, 5, 6, 7, 8]"
            ]
          },
          "metadata": {
            "tags": []
          },
          "execution_count": 91
        }
      ]
    },
    {
      "cell_type": "code",
      "metadata": {
        "id": "ozlBgYB99OVc",
        "colab_type": "code",
        "outputId": "a23ce69c-b5de-49af-81e5-81ffd9d9f53f",
        "colab": {
          "base_uri": "https://localhost:8080/",
          "height": 68
        }
      },
      "source": [
        "#sortby\n",
        "rdd1 = sc.parallelize([4,5,6,2,3,4])\n",
        "print(rdd1.sortBy(lambda c: c, ascending=True).collect())\n",
        "\n",
        "rdd2 = sc.parallelize([(26,25), (23,1), (23,26)])\n",
        "print(rdd2.sortBy(lambda c: c, ascending=True).collect())\n",
        "\n",
        "rdd3 = sc.parallelize([(23,25), (23,1), (23,26)])\n",
        "print(rdd3.sortBy(lambda c: c, ascending=True).collect())"
      ],
      "execution_count": 0,
      "outputs": [
        {
          "output_type": "stream",
          "text": [
            "[2, 3, 4, 4, 5, 6]\n",
            "[(23, 1), (23, 26), (26, 25)]\n",
            "[(23, 1), (23, 25), (23, 26)]\n"
          ],
          "name": "stdout"
        }
      ]
    },
    {
      "cell_type": "code",
      "metadata": {
        "id": "VG5dJim09OTM",
        "colab_type": "code",
        "outputId": "3df0330a-369e-4ba0-ce0e-ba6d12fba4ae",
        "colab": {
          "base_uri": "https://localhost:8080/",
          "height": 34
        }
      },
      "source": [
        "#map partition\n",
        "rdd = sc.parallelize([1,2,3,4,4,5,6,7], numSlices=2)\n",
        "def f(iterator): yield sum(iterator)\n",
        "#In this case there are two slices but we will not be able to find the index of\n",
        "#slice corresponding to sum\n",
        "rdd.mapPartitions(f).collect()"
      ],
      "execution_count": 0,
      "outputs": [
        {
          "output_type": "execute_result",
          "data": {
            "text/plain": [
              "[10, 22]"
            ]
          },
          "metadata": {
            "tags": []
          },
          "execution_count": 106
        }
      ]
    },
    {
      "cell_type": "code",
      "metadata": {
        "id": "YxGsIuX19OP9",
        "colab_type": "code",
        "outputId": "8a76823e-0d7d-4295-eaf5-81aacd0c55fa",
        "colab": {
          "base_uri": "https://localhost:8080/",
          "height": 34
        }
      },
      "source": [
        "#map partition with index\n",
        "def f(splitIndex, iterator): yield (sum(iterator), splitIndex)\n",
        "rdd.mapPartitionsWithIndex(f).collect()"
      ],
      "execution_count": 0,
      "outputs": [
        {
          "output_type": "execute_result",
          "data": {
            "text/plain": [
              "[(10, 0), (22, 1)]"
            ]
          },
          "metadata": {
            "tags": []
          },
          "execution_count": 112
        }
      ]
    },
    {
      "cell_type": "code",
      "metadata": {
        "id": "TaaVl2VCELV1",
        "colab_type": "code",
        "outputId": "91cf6fd8-272d-4a34-b920-a8a30b2ab42f",
        "colab": {
          "base_uri": "https://localhost:8080/",
          "height": 34
        }
      },
      "source": [
        "# GrouBy\n",
        "rdd = sc.parallelize([1,1,2,3,5,8])\n",
        "result = rdd.groupBy(lambda x: x % 2 == 0).collect()\n",
        "sorted([(x, sorted(y)) for x,y in result])"
      ],
      "execution_count": 0,
      "outputs": [
        {
          "output_type": "execute_result",
          "data": {
            "text/plain": [
              "[(False, [1, 1, 3, 5]), (True, [2, 8])]"
            ]
          },
          "metadata": {
            "tags": []
          },
          "execution_count": 117
        }
      ]
    },
    {
      "cell_type": "code",
      "metadata": {
        "id": "1n7LdbIiFNs8",
        "colab_type": "code",
        "outputId": "ed8b8ca7-527c-4eb6-e8e1-4416f70a84ab",
        "colab": {
          "base_uri": "https://localhost:8080/",
          "height": 102
        }
      },
      "source": [
        "#keyby\n",
        "x = sc.parallelize(range(0,3)).keyBy(lambda x: x*x)\n",
        "y = sc.parallelize(zip(range(0,5), range(0,5)))\n",
        "[(x, list(map(list, y))) for x, y in sorted(x.cogroup(y).collect())]"
      ],
      "execution_count": 0,
      "outputs": [
        {
          "output_type": "execute_result",
          "data": {
            "text/plain": [
              "[(0, [[0], [0]]),\n",
              " (1, [[1], [1]]),\n",
              " (2, [[], [2]]),\n",
              " (3, [[], [3]]),\n",
              " (4, [[2], [4]])]"
            ]
          },
          "metadata": {
            "tags": []
          },
          "execution_count": 119
        }
      ]
    },
    {
      "cell_type": "code",
      "metadata": {
        "id": "5oIGqYxLGqcO",
        "colab_type": "code",
        "outputId": "2c00fbf3-5669-45f2-d867-ec3e6be98ed5",
        "colab": {
          "base_uri": "https://localhost:8080/",
          "height": 34
        }
      },
      "source": [
        "#zip\n",
        "x = sc.parallelize(range(0, 5))\n",
        "y = sc.parallelize(range(1000, 1005))\n",
        "x.zip(y).collect()"
      ],
      "execution_count": 0,
      "outputs": [
        {
          "output_type": "execute_result",
          "data": {
            "text/plain": [
              "[(0, 1000), (1, 1001), (2, 1002), (3, 1003), (4, 1004)]"
            ]
          },
          "metadata": {
            "tags": []
          },
          "execution_count": 123
        }
      ]
    },
    {
      "cell_type": "code",
      "metadata": {
        "id": "eFU4avlIHUzq",
        "colab_type": "code",
        "outputId": "d4743c9c-48f6-419a-b821-fe07a4b5f58b",
        "colab": {
          "base_uri": "https://localhost:8080/",
          "height": 34
        }
      },
      "source": [
        "#zip-with index\n",
        "x.zipWithIndex().collect()"
      ],
      "execution_count": 0,
      "outputs": [
        {
          "output_type": "execute_result",
          "data": {
            "text/plain": [
              "[(0, 0), (1, 1), (2, 2), (3, 3), (4, 4)]"
            ]
          },
          "metadata": {
            "tags": []
          },
          "execution_count": 124
        }
      ]
    },
    {
      "cell_type": "code",
      "metadata": {
        "id": "1p-WsSvDJtNy",
        "colab_type": "code",
        "outputId": "58cfa1e0-a202-4598-fadd-0ebefe663ea9",
        "colab": {
          "base_uri": "https://localhost:8080/",
          "height": 34
        }
      },
      "source": [
        "#Coalesce/ glom()\n",
        "\n",
        "'''\n",
        "rdd.glom()\n",
        "Return an RDD created by coalescing all elements within each partition \n",
        "into a list.'''\n",
        "\n",
        "rdd = sc.parallelize([1, 2, 3, 4], 2)\n",
        "sorted(rdd.glom().collect())"
      ],
      "execution_count": 0,
      "outputs": [
        {
          "output_type": "execute_result",
          "data": {
            "text/plain": [
              "[[1, 2], [3, 4]]"
            ]
          },
          "metadata": {
            "tags": []
          },
          "execution_count": 145
        }
      ]
    },
    {
      "cell_type": "code",
      "metadata": {
        "id": "fXDZfvgQ5M7I",
        "colab_type": "code",
        "outputId": "3fcefe3d-f197-4c68-c161-91d95f1387d8",
        "colab": {
          "base_uri": "https://localhost:8080/",
          "height": 85
        }
      },
      "source": [
        "#Repartition\n",
        "rdd = sc.parallelize([1,2,3,4,5,6,7], 4)\n",
        "\n",
        "#without Glom. No visible change except order change\n",
        "print(\"without Glom\", rdd.collect())\n",
        "print(\"without Glom\", rdd.repartition(2).collect())\n",
        "\n",
        "#with glom. Partition change visible\n",
        "print(\"with glom\", rdd.glom().collect())\n",
        "print(\"with glom\", rdd.repartition(2).glom().collect())"
      ],
      "execution_count": 0,
      "outputs": [
        {
          "output_type": "stream",
          "text": [
            "without Glom [1, 2, 3, 4, 5, 6, 7]\n",
            "without Glom [1, 4, 5, 6, 7, 2, 3]\n",
            "with glom [[1], [2, 3], [4, 5], [6, 7]]\n",
            "with glom [[1, 4, 5, 6, 7], [2, 3]]\n"
          ],
          "name": "stdout"
        }
      ]
    },
    {
      "cell_type": "markdown",
      "metadata": {
        "id": "QVYKfbzkL_uN",
        "colab_type": "text"
      },
      "source": [
        "**RDD Actions**"
      ]
    },
    {
      "cell_type": "code",
      "metadata": {
        "id": "MS_DIWUWK8aJ",
        "colab_type": "code",
        "outputId": "3d77d779-31f8-4c61-8643-7bf34ab98eb3",
        "colab": {
          "base_uri": "https://localhost:8080/",
          "height": 51
        }
      },
      "source": [
        "#Reduce\n",
        "from operator import add\n",
        "print(sc.parallelize([1,2,3,4,5,6]).reduce(add))\n",
        "print(sc.parallelize([2 for _ in range(10)]).map(lambda x: 1).cache().reduce(add))"
      ],
      "execution_count": 0,
      "outputs": [
        {
          "output_type": "stream",
          "text": [
            "21\n",
            "10\n"
          ],
          "name": "stdout"
        }
      ]
    },
    {
      "cell_type": "code",
      "metadata": {
        "id": "joY3G_zWORbp",
        "colab_type": "code",
        "outputId": "27fbf62d-5dec-467b-eba1-1a5dcc10c27e",
        "colab": {
          "base_uri": "https://localhost:8080/",
          "height": 34
        }
      },
      "source": [
        "#first\n",
        "sc.parallelize([45, 2,3,4]).first()"
      ],
      "execution_count": 0,
      "outputs": [
        {
          "output_type": "execute_result",
          "data": {
            "text/plain": [
              "45"
            ]
          },
          "metadata": {
            "tags": []
          },
          "execution_count": 158
        }
      ]
    },
    {
      "cell_type": "code",
      "metadata": {
        "id": "0xbgiqqTL_qz",
        "colab_type": "code",
        "outputId": "b85ecd20-cb03-4243-9885-08833885c21a",
        "colab": {
          "base_uri": "https://localhost:8080/",
          "height": 51
        }
      },
      "source": [
        "#takeOrdered\n",
        "print(sc.parallelize([2,3,4,3,2,1,6,0]).takeOrdered(4))\n",
        "print(sc.parallelize([2,3,4,3,2,1,6,0]).takeOrdered(22))"
      ],
      "execution_count": 0,
      "outputs": [
        {
          "output_type": "stream",
          "text": [
            "[0, 1, 2, 2]\n",
            "[0, 1, 2, 2, 3, 3, 4, 6]\n"
          ],
          "name": "stdout"
        }
      ]
    },
    {
      "cell_type": "code",
      "metadata": {
        "id": "LMC6smjtL_lH",
        "colab_type": "code",
        "outputId": "96c51c5c-8965-46dc-ba40-290ef15915de",
        "colab": {
          "base_uri": "https://localhost:8080/",
          "height": 51
        }
      },
      "source": [
        "#Take\n",
        "rdd = sc.parallelize([1,2,33,22,3,4,5,6])\n",
        "print(rdd.take(5))\n",
        "print(rdd.take(25))"
      ],
      "execution_count": 0,
      "outputs": [
        {
          "output_type": "stream",
          "text": [
            "[1, 2, 33, 22, 3]\n",
            "[1, 2, 33, 22, 3, 4, 5, 6]\n"
          ],
          "name": "stdout"
        }
      ]
    },
    {
      "cell_type": "code",
      "metadata": {
        "id": "HDa28N9lIrZe",
        "colab_type": "code",
        "outputId": "95e5a68d-8245-4039-864c-b02cefc8ad87",
        "colab": {
          "base_uri": "https://localhost:8080/",
          "height": 34
        }
      },
      "source": [
        "#Count\n",
        "print(rdd.count())"
      ],
      "execution_count": 0,
      "outputs": [
        {
          "output_type": "stream",
          "text": [
            "8\n"
          ],
          "name": "stdout"
        }
      ]
    },
    {
      "cell_type": "code",
      "metadata": {
        "id": "mybaO3cmPGts",
        "colab_type": "code",
        "outputId": "e53f0707-f6c5-4e94-aba0-dcce5850b698",
        "colab": {
          "base_uri": "https://localhost:8080/",
          "height": 51
        }
      },
      "source": [
        "# Collect\n",
        "print(rdd.collect())\n",
        "print(rdd.distinct().collect())"
      ],
      "execution_count": 0,
      "outputs": [
        {
          "output_type": "stream",
          "text": [
            "[1, 2, 33, 22, 3, 4, 5, 6]\n",
            "[1, 2, 33, 22, 3, 4, 5, 6]\n"
          ],
          "name": "stdout"
        }
      ]
    },
    {
      "cell_type": "code",
      "metadata": {
        "id": "Bjac-L8fP2V8",
        "colab_type": "code",
        "outputId": "85f1d07c-99b2-40a8-db8c-0262c123bbc9",
        "colab": {
          "base_uri": "https://localhost:8080/",
          "height": 34
        }
      },
      "source": [
        "# collectAsMap\n",
        "rdd1 = sc.parallelize([(1,\"a\"), (2,\"d\"), (3, \"3\")])\n",
        "rdd1.collectAsMap()"
      ],
      "execution_count": 0,
      "outputs": [
        {
          "output_type": "execute_result",
          "data": {
            "text/plain": [
              "{1: 'a', 2: 'd', 3: '3'}"
            ]
          },
          "metadata": {
            "tags": []
          },
          "execution_count": 169
        }
      ]
    },
    {
      "cell_type": "code",
      "metadata": {
        "id": "vPBJmTGNQWEf",
        "colab_type": "code",
        "colab": {}
      },
      "source": [
        "#saveAsTextFile\n",
        "'''Not working'''\n",
        "# rdd.saveAsTextFile(\"out/nothing.txt\")"
      ],
      "execution_count": 0,
      "outputs": []
    },
    {
      "cell_type": "code",
      "metadata": {
        "id": "HH1J3zm2RZNb",
        "colab_type": "code",
        "colab": {}
      },
      "source": [
        "#foreach\n",
        "def f(x): print(x)\n",
        "sc.parallelize([1,2,3,4]).foreach(f)"
      ],
      "execution_count": 0,
      "outputs": []
    },
    {
      "cell_type": "code",
      "metadata": {
        "id": "Tv4NzmDMPlFL",
        "colab_type": "code",
        "colab": {}
      },
      "source": [
        "#foreach-pertition\n",
        "def f(iterator):\n",
        "    for x in iterator:\n",
        "        print(x)\n",
        "\n",
        "rdd.foreachPartition(f)"
      ],
      "execution_count": 0,
      "outputs": []
    },
    {
      "cell_type": "code",
      "metadata": {
        "id": "pvedc8Y0Szc6",
        "colab_type": "code",
        "outputId": "edc1de34-6173-4944-fd65-366ed3681c57",
        "colab": {
          "base_uri": "https://localhost:8080/",
          "height": 119
        }
      },
      "source": [
        "#Mathematical operations\n",
        "print(\"sum\", rdd.sum())\n",
        "print(\"min\", rdd.min())\n",
        "print(\"variance\", rdd.variance())\n",
        "print(\"max\", rdd.max())\n",
        "print(\"mean\", rdd.mean())\n",
        "print(\"stdev\", rdd.stdev())"
      ],
      "execution_count": 0,
      "outputs": [
        {
          "output_type": "stream",
          "text": [
            "sum 76\n",
            "min 1\n",
            "variance 117.74999999999999\n",
            "max 33\n",
            "mean 9.499999999999998\n",
            "stdev 10.851267207105352\n"
          ],
          "name": "stdout"
        }
      ]
    },
    {
      "cell_type": "code",
      "metadata": {
        "id": "gvLYTB0t5M1g",
        "colab_type": "code",
        "outputId": "cce03780-8992-40c3-8ec5-9d4c6ca3d5c7",
        "colab": {
          "base_uri": "https://localhost:8080/",
          "height": 34
        }
      },
      "source": [
        "#countByValue\n",
        "rdd.countByValue()"
      ],
      "execution_count": 0,
      "outputs": [
        {
          "output_type": "execute_result",
          "data": {
            "text/plain": [
              "defaultdict(int, {1: 1, 2: 1, 3: 1, 4: 1, 5: 1, 6: 1, 22: 1, 33: 1})"
            ]
          },
          "metadata": {
            "tags": []
          },
          "execution_count": 194
        }
      ]
    },
    {
      "cell_type": "code",
      "metadata": {
        "id": "BAC4PiicaKMI",
        "colab_type": "code",
        "outputId": "8f9d259e-902c-47d7-bba2-e251500c316a",
        "colab": {
          "base_uri": "https://localhost:8080/",
          "height": 54
        }
      },
      "source": [
        "# toDebugString\n",
        "a = sc.parallelize(range(1,19), 3)\n",
        "b = sc.parallelize(range(1,13), 3)\n",
        "c = a.subtract(b)\n",
        "c.toDebugString()"
      ],
      "execution_count": 0,
      "outputs": [
        {
          "output_type": "execute_result",
          "data": {
            "text/plain": [
              "b'(6) PythonRDD[498] at RDD at PythonRDD.scala:53 []\\n |  MapPartitionsRDD[497] at mapPartitions at PythonRDD.scala:133 []\\n |  ShuffledRDD[496] at partitionBy at NativeMethodAccessorImpl.java:0 []\\n +-(6) PairwiseRDD[495] at subtract at <ipython-input-195-9755b8fadafa>:3 []\\n    |  PythonRDD[494] at subtract at <ipython-input-195-9755b8fadafa>:3 []\\n    |  UnionRDD[493] at union at NativeMethodAccessorImpl.java:0 []\\n    |  PythonRDD[491] at RDD at PythonRDD.scala:53 []\\n    |  ParallelCollectionRDD[489] at parallelize at PythonRDD.scala:195 []\\n    |  PythonRDD[492] at RDD at PythonRDD.scala:53 []\\n    |  ParallelCollectionRDD[490] at parallelize at PythonRDD.scala:195 []'"
            ]
          },
          "metadata": {
            "tags": []
          },
          "execution_count": 195
        }
      ]
    },
    {
      "cell_type": "markdown",
      "metadata": {
        "id": "TKWJ75qIAg-Z",
        "colab_type": "text"
      },
      "source": [
        "**Transformations on Paired RDDs**"
      ]
    },
    {
      "cell_type": "code",
      "metadata": {
        "id": "Hyfk3OzVAg7L",
        "colab_type": "code",
        "colab": {}
      },
      "source": [
        "rdd = sc.parallelize({(1,2), (3,4), (3,6)})\n",
        "rdd1 = sc.parallelize({(3,9)})"
      ],
      "execution_count": 0,
      "outputs": []
    },
    {
      "cell_type": "code",
      "metadata": {
        "id": "ay3A9zuSc1DN",
        "colab_type": "code",
        "outputId": "9bdf588c-3091-4773-c082-75ce982834ce",
        "colab": {
          "base_uri": "https://localhost:8080/",
          "height": 34
        }
      },
      "source": [
        "rdd.reduceByKey(add)\n",
        "rdd.groupByKey()\n",
        "rdd.mapValues(lambda x: x+1)\n",
        "rdd.flatMapValues(lambda x: range(x,5))\n",
        "rdd.keys()\n",
        "rdd.sortByKey()\n",
        "rdd.subtractByKey(other)\n",
        "rdd.join(other)\n",
        "rdd.rightOuterJoin(other)\n",
        "rdd.leftOuterJoin(other)\n",
        "rdd.cogroup(other)"
      ],
      "execution_count": 0,
      "outputs": [
        {
          "output_type": "stream",
          "text": [
            "[(1, 2), (3, 10)]\n"
          ],
          "name": "stdout"
        }
      ]
    },
    {
      "cell_type": "code",
      "metadata": {
        "id": "OivhlQloAg3n",
        "colab_type": "code",
        "colab": {}
      },
      "source": [
        "#passing fuction to spark\n",
        "#anonyms function\n",
        "#static methods\n",
        "\n"
      ],
      "execution_count": 0,
      "outputs": []
    },
    {
      "cell_type": "code",
      "metadata": {
        "id": "jC8RGd5qAg0Q",
        "colab_type": "code",
        "colab": {}
      },
      "source": [
        "from pyspark.sql import SparkSession\n",
        "\n",
        "spark = SparkSession.builder.appName(\"Python Spark SQL basic example\").getOrCreate()\n",
        "\n",
        "df = spark.read.csv(\"/content/sample_data/california_housing_test.csv\",header=True,sep=\"|\");"
      ],
      "execution_count": 0,
      "outputs": []
    },
    {
      "cell_type": "code",
      "metadata": {
        "id": "zUYd7AvfAgxI",
        "colab_type": "code",
        "outputId": "278c7429-a0c2-444b-e602-dd1b9ed8d646",
        "colab": {
          "base_uri": "https://localhost:8080/",
          "height": 459
        }
      },
      "source": [
        "df.show()"
      ],
      "execution_count": 0,
      "outputs": [
        {
          "output_type": "stream",
          "text": [
            "+-----------------------------------------------------------------------------------------------------------------------------------------+\n",
            "|\"longitude\",\"latitude\",\"housing_median_age\",\"total_rooms\",\"total_bedrooms\",\"population\",\"households\",\"median_income\",\"median_house_value\"|\n",
            "+-----------------------------------------------------------------------------------------------------------------------------------------+\n",
            "|                                                                                                                     -122.050000,37.37...|\n",
            "|                                                                                                                     -118.300000,34.26...|\n",
            "|                                                                                                                     -117.810000,33.78...|\n",
            "|                                                                                                                     -118.360000,33.82...|\n",
            "|                                                                                                                     -119.670000,36.33...|\n",
            "|                                                                                                                     -119.560000,36.51...|\n",
            "|                                                                                                                     -121.430000,38.63...|\n",
            "|                                                                                                                     -120.650000,35.48...|\n",
            "|                                                                                                                     -122.840000,38.40...|\n",
            "|                                                                                                                     -118.020000,34.08...|\n",
            "|                                                                                                                     -118.240000,33.98...|\n",
            "|                                                                                                                     -119.120000,35.85...|\n",
            "|                                                                                                                     -121.930000,37.25...|\n",
            "|                                                                                                                     -117.030000,32.97...|\n",
            "|                                                                                                                     -117.970000,33.73...|\n",
            "|                                                                                                                     -117.990000,33.81...|\n",
            "|                                                                                                                     -120.810000,37.53...|\n",
            "|                                                                                                                     -121.200000,38.69...|\n",
            "|                                                                                                                     -118.880000,34.21...|\n",
            "|                                                                                                                     -122.590000,38.01...|\n",
            "+-----------------------------------------------------------------------------------------------------------------------------------------+\n",
            "only showing top 20 rows\n",
            "\n"
          ],
          "name": "stdout"
        }
      ]
    },
    {
      "cell_type": "code",
      "metadata": {
        "id": "ODkbW9SnGuRt",
        "colab_type": "code",
        "colab": {}
      },
      "source": [
        "%%capture\n",
        "!pip install pandas_profiling==2.1.0"
      ],
      "execution_count": 0,
      "outputs": []
    },
    {
      "cell_type": "code",
      "metadata": {
        "id": "zsI-TEjAHAbG",
        "colab_type": "code",
        "colab": {}
      },
      "source": [
        "import pandas_profiling"
      ],
      "execution_count": 0,
      "outputs": []
    },
    {
      "cell_type": "code",
      "metadata": {
        "id": "QtEx80DEG9BB",
        "colab_type": "code",
        "outputId": "b566ab06-cd8c-47f0-c434-68f6cf1a0bca",
        "colab": {
          "base_uri": "https://localhost:8080/",
          "height": 299
        }
      },
      "source": [
        "profile = pandas_profiling.ProfileReport(df)\n",
        "# parent_dict = profile.get_description()"
      ],
      "execution_count": 0,
      "outputs": [
        {
          "output_type": "error",
          "ename": "TypeError",
          "evalue": "ignored",
          "traceback": [
            "\u001b[0;31m---------------------------------------------------------------------------\u001b[0m",
            "\u001b[0;31mTypeError\u001b[0m                                 Traceback (most recent call last)",
            "\u001b[0;32m<ipython-input-23-6e6684db66aa>\u001b[0m in \u001b[0;36m<module>\u001b[0;34m()\u001b[0m\n\u001b[0;32m----> 1\u001b[0;31m \u001b[0mprofile\u001b[0m \u001b[0;34m=\u001b[0m \u001b[0mpandas_profiling\u001b[0m\u001b[0;34m.\u001b[0m\u001b[0mProfileReport\u001b[0m\u001b[0;34m(\u001b[0m\u001b[0mdf\u001b[0m\u001b[0;34m)\u001b[0m\u001b[0;34m\u001b[0m\u001b[0;34m\u001b[0m\u001b[0m\n\u001b[0m\u001b[1;32m      2\u001b[0m \u001b[0;31m# parent_dict = profile.get_description()\u001b[0m\u001b[0;34m\u001b[0m\u001b[0;34m\u001b[0m\u001b[0;34m\u001b[0m\u001b[0m\n",
            "\u001b[0;32m/usr/local/lib/python3.6/dist-packages/pandas_profiling/__init__.py\u001b[0m in \u001b[0;36m__init__\u001b[0;34m(self, df, **kwargs)\u001b[0m\n\u001b[1;32m     37\u001b[0m         \u001b[0;31m# Treat index as any other column\u001b[0m\u001b[0;34m\u001b[0m\u001b[0;34m\u001b[0m\u001b[0;34m\u001b[0m\u001b[0m\n\u001b[1;32m     38\u001b[0m         if (\n\u001b[0;32m---> 39\u001b[0;31m             \u001b[0;32mnot\u001b[0m \u001b[0mpd\u001b[0m\u001b[0;34m.\u001b[0m\u001b[0mIndex\u001b[0m\u001b[0;34m(\u001b[0m\u001b[0mnp\u001b[0m\u001b[0;34m.\u001b[0m\u001b[0marange\u001b[0m\u001b[0;34m(\u001b[0m\u001b[0;36m0\u001b[0m\u001b[0;34m,\u001b[0m \u001b[0mlen\u001b[0m\u001b[0;34m(\u001b[0m\u001b[0mdf\u001b[0m\u001b[0;34m)\u001b[0m\u001b[0;34m)\u001b[0m\u001b[0;34m)\u001b[0m\u001b[0;34m.\u001b[0m\u001b[0mequals\u001b[0m\u001b[0;34m(\u001b[0m\u001b[0mdf\u001b[0m\u001b[0;34m.\u001b[0m\u001b[0mindex\u001b[0m\u001b[0;34m)\u001b[0m\u001b[0;34m\u001b[0m\u001b[0;34m\u001b[0m\u001b[0m\n\u001b[0m\u001b[1;32m     40\u001b[0m             \u001b[0;32mor\u001b[0m \u001b[0mdf\u001b[0m\u001b[0;34m.\u001b[0m\u001b[0mindex\u001b[0m\u001b[0;34m.\u001b[0m\u001b[0mdtype\u001b[0m \u001b[0;34m!=\u001b[0m \u001b[0mnp\u001b[0m\u001b[0;34m.\u001b[0m\u001b[0mint64\u001b[0m\u001b[0;34m\u001b[0m\u001b[0;34m\u001b[0m\u001b[0m\n\u001b[1;32m     41\u001b[0m         ):\n",
            "\u001b[0;31mTypeError\u001b[0m: object of type 'DataFrame' has no len()"
          ]
        }
      ]
    },
    {
      "cell_type": "code",
      "metadata": {
        "id": "UHkQH6WpN9i9",
        "colab_type": "code",
        "outputId": "f422350d-b613-4141-c2b6-c11826cf1ab2",
        "colab": {
          "base_uri": "https://localhost:8080/",
          "height": 122
        }
      },
      "source": [
        "!pip install --no-deps spark-df-profiling"
      ],
      "execution_count": 0,
      "outputs": [
        {
          "output_type": "stream",
          "text": [
            "Collecting spark-df-profiling\n",
            "\u001b[?25l  Downloading https://files.pythonhosted.org/packages/59/4b/457f5cdc6fa45c345799538f6c3f03349f6ca1045abfd3926d11a9904a3f/spark_df_profiling-1.1.13-py2.py3-none-any.whl (91kB)\n",
            "\r\u001b[K     |███▋                            | 10kB 16.9MB/s eta 0:00:01\r\u001b[K     |███████▏                        | 20kB 817kB/s eta 0:00:01\r\u001b[K     |██████████▊                     | 30kB 1.2MB/s eta 0:00:01\r\u001b[K     |██████████████▎                 | 40kB 1.2MB/s eta 0:00:01\r\u001b[K     |█████████████████▉              | 51kB 1.4MB/s eta 0:00:01\r\u001b[K     |█████████████████████▍          | 61kB 1.7MB/s eta 0:00:01\r\u001b[K     |█████████████████████████       | 71kB 2.0MB/s eta 0:00:01\r\u001b[K     |████████████████████████████▌   | 81kB 2.2MB/s eta 0:00:01\r\u001b[K     |████████████████████████████████| 92kB 2.2MB/s \n",
            "\u001b[?25hInstalling collected packages: spark-df-profiling\n",
            "Successfully installed spark-df-profiling-1.1.13\n"
          ],
          "name": "stdout"
        }
      ]
    },
    {
      "cell_type": "code",
      "metadata": {
        "id": "bZV3AQG3AgsI",
        "colab_type": "code",
        "outputId": "eb31e192-7858-4d98-be67-d66c0eaae4ae",
        "colab": {
          "base_uri": "https://localhost:8080/",
          "height": 34
        }
      },
      "source": [
        "! echo $PYTHONPATH"
      ],
      "execution_count": 0,
      "outputs": [
        {
          "output_type": "stream",
          "text": [
            "/env/python\n"
          ],
          "name": "stdout"
        }
      ]
    },
    {
      "cell_type": "code",
      "metadata": {
        "id": "pL7xSrUrPBej",
        "colab_type": "code",
        "colab": {}
      },
      "source": [
        "import spark_df_profiling"
      ],
      "execution_count": 0,
      "outputs": []
    },
    {
      "cell_type": "code",
      "metadata": {
        "id": "lPnEl04oPG-B",
        "colab_type": "code",
        "outputId": "10c081af-8d35-41c1-92e4-d283981b0ec3",
        "colab": {
          "base_uri": "https://localhost:8080/",
          "height": 425
        }
      },
      "source": [
        "report = spark_df_profiling.ProfileReport(df)"
      ],
      "execution_count": 0,
      "outputs": [
        {
          "output_type": "stream",
          "text": [
            "/usr/local/lib/python3.6/dist-packages/spark_df_profiling/base.py:401: FutureWarning: \n",
            ".ix is deprecated. Please use\n",
            ".loc for label based indexing or\n",
            ".iloc for positional indexing\n",
            "\n",
            "See the documentation here:\n",
            "http://pandas.pydata.org/pandas-docs/stable/user_guide/indexing.html#ix-indexer-is-deprecated\n",
            "  result = results_data.ix[0].copy()\n",
            "/usr/local/lib/python3.6/dist-packages/spark_df_profiling/base.py:382: FutureWarning: \n",
            ".ix is deprecated. Please use\n",
            ".loc for label based indexing or\n",
            ".iloc for positional indexing\n",
            "\n",
            "See the documentation here:\n",
            "http://pandas.pydata.org/pandas-docs/stable/user_guide/indexing.html#ix-indexer-is-deprecated\n",
            "  .limit(50)).toPandas().ix[:,0].value_counts()\n",
            "/usr/local/lib/python3.6/dist-packages/spark_df_profiling/base.py:463: FutureWarning: \n",
            ".ix is deprecated. Please use\n",
            ".loc for label based indexing or\n",
            ".iloc for positional indexing\n",
            "\n",
            "See the documentation here:\n",
            "http://pandas.pydata.org/pandas-docs/stable/user_guide/indexing.html#ix-indexer-is-deprecated\n",
            "  table_stats[\"total_missing\"] = float(variable_stats.ix[\"n_missing\"].sum()) / (table_stats[\"n\"] * table_stats[\"nvar\"])\n"
          ],
          "name": "stderr"
        }
      ]
    },
    {
      "cell_type": "code",
      "metadata": {
        "id": "95LxB-zrLZ9G",
        "colab_type": "code",
        "colab": {}
      },
      "source": [
        ""
      ],
      "execution_count": 0,
      "outputs": []
    },
    {
      "cell_type": "code",
      "metadata": {
        "id": "eh1SJK6tPOyN",
        "colab_type": "code",
        "colab": {}
      },
      "source": [
        "parent_dict = report.get_description()"
      ],
      "execution_count": 0,
      "outputs": []
    },
    {
      "cell_type": "code",
      "metadata": {
        "id": "ypi5d83FLdIa",
        "colab_type": "code",
        "outputId": "cf3c73fa-f7ab-41d0-9bf7-a9dcbcb1a542",
        "colab": {
          "base_uri": "https://localhost:8080/",
          "height": 221
        }
      },
      "source": [
        "parent_dict[\"table\"]"
      ],
      "execution_count": 0,
      "outputs": [
        {
          "output_type": "execute_result",
          "data": {
            "text/plain": [
              "{'CAT': 0,\n",
              " 'CONST': 0,\n",
              " 'CORR': 0,\n",
              " 'DATE': 0,\n",
              " 'NUM': 0,\n",
              " 'REJECTED': 0,\n",
              " 'UNIQUE': 1,\n",
              " 'memsize': '0.0 B',\n",
              " 'n': 3000,\n",
              " 'nvar': 1,\n",
              " 'recordsize': '0.0 B',\n",
              " 'total_missing': 0.0}"
            ]
          },
          "metadata": {
            "tags": []
          },
          "execution_count": 29
        }
      ]
    },
    {
      "cell_type": "code",
      "metadata": {
        "id": "Nt-MeI50Liio",
        "colab_type": "code",
        "outputId": "059e210c-222c-4c5b-e4f1-0f3782970a72",
        "colab": {
          "base_uri": "https://localhost:8080/",
          "height": 34
        }
      },
      "source": [
        "parent_dict.keys()"
      ],
      "execution_count": 0,
      "outputs": [
        {
          "output_type": "execute_result",
          "data": {
            "text/plain": [
              "dict_keys(['table', 'variables', 'freq'])"
            ]
          },
          "metadata": {
            "tags": []
          },
          "execution_count": 31
        }
      ]
    },
    {
      "cell_type": "code",
      "metadata": {
        "id": "SvrGZ_0RLyfY",
        "colab_type": "code",
        "colab": {}
      },
      "source": [
        "import pandas as pd"
      ],
      "execution_count": 0,
      "outputs": []
    },
    {
      "cell_type": "code",
      "metadata": {
        "id": "3MMhvDlXLq8F",
        "colab_type": "code",
        "colab": {}
      },
      "source": [
        "d = pd.read_csv(\"/content/sample_data/california_housing_test.csv\")"
      ],
      "execution_count": 0,
      "outputs": []
    },
    {
      "cell_type": "code",
      "metadata": {
        "id": "ghYdo3HULxxx",
        "colab_type": "code",
        "colab": {}
      },
      "source": [
        "profile = pandas_profiling.ProfileReport(d)\n",
        "parent_dict = profile.get_description()"
      ],
      "execution_count": 0,
      "outputs": []
    },
    {
      "cell_type": "code",
      "metadata": {
        "id": "IzOOAv-YL4fS",
        "colab_type": "code",
        "outputId": "6de7a34a-fd9e-4eed-b65c-5f903069d2d3",
        "colab": {
          "base_uri": "https://localhost:8080/",
          "height": 34
        }
      },
      "source": [
        "parent_dict.keys()"
      ],
      "execution_count": 0,
      "outputs": [
        {
          "output_type": "execute_result",
          "data": {
            "text/plain": [
              "dict_keys(['table', 'variables', 'correlations', 'missing', 'messages'])"
            ]
          },
          "metadata": {
            "tags": []
          },
          "execution_count": 36
        }
      ]
    },
    {
      "cell_type": "code",
      "metadata": {
        "id": "pyNTiJ2RL_U4",
        "colab_type": "code",
        "outputId": "7998bf07-359d-4a76-fcba-df3cce43b261",
        "colab": {
          "base_uri": "https://localhost:8080/",
          "height": 374
        }
      },
      "source": [
        "parent_dict[\"table\"]"
      ],
      "execution_count": 0,
      "outputs": [
        {
          "output_type": "execute_result",
          "data": {
            "text/plain": [
              "{'BOOL': 0,\n",
              " 'CAT': 0,\n",
              " 'CONST': 0,\n",
              " 'CORR': 2,\n",
              " 'DATE': 0,\n",
              " 'NUM': 7,\n",
              " 'RECODED': 0,\n",
              " 'REJECTED': 2,\n",
              " 'UNIQUE': 0,\n",
              " 'UNSUPPORTED': 0,\n",
              " 'URL': 0,\n",
              " 'memsize': 216128,\n",
              " 'n': 3000,\n",
              " 'n_cells_missing': 0,\n",
              " 'n_duplicates': 0,\n",
              " 'n_vars_all_missing': 0,\n",
              " 'n_vars_with_missing': 0,\n",
              " 'nvar': 9,\n",
              " 'p_cells_missing': 0.0,\n",
              " 'p_duplicates': 0.0,\n",
              " 'recordsize': 72.04266666666666}"
            ]
          },
          "metadata": {
            "tags": []
          },
          "execution_count": 37
        }
      ]
    },
    {
      "cell_type": "code",
      "metadata": {
        "id": "THRfBDlbWyBL",
        "colab_type": "code",
        "colab": {}
      },
      "source": [
        "%%capture\n",
        "!pip install --no-deps spark-df-profiling-optimus"
      ],
      "execution_count": 0,
      "outputs": []
    },
    {
      "cell_type": "code",
      "metadata": {
        "id": "zEB7sTQ3RvXN",
        "colab_type": "code",
        "colab": {}
      },
      "source": [
        ""
      ],
      "execution_count": 0,
      "outputs": []
    },
    {
      "cell_type": "code",
      "metadata": {
        "id": "7HVWTGxURvUz",
        "colab_type": "code",
        "colab": {}
      },
      "source": [
        ""
      ],
      "execution_count": 0,
      "outputs": []
    },
    {
      "cell_type": "code",
      "metadata": {
        "id": "0lHhyHWVRvTC",
        "colab_type": "code",
        "colab": {}
      },
      "source": [
        ""
      ],
      "execution_count": 0,
      "outputs": []
    },
    {
      "cell_type": "code",
      "metadata": {
        "id": "VwMnWs1IRvRr",
        "colab_type": "code",
        "colab": {}
      },
      "source": [
        ""
      ],
      "execution_count": 0,
      "outputs": []
    },
    {
      "cell_type": "code",
      "metadata": {
        "id": "C-k4QrIfRvOf",
        "colab_type": "code",
        "colab": {}
      },
      "source": [
        ""
      ],
      "execution_count": 0,
      "outputs": []
    },
    {
      "cell_type": "code",
      "metadata": {
        "id": "wGYXlN_RRvL2",
        "colab_type": "code",
        "colab": {}
      },
      "source": [
        ""
      ],
      "execution_count": 0,
      "outputs": []
    },
    {
      "cell_type": "code",
      "metadata": {
        "id": "jN1loj8qRvJ7",
        "colab_type": "code",
        "colab": {}
      },
      "source": [
        ""
      ],
      "execution_count": 0,
      "outputs": []
    },
    {
      "cell_type": "code",
      "metadata": {
        "id": "kqE43FSERvHF",
        "colab_type": "code",
        "colab": {}
      },
      "source": [
        ""
      ],
      "execution_count": 0,
      "outputs": []
    }
  ]
}