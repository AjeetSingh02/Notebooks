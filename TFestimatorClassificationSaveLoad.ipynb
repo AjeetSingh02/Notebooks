{
  "nbformat": 4,
  "nbformat_minor": 0,
  "metadata": {
    "colab": {
      "name": "TFestimatorClassificationSaveLoad",
      "provenance": [],
      "collapsed_sections": [],
      "authorship_tag": "ABX9TyMZtEIu6PrJ8828G5ibGOJ6",
      "include_colab_link": true
    },
    "kernelspec": {
      "name": "python3",
      "display_name": "Python 3"
    }
  },
  "cells": [
    {
      "cell_type": "markdown",
      "metadata": {
        "id": "view-in-github",
        "colab_type": "text"
      },
      "source": [
        "<a href=\"https://colab.research.google.com/github/AjeetSingh02/Notebooks/blob/master/TFestimatorClassificationSaveLoad.ipynb\" target=\"_parent\"><img src=\"https://colab.research.google.com/assets/colab-badge.svg\" alt=\"Open In Colab\"/></a>"
      ]
    },
    {
      "cell_type": "markdown",
      "metadata": {
        "id": "SI5XE49Q4I6y",
        "colab_type": "text"
      },
      "source": [
        "**Overview**\n",
        "\n",
        "This end-to-end walkthrough trains a logistic regression model using the tf.estimator API followed by saving the model and then re-loading it with a different name for predictions."
      ]
    },
    {
      "cell_type": "markdown",
      "metadata": {
        "id": "1C8jdRem4QJv",
        "colab_type": "text"
      },
      "source": [
        "First things first: **Import libraries**"
      ]
    },
    {
      "cell_type": "code",
      "metadata": {
        "id": "EY8EtYBu4M14",
        "colab_type": "code",
        "colab": {}
      },
      "source": [
        "import os\n",
        "import shutil\n",
        "import numpy as np\n",
        "import pandas as pd\n",
        "import tensorflow as tf\n",
        "from IPython.display import clear_output"
      ],
      "execution_count": 1,
      "outputs": []
    },
    {
      "cell_type": "markdown",
      "metadata": {
        "id": "_yV-k-ll4TvL",
        "colab_type": "text"
      },
      "source": [
        "**Load the dataset**\n",
        "\n",
        "We will use the Titanic dataset with the (rather morbid) goal of predicting passenger survival, given characteristics such as gender, age, class, etc."
      ]
    },
    {
      "cell_type": "code",
      "metadata": {
        "id": "aNycS73y4fFW",
        "colab_type": "code",
        "colab": {}
      },
      "source": [
        "dftrain = pd.read_csv('https://storage.googleapis.com/tf-datasets/titanic/train.csv')\n",
        "dfeval = pd.read_csv('https://storage.googleapis.com/tf-datasets/titanic/eval.csv')"
      ],
      "execution_count": 2,
      "outputs": []
    },
    {
      "cell_type": "markdown",
      "metadata": {
        "id": "1unkLmX05rrV",
        "colab_type": "text"
      },
      "source": [
        "This is how our data set looks like this. Column ```survived``` is our target column and rest are features."
      ]
    },
    {
      "cell_type": "markdown",
      "metadata": {
        "id": "v2enziEdEsOK",
        "colab_type": "text"
      },
      "source": [
        "<table>\n",
        "  <tr>\n",
        "    <th>Column Name</th>\n",
        "    <th>Description</th>\n",
        "  </tr>\n",
        "<tr>\n",
        "    <td>survived</td>\n",
        "    <td>Passenger survived or not</td>\n",
        "  </tr>\n",
        "  <tr>\n",
        "    <td>sex</td>\n",
        "    <td>Gender of passenger</td>\n",
        "  </tr>\n",
        "  <tr>\n",
        "    <td>age</td>\n",
        "    <td>Age of passenger</td>\n",
        "  </tr>\n",
        "    <tr>\n",
        "    <td>n_siblings_spouses</td>\n",
        "    <td>siblings and partners aboard</td>\n",
        "  </tr>\n",
        "    <tr>\n",
        "    <td>parch</td>\n",
        "    <td>of parents and children aboard</td>\n",
        "  </tr>\n",
        "    <tr>\n",
        "    <td>fare</td>\n",
        "    <td>Fare passenger paid.</td>\n",
        "  </tr>\n",
        "    <tr>\n",
        "    <td>class</td>\n",
        "    <td>Passenger's class on ship</td>\n",
        "  </tr>\n",
        "    <tr>\n",
        "    <td>deck</td>\n",
        "    <td>Which deck passenger was on</td>\n",
        "  </tr>\n",
        "    <tr>\n",
        "    <td>embark_town</td>\n",
        "    <td>Which town passenger embarked from</td>\n",
        "  </tr>\n",
        "    <tr>\n",
        "    <td>alone</td>\n",
        "    <td>If passenger was alone</td>\n",
        "  </tr>\n",
        "</table>"
      ]
    },
    {
      "cell_type": "code",
      "metadata": {
        "id": "wbQKE3Ed4t_s",
        "colab_type": "code",
        "colab": {
          "base_uri": "https://localhost:8080/",
          "height": 204
        },
        "outputId": "3a7cbf6b-6507-42da-cbd6-5d7b3ed41511"
      },
      "source": [
        "dftrain.head()"
      ],
      "execution_count": 3,
      "outputs": [
        {
          "output_type": "execute_result",
          "data": {
            "text/html": [
              "<div>\n",
              "<style scoped>\n",
              "    .dataframe tbody tr th:only-of-type {\n",
              "        vertical-align: middle;\n",
              "    }\n",
              "\n",
              "    .dataframe tbody tr th {\n",
              "        vertical-align: top;\n",
              "    }\n",
              "\n",
              "    .dataframe thead th {\n",
              "        text-align: right;\n",
              "    }\n",
              "</style>\n",
              "<table border=\"1\" class=\"dataframe\">\n",
              "  <thead>\n",
              "    <tr style=\"text-align: right;\">\n",
              "      <th></th>\n",
              "      <th>survived</th>\n",
              "      <th>sex</th>\n",
              "      <th>age</th>\n",
              "      <th>n_siblings_spouses</th>\n",
              "      <th>parch</th>\n",
              "      <th>fare</th>\n",
              "      <th>class</th>\n",
              "      <th>deck</th>\n",
              "      <th>embark_town</th>\n",
              "      <th>alone</th>\n",
              "    </tr>\n",
              "  </thead>\n",
              "  <tbody>\n",
              "    <tr>\n",
              "      <th>0</th>\n",
              "      <td>0</td>\n",
              "      <td>male</td>\n",
              "      <td>22.0</td>\n",
              "      <td>1</td>\n",
              "      <td>0</td>\n",
              "      <td>7.2500</td>\n",
              "      <td>Third</td>\n",
              "      <td>unknown</td>\n",
              "      <td>Southampton</td>\n",
              "      <td>n</td>\n",
              "    </tr>\n",
              "    <tr>\n",
              "      <th>1</th>\n",
              "      <td>1</td>\n",
              "      <td>female</td>\n",
              "      <td>38.0</td>\n",
              "      <td>1</td>\n",
              "      <td>0</td>\n",
              "      <td>71.2833</td>\n",
              "      <td>First</td>\n",
              "      <td>C</td>\n",
              "      <td>Cherbourg</td>\n",
              "      <td>n</td>\n",
              "    </tr>\n",
              "    <tr>\n",
              "      <th>2</th>\n",
              "      <td>1</td>\n",
              "      <td>female</td>\n",
              "      <td>26.0</td>\n",
              "      <td>0</td>\n",
              "      <td>0</td>\n",
              "      <td>7.9250</td>\n",
              "      <td>Third</td>\n",
              "      <td>unknown</td>\n",
              "      <td>Southampton</td>\n",
              "      <td>y</td>\n",
              "    </tr>\n",
              "    <tr>\n",
              "      <th>3</th>\n",
              "      <td>1</td>\n",
              "      <td>female</td>\n",
              "      <td>35.0</td>\n",
              "      <td>1</td>\n",
              "      <td>0</td>\n",
              "      <td>53.1000</td>\n",
              "      <td>First</td>\n",
              "      <td>C</td>\n",
              "      <td>Southampton</td>\n",
              "      <td>n</td>\n",
              "    </tr>\n",
              "    <tr>\n",
              "      <th>4</th>\n",
              "      <td>0</td>\n",
              "      <td>male</td>\n",
              "      <td>28.0</td>\n",
              "      <td>0</td>\n",
              "      <td>0</td>\n",
              "      <td>8.4583</td>\n",
              "      <td>Third</td>\n",
              "      <td>unknown</td>\n",
              "      <td>Queenstown</td>\n",
              "      <td>y</td>\n",
              "    </tr>\n",
              "  </tbody>\n",
              "</table>\n",
              "</div>"
            ],
            "text/plain": [
              "   survived     sex   age  ...     deck  embark_town  alone\n",
              "0         0    male  22.0  ...  unknown  Southampton      n\n",
              "1         1  female  38.0  ...        C    Cherbourg      n\n",
              "2         1  female  26.0  ...  unknown  Southampton      y\n",
              "3         1  female  35.0  ...        C  Southampton      n\n",
              "4         0    male  28.0  ...  unknown   Queenstown      y\n",
              "\n",
              "[5 rows x 10 columns]"
            ]
          },
          "metadata": {
            "tags": []
          },
          "execution_count": 3
        }
      ]
    },
    {
      "cell_type": "markdown",
      "metadata": {
        "id": "YfP1m8-H46Cs",
        "colab_type": "text"
      },
      "source": [
        "**Feature Engineering for the Model**\n",
        "\n",
        "Estimators use a system called feature columns to describe how the model should interpret each of the raw input features. An Estimator expects a vector of numeric inputs, and feature columns describe how the model should convert each feature."
      ]
    },
    {
      "cell_type": "code",
      "metadata": {
        "id": "1z4_ncDC5DYd",
        "colab_type": "code",
        "colab": {}
      },
      "source": [
        "LABEL = \"survived\"\n",
        "feature_columns = []\n",
        "NUMERIC_COLUMNS = ['age', 'fare']\n",
        "CATEGORICAL_COLUMNS = ['sex', 'n_siblings_spouses', 'parch', 'class', 'deck', \n",
        "                       'embark_town', 'alone']\n",
        "\n",
        "for feature_name in CATEGORICAL_COLUMNS:\n",
        "  vocabulary = dftrain[feature_name].unique()\n",
        "  feature_columns.append(tf.feature_column.categorical_column_with_vocabulary_list(feature_name, vocabulary))\n",
        "\n",
        "for feature_name in NUMERIC_COLUMNS:\n",
        "  feature_columns.append(tf.feature_column.numeric_column(feature_name, dtype=tf.float32))"
      ],
      "execution_count": 4,
      "outputs": []
    },
    {
      "cell_type": "markdown",
      "metadata": {
        "id": "_RrIpr045Npo",
        "colab_type": "text"
      },
      "source": [
        "The below two functions are responsible for feeding the data to the model for training and evaluation respectively."
      ]
    },
    {
      "cell_type": "code",
      "metadata": {
        "id": "4Z5v5EJH5QnX",
        "colab_type": "code",
        "colab": {}
      },
      "source": [
        "def make_train_input_fn(df, num_epochs):\n",
        "    return tf.compat.v1.estimator.inputs.pandas_input_fn(\n",
        "    x = df,\n",
        "    y = df[LABEL],\n",
        "    batch_size = 128,\n",
        "    num_epochs = num_epochs,\n",
        "    shuffle = True,\n",
        "    queue_capacity = 1000\n",
        "  )"
      ],
      "execution_count": 5,
      "outputs": []
    },
    {
      "cell_type": "code",
      "metadata": {
        "id": "sSeSMUp95SQl",
        "colab_type": "code",
        "colab": {}
      },
      "source": [
        "def make_prediction_input_fn(df):\n",
        "  return tf.compat.v1.estimator.inputs.pandas_input_fn(\n",
        "    x = df,\n",
        "    y = None,\n",
        "    batch_size = 128,\n",
        "    shuffle = False,\n",
        "    queue_capacity = 1000\n",
        "  )"
      ],
      "execution_count": 6,
      "outputs": []
    },
    {
      "cell_type": "markdown",
      "metadata": {
        "id": "YLBoIy2Q6Lam",
        "colab_type": "text"
      },
      "source": [
        "**Train the model**"
      ]
    },
    {
      "cell_type": "code",
      "metadata": {
        "id": "FvD3QwsY5gpg",
        "colab_type": "code",
        "colab": {
          "base_uri": "https://localhost:8080/",
          "height": 938
        },
        "outputId": "31cc7816-46c1-4413-98b1-7ca29a38924b"
      },
      "source": [
        "# Instantiate the pre-made estimator\n",
        "model = tf.estimator.LinearClassifier(feature_columns)\n",
        "\n",
        "# Train the model\n",
        "model.train(make_train_input_fn(dftrain, num_epochs=10))"
      ],
      "execution_count": 7,
      "outputs": [
        {
          "output_type": "stream",
          "text": [
            "INFO:tensorflow:Using default config.\n",
            "WARNING:tensorflow:Using temporary folder as model directory: /tmp/tmp2nsigeyn\n",
            "INFO:tensorflow:Using config: {'_model_dir': '/tmp/tmp2nsigeyn', '_tf_random_seed': None, '_save_summary_steps': 100, '_save_checkpoints_steps': None, '_save_checkpoints_secs': 600, '_session_config': allow_soft_placement: true\n",
            "graph_options {\n",
            "  rewrite_options {\n",
            "    meta_optimizer_iterations: ONE\n",
            "  }\n",
            "}\n",
            ", '_keep_checkpoint_max': 5, '_keep_checkpoint_every_n_hours': 10000, '_log_step_count_steps': 100, '_train_distribute': None, '_device_fn': None, '_protocol': None, '_eval_distribute': None, '_experimental_distribute': None, '_experimental_max_worker_delay_secs': None, '_session_creation_timeout_secs': 7200, '_service': None, '_cluster_spec': ClusterSpec({}), '_task_type': 'worker', '_task_id': 0, '_global_id_in_cluster': 0, '_master': '', '_evaluation_master': '', '_is_chief': True, '_num_ps_replicas': 0, '_num_worker_replicas': 1}\n",
            "WARNING:tensorflow:From /usr/local/lib/python3.6/dist-packages/tensorflow/python/util/lazy_loader.py:63: The name tf.estimator.inputs is deprecated. Please use tf.compat.v1.estimator.inputs instead.\n",
            "\n",
            "WARNING:tensorflow:From /usr/local/lib/python3.6/dist-packages/tensorflow/python/ops/resource_variable_ops.py:1666: calling BaseResourceVariable.__init__ (from tensorflow.python.ops.resource_variable_ops) with constraint is deprecated and will be removed in a future version.\n",
            "Instructions for updating:\n",
            "If using Keras pass *_constraint arguments to layers.\n",
            "WARNING:tensorflow:From /usr/local/lib/python3.6/dist-packages/tensorflow/python/training/training_util.py:236: Variable.initialized_value (from tensorflow.python.ops.variables) is deprecated and will be removed in a future version.\n",
            "Instructions for updating:\n",
            "Use Variable.read_value. Variables in 2.X are initialized automatically both in eager and graph (inside tf.defun) contexts.\n",
            "WARNING:tensorflow:From /usr/local/lib/python3.6/dist-packages/tensorflow_estimator/python/estimator/inputs/queues/feeding_queue_runner.py:65: QueueRunner.__init__ (from tensorflow.python.training.queue_runner_impl) is deprecated and will be removed in a future version.\n",
            "Instructions for updating:\n",
            "To construct input pipelines, use the `tf.data` module.\n",
            "WARNING:tensorflow:From /usr/local/lib/python3.6/dist-packages/tensorflow_estimator/python/estimator/inputs/queues/feeding_functions.py:491: add_queue_runner (from tensorflow.python.training.queue_runner_impl) is deprecated and will be removed in a future version.\n",
            "Instructions for updating:\n",
            "To construct input pipelines, use the `tf.data` module.\n",
            "INFO:tensorflow:Calling model_fn.\n",
            "WARNING:tensorflow:Layer linear/linear_model is casting an input tensor from dtype float64 to the layer's dtype of float32, which is new behavior in TensorFlow 2.  The layer has dtype float32 because it's dtype defaults to floatx.\n",
            "\n",
            "If you intended to run this layer in float32, you can safely ignore this warning. If in doubt, this warning is likely only an issue if you are porting a TensorFlow 1.X model to TensorFlow 2.\n",
            "\n",
            "To change all layers to have dtype float64 by default, call `tf.keras.backend.set_floatx('float64')`. To change just this layer, pass dtype='float64' to the layer constructor. If you are the author of this layer, you can disable autocasting by passing autocast=False to the base Layer constructor.\n",
            "\n",
            "WARNING:tensorflow:From /usr/local/lib/python3.6/dist-packages/tensorflow/python/feature_column/feature_column_v2.py:540: Layer.add_variable (from tensorflow.python.keras.engine.base_layer_v1) is deprecated and will be removed in a future version.\n",
            "Instructions for updating:\n",
            "Please use `layer.add_weight` method instead.\n",
            "WARNING:tensorflow:From /usr/local/lib/python3.6/dist-packages/tensorflow/python/keras/optimizer_v2/ftrl.py:144: calling Constant.__init__ (from tensorflow.python.ops.init_ops) with dtype is deprecated and will be removed in a future version.\n",
            "Instructions for updating:\n",
            "Call initializer instance with the dtype argument instead of passing it to the constructor\n",
            "INFO:tensorflow:Done calling model_fn.\n",
            "INFO:tensorflow:Create CheckpointSaverHook.\n",
            "INFO:tensorflow:Graph was finalized.\n",
            "INFO:tensorflow:Running local_init_op.\n",
            "INFO:tensorflow:Done running local_init_op.\n",
            "WARNING:tensorflow:From /usr/local/lib/python3.6/dist-packages/tensorflow/python/training/monitored_session.py:906: start_queue_runners (from tensorflow.python.training.queue_runner_impl) is deprecated and will be removed in a future version.\n",
            "Instructions for updating:\n",
            "To construct input pipelines, use the `tf.data` module.\n",
            "INFO:tensorflow:Calling checkpoint listeners before saving checkpoint 0...\n",
            "INFO:tensorflow:Saving checkpoints for 0 into /tmp/tmp2nsigeyn/model.ckpt.\n",
            "INFO:tensorflow:Calling checkpoint listeners after saving checkpoint 0...\n",
            "INFO:tensorflow:loss = 0.6931473, step = 0\n",
            "INFO:tensorflow:Calling checkpoint listeners before saving checkpoint 49...\n",
            "INFO:tensorflow:Saving checkpoints for 49 into /tmp/tmp2nsigeyn/model.ckpt.\n",
            "INFO:tensorflow:Calling checkpoint listeners after saving checkpoint 49...\n",
            "INFO:tensorflow:Loss for final step: 0.5029947.\n"
          ],
          "name": "stdout"
        },
        {
          "output_type": "execute_result",
          "data": {
            "text/plain": [
              "<tensorflow_estimator.python.estimator.canned.linear.LinearClassifierV2 at 0x7fea60184b70>"
            ]
          },
          "metadata": {
            "tags": []
          },
          "execution_count": 7
        }
      ]
    },
    {
      "cell_type": "markdown",
      "metadata": {
        "id": "KGcC2syn6bS7",
        "colab_type": "text"
      },
      "source": [
        "**Predict on evaluation dataset**"
      ]
    },
    {
      "cell_type": "code",
      "metadata": {
        "id": "Smn2qGZa5mGg",
        "colab_type": "code",
        "colab": {
          "base_uri": "https://localhost:8080/",
          "height": 241
        },
        "outputId": "ab230488-b1c5-4a57-d42f-d6e2693a18c8"
      },
      "source": [
        "predDicts = list(model.predict(make_prediction_input_fn(dfeval)))"
      ],
      "execution_count": 8,
      "outputs": [
        {
          "output_type": "stream",
          "text": [
            "INFO:tensorflow:Calling model_fn.\n",
            "WARNING:tensorflow:Layer linear/linear_model is casting an input tensor from dtype float64 to the layer's dtype of float32, which is new behavior in TensorFlow 2.  The layer has dtype float32 because it's dtype defaults to floatx.\n",
            "\n",
            "If you intended to run this layer in float32, you can safely ignore this warning. If in doubt, this warning is likely only an issue if you are porting a TensorFlow 1.X model to TensorFlow 2.\n",
            "\n",
            "To change all layers to have dtype float64 by default, call `tf.keras.backend.set_floatx('float64')`. To change just this layer, pass dtype='float64' to the layer constructor. If you are the author of this layer, you can disable autocasting by passing autocast=False to the base Layer constructor.\n",
            "\n",
            "INFO:tensorflow:Done calling model_fn.\n",
            "INFO:tensorflow:Graph was finalized.\n",
            "INFO:tensorflow:Restoring parameters from /tmp/tmp2nsigeyn/model.ckpt-49\n",
            "INFO:tensorflow:Running local_init_op.\n",
            "INFO:tensorflow:Done running local_init_op.\n"
          ],
          "name": "stdout"
        }
      ]
    },
    {
      "cell_type": "markdown",
      "metadata": {
        "id": "2gzMYKrC63Er",
        "colab_type": "text"
      },
      "source": [
        "Let's see first 10 predictions"
      ]
    },
    {
      "cell_type": "code",
      "metadata": {
        "id": "hGN6U7XL67Vx",
        "colab_type": "code",
        "colab": {
          "base_uri": "https://localhost:8080/",
          "height": 34
        },
        "outputId": "7e39ccc1-d517-4064-d65b-8606759a651b"
      },
      "source": [
        "preds = []\n",
        "for pred in predDicts[:10]:\n",
        "    preds.append(np.argmax(pred[\"probabilities\"]))\n",
        "preds"
      ],
      "execution_count": 9,
      "outputs": [
        {
          "output_type": "execute_result",
          "data": {
            "text/plain": [
              "[0, 1, 1, 1, 0, 1, 1, 0, 1, 1]"
            ]
          },
          "metadata": {
            "tags": []
          },
          "execution_count": 9
        }
      ]
    },
    {
      "cell_type": "markdown",
      "metadata": {
        "id": "ty9Etsoc7MoS",
        "colab_type": "text"
      },
      "source": [
        "**Save the model**"
      ]
    },
    {
      "cell_type": "code",
      "metadata": {
        "id": "_tItzbIh7OqM",
        "colab_type": "code",
        "colab": {
          "base_uri": "https://localhost:8080/",
          "height": 275
        },
        "outputId": "bebdcfd2-430d-4bf2-a838-10f3fc6f32ea"
      },
      "source": [
        "inputFn = \\\n",
        "tf.estimator.export.build_parsing_serving_input_receiver_fn(\n",
        "    tf.feature_column.make_parse_example_spec(feature_columns)\n",
        ")\n",
        "\n",
        "OUTDIR = 'modelDir'\n",
        "shutil.rmtree(OUTDIR, ignore_errors = True) # start fresh each time\n",
        "\n",
        "modelBasePath = os.path.join(OUTDIR, \"model\")\n",
        "modelPath = model.export_saved_model(modelBasePath, inputFn)"
      ],
      "execution_count": 10,
      "outputs": [
        {
          "output_type": "stream",
          "text": [
            "INFO:tensorflow:Calling model_fn.\n",
            "INFO:tensorflow:Done calling model_fn.\n",
            "WARNING:tensorflow:From /usr/local/lib/python3.6/dist-packages/tensorflow/python/saved_model/signature_def_utils_impl.py:145: build_tensor_info (from tensorflow.python.saved_model.utils_impl) is deprecated and will be removed in a future version.\n",
            "Instructions for updating:\n",
            "This function will only be available through the v1 compatibility library as tf.compat.v1.saved_model.utils.build_tensor_info or tf.compat.v1.saved_model.build_tensor_info.\n",
            "INFO:tensorflow:Signatures INCLUDED in export for Classify: ['serving_default', 'classification']\n",
            "INFO:tensorflow:Signatures INCLUDED in export for Regress: ['regression']\n",
            "INFO:tensorflow:Signatures INCLUDED in export for Predict: ['predict']\n",
            "INFO:tensorflow:Signatures INCLUDED in export for Train: None\n",
            "INFO:tensorflow:Signatures INCLUDED in export for Eval: None\n",
            "INFO:tensorflow:Restoring parameters from /tmp/tmp2nsigeyn/model.ckpt-49\n",
            "INFO:tensorflow:Assets added to graph.\n",
            "INFO:tensorflow:No assets to write.\n",
            "INFO:tensorflow:SavedModel written to: modelDir/model/temp-1595116057/saved_model.pb\n"
          ],
          "name": "stdout"
        }
      ]
    },
    {
      "cell_type": "markdown",
      "metadata": {
        "id": "2QSzHbfK7RZw",
        "colab_type": "text"
      },
      "source": [
        "**Reload the model**\n",
        "\n",
        "We will use different model name just to be sure that we are not using the existing model."
      ]
    },
    {
      "cell_type": "code",
      "metadata": {
        "id": "B8mwsAJQ8v-a",
        "colab_type": "code",
        "colab": {}
      },
      "source": [
        "savedModelPath = modelPath\n",
        "importedModel = tf.saved_model.load(savedModelPath)"
      ],
      "execution_count": 11,
      "outputs": []
    },
    {
      "cell_type": "markdown",
      "metadata": {
        "id": "1-Xoqhc584ib",
        "colab_type": "text"
      },
      "source": [
        "**Predict using imported model**"
      ]
    },
    {
      "cell_type": "markdown",
      "metadata": {
        "id": "r4BWYyev--Go",
        "colab_type": "text"
      },
      "source": [
        "To predict on an unseen data set using loaded estimator model, we will have to follow following small steps:\n",
        "\n",
        "\n",
        "<ol>\n",
        "\n",
        "<li>Loop through the whole dataset rows.\n",
        "\n",
        "<ol>\n",
        "<li>Create tf.train.Example() object. This object will be responsible for passing our data to the model for prediction.</li>\n",
        "<li>Loop through all the columns and based on the datatype of the column add that column value to the example object using the appropriate type out of bytes_list, float_list, int64_list. More info about these types here: https://www.tensorflow.org/tutorials/load_data/tfrecord</li>\n",
        "<li>Predict using this example object and the imported model. Note that this example object will serve the same purpose as passing a single row to a sklearn model for prediction.</li>\n",
        "</ol>\n",
        "</li>\n",
        "</ol>\n",
        "\n",
        "Below is the implementation of the same."
      ]
    },
    {
      "cell_type": "code",
      "metadata": {
        "id": "z3oYws9t781q",
        "colab_type": "code",
        "colab": {}
      },
      "source": [
        "def predict(dfeval, importedModel):\n",
        "    colNames = dfeval.columns\n",
        "    dtypes = dfeval.dtypes\n",
        "    predictions = []\n",
        "    for row in dfeval.iterrows():\n",
        "        example = tf.train.Example()\n",
        "        for i in range(len(colNames)):\n",
        "            dtype = dtypes[i]\n",
        "            colName = colNames[i]\n",
        "            value = row[1][colName]\n",
        "            if dtype == \"object\":\n",
        "                value = bytes(value, \"utf-8\")\n",
        "                example.features.feature[colName].bytes_list.value.extend(\n",
        "                    [value])\n",
        "            elif dtype == \"float\":\n",
        "                example.features.feature[colName].float_list.value.extend(\n",
        "                    [value])\n",
        "            elif dtype == \"int\":\n",
        "                example.features.feature[colName].int64_list.value.extend(\n",
        "                    [value])\n",
        "                \n",
        "        predictions.append(\n",
        "            importedModel.signatures[\"predict\"](\n",
        "                examples=tf.constant([example.SerializeToString()])\n",
        "                )\n",
        "        )\n",
        "            \n",
        "    return predictions"
      ],
      "execution_count": 12,
      "outputs": []
    },
    {
      "cell_type": "code",
      "metadata": {
        "id": "MQVBBSyn9J1U",
        "colab_type": "code",
        "colab": {}
      },
      "source": [
        "# Deleting the label column from dfeval since we will be passing the \n",
        "# dataset itself instead of a function which does it for us.\n",
        "\n",
        "dfeval.drop(columns=[\"survived\"], inplace=True)"
      ],
      "execution_count": 13,
      "outputs": []
    },
    {
      "cell_type": "code",
      "metadata": {
        "id": "C1NvubTZ7jVt",
        "colab_type": "code",
        "colab": {}
      },
      "source": [
        "predictions = predict(dfeval, importedModel)"
      ],
      "execution_count": 14,
      "outputs": []
    },
    {
      "cell_type": "markdown",
      "metadata": {
        "id": "vF5B2CGj9u9n",
        "colab_type": "text"
      },
      "source": [
        "Let's see first 10 predictions."
      ]
    },
    {
      "cell_type": "code",
      "metadata": {
        "id": "wpYzXTOE8tvT",
        "colab_type": "code",
        "colab": {
          "base_uri": "https://localhost:8080/",
          "height": 34
        },
        "outputId": "555babeb-420f-463e-b92b-ed5671095791"
      },
      "source": [
        "newPreds = []\n",
        "for pred in predictions[:10]:\n",
        "    # change 'probabilities' with 'predictions' in case \n",
        "    # of regression model.\n",
        "    newPreds.append(np.argmax(pred[\"probabilities\"])) \n",
        "newPreds"
      ],
      "execution_count": 15,
      "outputs": [
        {
          "output_type": "execute_result",
          "data": {
            "text/plain": [
              "[0, 1, 1, 1, 0, 1, 1, 0, 1, 1]"
            ]
          },
          "metadata": {
            "tags": []
          },
          "execution_count": 15
        }
      ]
    }
  ]
}